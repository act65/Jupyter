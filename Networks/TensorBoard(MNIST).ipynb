{
 "cells": [
  {
   "cell_type": "markdown",
   "metadata": {
    "collapsed": true
   },
   "source": [
    "https://www.tensorflow.org/versions/r0.7/how_tos/graph_viz/index.html\n",
    "https://www.tensorflow.org/versions/master/how_tos/summaries_and_tensorboard/index.html"
   ]
  },
  {
   "cell_type": "code",
   "execution_count": null,
   "metadata": {
    "collapsed": true
   },
   "outputs": [],
   "source": [
    "import tensorflow as tf\n",
    "import input_data\n",
    "mnist = input_data.read_data_sets(\"MNIST_data/\", one_hot=True)"
   ]
  },
  {
   "cell_type": "code",
   "execution_count": 1,
   "metadata": {
    "collapsed": false
   },
   "outputs": [
    {
     "name": "stdout",
     "output_type": "stream",
     "text": [
      "Extracting MNIST_data/train-images-idx3-ubyte.gz\n",
      "Extracting MNIST_data/train-labels-idx1-ubyte.gz\n",
      "Extracting MNIST_data/t10k-images-idx3-ubyte.gz\n",
      "Extracting MNIST_data/t10k-labels-idx1-ubyte.gz\n"
     ]
    }
   ],
   "source": [
    "\n",
    "\n",
    "sess = tf.Session()\n",
    "\n",
    "x = tf.placeholder(\"float\", [None, 784])\n",
    "y_ = tf.placeholder(\"float\", [None, 10])\n",
    "\n",
    "W = tf.Variable(tf.zeros([784,10]))\n",
    "b = tf.Variable(tf.zeros([10]))\n",
    "y = tf.nn.softmax(tf.matmul(x,W) + b)\n",
    "\n",
    "cross_entropy = -tf.reduce_sum(y_*tf.log(y))\n",
    "train_step = tf.train.GradientDescentOptimizer(0.01).minimize(cross_entropy)\n",
    "\n",
    "tf.scalar_summary('crossentropy', cross_entropy)\n",
    "tf.histogram_summary('outputs', y_)\n",
    "merged = tf.merge_all_summaries()\n",
    "writer = tf.train.SummaryWriter(\"/tmp/mnist_logs\",sess.graph.as_graph_def(add_shapes=True))\n",
    "\n",
    "init = tf.initialize_all_variables()\n",
    "sess.run(init)\n",
    "\n"
   ]
  },
  {
   "cell_type": "code",
   "execution_count": 2,
   "metadata": {
    "collapsed": false
   },
   "outputs": [
    {
     "name": "stdout",
     "output_type": "stream",
     "text": [
      "Accuracy = 0.9087%\n"
     ]
    }
   ],
   "source": [
    "for i in range(1000):\n",
    "    batch_xs, batch_ys = mnist.train.next_batch(100)\n",
    "    feed = {x: batch_xs, y_: batch_ys}\n",
    "    if i%20 == 0:\n",
    "        summary_str = sess.run(merged, feed_dict=feed)\n",
    "        writer.add_summary(summary_str, i)\n",
    "    else:\n",
    "        sess.run(train_step, feed_dict=feed)\n",
    "  \n",
    "correct_prediction = tf.equal(tf.argmax(y,1), tf.argmax(y_,1))\n",
    "accuracy = tf.reduce_mean(tf.cast(correct_prediction, \"float\"))\n",
    "acc_val, b_val, W_val, Y = sess.run([accuracy, b ,W, y], feed_dict={x: mnist.test.images, y_: mnist.test.labels})\n",
    "print('Accuracy = '+str(acc_val) + '%')"
   ]
  },
  {
   "cell_type": "code",
   "execution_count": null,
   "metadata": {
    "collapsed": false
   },
   "outputs": [
    {
     "name": "stdout",
     "output_type": "stream",
     "text": [
      "WARNING:tensorflow:Found more than one graph event per run.Overwritting the graph with the newest event.\n",
      "WARNING:tensorflow:Found more than one graph event per run.Overwritting the graph with the newest event.\n",
      "WARNING:tensorflow:Found more than one graph event per run.Overwritting the graph with the newest event.\n",
      "WARNING:tensorflow:Found more than one graph event per run.Overwritting the graph with the newest event.\n",
      "WARNING:tensorflow:Found more than one graph event per run.Overwritting the graph with the newest event.\n",
      "WARNING:tensorflow:Found more than one graph event per run.Overwritting the graph with the newest event.\n",
      "WARNING:tensorflow:Found more than one graph event per run.Overwritting the graph with the newest event.\n",
      "WARNING:tensorflow:Found more than one graph event per run.Overwritting the graph with the newest event.\n",
      "WARNING:tensorflow:Found more than one graph event per run.Overwritting the graph with the newest event.\n",
      "WARNING:tensorflow:Found more than one graph event per run.Overwritting the graph with the newest event.\n",
      "WARNING:tensorflow:Found more than one graph event per run.Overwritting the graph with the newest event.\n",
      "WARNING:tensorflow:IOError [Errno 2] No such file or directory: '/Users/act65/anaconda/lib/python3.5/site-packages/tensorflow/tensorboard/TAG' on path /Users/act65/anaconda/lib/python3.5/site-packages/tensorflow/tensorboard/TAG\n",
      "WARNING:tensorflow:Unable to read TensorBoard tag\n",
      "Starting TensorBoard  on port 6006\n",
      "(You can navigate to http://0.0.0.0:6006)\n",
      "127.0.0.1 - - [26/Mar/2016 13:27:04] \"GET / HTTP/1.1\" 200 -\n",
      "127.0.0.1 - - [26/Mar/2016 13:27:04] \"GET /lib/css/global.css HTTP/1.1\" 200 -\n",
      "127.0.0.1 - - [26/Mar/2016 13:27:04] \"GET /external/lodash/lodash.min.js HTTP/1.1\" 200 -\n",
      "127.0.0.1 - - [26/Mar/2016 13:27:04] \"GET /external/d3/d3.min.js HTTP/1.1\" 200 -\n",
      "127.0.0.1 - - [26/Mar/2016 13:27:04] \"GET /external/plottable/plottable.min.js HTTP/1.1\" 200 -\n",
      "127.0.0.1 - - [26/Mar/2016 13:27:04] \"GET /external/plottable/plottable.css HTTP/1.1\" 200 -\n",
      "127.0.0.1 - - [26/Mar/2016 13:27:04] \"GET /external/graphlib/dist/graphlib.core.min.js HTTP/1.1\" 200 -\n",
      "127.0.0.1 - - [26/Mar/2016 13:27:04] \"GET /external/dagre/dist/dagre.core.min.js HTTP/1.1\" 200 -\n",
      "127.0.0.1 - - [26/Mar/2016 13:27:04] \"GET /external/polymer/polymer.html HTTP/1.1\" 200 -\n",
      "127.0.0.1 - - [26/Mar/2016 13:27:04] \"GET /external/webcomponentsjs/webcomponents-lite.min.js HTTP/1.1\" 200 -\n",
      "127.0.0.1 - - [26/Mar/2016 13:27:04] \"GET /external/iron-ajax/iron-ajax.html HTTP/1.1\" 200 -\n",
      "127.0.0.1 - - [26/Mar/2016 13:27:04] \"GET /external/iron-collapse/iron-collapse.html HTTP/1.1\" 200 -\n",
      "127.0.0.1 - - [26/Mar/2016 13:27:04] \"GET /external/iron-list/iron-list.html HTTP/1.1\" 200 -\n",
      "127.0.0.1 - - [26/Mar/2016 13:27:04] \"GET /external/paper-button/paper-button.html HTTP/1.1\" 200 -\n",
      "127.0.0.1 - - [26/Mar/2016 13:27:04] \"GET /external/paper-checkbox/paper-checkbox.html HTTP/1.1\" 200 -\n",
      "127.0.0.1 - - [26/Mar/2016 13:27:04] \"GET /external/paper-dropdown-menu/paper-dropdown-menu.html HTTP/1.1\" 200 -\n",
      "127.0.0.1 - - [26/Mar/2016 13:27:04] \"GET /external/paper-header-panel/paper-header-panel.html HTTP/1.1\" 200 -\n",
      "127.0.0.1 - - [26/Mar/2016 13:27:04] \"GET /external/paper-icon-button/paper-icon-button.html HTTP/1.1\" 200 -\n",
      "127.0.0.1 - - [26/Mar/2016 13:27:04] \"GET /external/paper-input/paper-input.html HTTP/1.1\" 200 -\n",
      "127.0.0.1 - - [26/Mar/2016 13:27:04] \"GET /external/paper-menu/paper-menu.html HTTP/1.1\" 200 -\n",
      "127.0.0.1 - - [26/Mar/2016 13:27:04] \"GET /external/paper-item/paper-item.html HTTP/1.1\" 200 -\n",
      "127.0.0.1 - - [26/Mar/2016 13:27:04] \"GET /external/paper-progress/paper-progress.html HTTP/1.1\" 200 -\n",
      "127.0.0.1 - - [26/Mar/2016 13:27:04] \"GET /external/paper-radio-button/paper-radio-button.html HTTP/1.1\" 200 -\n",
      "127.0.0.1 - - [26/Mar/2016 13:27:04] \"GET /external/paper-radio-group/paper-radio-group.html HTTP/1.1\" 200 -\n",
      "127.0.0.1 - - [26/Mar/2016 13:27:04] \"GET /external/paper-slider/paper-slider.html HTTP/1.1\" 200 -\n",
      "127.0.0.1 - - [26/Mar/2016 13:27:04] \"GET /external/paper-toggle-button/paper-toggle-button.html HTTP/1.1\" 200 -\n",
      "127.0.0.1 - - [26/Mar/2016 13:27:04] \"GET /external/paper-toolbar/paper-toolbar.html HTTP/1.1\" 200 -\n",
      "127.0.0.1 - - [26/Mar/2016 13:27:04] \"GET /external/paper-tabs/paper-tabs.html HTTP/1.1\" 200 -\n",
      "127.0.0.1 - - [26/Mar/2016 13:27:04] \"GET /external/paper-styles/paper-styles.html HTTP/1.1\" 200 -\n",
      "127.0.0.1 - - [26/Mar/2016 13:27:04] \"GET /dist/tf-tensorboard.html HTTP/1.1\" 200 -\n",
      "127.0.0.1 - - [26/Mar/2016 13:27:04] \"GET /external/d3/d3.min.js HTTP/1.1\" 200 -\n",
      "127.0.0.1 - - [26/Mar/2016 13:27:04] \"GET /external/plottable/plottable.min.js HTTP/1.1\" 200 -\n",
      "127.0.0.1 - - [26/Mar/2016 13:27:04] \"GET /external/plottable/plottable.css HTTP/1.1\" 200 -\n",
      "127.0.0.1 - - [26/Mar/2016 13:27:04] \"GET /external/graphlib/dist/graphlib.core.min.js HTTP/1.1\" 200 -\n",
      "127.0.0.1 - - [26/Mar/2016 13:27:04] \"GET /external/polymer/polymer.html HTTP/1.1\" 200 -\n",
      "127.0.0.1 - - [26/Mar/2016 13:27:04] \"GET /external/polymer/polymer-mini.html HTTP/1.1\" 200 -\n",
      "127.0.0.1 - - [26/Mar/2016 13:27:04] \"GET /external/polymer/polymer-micro.html HTTP/1.1\" 200 -\n",
      "127.0.0.1 - - [26/Mar/2016 13:27:04] \"GET /external/paper-header-panel/paper-header-panel.html HTTP/1.1\" 200 -\n",
      "127.0.0.1 - - [26/Mar/2016 13:27:04] \"GET /external/paper-menu/paper-menu.html HTTP/1.1\" 200 -\n",
      "127.0.0.1 - - [26/Mar/2016 13:27:04] \"GET /external/paper-progress/paper-progress.html HTTP/1.1\" 200 -\n",
      "127.0.0.1 - - [26/Mar/2016 13:27:04] \"GET /external/paper-radio-group/paper-radio-group.html HTTP/1.1\" 200 -\n",
      "127.0.0.1 - - [26/Mar/2016 13:27:04] \"GET /external/paper-slider/paper-slider.html HTTP/1.1\" 200 -\n",
      "127.0.0.1 - - [26/Mar/2016 13:27:04] \"GET /external/paper-toggle-button/paper-toggle-button.html HTTP/1.1\" 200 -\n",
      "127.0.0.1 - - [26/Mar/2016 13:27:04] \"GET /external/paper-tabs/paper-tabs.html HTTP/1.1\" 200 -\n",
      "127.0.0.1 - - [26/Mar/2016 13:27:04] \"GET /dist/tf-tensorboard.html HTTP/1.1\" 200 -\n",
      "127.0.0.1 - - [26/Mar/2016 13:27:05] \"GET /external/iron-behaviors/iron-control-state.html HTTP/1.1\" 200 -\n",
      "127.0.0.1 - - [26/Mar/2016 13:27:05] \"GET /external/paper-item/paper-item-shared-styles.html HTTP/1.1\" 200 -\n",
      "127.0.0.1 - - [26/Mar/2016 13:27:05] \"GET /external/iron-behaviors/iron-button-state.html HTTP/1.1\" 200 -\n",
      "127.0.0.1 - - [26/Mar/2016 13:27:05] \"GET /external/iron-ajax/iron-request.html HTTP/1.1\" 200 -\n",
      "127.0.0.1 - - [26/Mar/2016 13:27:05] \"GET /external/paper-ripple/paper-ripple.html HTTP/1.1\" 200 -\n",
      "127.0.0.1 - - [26/Mar/2016 13:27:05] \"GET /external/paper-styles/default-theme.html HTTP/1.1\" 200 -\n",
      "127.0.0.1 - - [26/Mar/2016 13:27:05] \"GET /external/paper-styles/color.html HTTP/1.1\" 200 -\n",
      "127.0.0.1 - - [26/Mar/2016 13:27:05] \"GET /external/paper-behaviors/paper-checked-element-behavior.html HTTP/1.1\" 200 -\n",
      "127.0.0.1 - - [26/Mar/2016 13:27:05] \"GET /external/iron-flex-layout/iron-flex-layout.html HTTP/1.1\" 200 -\n",
      "127.0.0.1 - - [26/Mar/2016 13:27:05] \"GET /external/iron-flex-layout/classes/iron-flex-layout.html HTTP/1.1\" 200 -\n",
      "127.0.0.1 - - [26/Mar/2016 13:27:05] \"GET /external/paper-styles/shadow.html HTTP/1.1\" 200 -\n",
      "127.0.0.1 - - [26/Mar/2016 13:27:05] \"GET /external/paper-styles/typography.html HTTP/1.1\" 200 -\n",
      "127.0.0.1 - - [26/Mar/2016 13:27:05] \"GET /external/iron-input/iron-input.html HTTP/1.1\" 200 -\n",
      "127.0.0.1 - - [26/Mar/2016 13:27:05] \"GET /external/paper-input/paper-input-behavior.html HTTP/1.1\" 200 -\n",
      "127.0.0.1 - - [26/Mar/2016 13:27:05] \"GET /external/paper-input/paper-input-container.html HTTP/1.1\" 200 -\n",
      "127.0.0.1 - - [26/Mar/2016 13:27:05] \"GET /external/iron-form-element-behavior/iron-form-element-behavior.html HTTP/1.1\" 200 -\n",
      "127.0.0.1 - - [26/Mar/2016 13:27:05] \"GET /external/paper-input/paper-input-error.html HTTP/1.1\" 200 -\n",
      "127.0.0.1 - - [26/Mar/2016 13:27:05] \"GET /external/paper-input/paper-input-char-counter.html HTTP/1.1\" 200 -\n",
      "127.0.0.1 - - [26/Mar/2016 13:27:05] \"GET /external/paper-menu-button/paper-menu-button.html HTTP/1.1\" 200 -\n",
      "127.0.0.1 - - [26/Mar/2016 13:27:05] \"GET /external/iron-a11y-keys-behavior/iron-a11y-keys-behavior.html HTTP/1.1\" 200 -\n",
      "127.0.0.1 - - [26/Mar/2016 13:27:05] \"GET /external/iron-icons/iron-icons.html HTTP/1.1\" 200 -\n",
      "127.0.0.1 - - [26/Mar/2016 13:27:05] \"GET /external/iron-icon/iron-icon.html HTTP/1.1\" 200 -\n",
      "127.0.0.1 - - [26/Mar/2016 13:27:05] \"GET /external/iron-selector/iron-selectable.html HTTP/1.1\" 200 -\n",
      "127.0.0.1 - - [26/Mar/2016 13:27:05] \"GET /external/iron-validatable-behavior/iron-validatable-behavior.html HTTP/1.1\" 200 -\n",
      "127.0.0.1 - - [26/Mar/2016 13:27:05] \"GET /external/paper-material/paper-material.html HTTP/1.1\" 200 -\n",
      "127.0.0.1 - - [26/Mar/2016 13:27:05] \"GET /external/paper-behaviors/paper-button-behavior.html HTTP/1.1\" 200 -\n",
      "127.0.0.1 - - [26/Mar/2016 13:27:05] \"GET /external/iron-resizable-behavior/iron-resizable-behavior.html HTTP/1.1\" 200 -\n",
      "127.0.0.1 - - [26/Mar/2016 13:27:05] \"GET /external/paper-behaviors/paper-inky-focus-behavior.html HTTP/1.1\" 200 -\n",
      "127.0.0.1 - - [26/Mar/2016 13:27:05] \"GET /external/paper-header-panel/paper-header-panel.css HTTP/1.1\" 200 -\n",
      "127.0.0.1 - - [26/Mar/2016 13:27:05] \"GET /external/iron-menu-behavior/iron-menu-behavior.html HTTP/1.1\" 200 -\n",
      "127.0.0.1 - - [26/Mar/2016 13:27:05] \"GET /external/paper-menu/paper-menu-shared.css HTTP/1.1\" 200 -\n",
      "127.0.0.1 - - [26/Mar/2016 13:27:05] \"GET /external/iron-range-behavior/iron-range-behavior.html HTTP/1.1\" 200 -\n",
      "127.0.0.1 - - [26/Mar/2016 13:27:05] \"GET /external/iron-menu-behavior/iron-menubar-behavior.html HTTP/1.1\" 200 -\n",
      "127.0.0.1 - - [26/Mar/2016 13:27:05] \"GET /external/paper-tabs/paper-tabs-icons.html HTTP/1.1\" 200 -\n",
      "127.0.0.1 - - [26/Mar/2016 13:27:05] \"GET /external/paper-tabs/paper-tab.html HTTP/1.1\" 200 -\n",
      "127.0.0.1 - - [26/Mar/2016 13:27:05] \"GET /external/promise-polyfill/promise-polyfill-lite.html HTTP/1.1\" 200 -\n",
      "127.0.0.1 - - [26/Mar/2016 13:27:05] \"GET /external/iron-checked-element-behavior/iron-checked-element-behavior.html HTTP/1.1\" 200 -\n",
      "127.0.0.1 - - [26/Mar/2016 13:27:05] \"GET /external/iron-flex-layout/classes/iron-shadow-flex-layout.html HTTP/1.1\" 200 -\n",
      "127.0.0.1 - - [26/Mar/2016 13:27:05] \"GET /external/font-roboto/roboto.html HTTP/1.1\" 200 -\n",
      "127.0.0.1 - - [26/Mar/2016 13:27:05] \"GET /external/paper-input/paper-input-addon-behavior.html HTTP/1.1\" 200 -\n",
      "127.0.0.1 - - [26/Mar/2016 13:27:05] \"GET /external/iron-dropdown/iron-dropdown.html HTTP/1.1\" 200 -\n",
      "127.0.0.1 - - [26/Mar/2016 13:27:05] \"GET /external/neon-animation/animations/fade-in-animation.html HTTP/1.1\" 200 -\n",
      "127.0.0.1 - - [26/Mar/2016 13:27:05] \"GET /external/neon-animation/animations/fade-out-animation.html HTTP/1.1\" 200 -\n",
      "127.0.0.1 - - [26/Mar/2016 13:27:05] \"GET /external/iron-iconset-svg/iron-iconset-svg.html HTTP/1.1\" 200 -\n",
      "127.0.0.1 - - [26/Mar/2016 13:27:05] \"GET /external/paper-menu-button/paper-menu-button-animations.html HTTP/1.1\" 200 -\n",
      "127.0.0.1 - - [26/Mar/2016 13:27:05] \"GET /external/iron-meta/iron-meta.html HTTP/1.1\" 200 -\n",
      "127.0.0.1 - - [26/Mar/2016 13:27:05] \"GET /external/iron-selector/iron-selection.html HTTP/1.1\" 200 -\n",
      "127.0.0.1 - - [26/Mar/2016 13:27:05] \"GET /external/paper-material/paper-material-shared-styles.html HTTP/1.1\" 200 -\n",
      "127.0.0.1 - - [26/Mar/2016 13:27:05] \"GET /external/paper-behaviors/paper-ripple-behavior.html HTTP/1.1\" 200 -\n",
      "127.0.0.1 - - [26/Mar/2016 13:27:05] \"GET /external/iron-selector/iron-multi-selectable.html HTTP/1.1\" 200 -\n",
      "127.0.0.1 - - [26/Mar/2016 13:27:05] \"GET /external/promise-polyfill/Promise.js HTTP/1.1\" 200 -\n",
      "127.0.0.1 - - [26/Mar/2016 13:27:05] \"GET /external/neon-animation/neon-animation-runner-behavior.html HTTP/1.1\" 200 -\n",
      "127.0.0.1 - - [26/Mar/2016 13:27:05] \"GET /external/iron-overlay-behavior/iron-overlay-behavior.html HTTP/1.1\" 200 -\n",
      "127.0.0.1 - - [26/Mar/2016 13:27:05] \"GET /external/iron-dropdown/iron-dropdown-scroll-manager.html HTTP/1.1\" 200 -\n",
      "127.0.0.1 - - [26/Mar/2016 13:27:05] \"GET /external/neon-animation/animations/opaque-animation.html HTTP/1.1\" 200 -\n",
      "127.0.0.1 - - [26/Mar/2016 13:27:05] \"GET /external/neon-animation/neon-animation-behavior.html HTTP/1.1\" 200 -\n",
      "127.0.0.1 - - [26/Mar/2016 13:27:05] \"GET /external/neon-animation/web-animations.html HTTP/1.1\" 200 -\n",
      "127.0.0.1 - - [26/Mar/2016 13:27:05] \"GET /external/neon-animation/neon-animatable-behavior.html HTTP/1.1\" 200 -\n",
      "127.0.0.1 - - [26/Mar/2016 13:27:05] \"GET /external/iron-fit-behavior/iron-fit-behavior.html HTTP/1.1\" 200 -\n",
      "127.0.0.1 - - [26/Mar/2016 13:27:05] \"GET /external/iron-overlay-behavior/iron-overlay-backdrop.html HTTP/1.1\" 200 -\n",
      "127.0.0.1 - - [26/Mar/2016 13:27:05] \"GET /external/iron-overlay-behavior/iron-overlay-manager.html HTTP/1.1\" 200 -\n",
      "127.0.0.1 - - [26/Mar/2016 13:27:05] \"GET /external/web-animations-js/web-animations-next-lite.min.js HTTP/1.1\" 200 -\n",
      "127.0.0.1 - - [26/Mar/2016 13:27:05] \"GET /data/runs HTTP/1.1\" 200 -\n",
      "127.0.0.1 - - [26/Mar/2016 13:27:07] \"GET /data/runs HTTP/1.1\" 200 -\n",
      "127.0.0.1 - - [26/Mar/2016 13:27:07] \"GET /data/runs HTTP/1.1\" 200 -\n",
      "127.0.0.1 - - [26/Mar/2016 13:27:09] \"GET /data/scalars?tag=crossentropy&run=. HTTP/1.1\" 200 -\n",
      "127.0.0.1 - - [26/Mar/2016 13:27:14] \"GET /data/compressedHistograms?tag=outputs&run=. HTTP/1.1\" 200 -\n"
     ]
    }
   ],
   "source": [
    "!tensorboard --logdir=/tmp/mnist_logs"
   ]
  }
 ],
 "metadata": {
  "kernelspec": {
   "display_name": "Python 3",
   "language": "python",
   "name": "python3"
  },
  "language_info": {
   "codemirror_mode": {
    "name": "ipython",
    "version": 3
   },
   "file_extension": ".py",
   "mimetype": "text/x-python",
   "name": "python",
   "nbconvert_exporter": "python",
   "pygments_lexer": "ipython3",
   "version": "3.5.1"
  }
 },
 "nbformat": 4,
 "nbformat_minor": 0
}
