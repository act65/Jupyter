{
 "cells": [
  {
   "cell_type": "markdown",
   "metadata": {},
   "source": [
    "> _Quantum mechanics is what you wold inevitable come up with if you started from probability theory, and then said, let's try to generalise it so the numbers we used to call \"probabilities\" can be negative numbers._ [Quantum computing since Democritus]()\n",
    "\n",
    "So, the axioms of traditional (1-norm) probability theory.\n",
    "\n",
    "* P(x) and P(y) = ? if \n",
    "* Sum of P(?) = 1\n",
    "\n",
    "\n",
    "\n",
    "### 2-norm\n",
    "\n",
    "Weird. They can interfere. So that two 50% chances cancel out. But how do we know that they will match up perfectly, giving zero percent chance?\n",
    "\n",
    "$$\n",
    "\\begin{bmatrix}\n",
    "\\frac{1}{\\sqrt{2}} & \\frac{-1}{\\sqrt{2}} \\\\\n",
    "\\frac{1}{\\sqrt{2}} & \\frac{1}{\\sqrt{2}}\n",
    "\\end{bmatrix} \n",
    "\\left[ \\begin{array}{c} \\frac{1}{\\sqrt{2}} \\\\ \\frac{1}{\\sqrt{2}} \\\\ \\end{array} \\right]\n",
    "=\\left[ \\begin{array}{c} 0 \\\\ 1 \\\\ \\end{array} \\right]\n",
    "$$\n",
    "\n",
    "Huh what? So if you rotate two events with probability $(\\frac{1}{\\sqrt{2}})^2 = \\frac{1}{2}$ then they end up constructively and destructively interfering. ??? \n",
    "\n",
    "$\\Sigma a_i^2 = 1$ or for two states $a^2 + b^2 = 1$ \n",
    "\n",
    "\n",
    "### Why complex numbers?\n",
    "\n",
    "* Are algebraically closed, reals are not. I.e. $\\forall x \\in \\mathbb{C}: \\sqrt{x} \\in \\mathbb{C}$\n",
    "* But there fore need the absolute value $\\mid a\\mid  = \\sqrt{x^2 + (yi)^2}$\n",
    "* But this means for two states we have $a^2 + b^2  = \\sqrt{x_a^2 + (y_ai)^2} +  \\sqrt{x_b^2 + (y_bi)^2} = 1$ \n",
    "    * Oh, there there is a continuious set of states that could give P(a) = P(b) = 1/2? As many combinations of real and imaginary values give $\\frac{1}{\\sqrt{2}}$\n",
    "\n",
    "### Questions\n",
    "\n",
    "* What does the circle mean?\n"
   ]
  }
 ],
 "metadata": {
  "kernelspec": {
   "display_name": "Python 3",
   "language": "python",
   "name": "python3"
  },
  "language_info": {
   "codemirror_mode": {
    "name": "ipython",
    "version": 3
   },
   "file_extension": ".py",
   "mimetype": "text/x-python",
   "name": "python",
   "nbconvert_exporter": "python",
   "pygments_lexer": "ipython3",
   "version": "3.5.1"
  }
 },
 "nbformat": 4,
 "nbformat_minor": 0
}
