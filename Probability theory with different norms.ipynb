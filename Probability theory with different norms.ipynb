{
 "cells": [
  {
   "cell_type": "markdown",
   "metadata": {},
   "source": [
    "> _Quantum mechanics is what you wold inevitable come up with if you started from probability theory, and then said, let's try to generalise it so the numbers we used to call \"probabilities\" can be negative numbers._ [Quantum computing since Democritus]()\n",
    "\n",
    "So, the axioms of traditional (1-norm) probability theory.\n",
    "\n",
    "* P(x) and P(y) = ? if \n",
    "* Sum of P(?) = 1\n",
    "\n",
    "\n",
    "\n",
    "### 2-norm\n",
    "\n",
    "Weird. They can interfere. So that two 50% chances cancel out. But how do we know that they will match up perfectly, giving zero percent chance?\n",
    "\n",
    "$$\n",
    "\\begin{bmatrix}\n",
    "\\frac{1}{\\sqrt{2}} & \\frac{-1}{\\sqrt{2}} \\\\\n",
    "\\frac{1}{\\sqrt{2}} & \\frac{1}{\\sqrt{2}}\n",
    "\\end{bmatrix} \n",
    "\\left[ \\begin{array}{c} \\frac{1}{\\sqrt{2}} \\\\ \\frac{1}{\\sqrt{2}} \\\\ \\end{array} \\right]\n",
    "=\\left[ \\begin{array}{c} 0 \\\\ 1 \\\\ \\end{array} \\right]\n",
    "$$\n",
    "\n",
    "Huh what? So if you rotate two events with probability $(\\frac{1}{\\sqrt{2}})^2 = \\frac{1}{2}$ then they end up constructively and destructively interfering. ??? \n",
    "\n",
    "* What does the circle mean?\n",
    "* Why complex numbers?\n",
    "\n"
   ]
  }
 ],
 "metadata": {
  "kernelspec": {
   "display_name": "Python 3",
   "language": "python",
   "name": "python3"
  },
  "language_info": {
   "codemirror_mode": {
    "name": "ipython",
    "version": 3
   },
   "file_extension": ".py",
   "mimetype": "text/x-python",
   "name": "python",
   "nbconvert_exporter": "python",
   "pygments_lexer": "ipython3",
   "version": "3.5.1"
  }
 },
 "nbformat": 4,
 "nbformat_minor": 0
}
