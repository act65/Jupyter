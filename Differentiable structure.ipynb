{
 "cells": [
  {
   "cell_type": "markdown",
   "metadata": {},
   "source": [
    "What if a neural network ccould decide when to add or remove nodes? What information would it need to do so, and how would this information inform the decision?\n",
    "\n",
    "https://arxiv.org/abs/1606.06216\n",
    "\n",
    "Differentiable tensor decompositions?\n",
    "Want: To be able to differentiate between cholesky, to lower triangular, to svd, ...\n",
    "Surely there is some ideal decomposition, given the structure of the problem we are learning. How can we find this efficently? \n",
    "* We need to work our representation so we can differentiate it?!?\n",
    "* Other ideas?"
   ]
  },
  {
   "cell_type": "code",
   "execution_count": null,
   "metadata": {
    "collapsed": true
   },
   "outputs": [],
   "source": []
  }
 ],
 "metadata": {
  "kernelspec": {
   "display_name": "Python 3",
   "language": "python",
   "name": "python3"
  },
  "language_info": {
   "codemirror_mode": {
    "name": "ipython",
    "version": 3
   },
   "file_extension": ".py",
   "mimetype": "text/x-python",
   "name": "python",
   "nbconvert_exporter": "python",
   "pygments_lexer": "ipython3",
   "version": "3.5.1"
  }
 },
 "nbformat": 4,
 "nbformat_minor": 0
}
