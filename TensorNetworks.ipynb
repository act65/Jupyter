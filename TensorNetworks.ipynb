{
 "cells": [
  {
   "cell_type": "markdown",
   "metadata": {},
   "source": []
  },
  {
   "cell_type": "markdown",
   "metadata": {},
   "source": [
    "\n",
    "\n",
    "* CP decomposition gives a large diagonal as the central tensor. What other decompositions are there which give us nice properties of the center? How about something dense/small?"
   ]
  },
  {
   "cell_type": "markdown",
   "metadata": {},
   "source": [
    "# Contractions\n",
    "\n",
    "A matrix multiplication is a special case.\n",
    "\n",
    "\\begin{align*}\n",
    "(A\\cdot_{1}B)_{i,j}&= \\sum_k A(i,k)B(k,j)\\tag{matmul}\\\\\n",
    "(\\mathcal A\\cdot_{k_1,\\dots,k_K})_{i_1,\\dots,i_I}&= \\sum_{k_1,\\dots,k_K} A(i_1,k)\\dots A(i_I,j)\\\\\n",
    "\\end{align*}"
   ]
  },
  {
   "cell_type": "code",
   "execution_count": null,
   "metadata": {
    "collapsed": true
   },
   "outputs": [],
   "source": []
  }
 ],
 "metadata": {
  "kernelspec": {
   "display_name": "Python 3",
   "language": "python",
   "name": "python3"
  },
  "language_info": {
   "codemirror_mode": {
    "name": "ipython",
    "version": 3
   },
   "file_extension": ".py",
   "mimetype": "text/x-python",
   "name": "python",
   "nbconvert_exporter": "python",
   "pygments_lexer": "ipython3",
   "version": "3.5.2"
  }
 },
 "nbformat": 4,
 "nbformat_minor": 0
}
