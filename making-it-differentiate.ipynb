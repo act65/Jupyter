{
 "cells": [
  {
   "cell_type": "markdown",
   "metadata": {},
   "source": [
    "## The reparameterisation trick\n",
    "\n",
    "\n",
    "\n"
   ]
  },
  {
   "cell_type": "markdown",
   "metadata": {},
   "source": [
    "\n",
    "## Mean field\n",
    "\n",
    "\n"
   ]
  },
  {
   "cell_type": "markdown",
   "metadata": {},
   "source": [
    "## Hand-designed\n",
    "\n",
    "MuProp?\n"
   ]
  },
  {
   "cell_type": "markdown",
   "metadata": {},
   "source": [
    "\n",
    "## Concrete distribution\n",
    "\n",
    "Continuous relaxations are homotopies??\n",
    "\n",
    "\\begin{align*}\n",
    "\\sigma(x) =  \\frac{\\vec x}{\\sum_k e^{x_k}}\\tag{softmax}\\\\\n",
    "&= \\frac{e^{\\vec x/\\lambda}}{\\sum_k e^{x_k/\\lambda}}\\\\\n",
    "\\end{align*}\n",
    "\n",
    "\\begin{align*}\n",
    "\\lambda &\\in [0,1] \\\\\n",
    "\\mathcal H: X&\\times \\lambda \\rightarrow Y \\\\\n",
    "\\mathcal H(x,0) &= ?? \\\\\n",
    "\\mathcal H(x,1) &= \\sigma(x) \\\\\n",
    "\\end{align*}\n",
    "\n",
    "Want to know. \n",
    "* Using softmax/sigmoids seems like an expensive way to get gradients through a discrete function. What is the lower limit on information/computations required to find gradients? Or the trade off between accuracy and computations.\n"
   ]
  }
 ],
 "metadata": {
  "kernelspec": {
   "display_name": "Python 3",
   "language": "python",
   "name": "python3"
  },
  "language_info": {
   "codemirror_mode": {
    "name": "ipython",
    "version": 3
   },
   "file_extension": ".py",
   "mimetype": "text/x-python",
   "name": "python",
   "nbconvert_exporter": "python",
   "pygments_lexer": "ipython3",
   "version": "3.5.2"
  }
 },
 "nbformat": 4,
 "nbformat_minor": 0
}
