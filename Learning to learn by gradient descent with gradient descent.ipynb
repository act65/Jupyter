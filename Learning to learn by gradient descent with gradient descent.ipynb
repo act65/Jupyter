{
 "cells": [
  {
   "cell_type": "markdown",
   "metadata": {},
   "source": [
    "Decided to give it a go myself. Based on [this](https://arxiv.org/abs/1606.04474) paper.\n",
    "\n",
    "Let's make a simple RNN that optimises another RNN.\n",
    "\n",
    "\n",
    "\n",
    "\n",
    "### Questions\n",
    "* Will it work with vanilla RNNs or do we need LSTMs or NTMs?"
   ]
  },
  {
   "cell_type": "code",
   "execution_count": 3,
   "metadata": {
    "collapsed": false
   },
   "outputs": [],
   "source": []
  },
  {
   "cell_type": "code",
   "execution_count": null,
   "metadata": {
    "collapsed": false
   },
   "outputs": [],
   "source": []
  },
  {
   "cell_type": "code",
   "execution_count": null,
   "metadata": {
    "collapsed": true
   },
   "outputs": [],
   "source": [
    "#hypterparameters\n",
    "\n",
    "opt = RNN(opt_shape)\n",
    "net = RNN(net_shape)\n",
    "dLdparams = gradient(CrossEntropy)\n",
    "\n",
    "#for each batch\n",
    "for i in range(n_batches):\n",
    "    batch, labels = get_batch()\n",
    "    y = net(batch)\n",
    "    \n",
    "    grads = dLdparams(y,labels) #we could get a net to do this as well??\n",
    "    \n",
    "    net.parameters = opt.minimise(grads,net)\n",
    "    \n",
    "    net.parameters = opt.minimise(grads,opt) #!!!\n",
    "    net.parameters -= learning_rate*dLdopt"
   ]
  }
 ],
 "metadata": {
  "kernelspec": {
   "display_name": "Python 3",
   "language": "python",
   "name": "python3"
  },
  "language_info": {
   "codemirror_mode": {
    "name": "ipython",
    "version": 3
   },
   "file_extension": ".py",
   "mimetype": "text/x-python",
   "name": "python",
   "nbconvert_exporter": "python",
   "pygments_lexer": "ipython3",
   "version": "3.5.1"
  }
 },
 "nbformat": 4,
 "nbformat_minor": 0
}
