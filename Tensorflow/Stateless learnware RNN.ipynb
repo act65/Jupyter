{
 "cells": [
  {
   "cell_type": "markdown",
   "metadata": {},
   "source": [
    "Dont know what i think so far. I am adding more parameters, but now the can learn different non-linearities. Adding more parameters will lead to over fitting? But i can just reduce the nets size?\n",
    "\n",
    "I could tie weights across\n",
    "* neurons?\n",
    "* read/write????\n",
    "\n",
    "Based on \n",
    "* Balduzzi - Strongly typed RNNs\n",
    "* and Neural Turing Machines.\n",
    "\n",
    "\n",
    "Permutations\n",
    "* Additive, multiplication\n",
    "* Walks through weight space, aka the environment\n",
    "\n",
    "Analogy\n",
    "* Weights = position in environment\n",
    "* Memory = environment\n",
    "* Neurons = ants\n",
    "* ???"
   ]
  },
  {
   "cell_type": "code",
   "execution_count": 1,
   "metadata": {
    "collapsed": false
   },
   "outputs": [],
   "source": [
    "import tensorflow as tf\n",
    "import numpy as np"
   ]
  },
  {
   "cell_type": "code",
   "execution_count": 2,
   "metadata": {
    "collapsed": true
   },
   "outputs": [],
   "source": [
    "# Hyper parameters\n",
    "inputs = 28\n",
    "hidden = 0\n",
    "outputs = 10\n",
    "m = inputs + hidden + outputs #number of memory cells\n",
    "\n",
    "n = 10#number of neurons"
   ]
  },
  {
   "cell_type": "code",
   "execution_count": 50,
   "metadata": {
    "collapsed": true
   },
   "outputs": [],
   "source": [
    "#Neurons that dont have a state\n",
    "class Neurons():\n",
    "    def __init__(self,n):\n",
    "        self.alphas = tf.Variable(np.ones((n,1)),'alpha')\n",
    "        self.betas = tf.Variable(np.ones((n,1)),'beta')\n",
    "        \n",
    "    def forward(self,phi):\n",
    "        return  tf.exp(phi*self.betas) *self.alphas "
   ]
  },
  {
   "cell_type": "code",
   "execution_count": 56,
   "metadata": {
    "collapsed": false
   },
   "outputs": [],
   "source": [
    "x = tf.placeholder(tf.float64,shape = [inputs,1])\n",
    "y = tf.placeholder(tf.float64, shape = [outputs])\n",
    "\n",
    "#The environment where signals interact.\n",
    "memory = tf.Variable(np.ones((m,1)),'Memory') \n",
    "\n",
    "#The weights. Do we want these to be symmetric? Do we want to learn these?\n",
    "read = tf.Variable(np.random.standard_normal((n,m)),'ReadConnectionWeights')\n",
    "write = tf.Variable(np.random.standard_normal((m,n)),'WriteConnectionWeights')\n",
    "biases = tf.Variable(np.ones((n,1)),'Biases')\n",
    "\n",
    "neurons = Neurons(n)"
   ]
  },
  {
   "cell_type": "code",
   "execution_count": 57,
   "metadata": {
    "collapsed": true
   },
   "outputs": [],
   "source": [
    "# Inputs\n",
    "i = tf.slice(memory, [0,0],[inputs,1])\n",
    "j = tf.slice(memory, [inputs,0], [m-inputs,1])\n",
    "i = i * x\n",
    "mem = tf.concat(0,[i,j])"
   ]
  },
  {
   "cell_type": "code",
   "execution_count": 58,
   "metadata": {
    "collapsed": false
   },
   "outputs": [],
   "source": [
    "### Dynamics\n",
    "#the inputs to our neurons. \n",
    "phi = tf.matmul( read , mem ) + biases #nxm x mx1 = nx1\n",
    "#the inputs to our memory cells. \n",
    "psi = tf.matmul( write , neurons.forward(phi) ) #mxn x nx1 = mx1\n",
    "\n",
    "memory = psi*memory #can i do this? will gradients work?"
   ]
  },
  {
   "cell_type": "code",
   "execution_count": 59,
   "metadata": {
    "collapsed": true
   },
   "outputs": [],
   "source": [
    "init = tf.initialize_all_variables()\n",
    "sess = tf.Session()\n",
    "sess.run(init)"
   ]
  },
  {
   "cell_type": "code",
   "execution_count": 60,
   "metadata": {
    "collapsed": false
   },
   "outputs": [
    {
     "name": "stdout",
     "output_type": "stream",
     "text": [
      "(38, 1)\n",
      "(28, 1)\n",
      "(10, 1)\n",
      "(10, 1)\n",
      "(38, 1)\n",
      "(38, 1)\n"
     ]
    }
   ],
   "source": [
    "ans = sess.run([mem,i,j,phi,psi,memory],feed_dict={x : 100*np.random.random((28,1)) })\n",
    "for a in ans:\n",
    "    print(a.shape)"
   ]
  },
  {
   "cell_type": "code",
   "execution_count": 15,
   "metadata": {
    "collapsed": false
   },
   "outputs": [],
   "source": []
  },
  {
   "cell_type": "code",
   "execution_count": null,
   "metadata": {
    "collapsed": false
   },
   "outputs": [],
   "source": []
  },
  {
   "cell_type": "code",
   "execution_count": null,
   "metadata": {
    "collapsed": false
   },
   "outputs": [],
   "source": []
  },
  {
   "cell_type": "code",
   "execution_count": null,
   "metadata": {
    "collapsed": false
   },
   "outputs": [],
   "source": []
  }
 ],
 "metadata": {
  "kernelspec": {
   "display_name": "Python 3",
   "language": "python",
   "name": "python3"
  },
  "language_info": {
   "codemirror_mode": {
    "name": "ipython",
    "version": 3
   },
   "file_extension": ".py",
   "mimetype": "text/x-python",
   "name": "python",
   "nbconvert_exporter": "python",
   "pygments_lexer": "ipython3",
   "version": "3.5.1"
  }
 },
 "nbformat": 4,
 "nbformat_minor": 0
}
