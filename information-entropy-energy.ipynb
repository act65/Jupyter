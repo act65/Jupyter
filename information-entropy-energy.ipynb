{
 "cells": [
  {
   "cell_type": "markdown",
   "metadata": {},
   "source": [
    "Relationship between shannon entropy and thermodynamic entropy?!\n",
    "\n",
    "What about uncertainty? Gaussians?"
   ]
  },
  {
   "cell_type": "code",
   "execution_count": 1,
   "metadata": {},
   "outputs": [],
   "source": [
    "import numpy as np\n",
    "import matplotlib.pyplot as plt\n",
    "%matplotlib inline"
   ]
  },
  {
   "cell_type": "code",
   "execution_count": 21,
   "metadata": {},
   "outputs": [
    {
     "data": {
      "text/plain": [
       "<matplotlib.legend.Legend at 0xaac256f0>"
      ]
     },
     "execution_count": 21,
     "metadata": {},
     "output_type": "execute_result"
    },
    {
     "data": {
      "image/png": "[encoded data removed]",
      "text/plain": [
       "<matplotlib.figure.Figure at 0xaac518b0>"
      ]
     },
     "metadata": {},
     "output_type": "display_data"
    }
   ],
   "source": [
    "N = 1000\n",
    "p = np.linspace(0+1e-10, 1-1e-10, N)\n",
    "H_e = lambda p: -p * np.log(p)\n",
    "H_2 = lambda p: -p * np.log2(p)\n",
    "\n",
    "\n",
    "plt.figure(figsize=(12,6))\n",
    "# plt.plot(p, H_e(p) + H_e(1-p), label='nats')\n",
    "plt.plot(p, H_2(p) + H_2(1-p), label='bits')\n",
    "\n",
    "plt.xlabel('P(x)')\n",
    "plt.ylabel('H(P(x))')\n",
    "\n",
    "plt.legend()"
   ]
  },
  {
   "cell_type": "code",
   "execution_count": 22,
   "metadata": {},
   "outputs": [
    {
     "data": {
      "text/plain": [
       "0.49949949949959954"
      ]
     },
     "execution_count": 22,
     "metadata": {},
     "output_type": "execute_result"
    }
   ],
   "source": [
    "H = H_2(p) + H_2(1-p)\n",
    "p[np.argmax(H)]"
   ]
  },
  {
   "cell_type": "markdown",
   "metadata": {},
   "source": [
    "* Galois entropy?!? Based on geometric asymmetry.\n",
    "* What about a generalisation of entropy to all types of energy, not just thermodynamic/kinetics of small particles!?\n",
    "* Supposedly there are various subspecies of entropy based on unpredictabiloity, incompressibility, asymmetry, delayed recurrence.\n",
    "* "
   ]
  },
  {
   "cell_type": "markdown",
   "metadata": {},
   "source": [
    "\n",
    "Randomness takes lots of info to describe.\n",
    "From now to the end of universe: Lots of information is required to describe now, little is needed when everything is uniform. But what about the start of the universe? Little info was needed then (or is that not true)? Or did the universe start in a maximally random state?\n",
    "\n",
    "__Q__: What is the maximum speed that we can increase entropy?\n",
    "\n",
    "???"
   ]
  },
  {
   "cell_type": "markdown",
   "metadata": {},
   "source": [
    "What are the different types of energy?\n",
    "Strong nuclear, gravitational, electro-magnetic\n",
    "\n",
    "__Q__: Does each type of energy need a way to be dissapated/dispersed~? \n",
    "* Gravitational potential -> hawking radiation, \n",
    "* kinetic -> friction,\n",
    "* nuclear -> background radiation (dispersed light particles?!)\n",
    "* ?\n",
    "\n",
    "***\n",
    "\n",
    "__Q__: As you increase your speed you get heavier (right). Does this mean that at some point you would become a black hole? But if you slowed down you would stop being a black hole!?"
   ]
  },
  {
   "cell_type": "markdown",
   "metadata": {},
   "source": []
  },
  {
   "cell_type": "markdown",
   "metadata": {},
   "source": [
    "## Resources\n",
    "\n",
    "* http://www.math.uni-hamburg.de/home/gunesch/Entropy/dynsys.html\n",
    "* all entropies agree of sft\n",
    "* https://ncatlab.org/nlab/show/entropy\n",
    "* https://golem.ph.utexas.edu/category/2011/05/an_operadic_introduction_to_en.html\n",
    "* The Homological Nature of Entropy\n",
    "* https://en.wikipedia.org/wiki/Entropic_uncertainty\n",
    "* https://en.wikipedia.org/wiki/Hawking_radiation\n",
    "* https://en.wikipedia.org/wiki/Entropic_gravity"
   ]
  },
  {
   "cell_type": "code",
   "execution_count": null,
   "metadata": {},
   "outputs": [],
   "source": []
  }
 ],
 "metadata": {
  "kernelspec": {
   "display_name": "Python 3",
   "language": "python",
   "name": "python3"
  },
  "language_info": {
   "codemirror_mode": {
    "name": "ipython",
    "version": 3
   },
   "file_extension": ".py",
   "mimetype": "text/x-python",
   "name": "python",
   "nbconvert_exporter": "python",
   "pygments_lexer": "ipython3",
   "version": "3.6.4"
  }
 },
 "nbformat": 4,
 "nbformat_minor": 2
}
