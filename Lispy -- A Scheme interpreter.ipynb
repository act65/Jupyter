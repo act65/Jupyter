{
 "cells": [
  {
   "cell_type": "code",
   "execution_count": 1,
   "metadata": {
    "collapsed": false
   },
   "outputs": [
    {
     "name": "stdout",
     "output_type": "stream",
     "text": [
      "['(', 'begin', '(', 'define', 'r', '10', ')', '(', '*', 'pi', '(', '*', 'r', 'r', ')', ')', ')']\n"
     ]
    }
   ],
   "source": [
    "def tokenize(chars):\n",
    "    \"Convert a string of characters into a list of tokens.\"\n",
    "    return chars.replace('(', ' ( ').replace(')', ' ) ').split()\n",
    "\n",
    "program = \"(begin (define r 10) (* pi (* r r)))\"\n",
    "print(tokenize(program))"
   ]
  },
  {
   "cell_type": "code",
   "execution_count": 2,
   "metadata": {
    "collapsed": true
   },
   "outputs": [],
   "source": [
    "Symbol = str          # A Scheme Symbol is implemented as a Python str\n",
    "List   = list         # A Scheme List is implemented as a Python list\n",
    "Number = (int, float) # A Scheme Number is implemented as a Python int or float"
   ]
  },
  {
   "cell_type": "code",
   "execution_count": 3,
   "metadata": {
    "collapsed": true
   },
   "outputs": [],
   "source": [
    "def parse(program):\n",
    "    \"Read a Scheme expression from a string.\"\n",
    "    return read_from_tokens(tokenize(program))\n",
    "\n",
    "def read_from_tokens(tokens):\n",
    "    \"Read an expression from a sequence of tokens.\"\n",
    "    if len(tokens) == 0:\n",
    "        raise SyntaxError('unexpected EOF while reading')\n",
    "    token = tokens.pop(0)\n",
    "    if '(' == token:\n",
    "        L = []\n",
    "        while tokens[0] != ')':\n",
    "            L.append(read_from_tokens(tokens))\n",
    "        tokens.pop(0) # pop off ')'\n",
    "        return L\n",
    "    elif ')' == token:\n",
    "        raise SyntaxError('unexpected )')\n",
    "    else:\n",
    "        return atom(token)\n",
    "\n",
    "def atom(token):\n",
    "    \"Numbers become numbers; every other token is a symbol.\"\n",
    "    try: return int(token)\n",
    "    except ValueError:\n",
    "        try: return float(token)\n",
    "        except ValueError:\n",
    "            return Symbol(token)"
   ]
  },
  {
   "cell_type": "code",
   "execution_count": 4,
   "metadata": {
    "collapsed": false
   },
   "outputs": [],
   "source": [
    "import math\n",
    "import operator as op\n",
    "\n",
    "def standard_env():\n",
    "    \"An environment with some Scheme standard procedures.\"\n",
    "    env = Env()\n",
    "    env.update(vars(math)) # sin, cos, sqrt, pi, ...\n",
    "    env.update({\n",
    "        '+':op.add, '-':op.sub, '*':op.mul, '/':op.truediv, \n",
    "        '>':op.gt, '<':op.lt, '>=':op.ge, '<=':op.le, '=':op.eq, \n",
    "        'abs':     abs,\n",
    "        'append':  op.add,  \n",
    "        #'apply':   apply,\n",
    "        'begin':   lambda *x: x[-1],\n",
    "        'car':     lambda x: x[0],\n",
    "        'cdr':     lambda x: x[1:], \n",
    "        'cons':    lambda x,y: [x] + y,\n",
    "        'eq?':     op.is_, \n",
    "        'equal?':  op.eq, \n",
    "        'length':  len, \n",
    "        'list':    lambda *x: list(x), \n",
    "        'list?':   lambda x: isinstance(x,list), \n",
    "        'map':     map,\n",
    "        'max':     max,\n",
    "        'min':     min,\n",
    "        'not':     op.not_,\n",
    "        'null?':   lambda x: x == [], \n",
    "        'number?': lambda x: isinstance(x, Number),   \n",
    "        'procedure?': callable,\n",
    "        'round':   round,\n",
    "        'symbol?': lambda x: isinstance(x, Symbol),\n",
    "        #'null': []\n",
    "    })\n",
    "    return env"
   ]
  },
  {
   "cell_type": "code",
   "execution_count": 44,
   "metadata": {
    "collapsed": false
   },
   "outputs": [],
   "source": [
    "class Procedure(object):\n",
    "    \"A user-defined Scheme procedure.\"\n",
    "    def __init__(self, params, body, env):\n",
    "        self.params, self.body, self.env = params, body, env\n",
    "    def __call__(self, *args):\n",
    "        return evaluate(self.body, Env(self.params, args, self.env)) #initialise a temporary environent\n",
    "\n",
    "class Env(dict):\n",
    "    \"An environment: a dict of {'var':val} pairs, with an outer Env.\"\n",
    "    def __init__(self, params=(), args=(), outer=None):\n",
    "        if outer != None:\n",
    "            self.update(outer) #the golobal params\n",
    "        self.update(zip(params, args)) #overwrite with locally defined ones\n",
    "        self.outer = outer\n",
    "    def find(self, var):\n",
    "        \"Find the innermost Env where var appears.\"\n",
    "        return self if (var in self) else self.outer.find(var)\n",
    "    \n",
    "global_env = standard_env()"
   ]
  },
  {
   "cell_type": "code",
   "execution_count": 45,
   "metadata": {
    "collapsed": false
   },
   "outputs": [],
   "source": [
    "def evaluate(prog, env=global_env):\n",
    "    \"Evaluate an expression in an environment.\"\n",
    "    \n",
    "    if isinstance(prog, Symbol):      # variable reference\n",
    "        return env[prog]\n",
    "    \n",
    "    elif not isinstance(prog, List):  # constant literal\n",
    "        return prog        \n",
    "    \n",
    "    ### Conditional\n",
    "    #(if (> 10 3) (- 1 2) (+ 3 4)) -> -1\n",
    "    elif prog[0] == 'if':\n",
    "        (_, test, conseq, alt) = prog\n",
    "        exp = (conseq if evaluate(test, env) else alt)\n",
    "        return evaluate(exp, env)\n",
    "    \n",
    "    ### Definition\n",
    "    #(define r 3)\n",
    "    elif prog[0] == 'define':\n",
    "        (_, var, exp) = prog\n",
    "        env[var] = evaluate(exp, env)\n",
    "        \n",
    "    ### Quotation\n",
    "    #(quote (+ 1 2)) -> (+ 1 2)\n",
    "    elif prog[0] == 'quote':          \n",
    "        (_, exp) = prog\n",
    "        return exp\n",
    "\n",
    "    ### Assignment\n",
    "    #(set! r2 (* r r))\n",
    "    elif prog[0] == 'set!':\n",
    "        (_, var, exp) = prog\n",
    "        env.find(var)[var] = evaluate(exp, env)\n",
    "        \n",
    "    ### Lambda expression\n",
    "    #(lambda (r) (* pi (* r r)))\n",
    "    elif prog[0] == 'lambda':\n",
    "        (_,params,body) = prog\n",
    "        return Procedure(params,body,env)\n",
    "        \n",
    "    ### Procedure call\n",
    "    else:\n",
    "        proc = evaluate(prog[0], env)\n",
    "        args = [evaluate(arg, env) for arg in prog[1:]]\n",
    "        return proc(*args)"
   ]
  },
  {
   "cell_type": "code",
   "execution_count": 48,
   "metadata": {
    "collapsed": false
   },
   "outputs": [
    {
     "name": "stdout",
     "output_type": "stream",
     "text": [
      "3141.592653589793\n",
      "1256.6370614359173\n"
     ]
    }
   ],
   "source": [
    "evaluate(parse(\"(define r 10)\"))\n",
    "print(evaluate(parse(\"(* pi (* r (* r r)))\")))\n",
    "evaluate(parse(\"(define circle-area (lambda (r) (* pi (* r r))))\"))\n",
    "print(evaluate(parse(\"(circle-area 20)\")))"
   ]
  },
  {
   "cell_type": "code",
   "execution_count": 47,
   "metadata": {
    "collapsed": true
   },
   "outputs": [],
   "source": [
    "def repl(prompt='lis.py> '):\n",
    "    \"A prompt-read-eval-print loop.\"\n",
    "    while True:\n",
    "        cmd = input(prompt)\n",
    "        if cmd != '':\n",
    "            val = evaluate(parse(cmd))\n",
    "            if val is not None: \n",
    "                print(schemestr(val))\n",
    "\n",
    "def schemestr(exp):\n",
    "    \"Convert a Python object back into a Scheme-readable string.\"\n",
    "    if  isinstance(exp, list):\n",
    "        return '(' + ' '.join(map(schemestr, exp)) + ')' \n",
    "    else:\n",
    "        return str(exp)"
   ]
  },
  {
   "cell_type": "code",
   "execution_count": null,
   "metadata": {
    "collapsed": false
   },
   "outputs": [],
   "source": [
    "repl()"
   ]
  },
  {
   "cell_type": "markdown",
   "metadata": {},
   "source": [
    "# Questions\n",
    "\n",
    "* How does env get updated in the recursive calls within evaluate?\n",
    "* What is a macro?\n",
    "\n",
    "# Lessons learnt\n",
    "\n",
    "* Lambda calculi have their own (local) environments (wasnt clear until you need to code it).\n",
    "* At its core, it's a translator."
   ]
  },
  {
   "cell_type": "markdown",
   "metadata": {},
   "source": [
    "Code stolen from http://norvig.com/lispy.html.\n",
    "\n",
    "### TODO\n",
    "\n",
    "* Make some sort of finite state machine/diagram\n",
    "* http://norvig.com/lispy2.html"
   ]
  }
 ],
 "metadata": {
  "kernelspec": {
   "display_name": "Python 3",
   "language": "python",
   "name": "python3"
  },
  "language_info": {
   "codemirror_mode": {
    "name": "ipython",
    "version": 3
   },
   "file_extension": ".py",
   "mimetype": "text/x-python",
   "name": "python",
   "nbconvert_exporter": "python",
   "pygments_lexer": "ipython3",
   "version": "3.5.1"
  }
 },
 "nbformat": 4,
 "nbformat_minor": 0
}
