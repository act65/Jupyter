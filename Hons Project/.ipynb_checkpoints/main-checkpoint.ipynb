{
 "cells": [
  {
   "cell_type": "code",
   "execution_count": 1,
   "metadata": {
    "collapsed": false
   },
   "outputs": [],
   "source": [
    "import numpy as np\n",
    "import matplotlib.pyplot as plt #would like a better plotting library\n",
    "import scipy\n",
    "%matplotlib inline"
   ]
  },
  {
   "cell_type": "markdown",
   "metadata": {},
   "source": [
    "NBconvert - set all headings to add an id so i can link to them"
   ]
  },
  {
   "cell_type": "markdown",
   "metadata": {
    "collapsed": true
   },
   "source": [
    "# Contents\n",
    "* [t - SNE](#tSNE)\n",
    "    * [Overview](#Overview)\n",
    "    * [Motivation](#Motivation)\n",
    "    * [Background](#Background)\n",
    "        * [Gaussians](#Gaussians)\n",
    "        * [KL divergence](#KL divergence)\n",
    "    * [Method](#Method)\n",
    "        * [Cost function](#Cost function)\n",
    "        * [Optimisers](#Optimisers)\n",
    "    * [Implementation](#Implementation)\n",
    "    * [Results](#Results)\n",
    "* [Questions](#Questions)\n",
    "* [References](#References)\n",
    "* [Glossary](#Glossary)\n",
    "\n",
    "\n",
    "\n",
    "# t - SNE <a id='tSNE'></a>\n",
    "\n",
    "## Definition <a id='Definition'></a>\n",
    "\n",
    "Given a dataset of N high-dimensional objects $\\mathbf{x}_1, \\dots, \\mathbf{x}_N \\in \\mathbb{X}$, t-SNE first computes probabilities $p_{ij}$ that are proportional to the similarity of objects $\\mathbf{x}_i$ and $\\mathbf{x}_j$, as follows:\n",
    "\n",
    "$$p_{j\\mid i} = \\frac{\\exp(-\\lVert\\mathbf{x}_i - \\mathbf{x}_j\\rVert^2 / 2\\sigma_i^2)}{\\sum_{k \\neq i} \\exp(-\\lVert\\mathbf{x}_i - \\mathbf{x}_k\\rVert^2 / 2\\sigma_i^2)} \\\\\n",
    "p_{ij} = \\frac{p_{j\\mid i} + p_{i\\mid j}}{2N}$$\n",
    "The bandwidth of the Gaussian kernels $\\sigma_i$, is set in such a way that the perplexity of the conditional distribution equals a predefined perplexity using a binary search. As a result, the bandwidth is adapted to the density of the data: smaller values of \\sigma_i are used in denser parts of the data space.\n",
    "\n",
    "t-SNE aims to learn a d-dimensional map $\\mathbf{y}_1, \\dots, \\mathbf{y}_N$ (with $\\mathbf{y}_i \\in \\mathbb{R}^d$) that reflects the similarities $p_{ij}$ as well as possible. To this end, it measures similarities $q_{ij}$ between two points in the map $\\mathbf{y}_i$ and $\\mathbf{y}_j$, using a very similar approach. Specifically, $q_{ij}$ is defined as:\n",
    "\n",
    "$$q_{ij} = \\frac{(1 + \\lVert \\mathbf{y}_i - \\mathbf{y}_j\\rVert^2)^{-1}}{\\sum_{k \\neq \\ell} (1 + \\lVert \\mathbf{y}_k - \\mathbf{y}_\\ell\\rVert^2)^{-1}}$$\n",
    "Herein a heavy-tailed Student-t distribution is used to measure similarities between low-dimensional points in order to allow dissimilar objects to be modeled far apart in the map.\n",
    "\n",
    "The locations of the points \\mathbf{y}_i in the map are determined by minimizing the (non-symmetric) Kullback–Leibler divergence of the distribution Q from the distribution P, that is:\n",
    "\n",
    "$$ KL(P||Q) = \\sum_{i \\neq j} p_{ij} \\log \\frac{p_{ij}}{q_{ij}} $$\n",
    "The minimization of the Kullback–Leibler divergence with respect to the points $\\mathbf{y}_i$ is performed using gradient descent. The result of this optimization is a map that reflects the similarities between the high-dimensional inputs well.\n",
    "\n",
    "\n",
    "\n",
    "## Motivation <a id='Motivation'></a>\n",
    "\n",
    "To efficiently ??? \n",
    "\n",
    "* Find topology of data? It would be nice to ?\n",
    "\n",
    "\n",
    "\n",
    "\n",
    "## Background <a id='Background'></a>\n",
    "\n",
    "### Metric spaces and distances\n",
    "\n",
    "\n",
    "### Perplexity and \n",
    "\n",
    "\n",
    "<span style=\"background-color: #FFFF00\">need to learn this</span>\n",
    "\n",
    "\n",
    "\n"
   ]
  },
  {
   "cell_type": "code",
   "execution_count": null,
   "metadata": {
    "collapsed": true
   },
   "outputs": [],
   "source": []
  },
  {
   "cell_type": "markdown",
   "metadata": {},
   "source": [
    "### Gaussians <a id='Gaussians'></a>\n",
    "\n",
    "t\n",
    "\n",
    "$$ f \\left (x\\right) = a e^{- { \\frac{(x-b)^2 }{ 2 c^2} } }$$\n"
   ]
  },
  {
   "cell_type": "code",
   "execution_count": 2,
   "metadata": {
    "collapsed": false
   },
   "outputs": [
    {
     "data": {
      "text/plain": [
       "[<matplotlib.lines.Line2D at 0x105b00da0>]"
      ]
     },
     "execution_count": 2,
     "metadata": {},
     "output_type": "execute_result"
    },
    {
     "data": {
      "image/png": "[encoded data removed]",
      "text/plain": [
       "<matplotlib.figure.Figure at 0x105866908>"
      ]
     },
     "metadata": {},
     "output_type": "display_data"
    }
   ],
   "source": [
    "x = np.linspace(-10,10,100)\n",
    "a = 1 #the height\n",
    "b = 0 #the x/center position\n",
    "c = 2 #the width\n",
    "f = a*np.exp(-((x-b)**2)/(2*(c**2)))\n",
    "plt.plot(x,f)"
   ]
  },
  {
   "cell_type": "markdown",
   "metadata": {},
   "source": [
    "### Kullback–Leibler divergence <a id='KL divergence'></a>\n",
    "\n",
    "It is also called the relative entropy of P with respect to Q, and written H(P|Q).\n",
    "\n",
    "$$D_{\\mathrm{KL}}(P\\|Q) = \\sum_i P(i) \\, \\log\\frac{P(i)}{Q(i)}$$\n",
    "\n",
    "Pictures to explain would be good"
   ]
  },
  {
   "cell_type": "code",
   "execution_count": null,
   "metadata": {
    "collapsed": true
   },
   "outputs": [],
   "source": []
  },
  {
   "cell_type": "code",
   "execution_count": null,
   "metadata": {
    "collapsed": true
   },
   "outputs": [],
   "source": []
  },
  {
   "cell_type": "markdown",
   "metadata": {
    "collapsed": true
   },
   "source": [
    "## Method <a id='Method'></a>\n",
    "\n",
    "\n",
    "\n",
    "### Cost function <a id='Cost function'></a>\n",
    "\n",
    "The cost function and derivates - <span style=\"background-color: #FFFF00\">need to derive this here!</span>\n",
    "\n",
    "$$ \\mathbf{C} = \\sum_{i} KL(P_i||Q_i) = \\sum_{i}\\sum_{j} p_{ij} \\log \\frac{p_{ij}}{q_{ij}} $$\n",
    "$$\\frac{\\partial \\mathbf{C}}{\\partial \\mathbf{y}} = 2 \\sum_{j} (\\mathbf{y}_i - \\mathbf{y}_j) (p_{ij} - q_{ij}  + p_{ji} - q_{ji})$$\n",
    "\n",
    "### Optimisers <a id='Optimisers'></a>\n",
    "\n",
    "So why does steepest descent not work? it has no way to get past local minima (a picture of the many local minima would be nice). Momentum and annealing (random jitter) help bump the \n",
    "\n",
    "Like a rock rolling down a hill. The problem with steepest gradient descent is that <s>the gradients are too low and</s> there are too many ledges and bluffs to get caught on. It will instantly stop, regardless of momentum, on any of these. ...  Momentum work better sa it will continue on throughSo as soon as it \n",
    "\n",
    "So I guess the questions this raises are;\n",
    "\n",
    "* how can we find the global maximum?\n",
    "* how can we get out of local minima? / \n",
    "    * random jumps, \n",
    "    * tunnel, \n",
    "    * use the history of the trajectory (momentum/integral control), \n",
    "* what are the best methods for optimising surfaces with many local minima? (surely whatever the solution it will be expensive?\n",
    "    * is this the sort of thing particle swarms are good at?\n",
    "* how can we reduce the amount of local minima in/on the surface?\n",
    "\n",
    "    \n",
    "    \n",
    "<span style=\"background-color: #FFFF00\">Need to learn how adagrad, adam, ... </span>\n",
    "\n",
    "## Implementation <a id='Implementation'></a>\n",
    "\n"
   ]
  },
  {
   "cell_type": "code",
   "execution_count": null,
   "metadata": {
    "collapsed": true
   },
   "outputs": [],
   "source": []
  },
  {
   "cell_type": "markdown",
   "metadata": {},
   "source": [
    "## Results and experiments <a id='Results'></a>\n",
    "\n",
    "To test\n",
    "* what happens if you init all y at the same position?\n",
    "* limits as gaussian width tends to 0 and inf"
   ]
  },
  {
   "cell_type": "code",
   "execution_count": null,
   "metadata": {
    "collapsed": true
   },
   "outputs": [],
   "source": []
  },
  {
   "cell_type": "code",
   "execution_count": null,
   "metadata": {
    "collapsed": true
   },
   "outputs": [],
   "source": []
  },
  {
   "cell_type": "code",
   "execution_count": null,
   "metadata": {
    "collapsed": true
   },
   "outputs": [],
   "source": []
  },
  {
   "cell_type": "markdown",
   "metadata": {
    "collapsed": true
   },
   "source": [
    " \n",
    "# Questions and thoughts<a id='Questions'></a>\n",
    "\n",
    "* The two functions to find p and q should be the same??\n",
    "* Slower rate of dimensionalty reduction, discrete, continuious. (reminds me of a recursive function?)\n",
    "* What if the data set is not a bunch of vectors, but matrixies, or other data structures??\n",
    "* The method needs to reflect the data somehow?\n",
    "* Are we only allowing orthogonal dimensions? This seems to be quite limiting?? For example, what if we could have dimensions that are curves? So MNIST would be a small number of curve dimensions??\n",
    "    * so what if we mapped it into non-euclidean grometry and then back? \n",
    "        * for example - images: we could mapp the pixel intensities into a line segments/curves and them back to a 2d position vector?\n",
    "        * into the number of turns greater that 270 degrees, then back to a 2d position vector?\n",
    "    * is this naturally what auto encoders do?\n",
    "    * what is the difference between a dimension and a feature?\n",
    "* what is this like? electro magnetic forces acting on particles? gravity acting on particles, a network of forces? ... what techinques have they developed?\n",
    "* data visualisation technique researchers dont seem to know exactally what they are looking to visualise. we need to rigorously define what it is we are trying to do\n",
    "* how does this work for unsupervised data? \n",
    "    * supervised data can ... nice visualisations? \n",
    "    * unsupervised? we are clustering based on similarities? we can look at how it has group datapoints and see the patterns?\n",
    "* why euclidean space and linear embeddings? it just seems these are convinient as the math is easy not because they are necessarily well suited to the problem\n",
    "\n",
    "\n",
    "# Resources and references <a id='References'></a>\n",
    "\n",
    "* [t-SNE on SciKit learn](http://scikit-learn.org/stable/modules/generated/sklearn.manifold.TSNE.html \"SciKit learn\")\n",
    "* [LAURENS VAN DER MAATEN](https://lvdmaaten.github.io/tsne/)\n",
    "* \n",
    "\n",
    "# Glossary <a id='Glossary'></a>\n",
    "\n",
    "* Local structure: the similarities/differences of \n",
    "* Global structure: the "
   ]
  },
  {
   "cell_type": "markdown",
   "metadata": {},
   "source": [
    "\n",
    "\n"
   ]
  }
 ],
 "metadata": {
  "kernelspec": {
   "display_name": "Python 3",
   "language": "python",
   "name": "python3"
  },
  "language_info": {
   "codemirror_mode": {
    "name": "ipython",
    "version": 3
   },
   "file_extension": ".py",
   "mimetype": "text/x-python",
   "name": "python",
   "nbconvert_exporter": "python",
   "pygments_lexer": "ipython3",
   "version": "3.4.4"
  }
 },
 "nbformat": 4,
 "nbformat_minor": 0
}
