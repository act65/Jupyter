{
 "cells": [
  {
   "cell_type": "markdown",
   "metadata": {},
   "source": [
    "Goal:\n",
    "\n",
    "Make a complex net.\n",
    "\n",
    "Todo.\n",
    "* Find better orthogonal init\n",
    "\n",
    "https://github.com/tensorflow/tensorflow/issues/2255"
   ]
  },
  {
   "cell_type": "code",
   "execution_count": 1,
   "metadata": {
    "collapsed": true
   },
   "outputs": [],
   "source": [
    "import tensorflow as tf\n",
    "import functools\n",
    "import numpy as np\n",
    "from sklearn.datasets import load_digits\n",
    "digits = load_digits()\n",
    "from sklearn.preprocessing import OneHotEncoder\n",
    "labels = OneHotEncoder().fit_transform(digits.target.reshape((digits.target.shape[0],1))).toarray()"
   ]
  },
  {
   "cell_type": "code",
   "execution_count": 2,
   "metadata": {
    "collapsed": false
   },
   "outputs": [],
   "source": [
    "d = 64\n",
    "batch_size = 64\n",
    "X = tf.placeholder(tf.float32,shape=(None,batch_size))\n",
    "x = tf.complex(X,tf.zeros((d,batch_size)))\n",
    "T = tf.placeholder(tf.float32,shape=(None,labels.shape[1]))"
   ]
  },
  {
   "cell_type": "code",
   "execution_count": 3,
   "metadata": {
    "collapsed": true
   },
   "outputs": [],
   "source": [
    "def complex_variable( name, shape):\n",
    "    re, im = tf.get_variable(name+'_re', shape=shape), tf.get_variable(name+'_im', shape=shape)\n",
    "    return tf.complex(re,im, name=name)"
   ]
  },
  {
   "cell_type": "code",
   "execution_count": 4,
   "metadata": {
    "collapsed": false
   },
   "outputs": [],
   "source": [
    "class Mapping():\n",
    "    num = 0\n",
    "    def __init__(self,shape):\n",
    "        self.name = 'Map' + str(Mapping.num)\n",
    "        Mapping.num+=1\n",
    "        self.shape = shape\n",
    "        with tf.variable_scope(self.name,initializer=tf.contrib.layers.xavier_initializer()):\n",
    "            self.weights = complex_variable('W',shape)\n",
    "            self.biases = complex_variable('b',[1,shape[-1]])\n",
    "    \n",
    "    def __call__(self,x):\n",
    "        with tf.name_scope(self.name+'_calc'):\n",
    "            return tf.matmul(x,self.weights) + self.biases"
   ]
  },
  {
   "cell_type": "code",
   "execution_count": 5,
   "metadata": {
    "collapsed": false
   },
   "outputs": [],
   "source": [
    "class LinearNet():\n",
    "    name = 'LinearNet'\n",
    "    layers = [Mapping((d,64)),  \n",
    "              Mapping((64,d))]"
   ]
  },
  {
   "cell_type": "code",
   "execution_count": 6,
   "metadata": {
    "collapsed": false
   },
   "outputs": [],
   "source": [
    "NN = LinearNet\n",
    "y = functools.reduce(lambda x,f:f(x),[x] + NN.layers)\n",
    "tf.image_summary('Recons',tf.reshape(tf.complex_abs(y),[batch_size,8,8,1]),max_images=10)\n",
    "\n",
    "def mse(x,y,name='mse'): #is this the right equation to be using?\n",
    "    with tf.name_scope(name):\n",
    "        return tf.reduce_mean(tf.reduce_sum(tf.square(tf.complex_abs(x-y)),reduction_indices=[1]))\n",
    "    \n",
    "Loss = mse(x,y)\n",
    "tf.scalar_summary(\"Loss\",Loss)\n",
    "\n",
    "for var in tf.trainable_variables():\n",
    "    tf.histogram_summary(var.name,var)"
   ]
  },
  {
   "cell_type": "code",
   "execution_count": 7,
   "metadata": {
    "collapsed": false
   },
   "outputs": [],
   "source": [
    "train_step = tf.train.AdamOptimizer(0.001).minimize(Loss)\n",
    "merged = tf.merge_all_summaries()\n",
    "saver = tf.train.Saver()"
   ]
  },
  {
   "cell_type": "code",
   "execution_count": 8,
   "metadata": {
    "collapsed": true
   },
   "outputs": [],
   "source": [
    "def batch_iter(data, batch_size):\n",
    "    num_batches = data.shape[0] // batch_size\n",
    "    \n",
    "    for i in range(num_batches):\n",
    "        yield data[i*batch_size:(i+1)*batch_size, ...],labels[i*batch_size:(i+1)*batch_size, ...]"
   ]
  },
  {
   "cell_type": "code",
   "execution_count": 9,
   "metadata": {
    "collapsed": false,
    "scrolled": false
   },
   "outputs": [
    {
     "name": "stdout",
     "output_type": "stream",
     "text": [
      " Loss 1.095484972000122"
     ]
    }
   ],
   "source": [
    "with tf.Session() as sess:\n",
    "    sess.run(tf.initialize_all_variables())\n",
    "    writer = tf.train.SummaryWriter('Summaries/'+NN.name,sess.graph)\n",
    "    count = 0\n",
    "    feed = {}\n",
    "    for e in range(50):\n",
    "        for i,batch in enumerate(batch_iter(digits.data,batch_size)):\n",
    "            ims,lab = batch\n",
    "            feed[x] = ims.reshape((batch_size,d))/255\n",
    "            count +=1\n",
    "            sess.run(train_step,feed_dict=feed)\n",
    "            if i%10==0:\n",
    "                summaries = sess.run(merged,feed_dict=feed)\n",
    "                writer.add_summary(summaries,count)\n",
    "                print('\\r Loss {}'.format(sess.run(Loss,feed)),end='')"
   ]
  }
 ],
 "metadata": {
  "kernelspec": {
   "display_name": "Python 3",
   "language": "python",
   "name": "python3"
  },
  "language_info": {
   "codemirror_mode": {
    "name": "ipython",
    "version": 3
   },
   "file_extension": ".py",
   "mimetype": "text/x-python",
   "name": "python",
   "nbconvert_exporter": "python",
   "pygments_lexer": "ipython3",
   "version": "3.5.2"
  }
 },
 "nbformat": 4,
 "nbformat_minor": 0
}
