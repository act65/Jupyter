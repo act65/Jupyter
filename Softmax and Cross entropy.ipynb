{
 "cells": [
  {
   "cell_type": "markdown",
   "metadata": {},
   "source": [
    "$$\n",
    "\\begin{align}\n",
    "y_i &= \\frac{e^{\\phi_i}}{\\sum_j e^{\\phi_j}} \\\\\n",
    "CE(\\vec{y},T) &= -Tlog(\\vec{y}) \\\\\n",
    "CE(y_i,T) &= -T_i log(\\frac{e^{\\phi_i}}{\\sum_j e^{\\phi_j}}) \\\\\n",
    "CE(y_i,T) &= -T_i (log(e^{\\phi_i}) - log(\\sum_j e^{\\phi_j})) \\\\\n",
    "CE(y_i,T) &= -T_i (\\phi_i - \\sum_j \\phi_j) \\\\\n",
    "\\end{align}\n",
    "$$"
   ]
  }
 ],
 "metadata": {
  "kernelspec": {
   "display_name": "Python 3",
   "language": "python",
   "name": "python3"
  },
  "language_info": {
   "codemirror_mode": {
    "name": "ipython",
    "version": 3
   },
   "file_extension": ".py",
   "mimetype": "text/x-python",
   "name": "python",
   "nbconvert_exporter": "python",
   "pygments_lexer": "ipython3",
   "version": "3.5.1"
  }
 },
 "nbformat": 4,
 "nbformat_minor": 0
}
