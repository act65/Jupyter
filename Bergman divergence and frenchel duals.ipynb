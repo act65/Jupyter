{
 "cells": [
  {
   "cell_type": "markdown",
   "metadata": {},
   "source": [
    "* So it is symmetric if the function is symmetric?\n",
    "    * No, if the gradient is constant (or symmetric???) then the bergman divergence is symmetric?\n",
    "* What sort of distance is it measuring?\n",
    "    * The difference from linear? Or constant gradient?\n",
    "    * It vaugely reminds me of the calculation of a gradient from first principles?\n",
    "    * Reminds me of PCA? We have taken some linear dimension and defined \n",
    "* Is d(x,y) proportional to the second derivative? How so?\n",
    "\n",
    "\n",
    "\n",
    "Let $f(z) = z^3$ then the Bergman divergence $B(x,y) = f(x) - f(y) - <\\nabla f(y),x-y>$.\n",
    "So let x be constant and lets vary y. $B(x=x_i,y) = x_i^3 - y^3 - 2y^2 (x_i - y) = $? This is still a cubic. So we have just ...?\n"
   ]
  },
  {
   "cell_type": "markdown",
   "metadata": {},
   "source": []
  },
  {
   "cell_type": "markdown",
   "metadata": {},
   "source": [
    "# Resources\n",
    "\n",
    "* http://mark.reid.name/blog/meet-the-bregman-divergences.html\n",
    "* http://math.stackexchange.com/questions/223235/please-explain-the-intuition-behind-the-dual-problem-in-optimization\n",
    "\n",
    "# Questions\n",
    "\n",
    "* how does bergman dist being not symetric (?) help us?\n",
    "\n",
    "# TODO\n",
    "\n",
    "* Pictures! Geometry\n",
    "* "
   ]
  }
 ],
 "metadata": {
  "kernelspec": {
   "display_name": "Python 3",
   "language": "python",
   "name": "python3"
  },
  "language_info": {
   "codemirror_mode": {
    "name": "ipython",
    "version": 3
   },
   "file_extension": ".py",
   "mimetype": "text/x-python",
   "name": "python",
   "nbconvert_exporter": "python",
   "pygments_lexer": "ipython3",
   "version": "3.5.2"
  }
 },
 "nbformat": 4,
 "nbformat_minor": 0
}
