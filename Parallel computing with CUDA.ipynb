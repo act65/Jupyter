{
 "cells": [
  {
   "cell_type": "code",
   "execution_count": 2,
   "metadata": {
    "collapsed": false
   },
   "outputs": [],
   "source": [
    "import numpy\n",
    "\n",
    "def filter2d(image, filt):\n",
    "    M, N = image.shape\n",
    "    Mf, Nf = filt.shape\n",
    "    Mf2 = Mf // 2\n",
    "    Nf2 = Nf // 2\n",
    "    result = numpy.zeros_like(image)\n",
    "    for i in range(Mf2, M - Mf2):\n",
    "        for j in range(Nf2, N - Nf2):\n",
    "            num = 0.0\n",
    "            for ii in range(Mf):\n",
    "                for jj in range(Nf):\n",
    "                    num += (filt[Mf-1-ii, Nf-1-jj] * image[i-Mf2+ii, j-Nf2+jj])\n",
    "            result[i, j] = num\n",
    "    return result\n",
    "\n",
    "# This kind of quadruply-nested for-loop is going to be quite slow.\n",
    "# Using Numba we can compile this code to LLVM which then gets\n",
    "# compiled to machine code:\n",
    "\n",
    "from numba import double, jit\n",
    "\n",
    "fastfilter_2d = jit(double[:,:](double[:,:], double[:,:]))(filter2d)\n",
    "\n",
    "# Now fastfilter_2d runs at speeds as if you had first translated\n",
    "# it to C, compiled the code and wrapped it with Python\n",
    "image = numpy.random.random((100, 100))\n",
    "filt = numpy.random.random((10, 10))"
   ]
  },
  {
   "cell_type": "code",
   "execution_count": 3,
   "metadata": {
    "collapsed": false
   },
   "outputs": [
    {
     "name": "stdout",
     "output_type": "stream",
     "text": [
      "1000 loops, best of 3: 1.25 ms per loop\n"
     ]
    }
   ],
   "source": [
    "%%timeit \n",
    "fastfilter_2d(image, filt)"
   ]
  },
  {
   "cell_type": "code",
   "execution_count": 4,
   "metadata": {
    "collapsed": false
   },
   "outputs": [
    {
     "name": "stdout",
     "output_type": "stream",
     "text": [
      "1 loop, best of 3: 440 ms per loop\n"
     ]
    }
   ],
   "source": [
    "%%timeit \n",
    "filter2d(image, filt)"
   ]
  }
 ],
 "metadata": {
  "kernelspec": {
   "display_name": "Python 3",
   "language": "python",
   "name": "python3"
  },
  "language_info": {
   "codemirror_mode": {
    "name": "ipython",
    "version": 3
   },
   "file_extension": ".py",
   "mimetype": "text/x-python",
   "name": "python",
   "nbconvert_exporter": "python",
   "pygments_lexer": "ipython3",
   "version": "3.5.2"
  }
 },
 "nbformat": 4,
 "nbformat_minor": 0
}
