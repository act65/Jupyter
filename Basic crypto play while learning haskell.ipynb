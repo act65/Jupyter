{
 "cells": [
  {
   "cell_type": "markdown",
   "metadata": {},
   "source": [
    "### A cesar cipher\n",
    "Just messing around...\n",
    "\n",
    "##### Attempt v0.1"
   ]
  },
  {
   "cell_type": "code",
   "execution_count": 63,
   "metadata": {
    "collapsed": false
   },
   "outputs": [
    {
     "data": {
      "text/plain": [
       "'b'"
      ]
     },
     "metadata": {},
     "output_type": "display_data"
    }
   ],
   "source": [
    "-- apply a list of functions recursivley to the same input\n",
    "-- f(f(... f(x) ...))\n",
    "mapfn :: [(Char->Char)] -> Char -> Char\n",
    "mapfn [] char = char\n",
    "mapfn (f:fs) char = \n",
    "    --just catch the char as it goes into other symbols, {}_#*$*%@...\n",
    "    if char == 'z' then mapfn fs 'a' else mapfn fs (f char)\n",
    "    \n",
    "\n",
    "-- test\n",
    "l = replicate 2 succ\n",
    "mapfn l 'z'"
   ]
  },
  {
   "cell_type": "code",
   "execution_count": 64,
   "metadata": {
    "collapsed": false
   },
   "outputs": [
    {
     "data": {
      "text/plain": [
       "'d'"
      ]
     },
     "metadata": {},
     "output_type": "display_data"
    }
   ],
   "source": [
    "iterChars :: Int -> Char -> Char\n",
    "iterChars n char = mapfn (replicate n succ) char\n",
    "\n",
    "-- test\n",
    "iterChars 3 'a'"
   ]
  },
  {
   "cell_type": "code",
   "execution_count": 65,
   "metadata": {
    "collapsed": false
   },
   "outputs": [
    {
     "data": {
      "text/plain": [
       "\"Kl#krz#duh#brx#grlqjB \""
      ]
     },
     "metadata": {},
     "output_type": "display_data"
    }
   ],
   "source": [
    "---The cesar cipher\n",
    "cesar ::  Int -> [Char] -> [Char]\n",
    "cesar x (c:rest) = iterChars x c : cesar x rest\n",
    "cesar x [] = [' ']\n",
    "\n",
    "--test\n",
    "cesar 3 \"Hi how are you doing?\"\n",
    "-- oh... what about puncuation\n",
    "-- capitals..."
   ]
  },
  {
   "cell_type": "code",
   "execution_count": 66,
   "metadata": {
    "collapsed": false
   },
   "outputs": [
    {
     "data": {
      "text/plain": [
       "\"licalexwcsyvreqi \""
      ]
     },
     "metadata": {},
     "output_type": "display_data"
    },
    {
     "data": {
      "text/plain": [
       "\"heywhatsyourname6 \""
      ]
     },
     "metadata": {},
     "output_type": "display_data"
    }
   ],
   "source": [
    "-- so lets see if we can decode a message\n",
    "message = cesar 4 \"heywhatsyourname\"\n",
    "message\n",
    "cesar 22 message\n",
    "-- huh? where did the 6 come from?"
   ]
  },
  {
   "cell_type": "code",
   "execution_count": 87,
   "metadata": {
    "collapsed": false
   },
   "outputs": [
    {
     "data": {
      "text/plain": [
       "[\"xiz \",\"yja \",\"zkb \",\"alc \",\"bmd \",\"cne \",\"dof \",\"epg \",\"fqh \",\"gri \",\"hsj \",\"itk \",\"jul \",\"kvm \",\"lwn \",\"mxo \",\"nyp \",\"ozq \",\"par \",\"qbs \",\"rct \",\"sdu \",\"tev \",\"ufw \",\"vgx \",\"why \"]"
      ]
     },
     "metadata": {},
     "output_type": "display_data"
    },
    {
     "data": {
      "text/plain": [
       "[\"xiz \",\"yja \",\"zkb \",\"alc \",\"bmd \",\"cne \",\"dof \",\"epg \",\"fqh \",\"gri \",\"hsj \",\"itk \",\"jul \",\"kvm \",\"lwn \",\"mxo \",\"nyp \",\"ozq \",\"par \",\"qbs \",\"rct \",\"sdu \",\"tev \",\"ufw \",\"vgx \",\"why \"]"
      ]
     },
     "metadata": {},
     "output_type": "display_data"
    }
   ],
   "source": [
    "nums = [1..26]\n",
    "-- iterate over different shift for a string\n",
    "-- surely there is a better way to do this using partial appications?\n",
    "-- i guess i could re order my arguments/currying?\n",
    "\n",
    "-- whywrapper :: Int -> String do i really need this, just good practice?\n",
    "-- so is it not a lambda? or at least doing the same thing...\n",
    "whywrapper n = cesar n \"why\"\n",
    "\n",
    "-- ah ok, that's an easier way to do partial application\n",
    "-- so that just reverses the arguments, but sometimes we might \n",
    "--want something in the middle\n",
    "newcesar = flip cesar \"why\"\n",
    "\n",
    "map whywrapper nums\n",
    "map newcesar nums"
   ]
  },
  {
   "cell_type": "markdown",
   "metadata": {},
   "source": [
    "Hmm... Not very elegant\n",
    "\n",
    "##### Attempt v0.2\n",
    "\n"
   ]
  }
 ],
 "metadata": {
  "kernelspec": {
   "display_name": "Haskell",
   "language": "haskell",
   "name": "haskell"
  },
  "language_info": {
   "codemirror_mode": "ihaskell",
   "file_extension": ".hs",
   "name": "haskell",
   "version": "7.10.3"
  }
 },
 "nbformat": 4,
 "nbformat_minor": 0
}
