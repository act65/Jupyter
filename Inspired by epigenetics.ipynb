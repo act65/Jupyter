{
 "cells": [
  {
   "cell_type": "markdown",
   "metadata": {},
   "source": [
    "So we have a functional system and a control system. Similar to transistors and the architecture of micro processors and how gene expression is regulated by DNA methylation.\n",
    "\n",
    "A neural network with an extra layer(s) of connections that determine the function of individual nodes.\n",
    "\n",
    "How is the function of individual nodes determined?\n",
    "* We could use genetic encodings? Thus allowing reproduction of \n",
    "* \n",
    "\n",
    "How does epigenetics learn from experience???!!!"
   ]
  },
  {
   "cell_type": "code",
   "execution_count": null,
   "metadata": {
    "collapsed": true
   },
   "outputs": [],
   "source": []
  }
 ],
 "metadata": {
  "kernelspec": {
   "display_name": "Python 3",
   "language": "python",
   "name": "python3"
  },
  "language_info": {
   "codemirror_mode": {
    "name": "ipython",
    "version": 3
   },
   "file_extension": ".py",
   "mimetype": "text/x-python",
   "name": "python",
   "nbconvert_exporter": "python",
   "pygments_lexer": "ipython3",
   "version": "3.4.3"
  }
 },
 "nbformat": 4,
 "nbformat_minor": 0
}
