{
 "cells": [
  {
   "cell_type": "markdown",
   "metadata": {},
   "source": [
    "\n",
    "\n",
    "\n",
    "### Examples/types\n",
    "\n",
    "* Which data (active learning)\n",
    "* How much computation per data (adaptive computation time)\n",
    "* \n",
    "\n",
    "\n",
    "### Questions/thoughts/ideas\n",
    "\n",
    "* Attention prediction\n",
    "    * predict where you should pay attention (data)?\n",
    "    * predict how much computation to allocate to a process\n",
    "    * predict the content of memory cells - sublinear memory addressing/search.\n",
    "    * \n",
    "* Predictive attention\n",
    "\n",
    "### Resources\n",
    "\n",
    "* http://www.wildml.com/2016/01/attention-and-memory-in-deep-learning-and-nlp/\n",
    "* https://www.tensorflow.org/versions/master/tutorials/seq2seq/index.html#sequence-to-sequence-models\n",
    "* http://distill.pub/2016/augmented-rnns/"
   ]
  }
 ],
 "metadata": {
  "kernelspec": {
   "display_name": "Python 3",
   "language": "python",
   "name": "python3"
  },
  "language_info": {
   "codemirror_mode": {
    "name": "ipython",
    "version": 3
   },
   "file_extension": ".py",
   "mimetype": "text/x-python",
   "name": "python",
   "nbconvert_exporter": "python",
   "pygments_lexer": "ipython3",
   "version": "3.5.2"
  }
 },
 "nbformat": 4,
 "nbformat_minor": 0
}
