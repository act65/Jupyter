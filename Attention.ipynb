{
 "cells": [
  {
   "cell_type": "markdown",
   "metadata": {},
   "source": [
    "\n",
    "### Questions\n",
    "\n",
    "* An attention mechanism to learn long term dependencies. What to remember and to train on.\n",
    "\n",
    "\n",
    "### Resources\n",
    "\n",
    "* http://www.wildml.com/2016/01/attention-and-memory-in-deep-learning-and-nlp/\n",
    "* https://www.tensorflow.org/versions/master/tutorials/seq2seq/index.html#sequence-to-sequence-models\n"
   ]
  }
 ],
 "metadata": {
  "kernelspec": {
   "display_name": "Python 3",
   "language": "python",
   "name": "python3"
  },
  "language_info": {
   "codemirror_mode": {
    "name": "ipython",
    "version": 3
   },
   "file_extension": ".py",
   "mimetype": "text/x-python",
   "name": "python",
   "nbconvert_exporter": "python",
   "pygments_lexer": "ipython3",
   "version": "3.5.1"
  }
 },
 "nbformat": 4,
 "nbformat_minor": 0
}
