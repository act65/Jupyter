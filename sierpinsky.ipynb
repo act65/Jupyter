{
 "cells": [
  {
   "cell_type": "code",
   "execution_count": 1,
   "metadata": {},
   "outputs": [],
   "source": [
    "import numpy as np\n",
    "\n",
    "import matplotlib.pyplot as plt"
   ]
  },
  {
   "cell_type": "code",
   "execution_count": 2,
   "metadata": {},
   "outputs": [],
   "source": [
    "class SierpinskiTriangle():\n",
    "    def __init__(self, n):\n",
    "        self.n = n\n",
    "        self.dic = {0:' ', 1:'^'}\n",
    "        \n",
    "        self.state = np.zeros(n)\n",
    "        self.state[n//2 - 1] = 1\n",
    "        \n",
    "        # could make a sparse matrix to be more efficient\n",
    "        self.G = np.zeros((n, n))\n",
    "        self.G[range(1,n), range(n-1)] = 1\n",
    "        self.G[range(n-1), range(1,n)] = -1\n",
    "        \n",
    "    def __repr__(self):\n",
    "        return ''.join([self.dic[s] for s in self.state])\n",
    "    \n",
    "    def step(self):\n",
    "        self.state = np.abs(np.dot(self.G, self.state))\n",
    "        \n",
    "    def show(self):\n",
    "        plt.imshow(self.G, interpolation='nearest', cmap='gray')"
   ]
  },
  {
   "cell_type": "code",
   "execution_count": 3,
   "metadata": {},
   "outputs": [
    {
     "data": {
      "image/png": "[encoded data removed]",
      "text/plain": [
       "<matplotlib.figure.Figure at 0x7f08e89ad5c0>"
      ]
     },
     "metadata": {},
     "output_type": "display_data"
    }
   ],
   "source": [
    "st = SierpinskiTriangle(64)\n",
    "st.show()\n",
    "# the transition graph"
   ]
  },
  {
   "cell_type": "code",
   "execution_count": 4,
   "metadata": {},
   "outputs": [
    {
     "name": "stdout",
     "output_type": "stream",
     "text": [
      "                               ^                                \n",
      "                              ^ ^                               \n",
      "                             ^   ^                              \n",
      "                            ^ ^ ^ ^                             \n",
      "                           ^       ^                            \n",
      "                          ^ ^     ^ ^                           \n",
      "                         ^   ^   ^   ^                          \n",
      "                        ^ ^ ^ ^ ^ ^ ^ ^                         \n",
      "                       ^               ^                        \n",
      "                      ^ ^             ^ ^                       \n",
      "                     ^   ^           ^   ^                      \n",
      "                    ^ ^ ^ ^         ^ ^ ^ ^                     \n",
      "                   ^       ^       ^       ^                    \n",
      "                  ^ ^     ^ ^     ^ ^     ^ ^                   \n",
      "                 ^   ^   ^   ^   ^   ^   ^   ^                  \n",
      "                ^ ^ ^ ^ ^ ^ ^ ^ ^ ^ ^ ^ ^ ^ ^ ^                 \n",
      "               ^                               ^                \n",
      "              ^ ^                             ^ ^               \n",
      "             ^   ^                           ^   ^              \n",
      "            ^ ^ ^ ^                         ^ ^ ^ ^             \n",
      "           ^       ^                       ^       ^            \n",
      "          ^ ^     ^ ^                     ^ ^     ^ ^           \n",
      "         ^   ^   ^   ^                   ^   ^   ^   ^          \n",
      "        ^ ^ ^ ^ ^ ^ ^ ^                 ^ ^ ^ ^ ^ ^ ^ ^         \n",
      "       ^               ^               ^               ^        \n",
      "      ^ ^             ^ ^             ^ ^             ^ ^       \n",
      "     ^   ^           ^   ^           ^   ^           ^   ^      \n",
      "    ^ ^ ^ ^         ^ ^ ^ ^         ^ ^ ^ ^         ^ ^ ^ ^     \n",
      "   ^       ^       ^       ^       ^       ^       ^       ^    \n",
      "  ^ ^     ^ ^     ^ ^     ^ ^     ^ ^     ^ ^     ^ ^     ^ ^   \n",
      " ^   ^   ^   ^   ^   ^   ^   ^   ^   ^   ^   ^   ^   ^   ^   ^  \n",
      "^ ^ ^ ^ ^ ^ ^ ^ ^ ^ ^ ^ ^ ^ ^ ^ ^ ^ ^ ^ ^ ^ ^ ^ ^ ^ ^ ^ ^ ^ ^ ^ \n"
     ]
    }
   ],
   "source": [
    "for i in range(32):\n",
    "    print(st)\n",
    "    st.step()"
   ]
  },
  {
   "cell_type": "code",
   "execution_count": null,
   "metadata": {},
   "outputs": [],
   "source": []
  },
  {
   "cell_type": "code",
   "execution_count": null,
   "metadata": {},
   "outputs": [],
   "source": [
    "\n"
   ]
  }
 ],
 "metadata": {
  "kernelspec": {
   "display_name": "Python 3",
   "language": "python",
   "name": "python3"
  },
  "language_info": {
   "codemirror_mode": {
    "name": "ipython",
    "version": 3
   },
   "file_extension": ".py",
   "mimetype": "text/x-python",
   "name": "python",
   "nbconvert_exporter": "python",
   "pygments_lexer": "ipython3",
   "version": "3.6.4"
  }
 },
 "nbformat": 4,
 "nbformat_minor": 2
}
