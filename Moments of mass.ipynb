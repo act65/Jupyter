{
 "cells": [
  {
   "cell_type": "markdown",
   "metadata": {},
   "source": [
    "## \n",
    "\n",
    "It turns out there is a good reason a discrete probability function is called a probability mass function. \n",
    "\n",
    "\n",
    "Some pics would be good.\n",
    "\n",
    "2nd moment (of intertia) should be the sum of positive things, as every bit of mass makes it harder to rotationally accelerate, regardles of position. (so we dont expect any to cencel out). -- what about with complex numbers?!?\n",
    "\n",
    "$$ \n",
    "\\begin{align}\n",
    "cov(x, y) &= \\mathbb E \\big[(X - \\mathbb E [X]) (Y - \\mathbb E [Y]) \\big] \\\\\n",
    "cov(x, x) &= \\mathbb E \\big[(x - \\mathbb E [x]) (X - \\mathbb E [x]) \\big] \\\\\n",
    "&= \\mathbb E[xx] - \\mathbb E[x]\\mathbb E [x] \\\\\n",
    "&= \\mathbb E[x^2] - \\mathbb E[x]^2 \\\\\n",
    "&\\approx X - \\sum_i x_i^2 \\\\\n",
    "\\end{align}\n",
    "$$\n"
   ]
  },
  {
   "cell_type": "code",
   "execution_count": null,
   "metadata": {
    "collapsed": true
   },
   "outputs": [],
   "source": []
  }
 ],
 "metadata": {
  "kernelspec": {
   "display_name": "Python 3",
   "language": "python",
   "name": "python3"
  },
  "language_info": {
   "codemirror_mode": {
    "name": "ipython",
    "version": 3
   },
   "file_extension": ".py",
   "mimetype": "text/x-python",
   "name": "python",
   "nbconvert_exporter": "python",
   "pygments_lexer": "ipython3",
   "version": "3.5.2"
  }
 },
 "nbformat": 4,
 "nbformat_minor": 1
}
