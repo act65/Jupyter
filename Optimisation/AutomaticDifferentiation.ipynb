{
 "cells": [
  {
   "cell_type": "markdown",
   "metadata": {},
   "source": [
    "> To do forward mode AD on a program, do a nonstandard interpretation of the program, as follows. Define “dual numbers” as formal truncated Taylor series of the form $x+\\epsilon x′x+\\epsilon x′$. Define arithmetic on dual numbers by $\\epsilon 2=0 \\epsilon 2=0$, and by interpreting any non-dual number $yy$ as $y+\\epsilon 0$\n",
    "\n",
    "http://alexey.radul.name/ideas/2013/introduction-to-automatic-differentiation/\n",
    "\n",
    "https://en.wikipedia.org/wiki/Automatic_differentiation"
   ]
  }
 ],
 "metadata": {
  "kernelspec": {
   "display_name": "Python 3",
   "language": "python",
   "name": "python3"
  },
  "language_info": {
   "codemirror_mode": {
    "name": "ipython",
    "version": 3
   },
   "file_extension": ".py",
   "mimetype": "text/x-python",
   "name": "python",
   "nbconvert_exporter": "python",
   "pygments_lexer": "ipython3",
   "version": "3.4.4"
  }
 },
 "nbformat": 4,
 "nbformat_minor": 0
}
