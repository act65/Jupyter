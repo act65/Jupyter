{
 "cells": [
  {
   "cell_type": "markdown",
   "metadata": {},
   "source": [
    "# Jacobians\n",
    "\n",
    "\n",
    "\n",
    "$H(f(x)) = J(\\nabla f(x))$\n",
    "but $J = \\nabla f(x)$ ? so therefore $H(f(x)) = J(J(f(x)) = \\nabla(\\nabla(f(x))$\n",
    "\n",
    "# Hessians\n",
    "\n",
    "Why do we need to compute the hessian? $\\frac{\\partial^2 f}{\\partial x_1 \\partial x_2}$? I though we were only interested in $\\frac{\\partial^2 f}{\\partial x_1^2 }$. Aka the diagonal of the hessian, which should be easier to invert/calculate? How can we use $\\frac{\\partial^2 f}{\\partial x_1 \\partial x_2}$ to update our weights?\n",
    "\n",
    "Does $\\frac{\\partial^2 f}{\\partial x_1 \\partial x_2} = \\frac{\\partial^2 f}{\\partial x_2 \\partial x_1}$??"
   ]
  }
 ],
 "metadata": {
  "kernelspec": {
   "display_name": "Python 3",
   "language": "python",
   "name": "python3"
  },
  "language_info": {
   "codemirror_mode": {
    "name": "ipython",
    "version": 3
   },
   "file_extension": ".py",
   "mimetype": "text/x-python",
   "name": "python",
   "nbconvert_exporter": "python",
   "pygments_lexer": "ipython3",
   "version": "3.5.1"
  }
 },
 "nbformat": 4,
 "nbformat_minor": 0
}
