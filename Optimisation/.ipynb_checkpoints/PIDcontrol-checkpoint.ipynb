{
 "cells": [
  {
   "cell_type": "markdown",
   "metadata": {},
   "source": [
    "## PID control\n",
    "\n",
    "$$\n",
    "\\mathrm{u}(t)=\\mathrm{MV}(t)=K_p{e(t)} + K_{i}\\int_{0}^{t}{e(\\tau)}\\,{d\\tau} + K_{d}\\frac{de(t)}{dt} \\\\\n",
    "$$\n",
    "\n",
    "How would we find/tune the parameters ( $K_p, K_{i}, K_{d}$)? Could we find derivates w.r.t them? But then how do we optimise them? With more $K_p, K_{i}, K_{d}$ parameters?\n",
    "\n",
    "\n",
    "Changing them over the epochs (instead of learning rates?). At the start we want high proportional control to get us near a solution quickly. \n",
    "\n",
    "$$\n",
    "\\Delta w_{ij}^t = K_P \\frac{\\partial \\mathcal{L}^t}{\\partial w_{ij}^t} + K_I \\sum_{0}^{k=t-1} \\Delta w_{ij}^k + K_{d} \\frac{\\partial^2 \\mathcal{L}^t}{(\\partial w_{ij}^t)^2}  \\\\\n",
    "$$"
   ]
  }
 ],
 "metadata": {
  "kernelspec": {
   "display_name": "Python 3",
   "language": "python",
   "name": "python3"
  },
  "language_info": {
   "codemirror_mode": {
    "name": "ipython",
    "version": 3
   },
   "file_extension": ".py",
   "mimetype": "text/x-python",
   "name": "python",
   "nbconvert_exporter": "python",
   "pygments_lexer": "ipython3",
   "version": "3.5.1"
  }
 },
 "nbformat": 4,
 "nbformat_minor": 0
}
