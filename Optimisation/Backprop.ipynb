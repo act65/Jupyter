{
 "cells": [
  {
   "cell_type": "markdown",
   "metadata": {},
   "source": [
    "Back propagation is the learning algorithm applied to almost all supervised neural networks. It uses data as a teacher and propagates errors made by the neural network (when compared with the teachers result) backward through the neural network. This backward propagation attempts to reduce the sources of error in the final result. Back prop is normally used with a gradient descent optimiser, but others can work more effectively.\n",
    "\n",
    "So first we will start with a simple two layer neural network."
   ]
  },
  {
   "cell_type": "code",
   "execution_count": 2,
   "metadata": {
    "collapsed": false
   },
   "outputs": [],
   "source": [
    "import numpy as np\n",
    "class Network():\n",
    "    def __init__(self,shape): #shape = (num inputs, num ouputs)    \n",
    "        self.weights = np.random.random(shape)\n",
    "        #add biases on the last layer - to ensure that output node can be activated with little input \n",
    "        self.biases = np.random.random(shape[-1]) \n",
    "         \n",
    "    def forward(self,x):\n",
    "        #take the input and pass it throuh the network giving the output\n",
    "        return logistic(np.dot(x,self.weights) + self.biases)\n",
    "    \n",
    "def logistic(z): #the logistic/sigmoid activation function\n",
    "    return 1/(1+np.exp(-z))"
   ]
  },
  {
   "cell_type": "markdown",
   "metadata": {},
   "source": [
    "So we want this neural network to learn from data. It needs to adapt itself from past experience to achieve some sort of goal. In this case we are setting its goal to be accuracy, when compared to some user defined function (represented in the data provided). The way we are going to adapt the net is to change the values of the weights and biases. \n",
    "\n",
    "But, how do we know how much to change the weights/biases, which direction the weights/biases need changing and which weights/biases need changing? If we could calculate how the error is effected by each weight/bias then changes required would be simple to determine.\n",
    "\n",
    "So, we could take the output given by this net and calculate the error w.r.t. an input-output pair given in the training data.\n",
    "\n",
    "Note that there are alternatives to how we could adapt the net.\n",
    "* Changing its structure by adding or removing nodes/neurons and edges/synapses (note that there is an implicit assumption that two nodes should only have one edge between them)\n",
    "* Using different activation functions\n",
    "* Using different aggregation functions (this is commonly not considered and the manhattan distance is genreally the default, the result of matrix multiplication)"
   ]
  },
  {
   "cell_type": "code",
   "execution_count": 3,
   "metadata": {
    "collapsed": false
   },
   "outputs": [
    {
     "name": "stdout",
     "output_type": "stream",
     "text": [
      "The neural nets result = [ 0.00545415]\n",
      "The error = [ 0.99454585]\n"
     ]
    }
   ],
   "source": [
    "#lets create a network with 5 inputs and 1 output\n",
    "Net = Network((5,1)) \n",
    "#set the input as\n",
    "input_values = [-5,1,0,3,-1] \n",
    "#and calculate\n",
    "out = Net.forward(input_values) \n",
    "print('The neural nets result = ' + str(out))\n",
    "\n",
    "#the expected result the given input\n",
    "target = [1]\n",
    "#thus the error\n",
    "error = target - out\n",
    "print('The error = '+ str(error))"
   ]
  },
  {
   "cell_type": "markdown",
   "metadata": {},
   "source": []
  },
  {
   "cell_type": "code",
   "execution_count": null,
   "metadata": {
    "collapsed": false
   },
   "outputs": [],
   "source": []
  },
  {
   "cell_type": "markdown",
   "metadata": {},
   "source": []
  },
  {
   "cell_type": "code",
   "execution_count": null,
   "metadata": {
    "collapsed": false
   },
   "outputs": [],
   "source": []
  },
  {
   "cell_type": "markdown",
   "metadata": {},
   "source": [
    "So, from this equation (2*error = (target-out)^2) we can see that the output of the net (which is dependent on the weights and biases) is related to the error. We could substitue in the equation for the output, in terms of states and weights, but this doesnt tell us how to change the weights. We need to differentiate.\n",
    "\n",
    "If we differentiate the equation for error w.r.t. output we get: d error/d out = target - out. (because it was squared we get this nice equation). So now we know how the error changes w.r.t. the output, but we want to know how the error changes w.r.t. a weight. ...(product rule???\n",
    "\n",
    "We can find how the input to a node, in a layer, changes w.r.t. to a single weight. As we know that: Input(to a node)= states of previous layer * weights connecting them. In 'forward()' it is shown as = np.dot(x,self.weights) + self.biases. Therefore, d input / d weight(i,j) = weight(i,j).\n",
    "\n",
    "\n",
    "Wha about the biases?"
   ]
  },
  {
   "cell_type": "code",
   "execution_count": null,
   "metadata": {
    "collapsed": true
   },
   "outputs": [],
   "source": []
  },
  {
   "cell_type": "code",
   "execution_count": null,
   "metadata": {
    "collapsed": true
   },
   "outputs": [],
   "source": []
  },
  {
   "cell_type": "code",
   "execution_count": 7,
   "metadata": {
    "collapsed": false
   },
   "outputs": [
    {
     "data": {
      "text/plain": [
       "<matplotlib.text.Text at 0x105d10438>"
      ]
     },
     "execution_count": 7,
     "metadata": {},
     "output_type": "execute_result"
    },
    {
     "data": {
      "image/png": "[encoded data removed]",
      "text/plain": [
       "<matplotlib.figure.Figure at 0x105cb3f98>"
      ]
     },
     "metadata": {},
     "output_type": "display_data"
    }
   ],
   "source": [
    "x = np.linspace(-15,15,51)\n",
    "y = logistic(x)\n",
    "z = np.exp(x)/((np.exp(x)  + 1)**2)\n",
    "plt.plot(x,y,c='g', label = ['sigmoid fn'])\n",
    "plt.plot(x,z/0.25,c= 'b',label = ['derivative'])\n",
    "plt.legend()\n",
    "plt.xlabel('Input')\n",
    "plt.xlabel('Output')"
   ]
  },
  {
   "cell_type": "code",
   "execution_count": null,
   "metadata": {
    "collapsed": true
   },
   "outputs": [],
   "source": []
  },
  {
   "cell_type": "code",
   "execution_count": null,
   "metadata": {
    "collapsed": true
   },
   "outputs": [],
   "source": []
  },
  {
   "cell_type": "code",
   "execution_count": null,
   "metadata": {
    "collapsed": true
   },
   "outputs": [],
   "source": []
  },
  {
   "cell_type": "markdown",
   "metadata": {},
   "source": [
    "In engineering controls, most controlled systems use a negative feedback loop to check that the outputs, or end states, of the system are close to user specified targets. A method for ensuring this is called PID control, which stands for proportional, derviative and integral control. Where the system is corrected by a proportional/derivative/integral foctor of the error. So back prop seems very similar to derivative control.\n",
    "\n",
    "My question is, can we pair derivative control with proportional and integral control to ensure faster learning rates, greater efficiency and/or increased accuracy."
   ]
  },
  {
   "cell_type": "code",
   "execution_count": null,
   "metadata": {
    "collapsed": true
   },
   "outputs": [],
   "source": []
  },
  {
   "cell_type": "markdown",
   "metadata": {},
   "source": [
    "Questions\n",
    "* What if we do not know the analytic/symbolic derivative of the activation function??\n",
    "* The saturation of logistic neurons.\n",
    "* What if the error formed a circle? Would this make it easier? As the gradient would always be nicely bounded?\n"
   ]
  },
  {
   "cell_type": "code",
   "execution_count": null,
   "metadata": {
    "collapsed": true
   },
   "outputs": [],
   "source": []
  }
 ],
 "metadata": {
  "kernelspec": {
   "display_name": "Python 3",
   "language": "python",
   "name": "python3"
  },
  "language_info": {
   "codemirror_mode": {
    "name": "ipython",
    "version": 3
   },
   "file_extension": ".py",
   "mimetype": "text/x-python",
   "name": "python",
   "nbconvert_exporter": "python",
   "pygments_lexer": "ipython3",
   "version": "3.4.4"
  }
 },
 "nbformat": 4,
 "nbformat_minor": 0
}
