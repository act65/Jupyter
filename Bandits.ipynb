{
 "cells": [
  {
   "cell_type": "markdown",
   "metadata": {},
   "source": [
    "> a gambler at a row of slot machines (sometimes known as \"one-armed bandits\") has to decide which machines to play, how many times to play each machine and in which order to play them. When played, each machine provides a random reward from a probability distribution specific to that machine. The objective of the gambler is to maximize the sum of rewards earned through a sequence of lever pulls. [Wikipedia](https://en.wikipedia.org/wiki/Multi-armed_bandit)\n",
    "\n",
    "So how is this different from the traditional setting?\n",
    "* Partial information\n",
    "* Rewards are independent\n",
    "\n",
    "So can we break this problem down into two smaller ones?\n",
    "What are harder problems?\n",
    "\n",
    "Also, as I am not a fan of stochastic vairables, I would like to reformulate the problem slightly. \n",
    "\n",
    "Instead of - \"_each machine provides a random reward from a probability distribution specific to that machine_\" - I would want - \"_each machine provides a reward based on some (complex) algorithm (and state?) specific to that machine_\". \n",
    "\n",
    "Giving pseudo-randomness through complexity/chaos.\n",
    "\n",
    "which frames the problem as a partial information, where you need to construct a model from your observations.\n",
    "\n",
    "### Exploitation\n",
    "\n",
    "\n",
    "\n",
    "### Exploration\n",
    "\n",
    "* What if N is very large? Aka, if it is unfeasible to search all bandits. \n",
    "* When do you know when to stop exploring? When you reach a bandit that gives 'good' rewards.\n",
    "* What is a 'good' reward? How can we be sure there are not better ones?"
   ]
  },
  {
   "cell_type": "markdown",
   "metadata": {},
   "source": [
    "# Questions\n",
    "* What if the bandits are allowed to collude against you?\n",
    "\n",
    "\n",
    "\n",
    "* contextual bandit problems - ah, like a state?\n",
    "* thompson sampling"
   ]
  }
 ],
 "metadata": {
  "kernelspec": {
   "display_name": "Python 3",
   "language": "python",
   "name": "python3"
  },
  "language_info": {
   "codemirror_mode": {
    "name": "ipython",
    "version": 3
   },
   "file_extension": ".py",
   "mimetype": "text/x-python",
   "name": "python",
   "nbconvert_exporter": "python",
   "pygments_lexer": "ipython3",
   "version": "3.5.2"
  }
 },
 "nbformat": 4,
 "nbformat_minor": 0
}
