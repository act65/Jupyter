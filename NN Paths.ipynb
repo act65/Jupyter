{
 "cells": [
  {
   "cell_type": "code",
   "execution_count": 1,
   "metadata": {
    "collapsed": true
   },
   "outputs": [],
   "source": [
    "import numpy as np"
   ]
  },
  {
   "cell_type": "code",
   "execution_count": 5,
   "metadata": {
    "collapsed": false
   },
   "outputs": [
    {
     "name": "stdout",
     "output_type": "stream",
     "text": [
      "Width = 64 Paths = 7840         \tDepth = 1 Paths = 7840\n",
      "Width = 128 Paths = 501760         \tDepth = 2 Paths = 501760\n",
      "Width = 192 Paths = 1003520         \tDepth = 3 Paths = 32112640\n",
      "Width = 256 Paths = 1505280         \tDepth = 4 Paths = 2055208960\n",
      "Width = 320 Paths = 2007040         \tDepth = 5 Paths = 131533373440\n",
      "Width = 384 Paths = 2508800         \tDepth = 6 Paths = 8418135900160\n",
      "Width = 448 Paths = 3010560         \tDepth = 7 Paths = 538760697610240\n",
      "Width = 512 Paths = 3512320         \tDepth = 8 Paths = 34480684647055360\n",
      "Width = 576 Paths = 4014080         \tDepth = 9 Paths = 2206763817411543040\n"
     ]
    }
   ],
   "source": [
    "inputs = 784\n",
    "outputs = 10\n",
    "width = depth = 1\n",
    "p = 64\n",
    "for i in range(1,10):\n",
    "    print('Width = {} Paths = {}         \\tDepth = {} Paths = {}'.format(\n",
    "            i*p,np.prod([inputs,width,outputs]),\n",
    "            i,np.prod([inputs,depth,outputs])))\n",
    "    #add p nodes each time\n",
    "    width += p if i != 1 else p-1\n",
    "    depth *= p"
   ]
  },
  {
   "cell_type": "markdown",
   "metadata": {},
   "source": [
    "That almost seems ridiculous. I should prove it more formally. Make a picture.\n",
    "\n",
    "\n",
    "## Questions\n",
    "* Does the computational complexity also increase with the number of paths? No, I dont think so? Why? A nice feature of its' linearity? Ok, so now we just need to show that more paths equals greater representative power? How?\n",
    "* So what does the non-linearity buy us? What can complex numbers buy us? A way to achieve non-linear interactions (entanglement, constructive and destructive interference) while remaining linear??\n",
    "\n",
    "\n",
    "Let W be some matrix of weights. Such that W = \n",
    "\n",
    "* For added width (of p nodes) we need an additional matmul by pxp.\n",
    "* For each added layer of depth (of p nodes) we are adding a matmul by pxp.\n",
    "(need to formulate more rigorously.)\n",
    "\n",
    "\n",
    "\n",
    "* Linear net $AB = C$\n",
    "* Complex linear net $AB \\neq C$ (???)"
   ]
  },
  {
   "cell_type": "markdown",
   "metadata": {},
   "source": [
    "hey, i was just having a play with paths in neural nets (taken from david's and choromanska's papers)and made some rather trivial observations, but maybe they are important?\n",
    "The number of paths in the net increases exponentially in depth, but not in width. (I think) the number of additional operations (ie from the matmuls) remains the same for both. It would be nice to relate the number of paths to expressive power, i.e. something like this.\n",
    "I dont think it makes much sense to think about the paths in a linear net as they all just collapse back down to a single layer, so the number of paths is somewhat irrelevant. But I think that using complex numbers may change this??? (Like how some two-qubit states - described by complex numbers - can't be written as the tensor product of one-qubit states, e.g. the EPR pair). Something about the way complex numbers can constructively/destructively interfere.\n",
    "Anyway, I am interested in purely linear nets, without non-linearities, as I am not sure they are necessary. This is somewhat inspired by the fact that transformations on quantum states is linear.\n",
    "Quantum physics has some great math on path integrals, I wonder if we can use any of that?"
   ]
  },
  {
   "cell_type": "code",
   "execution_count": null,
   "metadata": {
    "collapsed": true
   },
   "outputs": [],
   "source": []
  }
 ],
 "metadata": {
  "kernelspec": {
   "display_name": "Python 3",
   "language": "python",
   "name": "python3"
  },
  "language_info": {
   "codemirror_mode": {
    "name": "ipython",
    "version": 3
   },
   "file_extension": ".py",
   "mimetype": "text/x-python",
   "name": "python",
   "nbconvert_exporter": "python",
   "pygments_lexer": "ipython3",
   "version": "3.5.2"
  }
 },
 "nbformat": 4,
 "nbformat_minor": 0
}
