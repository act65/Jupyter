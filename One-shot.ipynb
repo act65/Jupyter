{
 "cells": [
  {
   "cell_type": "markdown",
   "metadata": {},
   "source": [
    "### One-shot learning\n",
    "\n",
    "Given a single instance of a class. Learn to discriminate all other instances of that class. What do we mean by discriminate? Just true/false of `is_class(x)`? Or predict a label given many? \n",
    "\n",
    "Damn. This just optimises the whole net in one step.\n",
    "\n",
    "Difference between one-shot and zero-shot (aka transfer learning?)??\n",
    "So one-shot learning is a types of semi-supervised learning.\n",
    "\n",
    "Metric-learning. What about parametric metric learning? aka parameterised metrics?\n",
    "\n",
    "### Predicting parameters\n",
    "\n",
    "* What about predicting/generating the whole architecture, rather than just parameters? (too much to learn?)\n",
    "    * Which architectures suit this best?\n",
    "    * \n",
    " \n",
    "\n",
    "These are all just ways of incorporating prior information. Learning/specialist; optimisers, regularisers, loss functions, ...\n",
    "\n",
    "\n",
    "It's just a skip conection??\n",
    "\n",
    "##### [Learning feed-forward one-shot learners](https://arxiv.org/abs/1606.05233) \n",
    "Actually a pretty dissapointing paper. Probably out of necessity they only predicted a couple of layers. And it was only the singluar values they predicted (so just a linear scaling). \n",
    "\n",
    "Also, I think this might be misleading. It predicts the parameters for some function. Which then is used to (do waht) ???  but will it remember this if we show it the same image again?\n",
    "\n",
    "I dont quite get how we are training/testing this algorithm.\n",
    "\n",
    " \n"
   ]
  },
  {
   "cell_type": "code",
   "execution_count": null,
   "metadata": {
    "collapsed": true
   },
   "outputs": [],
   "source": []
  }
 ],
 "metadata": {
  "kernelspec": {
   "display_name": "Python 3",
   "language": "python",
   "name": "python3"
  },
  "language_info": {
   "codemirror_mode": {
    "name": "ipython",
    "version": 3
   },
   "file_extension": ".py",
   "mimetype": "text/x-python",
   "name": "python",
   "nbconvert_exporter": "python",
   "pygments_lexer": "ipython3",
   "version": "3.5.1"
  }
 },
 "nbformat": 4,
 "nbformat_minor": 0
}
