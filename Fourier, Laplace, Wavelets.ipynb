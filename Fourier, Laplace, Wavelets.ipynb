{
 "cells": [
  {
   "cell_type": "markdown",
   "metadata": {},
   "source": [
    "# Fourier\n",
    "$$\\hat {f}(\\xi )=\\int _{-\\infty }^{+\\infty }f(x)\\ e^{-2\\pi ix\\xi }dx$$\n",
    "\n",
    "\n",
    "\n",
    "#### relation to uncertainy principle\n",
    "\n",
    "> Generally speaking, the more concentrated f(x) is, the more spread out its Fourier transform ${\\displaystyle {\\hat {f}}(\\xi )} {\\hat {f}}(\\xi )$ must be. In particular, the scaling property of the Fourier transform may be seen as saying: if we \"squeeze\" a function in x, its Fourier transform \"stretches out\" in $\\xi$. It is not possible to arbitrarily concentrate both a function and its Fourier transform."
   ]
  },
  {
   "cell_type": "markdown",
   "metadata": {},
   "source": [
    "### Fourier series\n",
    "\n"
   ]
  },
  {
   "cell_type": "markdown",
   "metadata": {},
   "source": [
    "### Convolution\n",
    "\n",
    "\n",
    "$$\n",
    "\\begin{align*}\n",
    "(f*g)(x)=\\int _{-\\infty }^{\\infty }f(y)g(x-y)\\,dy\\\\\n",
    "(f*g)(x) =\\hat f(\\xi )\\cdot \\hat g(\\xi ) \\\\\n",
    "(\\hat f*\\hat g)(\\xi) = f(x )\\cdot  g(x ) \\\\\n",
    "\\end{align*}\n",
    "$$\n",
    "\n",
    "(i should have a go at proving this)"
   ]
  },
  {
   "cell_type": "markdown",
   "metadata": {},
   "source": []
  },
  {
   "cell_type": "markdown",
   "metadata": {},
   "source": [
    "### Algorithms\n",
    "\n",
    "* Fast fourier ...\n",
    "* computational complexity??\n",
    "* multiplication with fourier?!?"
   ]
  },
  {
   "cell_type": "markdown",
   "metadata": {},
   "source": []
  },
  {
   "cell_type": "markdown",
   "metadata": {},
   "source": [
    "# Wavelets\n",
    "\n",
    "So a wavelet convolved with a signal will tell us if the wavelet is present in the signal. Aka pattern recognition. How could this be used intelligently to solve problems and learn?\n",
    "\n",
    "What if each neuron had a composition of wavelets associated with it. These could be trained through backpropagation to pick out patterns in the signals they recieve?\n",
    "\n",
    "If we have 3 neurons, A,B and C. Traditionally $ \\sigma (w_1A + w_2B)  = C$. But, if C convolves A and B together it will find ??? (similarities?) And this can be backpropagated? $ (A * B)t = C $\n",
    "\n",
    "\n",
    "If $(A * B)t = C $ and what does $(C * D) t = ??$ in terms of A and B? "
   ]
  },
  {
   "cell_type": "code",
   "execution_count": null,
   "metadata": {
    "collapsed": true
   },
   "outputs": [],
   "source": []
  }
 ],
 "metadata": {
  "kernelspec": {
   "display_name": "Python 3",
   "language": "python",
   "name": "python3"
  },
  "language_info": {
   "codemirror_mode": {
    "name": "ipython",
    "version": 3
   },
   "file_extension": ".py",
   "mimetype": "text/x-python",
   "name": "python",
   "nbconvert_exporter": "python",
   "pygments_lexer": "ipython3",
   "version": "3.5.2"
  }
 },
 "nbformat": 4,
 "nbformat_minor": 0
}
