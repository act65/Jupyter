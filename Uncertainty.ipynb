{
 "cells": [
  {
   "cell_type": "markdown",
   "metadata": {},
   "source": [
    "Uncertainty propagation. Backprop of uncertainty?\n",
    "\n",
    "\n",
    "\n",
    "### What is it?\n",
    "\n",
    "\n",
    "> Types.\n",
    "* Inherent stochasticity.\n",
    "* Incomplete observability.\n",
    "* Incomplete modeling. [Deeplearningbook](http://www.deeplearningbook.org/)\n",
    "\n",
    "\n",
    "### Why is it useful/important?\n",
    "\n",
    "\n",
    "\n",
    "\n",
    "# Questions\n",
    "\n",
    "* What is the relation to validated and probabilistic numerics?\n",
    "* How can we propagate uncertainty through computational graphs (efficiently and accurately)."
   ]
  }
 ],
 "metadata": {
  "kernelspec": {
   "display_name": "Python 3",
   "language": "python",
   "name": "python3"
  },
  "language_info": {
   "codemirror_mode": {
    "name": "ipython",
    "version": 3
   },
   "file_extension": ".py",
   "mimetype": "text/x-python",
   "name": "python",
   "nbconvert_exporter": "python",
   "pygments_lexer": "ipython3",
   "version": "3.5.1"
  }
 },
 "nbformat": 4,
 "nbformat_minor": 0
}
