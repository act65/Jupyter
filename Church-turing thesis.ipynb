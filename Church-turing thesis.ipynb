{
 "cells": [
  {
   "cell_type": "markdown",
   "metadata": {},
   "source": [
    "Which ever thesis that says that:\n",
    "\n",
    "* All solvable problems can be solved on a turing machine.\n",
    "* All _efficiently_ solvable problems can be _efficiently_ solved on a turing machine with constant over head.\n",
    "\n",
    "Why? Beacuse if we had a better solver/computer, we could simply simulate that on our turing machine  and then use our simulation to solve the problem.\n",
    "\n",
    "\n",
    "> So what I an saying is that; It is possible to do much worse than constant, depending on how you simulate.\n",
    "\n",
    "Hmm, I am not sold. I am skeptical of this.\n",
    "\n",
    "This simulation only ever requires constant over head because??\n",
    "\n",
    "What if we had a computer that changed itself in response to a problem. The a naive simulation would be for the turning machine to encode each change, rather than the process behind it. So what I an saying is that; It is possible to do much worse than constant, depending on how you simulate.\n",
    "\n",
    "\n",
    "So we are translating between two languages. What if one language is infinite? How could you ever translate from/to that?\n",
    "\n",
    "\n",
    "### Questions\n",
    "\n",
    "Wait a minute. Turing machines dont count the time it takes to look up an action given their state (???). It is just assumed to cost 1. But this means we could create an infinite table of if-then statements. But this isnt feasible in reality as we still have to search through each if-then to find the right one. So An algorithms complexity should also depend on ???.\n",
    "\n"
   ]
  }
 ],
 "metadata": {
  "kernelspec": {
   "display_name": "Python 3",
   "language": "python",
   "name": "python3"
  },
  "language_info": {
   "codemirror_mode": {
    "name": "ipython",
    "version": 3
   },
   "file_extension": ".py",
   "mimetype": "text/x-python",
   "name": "python",
   "nbconvert_exporter": "python",
   "pygments_lexer": "ipython3",
   "version": "3.5.1"
  }
 },
 "nbformat": 4,
 "nbformat_minor": 0
}
