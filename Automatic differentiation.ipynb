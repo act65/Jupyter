{
 "cells": [
  {
   "cell_type": "markdown",
   "metadata": {},
   "source": [
    "Automatic gradients are not calculated symbolically. Neither are the calculated empirically. What?! How the hell are they computed then?\n",
    "\n",
    "\n",
    "### Partial differentiation\n",
    "\n",
    "Ok, a quick review of this as I dont know as much as I thought I did... Feel free to skip this if you think you know it.\n",
    "\n",
    "When can we use $\\frac{df}{dx}$ vs $\\frac{\\partial f}{\\partial x}$? So the total derivative of a function is the sum (??) of all its derivatves with respect to its variables.\n",
    "\n",
    "\n",
    "And while I am at it, directional derivatives?\n",
    "\n",
    "\n"
   ]
  },
  {
   "cell_type": "markdown",
   "metadata": {},
   "source": [
    "### Automatic differentiation\n",
    "\n",
    "#### Notation\n",
    "* $x$ = inputs\n",
    "* $y$ = outputs\n",
    "* $f,g,h$ = functions\n",
    "* $z_i$ = intermediate variables\n",
    "* $z_i^X = \\frac{d z_i}{d X} $\n",
    "* $z_i^Y = \\frac{d z_i}{d Y} $\n",
    "\n",
    "\n",
    "\n",
    "$$\n",
    "z_0 = f(x), z_1 = g(X) \\\\\n",
    "z_2 = h(z_0,z_1) \\\\\n",
    "\\frac{d z_2}{d x} = \\frac{\\partial z_2}{\\partial z_0} \\frac{d z_0}{d x} + \\frac{\\partial z_2}{\\partial z_1} \\frac{d z_1}{d x}\\\\\n",
    "$$"
   ]
  },
  {
   "cell_type": "markdown",
   "metadata": {},
   "source": [
    "I cant remember where I saw it.\n",
    "\n",
    "They use a different type of algebra. So;\n",
    "* $x + y = z \\rightarrow (x + dx) + (y + dy) = (x + y) + (dx + dy) = z + dz$.\n",
    "* $xy = z \\rightarrow (x + dx)(y + dy) = (xy) + (dxdy) = z + dz$.\n",
    "    * still not sure how this one works\n",
    "* $f(x) = y \\rightarrow ???$\n",
    "\n",
    "The cool thing is that this algebra encodes the idea of the chain rule, ... Its grammar ? enforces the chain rule, as well as the usual binary operations."
   ]
  },
  {
   "cell_type": "markdown",
   "metadata": {},
   "source": [
    "http://math.stackexchange.com/questions/174270/what-exactly-is-the-difference-between-a-derivative-and-a-total-derivative"
   ]
  }
 ],
 "metadata": {
  "kernelspec": {
   "display_name": "Python 3",
   "language": "python",
   "name": "python3"
  },
  "language_info": {
   "codemirror_mode": {
    "name": "ipython",
    "version": 3
   },
   "file_extension": ".py",
   "mimetype": "text/x-python",
   "name": "python",
   "nbconvert_exporter": "python",
   "pygments_lexer": "ipython3",
   "version": "3.5.1"
  }
 },
 "nbformat": 4,
 "nbformat_minor": 0
}
