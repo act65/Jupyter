{
 "cells": [
  {
   "cell_type": "markdown",
   "metadata": {},
   "source": [
    "\n",
    "\n",
    "\n",
    "# Differentiation\n",
    "Ok, a quick review of this as I dont know as much as I thought I did... Feel free to skip this if you think you know it.\n",
    "### Partial vs total differentiation\n",
    "\n",
    "When can we use $\\frac{df}{dx}$ vs $\\frac{\\partial f}{\\partial x}$? So the total derivative of a function is the sum (??) of all its derivatves with respect to its variables.\n",
    "\n",
    "\n",
    "### Directional derivatives\n",
    "\n",
    "### Chain rule\n"
   ]
  },
  {
   "cell_type": "markdown",
   "metadata": {},
   "source": [
    "# Backprop\n",
    "\n",
    "Why is backprop efficient? (classic bait and switch)\n",
    "\n",
    "Contrast against forward prop."
   ]
  },
  {
   "cell_type": "markdown",
   "metadata": {},
   "source": [
    "# Automatic differentiation\n",
    "\n",
    "Forward vs backward -- applications?\n",
    "\n",
    "Automatic gradients are not calculated symbolically. Neither are the calculated empirically. What?! How the hell are they computed then?\n",
    "\n",
    "#### Notation\n",
    "* $x$ = inputs\n",
    "* $y$ = outputs\n",
    "* $f,g,h$ = functions\n",
    "* $z_i$ = intermediate variables\n",
    "* $z_i^X = \\frac{d z_i}{d X} $\n",
    "* $z_i^Y = \\frac{d z_i}{d Y} $\n",
    "\n",
    "### Definition\n",
    "\n",
    "\n",
    "Want - $f(x+\\epsilon x′)=f(x)+\\epsilon f′(x)x′$ - aka the chain rule?\n",
    "\n",
    "$$\n",
    "z_0 = f(x), z_1 = g(X) \\\\\n",
    "z_2 = h(z_0,z_1) \\\\\n",
    "\\frac{d z_2}{d x} = \\frac{\\partial z_2}{\\partial z_0} \\frac{d z_0}{d x} + \\frac{\\partial z_2}{\\partial z_1} \\frac{d z_1}{d x}\\\\\n",
    "$$\n",
    "\n",
    "I cant remember where I saw it.\n",
    "\n",
    "They use a different type of algebra. So;\n",
    "* $x + y = z \\rightarrow (x + dx) + (y + dy) = (x + y) + (dx + dy) = z + dz$.\n",
    "* $xy = z \\rightarrow (x + dx)(y + dy) = (xy) + (dxdy) = z + dz$.\n",
    "    * still not sure how this one works\n",
    "* $f(x) = y \\rightarrow ???$\n",
    "\n",
    "The cool thing is that this algebra encodes the idea of the chain rule, ... Its grammar ? enforces the chain rule, as well as the usual binary operations.\n",
    "\n",
    "### Dual numbers\n",
    "\n",
    "Look into this abit? The ring of real numbers and $\\epsilon$. Symmetries?\n"
   ]
  },
  {
   "cell_type": "markdown",
   "metadata": {},
   "source": [
    "# Resources\n",
    "\n",
    "### General derivatives\n",
    "* http://math.stackexchange.com/questions/174270/what-exactly-is-the-difference-between-a-derivative-and-a-total-derivative\n",
    "\n",
    "### Automatic differentiation\n",
    "* [Great intro](http://alexey.radul.name/ideas/2013/introduction-to-automatic-differentiation/)\n",
    "* http://conal.net/blog/posts/what-is-automatic-differentiation-and-why-does-it-work\n",
    "* http://conway.rutgers.edu/~ccshan/wiki/blog/posts/Differentiation/\n",
    "* http://blog.sigfpe.com/2005/07/automatic-differentiation.html\n",
    "\n",
    "* [Haskell implementation](http://www.danielbrice.net/blog/10/)\n",
    "\n",
    "### Other\n",
    "* https://en.wikipedia.org/wiki/Dual_number"
   ]
  },
  {
   "cell_type": "markdown",
   "metadata": {},
   "source": [
    "# Questions\n",
    "\n",
    "* What about integration?"
   ]
  }
 ],
 "metadata": {
  "kernelspec": {
   "display_name": "Python 3",
   "language": "python",
   "name": "python3"
  },
  "language_info": {
   "codemirror_mode": {
    "name": "ipython",
    "version": 3
   },
   "file_extension": ".py",
   "mimetype": "text/x-python",
   "name": "python",
   "nbconvert_exporter": "python",
   "pygments_lexer": "ipython3",
   "version": "3.5.1"
  }
 },
 "nbformat": 4,
 "nbformat_minor": 0
}
