{
 "cells": [
  {
   "cell_type": "markdown",
   "metadata": {},
   "source": [
    "* [Haskell implementation](http://www.danielbrice.net/blog/10/)\n",
    "* [Better haskell implementation](https://gist.github.com/tbepler/e776b74715705ad5cac6)\n",
    "* [Doubly Recursive Multivariate Automatic Differentiation](http://www1.american.edu/cas/mathstat/People/kalman/pdffiles/mmgautodiff.pdf)"
   ]
  },
  {
   "cell_type": "code",
   "execution_count": 21,
   "metadata": {
    "collapsed": false
   },
   "outputs": [
    {
     "data": {
      "text/plain": [
       "Dual {x = 8.0, dx = 2.0}"
      ]
     },
     "metadata": {},
     "output_type": "display_data"
    }
   ],
   "source": [
    "-- define Dual numbers to be a pair of numbers\n",
    "data Dual = Dual  {x :: Float, dx :: Float}  deriving (Show,Eq)\n",
    "-- overload operators/define algebra\n",
    "instance Num Dual where -- notation? dx or x'\n",
    "    (Dual x x') + (Dual y y') = Dual (x + y) (x' + y') -- sum rule\n",
    "    (Dual x x') - (Dual y y') = Dual (x - y) (x' - y') \n",
    "    (Dual x x') * (Dual y y') = Dual (x * y) (x * y' + x' * y) -- product rule\n",
    "instance Fractional Dual where\n",
    "    (Dual x x') / (Dual y y') = Dual (x / y) ((y * y' - x * x') / y*y) -- quotient rule\n",
    "    fromRational x = Dual (fromRational x) 0\n",
    "-- test\n",
    "let f x1 x2 = x1*x2 in f(Dual 4 1)(Dual 2 0)"
   ]
  },
  {
   "cell_type": "code",
   "execution_count": 22,
   "metadata": {
    "collapsed": false
   },
   "outputs": [
    {
     "data": {
      "text/plain": [
       "Dual {x = 0.5418116, dx = -19.252117}"
      ]
     },
     "metadata": {},
     "output_type": "display_data"
    }
   ],
   "source": [
    "-- overload elementary functions \n",
    "instance Floating Dual where \n",
    "    sin (Dual x x') = Dual (sin x) (x' * cos x) \n",
    "    cos (Dual x x') = Dual (cos x) (x' * (-(sin x))) \n",
    "    exp (Dual x x') = Dual (exp x) (x' * exp x)\n",
    "-- test\n",
    "let f x1 x2 = x2 * sin((x1 * x1) + 3.0) in f(Dual 5 1)(Dual 2 0) "
   ]
  },
  {
   "cell_type": "markdown",
   "metadata": {},
   "source": [
    "Cool, how about for a scalar variable with higher order derivatives? Want $(f,f',f'',f''', ... , f^n)$"
   ]
  },
  {
   "cell_type": "code",
   "execution_count": 23,
   "metadata": {
    "collapsed": false
   },
   "outputs": [
    {
     "data": {
      "text/plain": [
       "HigherOrder {x = 4.0, dx = HigherOrder {x = 2.0, dx = FirstOrder {_x = 1.0, _dx = 4.0}}}"
      ]
     },
     "metadata": {},
     "output_type": "display_data"
    },
    {
     "data": {
      "text/plain": [
       "4.0"
      ]
     },
     "metadata": {},
     "output_type": "display_data"
    }
   ],
   "source": [
    "data Dual = FirstOrder {_x::Float, _dx::Float} | HigherOrder {x::Float,dx:: Dual} deriving (Show,Eq)\n",
    "num = HigherOrder 4 (HigherOrder 2 (FirstOrder 1 4))\n",
    "num\n",
    "(_dx.dx.dx) num -- doesnt work for dx of firstorder"
   ]
  },
  {
   "cell_type": "code",
   "execution_count": 28,
   "metadata": {
    "collapsed": false
   },
   "outputs": [
    {
     "data": {
      "text/html": [
       "<style>/* Styles used for the Hoogle display in the pager */\n",
       ".hoogle-doc {\n",
       "display: block;\n",
       "padding-bottom: 1.3em;\n",
       "padding-left: 0.4em;\n",
       "}\n",
       ".hoogle-code {\n",
       "display: block;\n",
       "font-family: monospace;\n",
       "white-space: pre;\n",
       "}\n",
       ".hoogle-text {\n",
       "display: block;\n",
       "}\n",
       ".hoogle-name {\n",
       "color: green;\n",
       "font-weight: bold;\n",
       "}\n",
       ".hoogle-head {\n",
       "font-weight: bold;\n",
       "}\n",
       ".hoogle-sub {\n",
       "display: block;\n",
       "margin-left: 0.4em;\n",
       "}\n",
       ".hoogle-package {\n",
       "font-weight: bold;\n",
       "font-style: italic;\n",
       "}\n",
       ".hoogle-module {\n",
       "font-weight: bold;\n",
       "}\n",
       ".hoogle-class {\n",
       "font-weight: bold;\n",
       "}\n",
       ".get-type {\n",
       "color: green;\n",
       "font-weight: bold;\n",
       "font-family: monospace;\n",
       "display: block;\n",
       "white-space: pre-wrap;\n",
       "}\n",
       ".show-type {\n",
       "color: green;\n",
       "font-weight: bold;\n",
       "font-family: monospace;\n",
       "margin-left: 1em;\n",
       "}\n",
       ".mono {\n",
       "font-family: monospace;\n",
       "display: block;\n",
       "}\n",
       ".err-msg {\n",
       "color: red;\n",
       "font-style: italic;\n",
       "font-family: monospace;\n",
       "white-space: pre;\n",
       "display: block;\n",
       "}\n",
       "#unshowable {\n",
       "color: red;\n",
       "font-weight: bold;\n",
       "}\n",
       ".err-msg.in.collapse {\n",
       "padding-top: 0.7em;\n",
       "}\n",
       ".highlight-code {\n",
       "white-space: pre;\n",
       "font-family: monospace;\n",
       "}\n",
       ".suggestion-warning { \n",
       "font-weight: bold;\n",
       "color: rgb(200, 130, 0);\n",
       "}\n",
       ".suggestion-error { \n",
       "font-weight: bold;\n",
       "color: red;\n",
       "}\n",
       ".suggestion-name {\n",
       "font-weight: bold;\n",
       "}\n",
       "</style><span class='err-msg'>Parse error (line 1, column 20): parse error on input ‘|’</span>"
      ],
      "text/plain": [
       "Parse error (line 1, column 20): parse error on input ‘|’"
      ]
     },
     "metadata": {},
     "output_type": "display_data"
    }
   ],
   "source": [
    "makeconst :: (Dual | Float)->Int->Dual -- first argument can be a dual or a float ?!?!\n",
    "makeconst val 0 = Dual val 0\n",
    "makeconst val order = makeconst (Dual val 0) (order-1)"
   ]
  },
  {
   "cell_type": "code",
   "execution_count": 13,
   "metadata": {
    "collapsed": false
   },
   "outputs": [
    {
     "data": {
      "text/plain": [
       "3"
      ]
     },
     "metadata": {},
     "output_type": "display_data"
    }
   ],
   "source": [
    "--DS(n,m) = DS(n−1,m) × DS(n,m−1)\n",
    "data DS = Leaf a | Branch (Tree a) (Tree a)\n",
    "\n",
    "instance DS where\n",
    "    0 m = "
   ]
  },
  {
   "cell_type": "code",
   "execution_count": null,
   "metadata": {
    "collapsed": true
   },
   "outputs": [],
   "source": [
    "\n",
    "add :: DS -> DS -> DS\n",
    "add x y\n",
    "    if var x == 0 then\n",
    "    if ord y == 0 then\n",
    "    otherwise add (get x) ()\n",
    "\n",
    "\n",
    "op_map :: (DS->DS) -> DS -> DS -> DS -- pass a handle to the function"
   ]
  }
 ],
 "metadata": {
  "kernelspec": {
   "display_name": "Haskell",
   "language": "haskell",
   "name": "haskell"
  },
  "language_info": {
   "codemirror_mode": "ihaskell",
   "file_extension": ".hs",
   "name": "haskell",
   "version": "7.10.3"
  }
 },
 "nbformat": 4,
 "nbformat_minor": 0
}
