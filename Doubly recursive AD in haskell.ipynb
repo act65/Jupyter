{
 "cells": [
  {
   "cell_type": "markdown",
   "metadata": {},
   "source": [
    "[Haskell implementation](http://www.danielbrice.net/blog/10/)\n",
    "\n",
    "[Doubly Recursive Multivariate Automatic Differentiation](http://www1.american.edu/cas/mathstat/People/kalman/pdffiles/mmgautodiff.pdf)"
   ]
  },
  {
   "cell_type": "code",
   "execution_count": 8,
   "metadata": {
    "collapsed": false
   },
   "outputs": [
    {
     "data": {
      "text/plain": [
       "Dual {x = 8.0, dx = 2.0}"
      ]
     },
     "metadata": {},
     "output_type": "display_data"
    }
   ],
   "source": [
    "-- define Dual numbers to be a pair of numbers\n",
    "data Dual = Dual  {x :: Float, dx :: Float}  deriving (Show,Eq)\n",
    "-- overload operators/define algebra\n",
    "instance Num Dual where -- notation? dx or x'\n",
    "    (Dual x x') + (Dual y y') = Dual (x + y) (x' + y') -- sum rule\n",
    "    (Dual x x') - (Dual y y') = Dual (x - y) (x' - y') \n",
    "    (Dual x x') * (Dual y y') = Dual (x * y) (x * y' + x' * y) -- product rule\n",
    "instance Fractional Dual where\n",
    "    (Dual x x') / (Dual y y') = Dual (x / y) ((y * y' - x * x') / y*y) -- quotient rule\n",
    "    fromRational x = Dual (fromRational x) 0\n",
    "-- test\n",
    "let f x1 x2 = x1*x2 in f(Dual 4 1)(Dual 2 0)"
   ]
  },
  {
   "cell_type": "code",
   "execution_count": 9,
   "metadata": {
    "collapsed": false
   },
   "outputs": [
    {
     "data": {
      "text/plain": [
       "Dual {x = 0.5418116, dx = -19.252117}"
      ]
     },
     "metadata": {},
     "output_type": "display_data"
    }
   ],
   "source": [
    "-- overload elementary functions \n",
    "instance Floating Dual where \n",
    "    sin (Dual x x') = Dual (sin x) (x' * cos x) \n",
    "    cos (Dual x x') = Dual (cos x) (x' * (-(sin x))) \n",
    "    exp (Dual x x') = Dual (exp x) (x' * exp x)\n",
    "-- test\n",
    "let f x1 x2 = x2 * sin((x1 * x1) + 3.0) in f(Dual 5 1)(Dual 2 0) "
   ]
  },
  {
   "cell_type": "markdown",
   "metadata": {},
   "source": [
    "Cool, how about for a scalar variable with higher order derivatives? Want $(f,f',f'',f''', ... , f^n)$"
   ]
  },
  {
   "cell_type": "code",
   "execution_count": 10,
   "metadata": {
    "collapsed": false
   },
   "outputs": [
    {
     "data": {
      "text/plain": [
       "HigherOrder 4.0 (HigherOrder 2.0 (FirstOrder {x = 1.0, d = 4.0}))"
      ]
     },
     "metadata": {},
     "output_type": "display_data"
    }
   ],
   "source": [
    "data Dual = FirstOrder {x::Float, d::Float} | HigherOrder Float Dual deriving (Show,Eq)\n",
    "HigherOrder 4 (HigherOrder 2 (FirstOrder 1 4))"
   ]
  }
 ],
 "metadata": {
  "kernelspec": {
   "display_name": "Haskell",
   "language": "haskell",
   "name": "haskell"
  },
  "language_info": {
   "codemirror_mode": "ihaskell",
   "file_extension": ".hs",
   "name": "haskell",
   "version": "7.10.3"
  }
 },
 "nbformat": 4,
 "nbformat_minor": 0
}
