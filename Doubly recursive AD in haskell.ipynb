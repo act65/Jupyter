{
 "cells": [
  {
   "cell_type": "markdown",
   "metadata": {},
   "source": [
    "* [Haskell implementation](http://www.danielbrice.net/blog/10/)\n",
    "* [Better haskell implementation](https://gist.github.com/tbepler/e776b74715705ad5cac6)\n",
    "* [Doubly Recursive Multivariate Automatic Differentiation](http://www1.american.edu/cas/mathstat/People/kalman/pdffiles/mmgautodiff.pdf)\n",
    "\n",
    "Doubly recursive. What does this mean here? So we are recursing through the higher order derivatives, as well as the variables?\n",
    "\n",
    "![pic](_Images/RecursiveDuals.png)"
   ]
  },
  {
   "cell_type": "code",
   "execution_count": 18,
   "metadata": {
    "collapsed": false
   },
   "outputs": [
    {
     "data": {
      "text/plain": [
       "Dual {x = 8.0, dx = 2.0}"
      ]
     },
     "metadata": {},
     "output_type": "display_data"
    }
   ],
   "source": [
    "-- define Dual numbers to be a pair of numbers\n",
    "data Dual = Dual  {x :: Float, dx :: Float}  deriving (Show,Eq)\n",
    "-- overload operators/define algebra\n",
    "instance Num Dual where -- notation? dx or x'\n",
    "    (Dual x x') + (Dual y y') = Dual (x + y) (x' + y') -- sum rule\n",
    "    (Dual x x') - (Dual y y') = Dual (x - y) (x' - y') \n",
    "    (Dual x x') * (Dual y y') = Dual (x * y) (x * y' + x' * y) -- product rule\n",
    "instance Fractional Dual where\n",
    "    (Dual x x') / (Dual y y') = Dual (x / y) ((y * y' - x * x') / y*y) -- quotient rule\n",
    "    fromRational x = Dual (fromRational x) 0\n",
    "-- test\n",
    "let f x1 x2 = x1*x2 in f(Dual 4 1)(Dual 2 0)"
   ]
  },
  {
   "cell_type": "code",
   "execution_count": 19,
   "metadata": {
    "collapsed": false
   },
   "outputs": [
    {
     "data": {
      "text/plain": [
       "Dual {x = 0.5418116, dx = -19.252117}"
      ]
     },
     "metadata": {},
     "output_type": "display_data"
    }
   ],
   "source": [
    "-- overload elementary functions \n",
    "instance Floating Dual where \n",
    "    sin (Dual x x') = Dual (sin x) (x' * cos x) \n",
    "    cos (Dual x x') = Dual (cos x) (x' * (-(sin x))) \n",
    "    exp (Dual x x') = Dual (exp x) (x' * exp x)\n",
    "-- test\n",
    "let f x1 x2 = x2 * sin((x1 * x1) + 3.0) in f(Dual 5 1)(Dual 2 0) "
   ]
  },
  {
   "cell_type": "code",
   "execution_count": 47,
   "metadata": {
    "collapsed": false
   },
   "outputs": [
    {
     "data": {
      "text/html": [
       "<style>/* Styles used for the Hoogle display in the pager */\n",
       ".hoogle-doc {\n",
       "display: block;\n",
       "padding-bottom: 1.3em;\n",
       "padding-left: 0.4em;\n",
       "}\n",
       ".hoogle-code {\n",
       "display: block;\n",
       "font-family: monospace;\n",
       "white-space: pre;\n",
       "}\n",
       ".hoogle-text {\n",
       "display: block;\n",
       "}\n",
       ".hoogle-name {\n",
       "color: green;\n",
       "font-weight: bold;\n",
       "}\n",
       ".hoogle-head {\n",
       "font-weight: bold;\n",
       "}\n",
       ".hoogle-sub {\n",
       "display: block;\n",
       "margin-left: 0.4em;\n",
       "}\n",
       ".hoogle-package {\n",
       "font-weight: bold;\n",
       "font-style: italic;\n",
       "}\n",
       ".hoogle-module {\n",
       "font-weight: bold;\n",
       "}\n",
       ".hoogle-class {\n",
       "font-weight: bold;\n",
       "}\n",
       ".get-type {\n",
       "color: green;\n",
       "font-weight: bold;\n",
       "font-family: monospace;\n",
       "display: block;\n",
       "white-space: pre-wrap;\n",
       "}\n",
       ".show-type {\n",
       "color: green;\n",
       "font-weight: bold;\n",
       "font-family: monospace;\n",
       "margin-left: 1em;\n",
       "}\n",
       ".mono {\n",
       "font-family: monospace;\n",
       "display: block;\n",
       "}\n",
       ".err-msg {\n",
       "color: red;\n",
       "font-style: italic;\n",
       "font-family: monospace;\n",
       "white-space: pre;\n",
       "display: block;\n",
       "}\n",
       "#unshowable {\n",
       "color: red;\n",
       "font-weight: bold;\n",
       "}\n",
       ".err-msg.in.collapse {\n",
       "padding-top: 0.7em;\n",
       "}\n",
       ".highlight-code {\n",
       "white-space: pre;\n",
       "font-family: monospace;\n",
       "}\n",
       ".suggestion-warning { \n",
       "font-weight: bold;\n",
       "color: rgb(200, 130, 0);\n",
       "}\n",
       ".suggestion-error { \n",
       "font-weight: bold;\n",
       "color: red;\n",
       "}\n",
       ".suggestion-name {\n",
       "font-weight: bold;\n",
       "}\n",
       "</style><span class='err-msg'>Couldn't match expected type ‘Float’ with actual type ‘Dual’<br/>In the second argument of ‘Dual’, namely ‘(Dual 2 3)’<br/>In the first argument of ‘dx’, namely ‘(Dual 5 (Dual 2 3))’</span>"
      ],
      "text/plain": [
       "Couldn't match expected type ‘Float’ with actual type ‘Dual’\n",
       "In the second argument of ‘Dual’, namely ‘(Dual 2 3)’\n",
       "In the first argument of ‘dx’, namely ‘(Dual 5 (Dual 2 3))’"
      ]
     },
     "metadata": {},
     "output_type": "display_data"
    }
   ],
   "source": [
    "dx (Dual 5 (Dual 2 3))"
   ]
  },
  {
   "cell_type": "code",
   "execution_count": 53,
   "metadata": {
    "collapsed": false
   },
   "outputs": [
    {
     "data": {
      "text/plain": [
       "Node 5 (Node 4 (Leaf 1) (Node 3 (Leaf 1) (Node 2 (Leaf 1) (Leaf 1)))) (Node 4 (Node 3 (Leaf 1) (Node 2 (Leaf 1) (Leaf 1))) (Node 3 (Node 2 (Leaf 1) (Leaf 1)) (Leaf 1)))"
      ]
     },
     "metadata": {},
     "output_type": "display_data"
    }
   ],
   "source": [
    "--DS(n,m) = DS(n−1,m) × DS(n,m−1)\n",
    "data Tree a = Leaf a | Node a (Tree a) (Tree a) deriving (Show, Eq)\n",
    "\n",
    "ds :: Integral a =>  a -> a -> Tree a\n",
    "ds 0 _ = Leaf 1\n",
    "ds _ 0 = Leaf 1\n",
    "ds n m = Node (n+m) (ds (n-1) m) (ds n (m-1))\n",
    "\n",
    "ds 2 3"
   ]
  },
  {
   "cell_type": "markdown",
   "metadata": {},
   "source": [
    "A new definition to do what dual numbers do in 1D with 1st order derivatives. \n",
    "$DS(n,m) = DS(n−1,m) × DS(n,m−1)$\n",
    "\n",
    "\n",
    "i.e. if $f(x) \\rightarrow (f(x), \\frac{df}{dx})$, where $f(x) = DS(n-1,m) = DS(0,1)$ and $DS(n,m-1) = DS(1,0)= \\frac{df}{dx}$\n",
    "\n",
    "hmm. notation doesnt make sense?!?!?"
   ]
  },
  {
   "cell_type": "code",
   "execution_count": 46,
   "metadata": {
    "collapsed": false
   },
   "outputs": [
    {
     "data": {
      "text/html": [
       "<style>/* Styles used for the Hoogle display in the pager */\n",
       ".hoogle-doc {\n",
       "display: block;\n",
       "padding-bottom: 1.3em;\n",
       "padding-left: 0.4em;\n",
       "}\n",
       ".hoogle-code {\n",
       "display: block;\n",
       "font-family: monospace;\n",
       "white-space: pre;\n",
       "}\n",
       ".hoogle-text {\n",
       "display: block;\n",
       "}\n",
       ".hoogle-name {\n",
       "color: green;\n",
       "font-weight: bold;\n",
       "}\n",
       ".hoogle-head {\n",
       "font-weight: bold;\n",
       "}\n",
       ".hoogle-sub {\n",
       "display: block;\n",
       "margin-left: 0.4em;\n",
       "}\n",
       ".hoogle-package {\n",
       "font-weight: bold;\n",
       "font-style: italic;\n",
       "}\n",
       ".hoogle-module {\n",
       "font-weight: bold;\n",
       "}\n",
       ".hoogle-class {\n",
       "font-weight: bold;\n",
       "}\n",
       ".get-type {\n",
       "color: green;\n",
       "font-weight: bold;\n",
       "font-family: monospace;\n",
       "display: block;\n",
       "white-space: pre-wrap;\n",
       "}\n",
       ".show-type {\n",
       "color: green;\n",
       "font-weight: bold;\n",
       "font-family: monospace;\n",
       "margin-left: 1em;\n",
       "}\n",
       ".mono {\n",
       "font-family: monospace;\n",
       "display: block;\n",
       "}\n",
       ".err-msg {\n",
       "color: red;\n",
       "font-style: italic;\n",
       "font-family: monospace;\n",
       "white-space: pre;\n",
       "display: block;\n",
       "}\n",
       "#unshowable {\n",
       "color: red;\n",
       "font-weight: bold;\n",
       "}\n",
       ".err-msg.in.collapse {\n",
       "padding-top: 0.7em;\n",
       "}\n",
       ".highlight-code {\n",
       "white-space: pre;\n",
       "font-family: monospace;\n",
       "}\n",
       ".suggestion-warning { \n",
       "font-weight: bold;\n",
       "color: rgb(200, 130, 0);\n",
       "}\n",
       ".suggestion-error { \n",
       "font-weight: bold;\n",
       "color: red;\n",
       "}\n",
       ".suggestion-name {\n",
       "font-weight: bold;\n",
       "}\n",
       "</style><span class='err-msg'>Couldn't match expected type ‘Dual’ with actual type ‘Float’<br/>In the first argument of ‘IHaskell504.Leaf’, namely ‘(dx d)’<br/>In the expression: interactive:IHaskell504.Leaf (dx d)<br/><br/>Couldn't match expected type ‘Dual’ with actual type ‘Float’<br/>In the first argument of ‘IHaskell504.Leaf’, namely ‘(dx d)’<br/>In the expression: interactive:IHaskell504.Leaf (dx d)</span>"
      ],
      "text/plain": [
       "Couldn't match expected type ‘Dual’ with actual type ‘Float’\n",
       "In the first argument of ‘interactive:Ghci504.Leaf’, namely ‘(dx d)’\n",
       "In the expression: interactive:Ghci504.Leaf (dx d)\n",
       "\n",
       "Couldn't match expected type ‘Dual’ with actual type ‘Float’\n",
       "In the first argument of ‘interactive:Ghci504.Leaf’, namely ‘(dx d)’\n",
       "In the expression: interactive:Ghci504.Leaf (dx d)"
      ]
     },
     "metadata": {},
     "output_type": "display_data"
    }
   ],
   "source": [
    "--DS(n,m) = DS(n−1,m) × DS(n,m−1)\n",
    "data Tree a = Leaf a | Node a (Tree a) (Tree a) deriving (Show, Eq)\n",
    "\n",
    "ds :: Integral a => Dual -> a -> a -> Tree Dual\n",
    "ds d 0 _ = Leaf (dx d)\n",
    "ds d _ 0 = Leaf (dx d)\n",
    "ds d n m = Node (Dual (dx d) 1) (ds (Dual (dx d) 1) (n-1) m) (ds (Dual (dx d) 1) n (m-1))\n",
    "\n",
    "--ds (Dual 3 4) 2 3"
   ]
  },
  {
   "cell_type": "code",
   "execution_count": null,
   "metadata": {
    "collapsed": true
   },
   "outputs": [],
   "source": [
    "add :: DS -> DS -> DS\n",
    "add x y\n",
    "    if var x == 0 then\n",
    "    if ord y == 0 then\n",
    "    otherwise add (get x) ()\n",
    "\n",
    "\n",
    "op_map :: (DS->DS) -> DS -> DS -> DS -- pass a handle to the function"
   ]
  }
 ],
 "metadata": {
  "kernelspec": {
   "display_name": "Haskell",
   "language": "haskell",
   "name": "haskell"
  },
  "language_info": {
   "codemirror_mode": "ihaskell",
   "file_extension": ".hs",
   "name": "haskell",
   "version": "7.10.3"
  }
 },
 "nbformat": 4,
 "nbformat_minor": 0
}
