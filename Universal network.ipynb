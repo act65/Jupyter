{
 "cells": [
  {
   "cell_type": "markdown",
   "metadata": {},
   "source": [
    "Is it possible to make a universal machine from a network? What is the minimum set of topological constraints needed? \n",
    "\n",
    "Currently, there have been two interesting attempts, these serve as function aproximators. A large lookup table (size determines accuracy) using multilayer neural networks as step functions (Nielsen) and a fourier approximator using cosine squashing functions (???)\n",
    "\n",
    "My hypothesis is, the logistic function, diffenetials, integrals, cosines, step functions, laplace transforms, fourier series, ... are decompsable into relatively simple network functions that rely on a smaller fundamental set of constraints (activation function, aggregation function, ...)."
   ]
  },
  {
   "cell_type": "code",
   "execution_count": null,
   "metadata": {
    "collapsed": true
   },
   "outputs": [],
   "source": []
  }
 ],
 "metadata": {
  "kernelspec": {
   "display_name": "Python 3",
   "language": "python",
   "name": "python3"
  },
  "language_info": {
   "codemirror_mode": {
    "name": "ipython",
    "version": 3
   },
   "file_extension": ".py",
   "mimetype": "text/x-python",
   "name": "python",
   "nbconvert_exporter": "python",
   "pygments_lexer": "ipython3",
   "version": "3.4.3"
  }
 },
 "nbformat": 4,
 "nbformat_minor": 0
}
