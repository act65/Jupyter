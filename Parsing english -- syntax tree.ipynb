{
 "cells": [
  {
   "cell_type": "markdown",
   "metadata": {},
   "source": [
    "https://en.wikipedia.org/wiki/Parse_tree\n",
    "\n",
    "Need to learn better grammer... This might help.\n",
    "Also, investigate how the structure of language relates to its function.\n",
    "\n",
    "This is kinda interesting.\n",
    "* Start by defining a bunch of `types/words`.\n",
    "* then define the `algebra/syntax` over the types\n",
    "\n",
    "These types are mutually exclusive within each super class (function, category, meaning) but not between superclasses. E.g. we can have a name, Alex, (meaning type <- not sure about this?), that is a noun (category type) and is a determiner within a sentence (Alex's hat). But we cannot have Alex, the noun and Alex the verb. Or Alex the person and Alex the place. (well actually we can, but ?!?!)"
   ]
  },
  {
   "cell_type": "code",
   "execution_count": null,
   "metadata": {
    "collapsed": true
   },
   "outputs": [],
   "source": [
    "class FunctionTypes():\n",
    "    \"\"\"\n",
    "    Determiner, modifier, ?!?\n",
    "    \"\"\"\n",
    "    pass\n",
    "\n",
    "class CategoryTypes():\n",
    "    \"\"\"\n",
    "    Nouns, verbs, ...\n",
    "    \"\"\"\n",
    "    pass \n",
    "\n",
    "class MeaningTypes():\n",
    "    \"\"\"\n",
    "    Person, place, thing, ...\n",
    "    \"\"\"\n",
    "    pass"
   ]
  }
 ],
 "metadata": {
  "kernelspec": {
   "display_name": "Python 3",
   "language": "python",
   "name": "python3"
  },
  "language_info": {
   "codemirror_mode": {
    "name": "ipython",
    "version": 3
   },
   "file_extension": ".py",
   "mimetype": "text/x-python",
   "name": "python",
   "nbconvert_exporter": "python",
   "pygments_lexer": "ipython3",
   "version": "3.5.1"
  }
 },
 "nbformat": 4,
 "nbformat_minor": 0
}
