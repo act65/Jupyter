{
 "cells": [
  {
   "cell_type": "markdown",
   "metadata": {},
   "source": [
    "# Why?\n",
    "\n",
    "* Recursive chain rule means we dont have exploding complexity?\n",
    "* \n"
   ]
  },
  {
   "cell_type": "markdown",
   "metadata": {},
   "source": [
    "# What?\n",
    "\n",
    "Keep track of transforms on our inputs.\n",
    "\n",
    "Automatic gradients are not calculated symbolically. Neither are the calculated empirically. What?! How the hell are they computed then?\n",
    "\n",
    "Forward vs backward -- applications?\n",
    "\n",
    "\n",
    "\n",
    "\n",
    "### Definition\n",
    "\n",
    "\n",
    "Want - $f(x+\\epsilon x′)=f(x)+\\epsilon f′(x)x′$ - aka the chain rule?\n",
    "\n",
    "$$\n",
    "z_0 = f(x), z_1 = g(X) \\\\\n",
    "z_2 = h(z_0,z_1) \\\\\n",
    "\\frac{d z_2}{d x} = \\frac{\\partial z_2}{\\partial z_0} \\frac{d z_0}{d x} + \\frac{\\partial z_2}{\\partial z_1} \\frac{d z_1}{d x}\\\\\n",
    "$$\n",
    "\n",
    "I cant remember where I saw it.\n",
    "\n",
    "They use a different type of algebra. So;\n",
    "* $x + y = z \\rightarrow (x + dx) + (y + dy) = (x + y) + (dx + dy) = z + dz$.\n",
    "* $xy = z \\rightarrow (x + dx)(y + dy) = (xy) + (dxdy) = z + dz$.\n",
    "    * still not sure how this one works\n",
    "* $f(x) = y \\rightarrow ???$\n",
    "\n",
    "The cool thing is that this algebra encodes the idea of the chain rule, ... Its grammar ? enforces the chain rule, as well as the usual binary operations.\n",
    "\n",
    "### Matrix\n",
    "\n",
    "Reverse - trace?\n",
    "\n",
    "\n",
    "\n"
   ]
  },
  {
   "cell_type": "markdown",
   "metadata": {},
   "source": [
    "# Dual numbers\n",
    "\n",
    "Look into this abit? The ring of real numbers and $\\epsilon$. Symmetries?\n",
    "\n",
    "> To do forward mode AD on a program, do a nonstandard interpretation of the program, as follows. Define “dual numbers” as formal truncated Taylor series of the form $x+\\epsilon x′x+\\epsilon x′$. Define arithmetic on dual numbers by $\\epsilon 2=0 \\epsilon 2=0$, and by interpreting any non-dual number $yy$ as $y+\\epsilon 0$\n"
   ]
  },
  {
   "cell_type": "code",
   "execution_count": 10,
   "metadata": {
    "collapsed": false
   },
   "outputs": [],
   "source": [
    "data Dual = Dual  {value :: Float, grad :: Float}  deriving Show"
   ]
  },
  {
   "cell_type": "code",
   "execution_count": 14,
   "metadata": {
    "collapsed": false
   },
   "outputs": [
    {
     "data": {
      "text/html": [
       "<style>/* Styles used for the Hoogle display in the pager */\n",
       ".hoogle-doc {\n",
       "display: block;\n",
       "padding-bottom: 1.3em;\n",
       "padding-left: 0.4em;\n",
       "}\n",
       ".hoogle-code {\n",
       "display: block;\n",
       "font-family: monospace;\n",
       "white-space: pre;\n",
       "}\n",
       ".hoogle-text {\n",
       "display: block;\n",
       "}\n",
       ".hoogle-name {\n",
       "color: green;\n",
       "font-weight: bold;\n",
       "}\n",
       ".hoogle-head {\n",
       "font-weight: bold;\n",
       "}\n",
       ".hoogle-sub {\n",
       "display: block;\n",
       "margin-left: 0.4em;\n",
       "}\n",
       ".hoogle-package {\n",
       "font-weight: bold;\n",
       "font-style: italic;\n",
       "}\n",
       ".hoogle-module {\n",
       "font-weight: bold;\n",
       "}\n",
       ".hoogle-class {\n",
       "font-weight: bold;\n",
       "}\n",
       ".get-type {\n",
       "color: green;\n",
       "font-weight: bold;\n",
       "font-family: monospace;\n",
       "display: block;\n",
       "white-space: pre-wrap;\n",
       "}\n",
       ".show-type {\n",
       "color: green;\n",
       "font-weight: bold;\n",
       "font-family: monospace;\n",
       "margin-left: 1em;\n",
       "}\n",
       ".mono {\n",
       "font-family: monospace;\n",
       "display: block;\n",
       "}\n",
       ".err-msg {\n",
       "color: red;\n",
       "font-style: italic;\n",
       "font-family: monospace;\n",
       "white-space: pre;\n",
       "display: block;\n",
       "}\n",
       "#unshowable {\n",
       "color: red;\n",
       "font-weight: bold;\n",
       "}\n",
       ".err-msg.in.collapse {\n",
       "padding-top: 0.7em;\n",
       "}\n",
       ".highlight-code {\n",
       "white-space: pre;\n",
       "font-family: monospace;\n",
       "}\n",
       ".suggestion-warning { \n",
       "font-weight: bold;\n",
       "color: rgb(200, 130, 0);\n",
       "}\n",
       ".suggestion-error { \n",
       "font-weight: bold;\n",
       "color: red;\n",
       "}\n",
       ".suggestion-name {\n",
       "font-weight: bold;\n",
       "}\n",
       "</style><span class='err-msg'>No instance for (Fractional Dual) arising from the superclasses of an instance declaration<br/>In the instance declaration for ‘Floating Dual’</span>"
      ],
      "text/plain": [
       "No instance for (Fractional Dual) arising from the superclasses of an instance declaration\n",
       "In the instance declaration for ‘Floating Dual’"
      ]
     },
     "metadata": {},
     "output_type": "display_data"
    }
   ],
   "source": [
    "-- define Dual numbers \n",
    "instance Num Dual where \n",
    "    (Dual x x') + (Dual y y') = Dual (x + y) (x' + y') \n",
    "    (Dual x x') * (Dual y y') = Dual (x * y) (x * y' + x' * y)\n",
    "-- overload elementary functions \n",
    "instance Floating Dual where \n",
    "    sin (Dual x x') = Dual (sin x) (x' * (cos x)) \n",
    "    cos (Dual x x') = Dual (cos x) (x' * (-(sin x))) \n",
    "    exp (Dual x x') = Dual (exp x) (x' * (exp x))\n",
    "-- embed reals into duals fromDouble x = Dual x 0\n",
    "-- test case\n",
    "let f x1 x2 = x2 * cos((x1 * x1) + 3.0) in f(Dual 5 1)(Dual 2 0) "
   ]
  },
  {
   "cell_type": "markdown",
   "metadata": {},
   "source": [
    "# Definitions\n",
    "\n",
    "$e^x = e^{x+\\epsilon} = ???$\n",
    "\n",
    "$log(x) = log(x+\\epsilon) = ??$"
   ]
  },
  {
   "cell_type": "markdown",
   "metadata": {},
   "source": [
    "# Backprop\n",
    "\n",
    "Is a special case.\n",
    "\n",
    "\n",
    "http://neuralnetworksanddeeplearning.com/chap2.html"
   ]
  },
  {
   "cell_type": "markdown",
   "metadata": {},
   "source": [
    "# How?\n",
    "\n",
    "### Source code transformation\n",
    "\n",
    "\n",
    "\n",
    "### Operator-overloading\n",
    "\n",
    "\n",
    "### New programming language...\n",
    "\n",
    "\n",
    "### ??? Ideas?\n",
    "\n"
   ]
  },
  {
   "cell_type": "markdown",
   "metadata": {},
   "source": [
    "# Notes\n",
    "\n",
    "> _For n > 1 and m > 1 there is a golden mean, but finding the optimal way is probably an NP-hard problem_ [lec notes](http://www.robots.ox.ac.uk/~tvg/publications/talks/autodiff.pdf) \n",
    "\n",
    "Proof?!?\n",
    "\n",
    "\n",
    "> and where differentiating an approximation to $f$ produces much worse answers than explicitly approximating the (known) derivative of $f$. [alexey radul](http://alexey.radul.name/ideas/2013/introduction-to-automatic-differentiation/)\n",
    "\n",
    "E.g. numerical integration\n",
    "\n"
   ]
  },
  {
   "cell_type": "markdown",
   "metadata": {},
   "source": [
    "# Resources\n",
    "\n",
    "### Automatic differentiation\n",
    "* [Great intro](http://alexey.radul.name/ideas/2013/introduction-to-automatic-differentiation/)\n",
    "* http://conal.net/blog/posts/what-is-automatic-differentiation-and-why-does-it-work\n",
    "* http://conway.rutgers.edu/~ccshan/wiki/blog/posts/Differentiation/\n",
    "* http://blog.sigfpe.com/2005/07/automatic-differentiation.html\n",
    "* [Haskell implementation](http://www.danielbrice.net/blog/10/)\n",
    "* [Julia implementation](http://int8.io/automatic-differentiation-machine-learning-julia/#Reverse_mode_automatic_differentiation_8211_basic_bits)\n",
    "\n",
    "### Backprop\n",
    "\n",
    "* http://int8.io/backpropagation-from-scratch-in-julia-part-ii-derivation-and-implementation/\n",
    "* http://colah.github.io/posts/2015-08-Backprop/\n",
    "\n",
    "### Other\n",
    "* https://en.wikipedia.org/wiki/Dual_number"
   ]
  },
  {
   "cell_type": "markdown",
   "metadata": {},
   "source": [
    "# Questions\n",
    "\n",
    "* What about integration?\n",
    "* How is this related to functional programming and transforms on data?\n",
    "* Is there a way nature could be doing this using complex numbers (in place of nilpotent duals)? ?!???\n",
    "* Relation to dynamic programming (colah mentioned this)\n",
    "\n",
    "\n",
    "# TODO\n",
    "\n",
    "* Answer: Why is automatic better than symbolic?\n",
    "* Investigate the geometry of dual numbers.\n",
    "* Make an AD module in haskell.\n",
    "* Figure out relation to taylor expansion."
   ]
  }
 ],
 "metadata": {
  "kernelspec": {
   "display_name": "Haskell",
   "language": "haskell",
   "name": "haskell"
  },
  "language_info": {
   "codemirror_mode": "ihaskell",
   "file_extension": ".hs",
   "name": "haskell",
   "version": "7.10.3"
  }
 },
 "nbformat": 4,
 "nbformat_minor": 0
}
