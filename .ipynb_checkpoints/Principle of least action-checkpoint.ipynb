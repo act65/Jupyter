{
 "cells": [
  {
   "cell_type": "markdown",
   "metadata": {},
   "source": [
    "\n",
    "\n",
    "Imangine a computation that could exploit this ability to optimise?\n",
    "\n",
    "So we would need to set up the right dynamics of the system, and then nature would optimise it for us.\n",
    "\n",
    "* Is this the same thing? Is the cost to set up the dynamics the same as the cost of optimising via our traditional methods?\n",
    "* When would this be a better way of doing things?\n",
    "\n",
    "### Related\n",
    "\n",
    "Varialtional inference?\n",
    "\n",
    "\n",
    "\n",
    "### Resources\n",
    "\n",
    "* https://en.wikipedia.org/wiki/Principle_of_least_action\n",
    "* https://en.wikipedia.org/wiki/Variational_method_(quantum_mechanics)\n",
    "* https://en.wikipedia.org/wiki/Calculus_of_variations\n",
    "* https://en.wikipedia.org/wiki/Variational_principle\n",
    "* https://en.wikipedia.org/wiki/Fermat%27s_principle"
   ]
  }
 ],
 "metadata": {
  "kernelspec": {
   "display_name": "Python 3",
   "language": "python",
   "name": "python3"
  },
  "language_info": {
   "codemirror_mode": {
    "name": "ipython",
    "version": 3
   },
   "file_extension": ".py",
   "mimetype": "text/x-python",
   "name": "python",
   "nbconvert_exporter": "python",
   "pygments_lexer": "ipython3",
   "version": "3.5.1"
  }
 },
 "nbformat": 4,
 "nbformat_minor": 0
}
