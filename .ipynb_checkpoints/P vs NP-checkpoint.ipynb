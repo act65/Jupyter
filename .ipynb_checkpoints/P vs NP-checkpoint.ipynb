{
 "cells": [
  {
   "cell_type": "markdown",
   "metadata": {},
   "source": [
    "\n",
    "\n",
    "> Does deing able to quickly recognise correct answers mean there is also a quick way to find answers?\n",
    "\n",
    "What about problems outside of NP? The one where it is hard to even verify correct answers (e.g. best next move in chess, .. ?). Are there any problems where it is faster to find a solution than to verify it? (this doesnt make any sense... a paradox) Hmm, easy to check wrong answers\n",
    "\n",
    "\n",
    "\n",
    "Worst case analysis/upper bounds? What about lower bounds etc? Average expected?\n",
    "\n",
    "\n",
    "NP - complete!! Solve this solve it all. \n",
    "\n",
    "\n",
    "> Computational complexity is about what can be computed in space and time. But it is also about space and time themselves. It is deelpy related to physics and what is possible given our physical laws.\n",
    "\n",
    "\n",
    "\n",
    "> If P=NP, then the world would be a profoundly different place than we usually assume it to be. There would be no special value in “creative leaps,” no fundamental gap between solving a problem and recognizing the solution once it's found. Everyone who could appreciate a symphony would be Mozart; everyone who could follow a step-by-step argument would be Gauss; everyone who could recognize a good investment strategy would be Warren Buffett.\n",
    "\n",
    "So the very fabric of our reality is molded around the deep structure of computation. What is more fundamental? Physics or computation? Or is it all the same thing?"
   ]
  }
 ],
 "metadata": {
  "kernelspec": {
   "display_name": "Python 3",
   "language": "python",
   "name": "python3"
  },
  "language_info": {
   "codemirror_mode": {
    "name": "ipython",
    "version": 3
   },
   "file_extension": ".py",
   "mimetype": "text/x-python",
   "name": "python",
   "nbconvert_exporter": "python",
   "pygments_lexer": "ipython3",
   "version": "3.5.1"
  }
 },
 "nbformat": 4,
 "nbformat_minor": 0
}
