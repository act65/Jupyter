{
 "cells": [
  {
   "cell_type": "markdown",
   "metadata": {},
   "source": [
    "Dynamical systems!!\n",
    "\n",
    "\n",
    "### Questions\n",
    "\n",
    "* How efficient is the computation?\n",
    "    * The problem is having to do integrations?\n",
    "* Any models of the brain/neurons?\n",
    "* Wait so how are these systems learning? They seem to be hand crafted?"
   ]
  },
  {
   "cell_type": "code",
   "execution_count": null,
   "metadata": {
    "collapsed": true
   },
   "outputs": [],
   "source": [
    "#Mnist classification\n",
    "#modelled as a \n",
    "class Agent():\n",
    "    def __init__(self):\n",
    "        self.state = ()"
   ]
  }
 ],
 "metadata": {
  "kernelspec": {
   "display_name": "Python 3",
   "language": "python",
   "name": "python3"
  },
  "language_info": {
   "codemirror_mode": {
    "name": "ipython",
    "version": 3
   },
   "file_extension": ".py",
   "mimetype": "text/x-python",
   "name": "python",
   "nbconvert_exporter": "python",
   "pygments_lexer": "ipython3",
   "version": "3.5.1"
  }
 },
 "nbformat": 4,
 "nbformat_minor": 0
}
