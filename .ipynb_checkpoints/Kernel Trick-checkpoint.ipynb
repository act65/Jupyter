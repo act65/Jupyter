{
 "cells": [
  {
   "cell_type": "markdown",
   "metadata": {},
   "source": [
    "\n",
    "\n",
    "> On the other hand, the total reconstruction error is measured as the average squared length of the corresponding red lines. [](http://stats.stackexchange.com/questions/2691/making-sense-of-principal-component-analysis-eigenvectors-eigenvalues) \n",
    "\n",
    "\n",
    "So is the kernel you use, like some sort of prior?\n",
    "\n",
    "\n",
    "### Resources\n",
    "\n",
    "http://www.eric-kim.net/eric-kim-net/posts/1/kernel_trick.html\n",
    "http://crsouza.com/2010/03/kernel-functions-for-machine-learning-applications/"
   ]
  }
 ],
 "metadata": {
  "kernelspec": {
   "display_name": "Python 3",
   "language": "python",
   "name": "python3"
  },
  "language_info": {
   "codemirror_mode": {
    "name": "ipython",
    "version": 3
   },
   "file_extension": ".py",
   "mimetype": "text/x-python",
   "name": "python",
   "nbconvert_exporter": "python",
   "pygments_lexer": "ipython3",
   "version": "3.5.1"
  }
 },
 "nbformat": 4,
 "nbformat_minor": 0
}
