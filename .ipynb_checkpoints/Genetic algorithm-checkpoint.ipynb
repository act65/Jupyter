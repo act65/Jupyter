{
 "cells": [
  {
   "cell_type": "markdown",
   "metadata": {},
   "source": [
    "Let's consider a simple genetic algorithm designed to model a function - y = x^2."
   ]
  },
  {
   "cell_type": "code",
   "execution_count": null,
   "metadata": {
    "collapsed": true
   },
   "outputs": [],
   "source": [
    "import numpy as np\n",
    "class GA():\n",
    "    def __init__(self):\n",
    "        self.pop = None\n",
    "        self.genes = ['-','+','*','(',')','1','0','3','2','x']\n",
    "        self.x = np.linspace(-10,10,31)\n",
    "        self.y = x**2\n",
    "        \n",
    "    def reproduce(self):\n",
    "        #add entire population to the queue\n",
    "        #sort the queue according to fittness\n",
    "        #pick two organisms to reproduce\n",
    "        for organism in self.pop:\n",
    "            \n",
    "    def fittness(self):\n",
    "        x = self.x\n",
    "        for i in range(len(self.pop)):\n",
    "            \n",
    "            "
   ]
  }
 ],
 "metadata": {
  "kernelspec": {
   "display_name": "Python 3",
   "language": "python",
   "name": "python3"
  },
  "language_info": {
   "codemirror_mode": {
    "name": "ipython",
    "version": 3
   },
   "file_extension": ".py",
   "mimetype": "text/x-python",
   "name": "python",
   "nbconvert_exporter": "python",
   "pygments_lexer": "ipython3",
   "version": "3.4.3"
  }
 },
 "nbformat": 4,
 "nbformat_minor": 0
}
