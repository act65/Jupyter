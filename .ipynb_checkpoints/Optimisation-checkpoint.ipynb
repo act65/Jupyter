{
 "cells": [
  {
   "cell_type": "markdown",
   "metadata": {},
   "source": [
    "Optimisation is the selection of a best element (with regard to some criteria) from some set of available alternatives. So the question becomes, how can we find the best element within a set of alternatives? This would depend on how the elements are ordered and if that order somehow related to the metric, as if it didnt then we would have to search all possible elements. That is to say that, to find the best element efficiently we need some sort of information about how the metrics of elements are related to other elements.\n",
    "\n",
    "First lets consider a convex one objective optimisation problem. Find the minima of y = x^2"
   ]
  },
  {
   "cell_type": "code",
   "execution_count": 5,
   "metadata": {
    "collapsed": false
   },
   "outputs": [
    {
     "data": {
      "text/plain": [
       "<matplotlib.text.Text at 0x105d85278>"
      ]
     },
     "execution_count": 5,
     "metadata": {},
     "output_type": "execute_result"
    },
    {
     "data": {
      "image/png": "[encoded data removed]",
      "text/plain": [
       "<matplotlib.figure.Figure at 0x104c36390>"
      ]
     },
     "metadata": {},
     "output_type": "display_data"
    }
   ],
   "source": [
    "import matplotlib.pyplot as plt\n",
    "import numpy as np\n",
    "%matplotlib inline\n",
    "\n",
    "x = np.linspace(-10,10,31)\n",
    "y = x**2\n",
    "plt.plot(x,y)\n",
    "plt.xlabel('Elements')\n",
    "plt.ylabel('Metric')"
   ]
  },
  {
   "cell_type": "markdown",
   "metadata": {},
   "source": [
    "A nice property of smooth continuous functions is that you can calculate their derivative and find the direction to look for better elements. (gradient descent)\n",
    "\n",
    " \n"
   ]
  },
  {
   "cell_type": "code",
   "execution_count": null,
   "metadata": {
    "collapsed": true
   },
   "outputs": [],
   "source": []
  },
  {
   "cell_type": "code",
   "execution_count": null,
   "metadata": {
    "collapsed": true
   },
   "outputs": [],
   "source": []
  },
  {
   "cell_type": "code",
   "execution_count": null,
   "metadata": {
    "collapsed": true
   },
   "outputs": [],
   "source": []
  },
  {
   "cell_type": "markdown",
   "metadata": {},
   "source": [
    "Having to search all possible solutions is the problem faced in ... but we use heuristics ...\n",
    "\n",
    "Methods. Simulated annealing, particle swarms, grad descent, genetic algorithms, nearest neighbors, newton iterations, monte carlo,  ...???"
   ]
  },
  {
   "cell_type": "code",
   "execution_count": null,
   "metadata": {
    "collapsed": true
   },
   "outputs": [],
   "source": []
  },
  {
   "cell_type": "code",
   "execution_count": null,
   "metadata": {
    "collapsed": true
   },
   "outputs": [],
   "source": []
  },
  {
   "cell_type": "markdown",
   "metadata": {},
   "source": [
    "Questions\n",
    "* What if we optimised for a set of better solutions?\n",
    "* How is it that we can take one look at something and quickly find the minima or maxima but an algorithm needs to search for it?\n",
    "* Is there another way to represent optimisation problems, as a type of topology ro higher dimensional manifold at allows us to find the maxima/minima easier?\n",
    "* Is the optimisation curve always a manifold? I guess it depends on the metric(s)? So one metric gives a surface? Two metrics give a volume? ... etc?\n",
    "* The generation of the element-metric space? Is there anything interesting here?\n",
    "* "
   ]
  },
  {
   "cell_type": "code",
   "execution_count": null,
   "metadata": {
    "collapsed": true
   },
   "outputs": [],
   "source": []
  }
 ],
 "metadata": {
  "kernelspec": {
   "display_name": "Python 3",
   "language": "python",
   "name": "python3"
  },
  "language_info": {
   "codemirror_mode": {
    "name": "ipython",
    "version": 3
   },
   "file_extension": ".py",
   "mimetype": "text/x-python",
   "name": "python",
   "nbconvert_exporter": "python",
   "pygments_lexer": "ipython3",
   "version": "3.4.3"
  }
 },
 "nbformat": 4,
 "nbformat_minor": 0
}
