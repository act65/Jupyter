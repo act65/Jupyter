{
 "cells": [
  {
   "cell_type": "markdown",
   "metadata": {},
   "source": [
    "# Energy efficiency (is a natural optimiser?)\n",
    "\n",
    "\n",
    "* What if we counted how many nodes fired and also optimised (minima) for fewer activations?\n",
    "* What would happen if we measued node outputs and minimised (multi-objective) them?\n",
    "\n",
    "So now we are optimising for both energy efficiency and accuracy. (a side note, what else could be worth optimising for?) Is energy efficiency some sort of analouge for AIG or better representations...? And can we prove that?\n",
    "\n",
    "\n",
    "### A metric to minimise\n",
    "\n",
    "What is the relation to turing machines? Because there is a (universal) language that all functions can be described in it is possible how much of that language is needed for certain functions. Aka algorithmic information theory. How does this apply to neural networks? What language can we use to decribe them and their calculations?"
   ]
  },
  {
   "cell_type": "code",
   "execution_count": null,
   "metadata": {
    "collapsed": true
   },
   "outputs": [],
   "source": []
  },
  {
   "cell_type": "code",
   "execution_count": null,
   "metadata": {
    "collapsed": true
   },
   "outputs": [],
   "source": []
  }
 ],
 "metadata": {
  "kernelspec": {
   "display_name": "Python 3",
   "language": "python",
   "name": "python3"
  },
  "language_info": {
   "codemirror_mode": {
    "name": "ipython",
    "version": 3
   },
   "file_extension": ".py",
   "mimetype": "text/x-python",
   "name": "python",
   "nbconvert_exporter": "python",
   "pygments_lexer": "ipython3",
   "version": "3.4.4"
  }
 },
 "nbformat": 4,
 "nbformat_minor": 0
}
