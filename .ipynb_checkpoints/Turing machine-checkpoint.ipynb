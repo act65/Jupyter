{
 "cells": [
  {
   "cell_type": "markdown",
   "metadata": {},
   "source": [
    "Turing machines are the foundation of the study of computational complexity. They are used to measure the amount of computational steps required for a function to generate output from input.\n",
    "\n",
    "Lets begin with a simple single tape Turning machine: defined by an alphabet, a transition function, a state, ?"
   ]
  },
  {
   "cell_type": "code",
   "execution_count": 2,
   "metadata": {
    "collapsed": false
   },
   "outputs": [],
   "source": [
    "class TuringMachine(object):\n",
    "    def __init__(self, tape = \"\", initial_state = \"\", head_position = 0, \n",
    "                 final_states = [], transition_function = {}):\n",
    "        self.__head_position = head_position\n",
    "        self.__current_state = initial_state \n",
    "        self.__tape = list(tape)\n",
    "        self.__transition_function = transition_function\n",
    "        self.__final_states = final_states\n",
    "    \n",
    "    def step(self):\n",
    "        y = self.__transition_function[(self.__current_state, self.__tape[self.__head_position])]\n",
    "        self.__current_state = y[0] \n",
    "        self.__tape[self.__head_position] = y[1] #write onto the tape\n",
    "        self.__head_position += y[2] #left = -1, right = 1, pass = 0\n",
    "\n",
    "    def get_tape(self): \n",
    "        print(''.join(self.__tape))\n",
    "    def is_final(self):\n",
    "        return True if self.__current_state in self.__final_states else False"
   ]
  },
  {
   "cell_type": "markdown",
   "metadata": {},
   "source": [
    "but really the state is determined from the head position, ... , not like we are doing here???\n",
    "\n",
    "what about multi-tape TMs? limitations of a single taped TM?"
   ]
  },
  {
   "cell_type": "code",
   "execution_count": 10,
   "metadata": {
    "collapsed": false
   },
   "outputs": [
    {
     "name": "stdout",
     "output_type": "stream",
     "text": [
      "Bit inversion TM\n",
      "Input on Tape:\n",
      "010011 \n",
      "Result of TM calculation:\n",
      "101100 \n",
      "Steps = 7\n",
      "\n",
      "Pattern recognition - 111 - TM\n",
      "Input on Tape:\n",
      "001001110101 \n",
      "Result of TM calculation:\n",
      "000000010000 \n",
      "Steps = 13\n",
      "\n",
      "Adder\n",
      "Input on Tape:\n",
      "0011+0101 \n",
      "Result of TM calculation:\n",
      "    1000 \n",
      "Steps = 135\n"
     ]
    }
   ],
   "source": [
    "###### Lets test it out\n",
    "### A bit inverter\n",
    "\n",
    "print(\"Bit inversion TM\")\n",
    "transition_function = {(\"init\",\"0\"):(\"init\", \"1\", 1),\n",
    "                       (\"init\",\"1\"):(\"init\", \"0\", 1),\n",
    "                       (\"init\",\" \"):(\"final\",\" \", 0)}\n",
    "\n",
    "t = TuringMachine(tape = \"010011 \", initial_state = \"init\", final_states = [\"final\"], \n",
    "                  transition_function=transition_function)\n",
    "\n",
    "print(\"Input on Tape:\")\n",
    "t.get_tape()\n",
    "count = 0\n",
    "while not t.is_final():\n",
    "    count += 1\n",
    "    t.step()\n",
    "print(\"Result of TM calculation:\")    \n",
    "t.get_tape()\n",
    "print(\"Steps = \" + str(count))\n",
    "\n",
    "### Pattern recogniser - 111\n",
    "\n",
    "print(\"\\nPattern recognition - 111 - TM\")\n",
    "transition_function = {(\"A\",\"0\"):(\"A\", \"0\", 1),\n",
    "                       (\"A\",\"1\"):(\"B\", \"0\", 1),\n",
    "                       (\"B\",\"0\"):(\"A\", \"0\", 1),\n",
    "                       (\"B\",\"1\"):(\"C\", \"0\", 1),\n",
    "                       (\"C\",\"0\"):(\"A\", \"0\", 1),\n",
    "                       (\"C\",\"1\"):(\"A\", \"1\", 1),\n",
    "                       (\"A\",\" \"):(\"final\",\" \", 0),\n",
    "                       (\"B\",\" \"):(\"final\",\" \", 0),\n",
    "                       (\"C\",\" \"):(\"final\",\" \", 0)}\n",
    "\n",
    "t = TuringMachine(tape = \"001001110101 \", initial_state = \"A\", final_states = [\"final\"], \n",
    "                  transition_function=transition_function)\n",
    "\n",
    "print(\"Input on Tape:\")\n",
    "t.get_tape()\n",
    "count = 0\n",
    "while not t.is_final():\n",
    "    count += 1\n",
    "    t.step()\n",
    "print(\"Result of TM calculation:\")    \n",
    "t.get_tape()\n",
    "print(\"Steps = \" + str(count))\n",
    "\n",
    "### Adder\n",
    "\n",
    "print(\"\\nAdder\")\n",
    "transition_function = {\n",
    "                       #A - check if zero\n",
    "                       (\"A\",\"0\"):(\"A\", \"0\", 1),\n",
    "                       (\"A\",\"1\"):(\"B\", \"1\", -1),\n",
    "                       (\"A\",\"+\"):(\"K\", \" \", -1),\n",
    "                       #B - seek left and sub 1\n",
    "                       (\"B\",\"0\"):(\"B\", \"0\", -1),\n",
    "                       (\"B\",\"1\"):(\"B\", \"1\", -1),\n",
    "                       (\"B\",\" \"):(\"C\", \" \", 1),\n",
    "                       #C - sub1 ones compliment\n",
    "                       (\"C\",\"0\"):(\"C\", \"1\", 1),\n",
    "                       (\"C\",\"1\"):(\"C\", \"0\", 1),\n",
    "                       (\"C\",\"+\"):(\"D\", \"+\", -1),\n",
    "                       #D - sub1 add1 zero until 0\n",
    "                       (\"D\",\"0\"):(\"E\", \"1\", 1),\n",
    "                       (\"D\",\"1\"):(\"D\", \"0\", -1),\n",
    "                       #E - sub1 add1 find end\n",
    "                       (\"E\",\"0\"):(\"E\", \"0\", 1),\n",
    "                       (\"E\",\"1\"):(\"E\", \"1\", 1),\n",
    "                       (\"E\",\"+\"):(\"F\", \"+\", -1),\n",
    "                       #F - sub1 ones-complementR\n",
    "                       (\"F\",\"0\"):(\"F\", \"1\", -1),\n",
    "                       (\"F\",\"1\"):(\"F\", \"0\", -1),\n",
    "                       (\"F\",\" \"):(\"G\", \" \", 1),\n",
    "                       #G - seek right add 1\n",
    "                       (\"G\",\"0\"):(\"G\", \"0\", 1),\n",
    "                       (\"G\",\"1\"):(\"G\", \"1\", 1),\n",
    "                       (\"G\",\"+\"):(\"H\", \"+\", 1),\n",
    "                       #H - add1 find end\n",
    "                       (\"H\",\"0\"):(\"H\", \"0\", 1),\n",
    "                       (\"H\",\"1\"):(\"H\", \"1\", 1),\n",
    "                       (\"H\",\" \"):(\"I\", \" \", -1),\n",
    "                       #I - add1 zero until 0\n",
    "                       (\"I\",\"0\"):(\"J\", \"1\", -1),\n",
    "                       (\"I\",\"1\"):(\"I\", \"0\", -1),\n",
    "                       #J - seek left and continue\n",
    "                       (\"J\",\"0\"):(\"J\", \"0\", -1),\n",
    "                       (\"J\",\"1\"):(\"J\", \"1\", -1),\n",
    "                       (\"J\",\"+\"):(\"J\", \"+\", -1),\n",
    "                       (\"J\",\" \"):(\"A\", \" \", 1),\n",
    "                       #K - Seek left and zero\n",
    "                       (\"K\",\"0\"):(\"K\", \" \", -1),\n",
    "                       (\"K\",\" \"):(\"L\", \" \", 1),\n",
    "                       #L - seek start\n",
    "                       (\"L\",\"0\"):(\"M\", \"0\", -1),\n",
    "                       (\"L\",\"1\"):(\"M\", \"1\", -1),\n",
    "                       (\"L\",\" \"):(\"L\", \" \", 1),\n",
    "                       #M - move right once\n",
    "                       (\"M\",\" \"):(\"final\", \"\", 0)}\n",
    "\n",
    "t = TuringMachine(tape = \"0011+0101 \", initial_state = \"A\", final_states = [\"final\"], \n",
    "                  transition_function=transition_function)\n",
    "\n",
    "print(\"Input on Tape:\")\n",
    "t.get_tape()\n",
    "count = 0\n",
    "while not t.is_final():\n",
    "    count += 1\n",
    "    t.step()\n",
    "print(\"Result of TM calculation:\")    \n",
    "t.get_tape()\n",
    "print(\"Steps = \" + str(count))"
   ]
  },
  {
   "cell_type": "markdown",
   "metadata": {},
   "source": [
    "plot of head positions, plot of changes to the tape, ?? "
   ]
  },
  {
   "cell_type": "code",
   "execution_count": null,
   "metadata": {
    "collapsed": false
   },
   "outputs": [],
   "source": []
  },
  {
   "cell_type": "markdown",
   "metadata": {},
   "source": [
    "Cool. But... no working space??? or are we just supposed to use the same tape? Is it possible for one transition function reference to give multiple actions?\n",
    "\n",
    "3 state not working.\n",
    "\n",
    "how is it possible to find these algorithms? is there a better way to visualise what is happening?\n",
    "\n",
    "Moving on, now we will have a quick look into multi-tape TMs.\n",
    "\n",
    "So is it possible to simply define a class of a single two tape TM and recursively join them together tor form TMs with more tapes?"
   ]
  },
  {
   "cell_type": "code",
   "execution_count": 49,
   "metadata": {
    "collapsed": false
   },
   "outputs": [],
   "source": [
    "class MultiTapeTM(object):\n",
    "    def __init__(self, readtape = \"\", initial_states = \"\", head_positions = [1,1], \n",
    "                 final_states = [], transition_function = {}):\n",
    "        self.__head_positions = head_positions\n",
    "        self.__current_states = initial_states\n",
    "        self.__readtape = list(readtape)\n",
    "        self.__writetape = [\"\"]*len(self.__readtape)\n",
    "        self.__transition_function = transition_function\n",
    "        self.__final_states = final_states\n",
    "    \n",
    "    def step(self):\n",
    "        y = self.__transition_function[(self.__current_states, self.__readtape[self.__head_positions[0]])]\n",
    "        self.__current_state = y[0] \n",
    "        self.__writetape[self.__head_positions[1]] = y[2] #write onto the tape\n",
    "        self.__head_positions[0] += y[1]\n",
    "        self.__head_positions[1] += y[3] \n",
    "\n",
    "    def get_tape(self): \n",
    "        print(''.join(self.__readtape))\n",
    "    def is_final(self):\n",
    "        return True if self.__current_states in self.__final_states else False"
   ]
  },
  {
   "cell_type": "markdown",
   "metadata": {},
   "source": []
  },
  {
   "cell_type": "code",
   "execution_count": 50,
   "metadata": {
    "collapsed": false
   },
   "outputs": [
    {
     "name": "stdout",
     "output_type": "stream",
     "text": [
      "Input on Tape:\n",
      "010011 \n"
     ]
    },
    {
     "ename": "IndexError",
     "evalue": "list index out of range",
     "output_type": "error",
     "traceback": [
      "\u001b[0;31m---------------------------------------------------------------------------\u001b[0m",
      "\u001b[0;31mIndexError\u001b[0m                                Traceback (most recent call last)",
      "\u001b[0;32m<ipython-input-50-18e36d645a0b>\u001b[0m in \u001b[0;36m<module>\u001b[0;34m()\u001b[0m\n\u001b[1;32m      9\u001b[0m \u001b[0mt\u001b[0m\u001b[0;34m.\u001b[0m\u001b[0mget_tape\u001b[0m\u001b[0;34m(\u001b[0m\u001b[0;34m)\u001b[0m\u001b[0;34m\u001b[0m\u001b[0m\n\u001b[1;32m     10\u001b[0m \u001b[0;32mwhile\u001b[0m \u001b[0;32mnot\u001b[0m \u001b[0mt\u001b[0m\u001b[0;34m.\u001b[0m\u001b[0mis_final\u001b[0m\u001b[0;34m(\u001b[0m\u001b[0;34m)\u001b[0m\u001b[0;34m:\u001b[0m\u001b[0;34m\u001b[0m\u001b[0m\n\u001b[0;32m---> 11\u001b[0;31m     \u001b[0mt\u001b[0m\u001b[0;34m.\u001b[0m\u001b[0mstep\u001b[0m\u001b[0;34m(\u001b[0m\u001b[0;34m)\u001b[0m\u001b[0;34m\u001b[0m\u001b[0m\n\u001b[0m\u001b[1;32m     12\u001b[0m \u001b[0mprint\u001b[0m\u001b[0;34m(\u001b[0m\u001b[0;34m\"Result of TM calculation:\"\u001b[0m\u001b[0;34m)\u001b[0m\u001b[0;34m\u001b[0m\u001b[0m\n\u001b[1;32m     13\u001b[0m \u001b[0mt\u001b[0m\u001b[0;34m.\u001b[0m\u001b[0mget_tape\u001b[0m\u001b[0;34m(\u001b[0m\u001b[0;34m)\u001b[0m\u001b[0;34m\u001b[0m\u001b[0m\n",
      "\u001b[0;32m<ipython-input-49-77a468bc21a2>\u001b[0m in \u001b[0;36mstep\u001b[0;34m(self)\u001b[0m\n\u001b[1;32m     10\u001b[0m \u001b[0;34m\u001b[0m\u001b[0m\n\u001b[1;32m     11\u001b[0m     \u001b[0;32mdef\u001b[0m \u001b[0mstep\u001b[0m\u001b[0;34m(\u001b[0m\u001b[0mself\u001b[0m\u001b[0;34m)\u001b[0m\u001b[0;34m:\u001b[0m\u001b[0;34m\u001b[0m\u001b[0m\n\u001b[0;32m---> 12\u001b[0;31m         \u001b[0my\u001b[0m \u001b[0;34m=\u001b[0m \u001b[0mself\u001b[0m\u001b[0;34m.\u001b[0m\u001b[0m__transition_function\u001b[0m\u001b[0;34m[\u001b[0m\u001b[0;34m(\u001b[0m\u001b[0mself\u001b[0m\u001b[0;34m.\u001b[0m\u001b[0m__current_states\u001b[0m\u001b[0;34m,\u001b[0m \u001b[0mself\u001b[0m\u001b[0;34m.\u001b[0m\u001b[0m__readtape\u001b[0m\u001b[0;34m[\u001b[0m\u001b[0mself\u001b[0m\u001b[0;34m.\u001b[0m\u001b[0m__head_positions\u001b[0m\u001b[0;34m[\u001b[0m\u001b[0;36m0\u001b[0m\u001b[0;34m]\u001b[0m\u001b[0;34m]\u001b[0m\u001b[0;34m)\u001b[0m\u001b[0;34m]\u001b[0m\u001b[0;34m\u001b[0m\u001b[0m\n\u001b[0m\u001b[1;32m     13\u001b[0m         \u001b[0mself\u001b[0m\u001b[0;34m.\u001b[0m\u001b[0m__current_state\u001b[0m \u001b[0;34m=\u001b[0m \u001b[0my\u001b[0m\u001b[0;34m[\u001b[0m\u001b[0;36m0\u001b[0m\u001b[0;34m]\u001b[0m\u001b[0;34m\u001b[0m\u001b[0m\n\u001b[1;32m     14\u001b[0m         \u001b[0mself\u001b[0m\u001b[0;34m.\u001b[0m\u001b[0m__writetape\u001b[0m\u001b[0;34m[\u001b[0m\u001b[0mself\u001b[0m\u001b[0;34m.\u001b[0m\u001b[0m__head_positions\u001b[0m\u001b[0;34m[\u001b[0m\u001b[0;36m1\u001b[0m\u001b[0;34m]\u001b[0m\u001b[0;34m]\u001b[0m \u001b[0;34m=\u001b[0m \u001b[0my\u001b[0m\u001b[0;34m[\u001b[0m\u001b[0;36m2\u001b[0m\u001b[0;34m]\u001b[0m \u001b[0;31m#write onto the tape\u001b[0m\u001b[0;34m\u001b[0m\u001b[0m\n",
      "\u001b[0;31mIndexError\u001b[0m: list index out of range"
     ]
    }
   ],
   "source": [
    "transition_function = {(\"A\",\"0\"):(\"A\", 1, \"1\",1), #we are reading from one tape and writing to the other.\n",
    "                       (\"A\",\"1\"):(\"A\", 1, \"1\",1), # but now the state also depends on what has been written?\n",
    "                       (\"A\",\" \"):(\"final\", 1, \"1\",1),}\n",
    "\n",
    "t = MultiTapeTM(readtape = \"010011 \", initial_states = \"A\", final_states = [\"final\"], \n",
    "                  transition_function=transition_function)\n",
    "\n",
    "print(\"Input on Tape:\")\n",
    "t.get_tape()\n",
    "while not t.is_final():\n",
    "    t.step()\n",
    "print(\"Result of TM calculation:\")    \n",
    "t.get_tape()"
   ]
  },
  {
   "cell_type": "markdown",
   "metadata": {},
   "source": []
  },
  {
   "cell_type": "markdown",
   "metadata": {},
   "source": [
    "Questions\n",
    "* Why turing machines and not some other type?\n",
    "* How does the turing machine keep track of its state? Also via lookup table?\n",
    "\n",
    "\n",
    "To-do\n",
    "* Universal turing machine, \n",
    "* multi tape machine, \n",
    "* halting problem, \n",
    "* count computations, \n",
    "* turing-chruch theorem, \n",
    "* busy beaver, \n",
    "* visualise the TM look up table as a finite state automata, \n"
   ]
  },
  {
   "cell_type": "code",
   "execution_count": null,
   "metadata": {
    "collapsed": true
   },
   "outputs": [],
   "source": []
  }
 ],
 "metadata": {
  "kernelspec": {
   "display_name": "Python 3",
   "language": "python",
   "name": "python3"
  },
  "language_info": {
   "codemirror_mode": {
    "name": "ipython",
    "version": 3
   },
   "file_extension": ".py",
   "mimetype": "text/x-python",
   "name": "python",
   "nbconvert_exporter": "python",
   "pygments_lexer": "ipython3",
   "version": "3.4.3"
  }
 },
 "nbformat": 4,
 "nbformat_minor": 0
}
