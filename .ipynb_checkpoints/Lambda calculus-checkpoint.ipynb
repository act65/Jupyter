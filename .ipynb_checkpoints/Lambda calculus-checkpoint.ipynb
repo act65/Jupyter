{
 "cells": [
  {
   "cell_type": "markdown",
   "metadata": {},
   "source": [
    "### Examples?\n",
    "\n",
    "Multiplication of x,y- $\\lambda x.\\lambda y.xy = \\lambda xy.xy = f(x,y) = xy$\n",
    "\n",
    "### Arithmetic\n",
    "\n",
    "Zero is defined as $\\lambda s.(\\lambda z.z) = \\lambda sz.z$. So this function takes an argument s, and returns the identity function. Seems unusual? How does that relate to zero?\n",
    "\n",
    " \n",
    "\n",
    "* $1 \\equiv \\lambda sz.s(z)$ \n",
    "* $2 \\equiv \\lambda sz.s(s(z)) $\n",
    "* $3 \\equiv \\lambda sz.s(s(s(z))) $\n",
    "\n",
    "Ok, this is pretty cool. We have removed the representation (now as functions) from what they actually are (numbers). So we have abstracted away from the integers and we are really talking about ordered sequences. But we have represented them as the nested/recursive calling of some (zero?) function. No, we haven't, as we are not actually calling/applying the function. It is just an abstract definition, that an algorithm called recursively ..?\n",
    "\n",
    "##### Addition\n",
    "\n",
    "$\\textbf{S} \\equiv \\lambda abc.b(abc) = \\lambda a.\\lambda b.\\lambda c.b (abc)$\n",
    "\n",
    "\n",
    "\\begin{align}\n",
    "\\textbf{S}\\textbf{0} &= (\\lambda fgh.g(fgh)) (\\lambda pq.q) \\\\\n",
    "&= \\lambda gh.g((\\lambda pq.q) gh) \\tag{substitute zero for f}\\\\\n",
    "&= \\lambda gh.g((\\lambda q.q) h) \\tag{substitute g for p}\\\\\n",
    "&= \\lambda gh.g(h) \\tag{substitute h for q}\\\\\n",
    "&= \\textbf{1} \\\\\n",
    "\\end{align}\n",
    "\n",
    "##### Multiplication\n",
    "\n",
    "$\\lambda abc.a(bc)$\n",
    "\n",
    "### Groups\n",
    "\n",
    "Reminds me of a cylic group, where ... So if we formulated it in the language of abstract algebra we would have a group (G,?) such that G = {??,??}"
   ]
  },
  {
   "cell_type": "markdown",
   "metadata": {},
   "source": [
    "### Potential Exercises/projects\n",
    "\n",
    "* Make a turing machine in lambda calculus\n",
    "* Define the function n! = n · (n−1) · · · 1 recursively\n",
    "\n",
    "### Other interesting stuff\n",
    "\n",
    "* Currying\n",
    "\n",
    "# Resources\n",
    "* http://www.inf.fu-berlin.de/lehre/WS03/alpi/lambda.pdf\n",
    "* http://palmstroem.blogspot.co.nz/2012/05/lambda-calculus-for-absolute-dummies.html"
   ]
  }
 ],
 "metadata": {
  "kernelspec": {
   "display_name": "Python 3",
   "language": "python",
   "name": "python3"
  },
  "language_info": {
   "codemirror_mode": {
    "name": "ipython",
    "version": 3
   },
   "file_extension": ".py",
   "mimetype": "text/x-python",
   "name": "python",
   "nbconvert_exporter": "python",
   "pygments_lexer": "ipython3",
   "version": "3.5.1"
  }
 },
 "nbformat": 4,
 "nbformat_minor": 0
}
