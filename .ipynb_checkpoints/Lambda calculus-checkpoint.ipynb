{
 "cells": [
  {
   "cell_type": "markdown",
   "metadata": {},
   "source": [
    "\n",
    "\n",
    "\n",
    "\n",
    "### Potential Exercises/projects\n",
    "\n",
    "Make a turing machine/equivalent is lambda calculus\n",
    "\n",
    "\n",
    "### Other interesting stuff\n",
    "\n",
    "* Currying"
   ]
  },
  {
   "cell_type": "markdown",
   "metadata": {},
   "source": [
    "### Examples?\n",
    "\n",
    "Multiplication of x,y- $\\lambda x.\\lambda y.xy = \\lambda xy.xy = f(x,y) = xy$\n",
    "\n",
    "### Arithmetic\n",
    "\n",
    "Ok, this is pretty cool. We have removed the representation (now as functions) from what they actually are (numbers).\n",
    "So zero is defined as $\\lambda s.(\\lambda z.z) = \\lambda sz.z$. So this function takes an argument s, and returns the identity function. Seems unusual? How does that relate to zero?\n",
    "\n",
    "* $1 \\equiv \\lambda sz.s(z)$ \n",
    "* $2 \\equiv \\lambda sz.s(s(z)) $\n",
    "* $3 \\equiv \\lambda sz.s(s(s(z))) $\n",
    "\n",
    "Hm. So $1 = \\lambda s.\\lambda z.s(z) = \\lambda z.zz$?"
   ]
  }
 ],
 "metadata": {
  "kernelspec": {
   "display_name": "Python 3",
   "language": "python",
   "name": "python3"
  },
  "language_info": {
   "codemirror_mode": {
    "name": "ipython",
    "version": 3
   },
   "file_extension": ".py",
   "mimetype": "text/x-python",
   "name": "python",
   "nbconvert_exporter": "python",
   "pygments_lexer": "ipython3",
   "version": "3.5.1"
  }
 },
 "nbformat": 4,
 "nbformat_minor": 0
}
