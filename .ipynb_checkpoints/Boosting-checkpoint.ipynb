{
 "cells": [
  {
   "cell_type": "markdown",
   "metadata": {},
   "source": [
    "# Gradient boosting\n",
    "\n",
    "## Algorithm\n",
    "\n",
    "### v0.1\n",
    "\n",
    "```python\n",
    "import numpy as np\n",
    "data,labels = get_data()\n",
    "G = np.linspace(-10,10,100)\n",
    "F = G[np.argmin(loss(G,labels)]\n",
    "\n",
    "for i in range(m):\n",
    "    #Learn what we are getting wrong.\n",
    "    residual = grad(loss(F(x),labels),F(x)) #dL/dF #is a vector for each x_i\n",
    "    h = WeakLearner(residual) #fit to residuals - how? \n",
    "    \n",
    "    #Find a linear combination of new + old learners that minimises error\n",
    "    g = G[np.argmin(loss(F(x) + G * h(x),labels))]\n",
    "    F = F + g * h\n",
    "```\n",
    "\n",
    "\n",
    "### v0.2\n",
    "\n",
    "```python\n",
    "import tensorflow as tf\n",
    "opt = tf.GradientDescentOptimiser(0.1)\n",
    "\n",
    "```\n",
    "\n",
    "##### Questions and thoughts\n",
    "* how is this really a residual? we are really taking the gradient of the loss? is that the same as a residual? if the loss is the MSE then yes? otherwise?\n",
    "Try implement in tf?\n",
    "* Ahh. So each residual unit in a resnet can act as an h? A weak learner fitting itself to whatever error there is in x. Why \n",
    "* https://jeremykun.com/2015/05/18/boosting-census/\n",
    "* https://codesachin.wordpress.com/2016/03/06/a-small-introduction-to-boosting/"
   ]
  },
  {
   "cell_type": "markdown",
   "metadata": {},
   "source": [
    "### Tree boosting\n",
    "\n",
    "???"
   ]
  },
  {
   "cell_type": "code",
   "execution_count": 7,
   "metadata": {
    "collapsed": true
   },
   "outputs": [],
   "source": [
    "from autograd import grad\n",
    "import autograd.numpy as np\n",
    "\n",
    "#Some short examples of Boosting/ResNets"
   ]
  },
  {
   "cell_type": "code",
   "execution_count": null,
   "metadata": {
    "collapsed": true
   },
   "outputs": [],
   "source": [
    "def WeakLearner():\n",
    "    #?\n",
    "\n",
    "def GradBoost(x,l):\n",
    "    for i in range(n):\n",
    "        "
   ]
  },
  {
   "cell_type": "code",
   "execution_count": 10,
   "metadata": {
    "collapsed": false
   },
   "outputs": [
    {
     "ename": "SyntaxError",
     "evalue": "invalid syntax (<ipython-input-10-b3f8b3611fcc>, line 3)",
     "output_type": "error",
     "traceback": [
      "\u001b[0;36m  File \u001b[0;32m\"<ipython-input-10-b3f8b3611fcc>\"\u001b[0;36m, line \u001b[0;32m3\u001b[0m\n\u001b[0;31m    class\u001b[0m\n\u001b[0m          ^\u001b[0m\n\u001b[0;31mSyntaxError\u001b[0m\u001b[0;31m:\u001b[0m invalid syntax\n"
     ]
    }
   ],
   "source": [
    "act_fn = lambda x: 1/(1+np.exp(-x))\n",
    "depth = 10\n",
    "class \n",
    "\n",
    "def layer(z,w,b):\n",
    "    return z + act_fn(np.dot(w,z) + b)\n",
    "\n",
    "def Net(x):\n",
    "    output = x\n",
    "    for i in range(depth):\n",
    "        w,b = params[i]\n",
    "        output = layer(output,w,b)\n",
    "\n",
    "def Loss(w,ims,labels):\n",
    "    return np.mean(np.sum(-labels * np.log(Net(ims)),1)) #cross entropy\n",
    "    \n",
    "dL = grad(Loss)\n",
    "\n",
    "#hmm. this is kida a pain in the ass for a resnet."
   ]
  },
  {
   "cell_type": "markdown",
   "metadata": {},
   "source": [
    "## Boosting -> ResNet\n",
    "\n",
    "Let F be a ResNet, $F:X\\rightarrow Y$. With;\n",
    "* depth D, with $0<i<D-1$.\n",
    "* $y =  x_0 + \\sum F_i(x_i)$\n",
    "\n",
    "### SGD interpretation\n",
    "\n",
    "http://papers.nips.cc/paper/1766-boosting-algorithms-as-gradient-descent.pdf\n",
    "\n",
    "```python\n",
    "Res = ResNet()\n",
    "#for each iteration, epochs, time, .. whatever.\n",
    "for t in range(T):\n",
    "    y = Res.run(data)\n",
    "    \n",
    "    ### Calulate the residual of the function.\n",
    "    # Instead, do this for each layer/weak learner\n",
    "    # Backprop loss through the net to the output of layer i\n",
    "    residual = grad(loss(y, label)) # a vector of partials, dLoss/dLayer_i \n",
    "    \n",
    "    ### Fit the residual loss to a new function.\n",
    "    # Instead, \n",
    "    h = residual\n",
    "    \n",
    "    ### Compute a multiplier for the new weak learner.\n",
    "    # Instead set it to be a constant\n",
    "    g = learning_rate\n",
    "    \n",
    "    ### Update our function - F = F + g h\n",
    "    # SGD.\n",
    "    Res.params = Res.params +  g*h\n",
    "```"
   ]
  },
  {
   "cell_type": "markdown",
   "metadata": {},
   "source": [
    "##### Boosting - Definitions\n",
    "\n",
    "$$\n",
    "\\vec{r}^{t} = - \\left[ \\frac{\\partial \\mathcal{L} (\\vec{y},F(\\vec{x}_t))}{\\partial F(\\vec{x}_t)} \\right]_{F(\\vec{x}) = F(\\vec{x})_{t-1}}\n",
    "$$\n",
    "So $\\vec{r}^{t}$ is a vector of residual errors (over the dataset) for a given function F(x).\n",
    "##### ResNet - Definitions\n",
    "$$\n",
    "\\vec{r}^{t} = - \\left[ \\frac{\\partial \\mathcal{L} (\\vec{y},F(\\vec{x}_t))}{\\partial f_i(\\vec{x}_t)} \\right]_{F(\\vec{x}) = F(\\vec{x})_{t-1}}\n",
    "$$\n",
    "So $\\vec{r}^{t}$ is a vector of residual error (over each layer) for a given batch."
   ]
  },
  {
   "cell_type": "markdown",
   "metadata": {},
   "source": [
    "### Initialisation interpretation\n",
    "\n",
    "```python\n",
    "Res = ResNet()\n",
    "#for each iteration, epochs, time, .. whatever.\n",
    "for t in range(T):\n",
    "    y = \n",
    "    \n",
    "    ### Calulate the residual of the function.\n",
    "    # Instead, do this for each layer/weak learner\n",
    "    # Backprop loss through the net to the output of layer i\n",
    "    residual = grad(loss(y, label)) # a vector of partials, dLoss/dLayer_i \n",
    "    \n",
    "    ### Fit the residual loss to a new function.\n",
    "    # Instead, initialise a new function with the parameters of the last\n",
    "    h = ResNet(params = Res.params)\n",
    "    for layer in layers:\n",
    "        h = fit(Res.params, residual)\n",
    "    \n",
    "    ### Update our function -- F = F + g h\n",
    "    # Instead, discard the previous function\n",
    "    Res.params = h\n",
    "```\n",
    "\n"
   ]
  },
  {
   "cell_type": "markdown",
   "metadata": {},
   "source": [
    "### ResNet -> Boosting\n",
    "\n",
    "```python\n",
    "\n",
    "for batch in batches:\n",
    "    \n",
    "\n",
    "```"
   ]
  }
 ],
 "metadata": {
  "kernelspec": {
   "display_name": "Python 3",
   "language": "python",
   "name": "python3"
  },
  "language_info": {
   "codemirror_mode": {
    "name": "ipython",
    "version": 3
   },
   "file_extension": ".py",
   "mimetype": "text/x-python",
   "name": "python",
   "nbconvert_exporter": "python",
   "pygments_lexer": "ipython3",
   "version": "3.5.1"
  }
 },
 "nbformat": 4,
 "nbformat_minor": 0
}
