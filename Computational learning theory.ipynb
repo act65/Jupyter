{
 "cells": [
  {
   "cell_type": "markdown",
   "metadata": {},
   "source": [
    "What is learnable? (I think) it depends of four fundamental factors.\n",
    "\n",
    "> * <i>What it does (model and capacity)\n",
    "* What it does it to (data and environment)\n",
    "* How well it does it (accuracy and error)\n",
    "* How efficiently it does it (computations, time, memory, energy)</i>\n",
    "\n",
    "* How we learn and process\n",
    "* How efficiently we do it\n",
    "* What we are doing it to\n",
    "* How accurately we do it"
   ]
  },
  {
   "cell_type": "markdown",
   "metadata": {},
   "source": [
    "# Model/Capacity\n",
    "\n",
    "* Proofs that increases in capacity give greater generalisation error.\n",
    "    * So we need simple structures that somehow match the structure of our problem."
   ]
  },
  {
   "cell_type": "markdown",
   "metadata": {},
   "source": [
    "# Efficiency"
   ]
  },
  {
   "cell_type": "markdown",
   "metadata": {},
   "source": [
    "# Data"
   ]
  },
  {
   "cell_type": "markdown",
   "metadata": {},
   "source": [
    "# Error"
   ]
  },
  {
   "cell_type": "markdown",
   "metadata": {},
   "source": [
    "### Doublets\n",
    "\n",
    "##### Model+Data = Representations and invariance\n",
    "\n",
    "What structure... suits the data. E.g. convolutions for images.\n",
    "How doe structure in our data constrain/select the structure we should use in our learners?\n",
    "\n",
    "##### Model+Efficiency = Computational complexity\n",
    "\n",
    "\n",
    "\n",
    "##### Model+Error = Learning theory/generalisation\n",
    "\n",
    "Traditional learning (from 90s) theory focuses here\n",
    "VC\n",
    "How does capacity effect generalisation\n",
    "Telgarsky\n",
    "\n",
    "##### Data+Efficiency = Attention\n",
    "\n",
    "\n",
    "\n",
    "##### Data+Error = Statistical learning theory\n",
    "\n",
    "\n",
    "##### Efficiency+Error = Online Optimisation"
   ]
  },
  {
   "cell_type": "markdown",
   "metadata": {
    "collapsed": true
   },
   "source": [
    "### Triplets\n",
    "\n",
    "##### Error-Capacity-Data\n",
    "\n",
    "##### Error-Data-Efficiency\n",
    "\n",
    "##### Error-Capacity-Efficiency\n",
    "\n",
    "Optimisers designed for NNs.\n",
    "\n",
    "##### Data-Capacity-Efficiency\n",
    "\n"
   ]
  },
  {
   "cell_type": "markdown",
   "metadata": {},
   "source": [
    "# Unification -- quadruplet\n",
    "\n",
    "Without proving something in all domains, you end up proving nothing. Take []() for examle, ... but does it actually learn faster and more accurately?"
   ]
  },
  {
   "cell_type": "markdown",
   "metadata": {},
   "source": [
    "# Open problems\n",
    "\n",
    "* Evolution\n",
    "* Cognition\n",
    "* Physics"
   ]
  },
  {
   "cell_type": "markdown",
   "metadata": {},
   "source": [
    "# Techniques\n",
    "\n",
    "Proving lower bounds\n",
    "* How?!?"
   ]
  }
 ],
 "metadata": {
  "kernelspec": {
   "display_name": "Python 3",
   "language": "python",
   "name": "python3"
  },
  "language_info": {
   "codemirror_mode": {
    "name": "ipython",
    "version": 3
   },
   "file_extension": ".py",
   "mimetype": "text/x-python",
   "name": "python",
   "nbconvert_exporter": "python",
   "pygments_lexer": "ipython3",
   "version": "3.5.2"
  }
 },
 "nbformat": 4,
 "nbformat_minor": 0
}
