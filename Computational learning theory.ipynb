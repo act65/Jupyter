{
 "cells": [
  {
   "cell_type": "markdown",
   "metadata": {},
   "source": [
    "(I think) there are four fundamental factors that constrains a learner.\n",
    "\n",
    "> * <i>What it does (model and capacity)\n",
    "* What it does it to (data and environment)\n",
    "* How well it does it (accuracy and error)\n",
    "* How efficiently it does it (computations, time, memory, energy)</i>\n",
    "\n",
    "What is learnable? Does it depend solely on the data? Or the ... No, it is depedent on all factors.\n",
    "\n",
    "<!--Need a simple example.-->"
   ]
  },
  {
   "cell_type": "markdown",
   "metadata": {},
   "source": [
    "# Model/Capacity\n",
    "\n",
    "* Proofs that increases in capacity give greater generalisation error.\n",
    "    * So we need simple structures that somehow match the structure of our problem.\n",
    "    \n",
    "    \n",
    "hypotheses and falsification??\n",
    "scientific method?\n",
    "\n",
    "VC is just about existience. (proving a lower bound is easier than proving an upper bound. need to show there exists one set that shatters the inputs, vs need to prove there doesnt exist ... that shatters\n",
    "\n",
    "what happens when hypothesis class doesnt contain the target class? (or the target class is exponentially hard to model in the given hypothesis class)\n",
    "\n",
    "syntactic hypothesis space (all possible hypotheses you can write)\n",
    "semantic hypothesis space (actual different functions you can practiaclly represent)"
   ]
  },
  {
   "cell_type": "markdown",
   "metadata": {},
   "source": [
    "# Efficiency"
   ]
  },
  {
   "cell_type": "markdown",
   "metadata": {},
   "source": [
    "# Data\n",
    "\n",
    "How much?\n",
    "What form? (batch?, online?)\n",
    "What accuracy can we measure it?\n",
    "Margin, separability, ... ?\n",
    "sample complexity\n",
    "\n",
    "\n",
    "Learner chooses. Teacher chooses. Nature chooses."
   ]
  },
  {
   "cell_type": "markdown",
   "metadata": {},
   "source": [
    "# Error\n",
    "\n",
    "mistake bounds"
   ]
  },
  {
   "cell_type": "markdown",
   "metadata": {},
   "source": [
    "### Doublets\n",
    "\n",
    "##### Model+Data = Capacity (and Representations and invariance?)\n",
    "\n",
    "Traditional learning (from 90s) ... VC\n",
    "\n",
    "What structure... suits the data. E.g. convolutions for images.\n",
    "How doe structure in our data constrain/select the structure we should use in our learners?\n",
    "\n",
    "\n",
    "##### Model+Efficiency = Computational complexity\n",
    "\n",
    "\n",
    "\n",
    "##### Model+Error = Generalisation\n",
    "\n",
    "\n",
    "How does capacity effect generalisation and/or ability to approximate?\n",
    "Telgarsky\n",
    "\n",
    "##### Data+Efficiency = Attention\n",
    "\n",
    "\n",
    "\n",
    "##### Data+Error = Statistical learning theory\n",
    "\n",
    "\n",
    "##### Efficiency+Error = Online Optimisation"
   ]
  },
  {
   "cell_type": "markdown",
   "metadata": {
    "collapsed": true
   },
   "source": [
    "### Triplets\n",
    "\n",
    "##### Error-Capacity-Data\n",
    "\n",
    "##### Error-Data-Efficiency\n",
    "\n",
    "##### Error-Capacity-Efficiency\n",
    "\n",
    "Optimisers designed for NNs.\n",
    "\n",
    "##### Data-Capacity-Efficiency\n",
    "\n"
   ]
  },
  {
   "cell_type": "markdown",
   "metadata": {},
   "source": [
    "# Unification -- quadruplet\n",
    "\n",
    "Without proving something in all domains, you end up proving nothing. Take []() for examle, ... but does it actually learn faster and more accurately?"
   ]
  },
  {
   "cell_type": "markdown",
   "metadata": {},
   "source": [
    "# Open problems\n",
    "\n",
    "* Evolution\n",
    "    * Could it have happened in the alloted time?\n",
    "* Cognition\n",
    "    * \n",
    "* Physics -- Constrains what is actually possible. \n",
    "    * Base all four factors in physics (using information? or energy?)\n",
    "        * Efficiency -> computations, energy, reverisible ...\n",
    "        * Data -> need to measure, collect, store, \n",
    "        * Model -> needs to be realisable and maintainable (error correcting architectures??)\n",
    "        * Error -> ?"
   ]
  },
  {
   "cell_type": "markdown",
   "metadata": {},
   "source": [
    "# Techniques\n",
    "\n",
    "Proving lower bounds\n",
    "* How?!?"
   ]
  }
 ],
 "metadata": {
  "kernelspec": {
   "display_name": "Python 3",
   "language": "python",
   "name": "python3"
  },
  "language_info": {
   "codemirror_mode": {
    "name": "ipython",
    "version": 3
   },
   "file_extension": ".py",
   "mimetype": "text/x-python",
   "name": "python",
   "nbconvert_exporter": "python",
   "pygments_lexer": "ipython3",
   "version": "3.5.2"
  }
 },
 "nbformat": 4,
 "nbformat_minor": 0
}
