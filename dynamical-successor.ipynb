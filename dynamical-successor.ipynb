{
 "cells": [
  {
   "cell_type": "code",
   "execution_count": 1,
   "metadata": {},
   "outputs": [],
   "source": [
    "import autograd.numpy as np\n",
    "from autograd import grad\n",
    "\n",
    "import matplotlib.pyplot as plt"
   ]
  },
  {
   "cell_type": "markdown",
   "metadata": {},
   "source": [
    "Goal. Learn the transition fn for a complex dynamical system.\n",
    "\n",
    "A few moving parts. (vaugely inspired by the successor representation)\n",
    "\n",
    "__Online clustering__ that starts simple and increases the number of clusters.\n",
    "- Could cluster by reward.\n",
    "- Want it to be density based!\n",
    "\n",
    "__Transition approximation__ that can be learned and transferred.\n",
    "- Given a clustering algol on a dynamical system, learn a simpler transition fn. A reduced representation.\n",
    "- Given a new clustering, $C_{new}$, which was derived from $C_{old}$. And given $T_{old}$ which learned to capture the dynamics under $C_{old}$, construct $T_{new}$ using the knowledge we have.\n",
    "    - if a cluster is split in two, then init both with the same transition fns and let them diverge as necessary.\n",
    "    - if a new cluster overlaps two old ones, then !?!?\n",
    "    \n",
    "    \n",
    "***\n",
    "\n",
    "Matrices are really nice as they make it easy to transfer the knowledge.\n",
    "If node/cluster $d$ recieved from $a$ and projected to $e, f$. Then when we init the new clusters, $d_1, d_2$ we can initialise them with the same signature as $d$.\n",
    "\n",
    "Which other representations make this easy? How can this be done with a neural network?\n",
    "If $t: S \\rightarrow S$ is some transition function, and $t^*$ is our approximation, then how can we transfer knowledge in the NN to ...?\n",
    "\n",
    "***\n",
    "\n",
    "$$\n",
    "y(t) = f(y_t-1, dy_t-1, ...?)\n",
    "$$\n",
    "\n",
    "$$\n",
    "\n",
    "$$"
   ]
  },
  {
   "cell_type": "code",
   "execution_count": 323,
   "metadata": {},
   "outputs": [],
   "source": [
    "class DynamicalSystem():\n",
    "    \"\"\"\n",
    "    Want something related to DFAs.\n",
    "    \n",
    "    For now, just binarise the states.\n",
    "    \n",
    "    TODO;\n",
    "    - generate non linear systems\n",
    "    - find a nice system, a complex graph or something, with meaningful nodes\n",
    "    - ?\n",
    "    \"\"\"\n",
    "    smap = {0:' ', 1:'.'}\n",
    "    \n",
    "    def __init__(self, n):\n",
    "        self.n = n\n",
    "\n",
    "        \n",
    "        self.state = np.zeros(n)\n",
    "        self.state[np.random.randint(0, self.n)] = 1\n",
    "        \n",
    "        # could make a sparse matrix to be more efficient?\n",
    "        self.G = np.random.randint(-2, 2, (n, n))\n",
    "        self.G = (0.5/(n**2)*(np.random.standard_normal((n, n)) > 1).astype(np.int32) \n",
    "                  - 0.5/(n**2)*(np.random.standard_normal((n, n)) > 1).astype(np.int32))\n",
    "        \n",
    "    @staticmethod\n",
    "    def tostring(x):\n",
    "        return ''.join([DFA.smap[s] for s in x])\n",
    "        \n",
    "    def __repr__(self):\n",
    "        return self.tostring(self.state)\n",
    "    \n",
    "    def step(self):\n",
    "        self.state = (np.dot(self.G, self.state) > 0).astype(np.int32)\n",
    "        \n",
    "    def reset(self):\n",
    "        self.state = np.zeros(self.n)\n",
    "        self.state[np.random.randint(0, self.n)] = 1\n",
    "        \n",
    "    def show(self):\n",
    "        plt.imshow(self.G, interpolation='nearest', cmap='gray')\n",
    "        \n",
    "        \n",
    "class Encoder():\n",
    "    \"\"\"\n",
    "    Want to learn this encoder, but for now, just use rnd projection.\n",
    "    \n",
    "    TODO;\n",
    "    - learn online\n",
    "    - look into neural discrete representations \n",
    "    (could be as simple as just adding a new vector to memory?)\n",
    "    https://gist.github.com/act65/edf2627b42ee570fe2ea36d8e33f7b88\n",
    "    https://deepmind.com/research/publications/neural-discrete-representation-learning/\n",
    "    - \n",
    "    \"\"\"\n",
    "    def __init__(self, n, d):\n",
    "        self.n = n\n",
    "        self.d = d\n",
    "        self.proj = np.random.standard_normal((d, n))\n",
    "    \n",
    "    def __call__(self, x):\n",
    "        return (np.dot(self.proj, x).T > 0).astype(np.int32)\n",
    "    \n",
    "    def add_cluster(self):\n",
    "        self.proj = np.vstack([self.proj, np.random.standard_normal((1, self.n))])"
   ]
  },
  {
   "cell_type": "code",
   "execution_count": 324,
   "metadata": {},
   "outputs": [
    {
     "data": {
      "image/png": "[encoded data removed]",
      "text/plain": [
       "<matplotlib.figure.Figure at 0x7facaf74c668>"
      ]
     },
     "metadata": {},
     "output_type": "display_data"
    }
   ],
   "source": [
    "n = 32\n",
    "d = 12\n",
    "ds = DFA(n)\n",
    "ds.show()\n",
    "\n",
    "enc = Encoder(n, d)"
   ]
  },
  {
   "cell_type": "code",
   "execution_count": 325,
   "metadata": {},
   "outputs": [
    {
     "name": "stdout",
     "output_type": "stream",
     "text": [
      "      .                          ---  . ....... .\n",
      "  . .  .    .     .....  .     . ---  ...... . ..\n",
      "..   .... . ...    .  ..  . .    --- ...... .. ..\n",
      "  ..   .. . .   .. .. .   .  . . --- . .. ..   ..\n",
      "....   .... ..  .. .   .  . ..   --- . .. .  . ..\n",
      "  ..   .... .    .        .  . . --- . .  .  . ..\n",
      " ..     ... .    .        . .. . --- . .  .  . . \n",
      "  ..   .... .  . . .   .  . .. . ---   ....  .   \n",
      " ...    ... .  . .        . .. . ---   .  .  . . \n",
      " ...   .... .  . .        .  . . --- . .  .  . ..\n"
     ]
    }
   ],
   "source": [
    "dfa.reset()\n",
    "for i in range(10):\n",
    "    print(dfa, '---', dfa.tostring(enc(dfa.state)))\n",
    "    dfa.step()"
   ]
  },
  {
   "cell_type": "code",
   "execution_count": 326,
   "metadata": {},
   "outputs": [
    {
     "name": "stdout",
     "output_type": "stream",
     "text": [
      "          .                       --- .. ... .  .  \n",
      "  .       . .             .  .    --- . .. .. .   .\n",
      " ..     ...        .  .   . ..    --- . .  .  . .  \n",
      "  .     ...      . .   .     . .  ---   . ..  .    \n",
      " ..  . .... .  . ..    .  . .. .  --- . .  .  . . .\n",
      " ...   .... .   .. .  .     .. .  --- . .  .  . ...\n",
      "....   .... .    .        .  . .  ---   . ..  . .. \n",
      " ..    .. . .    .        .  . .  --- . .  .  . .. \n",
      " ..    .... .   .. .   . .. ..    --- . .  .. . .. \n",
      "  ..   .... .    . .   .  .  . .  --- . .. .  . .  \n"
     ]
    }
   ],
   "source": [
    "enc.add_cluster()\n",
    "dfa.reset()\n",
    "for i in range(10):\n",
    "    print(dfa, '---', dfa.tostring(enc(dfa.state)))\n",
    "    dfa.step()"
   ]
  },
  {
   "cell_type": "code",
   "execution_count": 327,
   "metadata": {},
   "outputs": [],
   "source": [
    "class Approximator():\n",
    "    \"\"\"\n",
    "    \n",
    "    TODO;\n",
    "    - need a way to transfer knowledge given knowledge about where to transfer\n",
    "    - want a more powerful representation (non linear fn approximator)\n",
    "    - ?\n",
    "    \"\"\"\n",
    "    def __init__(self, n, approx=None):\n",
    "        self.n = n\n",
    "        self.W = np.random.standard_normal((n, n))\n",
    "        self.dL = grad(self.loss)\n",
    "        \n",
    "    @staticmethod\n",
    "    def loss(W, x, t):\n",
    "        # this doesnt seem fair. the dfa uses a different fn to generate the seq\n",
    "        y = np.dot(W, x)  \n",
    "        return np.sum((t-y)**2)\n",
    "    \n",
    "    def __call__(self, x):  \n",
    "        return (np.dot(self.W, x) > 0.5).astype(np.int32)\n",
    "        \n",
    "    def train(self, x, t):\n",
    "        self.W -= 0.001 * self.dL(self.W, x, t)"
   ]
  },
  {
   "cell_type": "code",
   "execution_count": 328,
   "metadata": {},
   "outputs": [],
   "source": [
    "app = Approximator(3)\n",
    "x = np.random.random((3, 1))\n",
    "t = np.random.random((3, 1))\n",
    "app.train(x, t)"
   ]
  },
  {
   "cell_type": "code",
   "execution_count": 329,
   "metadata": {},
   "outputs": [],
   "source": [
    "n = 128\n",
    "d = 16\n",
    "dfa = DFA(n)\n",
    "enc = Encoder(n, d)\n",
    "app = Approximator(d)"
   ]
  },
  {
   "cell_type": "code",
   "execution_count": 330,
   "metadata": {},
   "outputs": [
    {
     "name": "stdout",
     "output_type": "stream",
     "text": [
      "loss: 4.386233162502998"
     ]
    }
   ],
   "source": [
    "def train(dfa, enc, app, epochs=500):\n",
    "\n",
    "    for e in range(epochs):\n",
    "        dfa.reset()\n",
    "        old_obs = enc(dfa.state)\n",
    "        for i in range(20):\n",
    "            dfa.step()\n",
    "            obs = enc(dfa.state)\n",
    "            app.train(old_obs, obs)\n",
    "\n",
    "            loss = app.loss(app.W, old_obs, obs)\n",
    "    #         loss = np.linalg.norm(app.W-dfa.G)\n",
    "            print('\\rloss: {}'.format(loss), end='', flush=True)\n",
    "            old_obs = obs\n",
    "    return app\n",
    "            \n",
    "app = train(dfa, enc, app)"
   ]
  },
  {
   "cell_type": "code",
   "execution_count": 176,
   "metadata": {},
   "outputs": [],
   "source": [
    "# want batch training!?\n",
    "# online training is unnecessarily complicating things?\n",
    "def run(dfa, n):\n",
    "    for i in range(20):\n",
    "        dfa.step()\n",
    "        obs = enc(dfa.state)\n",
    "    return np.array([dfa.step()])\n",
    "\n"
   ]
  },
  {
   "cell_type": "code",
   "execution_count": 343,
   "metadata": {},
   "outputs": [
    {
     "name": "stdout",
     "output_type": "stream",
     "text": [
      ".   ....  ... ..  --- ......... ......\n",
      "     ....  . .    ---     .  ..       \n",
      "    .. .....  ..  --- ..  .  .. .  ...\n",
      ".   .. .. .. . .  --- ..  .  .. .. ...\n",
      " .    ... .. .    ---  .  .  .. .    .\n",
      " .   . .  ..  ..  --- ..  .  .. ..  ..\n",
      " .  .. .. ..  ..  --- ..  .  .. .. ...\n",
      ".   .  .  .   .   ---  .        .   ..\n",
      " .       ... ..   --- ..     .  .   . \n",
      "...    .  ..  .   ---  .     .. ..  ..\n"
     ]
    }
   ],
   "source": [
    "dfa.reset()\n",
    "for i in range(10):\n",
    "    c = enc(dfa.state)\n",
    "    y = app(c)\n",
    "    dfa.step()\n",
    "    print(dfa.tostring(c), '---', dfa.tostring(y))"
   ]
  },
  {
   "cell_type": "code",
   "execution_count": null,
   "metadata": {},
   "outputs": [],
   "source": [
    "enc.add_cluster()\n",
    "app = Approximator.transfer(old_enc, new_enc, app)  # construct new approx. how!?\n",
    "app = train(dfa, enc, app)"
   ]
  },
  {
   "cell_type": "code",
   "execution_count": null,
   "metadata": {},
   "outputs": [],
   "source": []
  },
  {
   "cell_type": "code",
   "execution_count": null,
   "metadata": {},
   "outputs": [],
   "source": []
  }
 ],
 "metadata": {
  "kernelspec": {
   "display_name": "Python 3",
   "language": "python",
   "name": "python3"
  },
  "language_info": {
   "codemirror_mode": {
    "name": "ipython",
    "version": 3
   },
   "file_extension": ".py",
   "mimetype": "text/x-python",
   "name": "python",
   "nbconvert_exporter": "python",
   "pygments_lexer": "ipython3",
   "version": "3.6.4"
  }
 },
 "nbformat": 4,
 "nbformat_minor": 2
}
