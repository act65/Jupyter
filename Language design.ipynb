{
 "cells": [
  {
   "cell_type": "markdown",
   "metadata": {},
   "source": [
    "# Method\n",
    "\n",
    "\n",
    "Where do you usually start?\n",
    "\n",
    "* You want to design a language about something. But you don't really understand what the something is because you don't have a nalnguage to describe it.\n",
    "* "
   ]
  },
  {
   "cell_type": "markdown",
   "metadata": {},
   "source": [
    "# Language-design language\n",
    "\n",
    "\n",
    "* Semantics\n",
    "* Syntax\n",
    "* ?\n",
    "\n",
    "so this is linguistics?"
   ]
  },
  {
   "cell_type": "markdown",
   "metadata": {},
   "source": [
    "> You know what a throwaway program is: something you write quickly for some limited task. I think if you looked around you'd find that a lot of big, serious programs started as throwaway programs. I would not be surprised if most programs started as throwaway programs. And so if you want to make a language that's good for writing software in general, it has to be good for writing throwaway programs, because that is the larval stage of most software.\n",
    "\n",
    "\n",
    "What New Abstractions Are Left to Discover?\n",
    "\n",
    "> I'm not sure how reasonable a hope this is, but one thing I would really love to do, personally, is discover a new abstraction-- something that would make as much of a difference as having first class functions or recursion or even keyword parameters. This may be an impossible dream. These things don't get discovered that often. But I am always looking.\n",
    "\n",
    "[Paul graham](http://www.paulgraham.com/langdes.html)\n",
    "\n",
    "### Declarative programming\n",
    "\n",
    "> someday we'll be programming in purely declarative languages, telling the computer what to do, and letting it figure out how. [Steve Yegge](https://sites.google.com/site/steveyegge2/practical-magic)\n",
    "\n",
    "\n",
    "TODO\n",
    "probabilistic programming\n",
    "differentiable programming\n",
    "???"
   ]
  }
 ],
 "metadata": {
  "kernelspec": {
   "display_name": "Python 3",
   "language": "python",
   "name": "python3"
  },
  "language_info": {
   "codemirror_mode": {
    "name": "ipython",
    "version": 3
   },
   "file_extension": ".py",
   "mimetype": "text/x-python",
   "name": "python",
   "nbconvert_exporter": "python",
   "pygments_lexer": "ipython3",
   "version": "3.5.1"
  }
 },
 "nbformat": 4,
 "nbformat_minor": 0
}
