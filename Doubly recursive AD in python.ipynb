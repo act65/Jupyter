{
 "cells": [
  {
   "cell_type": "code",
   "execution_count": 28,
   "metadata": {
    "collapsed": false
   },
   "outputs": [],
   "source": [
    "class Dual():\n",
    "    def __init__(self,val,grad):\n",
    "        self.val = val\n",
    "        self.grad = grad\n",
    "        \n",
    "    def __add__(self,x):\n",
    "        return Dual(self.val + x.val,self.grad + x.grad)\n",
    "    \n",
    "    def __mul__(self,x):\n",
    "        return Dual(self.val*x.val,self.grad*x.val + self.val*x.grad)\n",
    "    \n",
    "    def __str__(self):\n",
    "        return str(self.val) + ' , '+ str(self.grad)"
   ]
  },
  {
   "cell_type": "code",
   "execution_count": 31,
   "metadata": {
    "collapsed": false
   },
   "outputs": [
    {
     "name": "stdout",
     "output_type": "stream",
     "text": [
      "9 , 15\n"
     ]
    }
   ],
   "source": [
    "print(Dual(3,1) * Dual(3,4))"
   ]
  },
  {
   "cell_type": "code",
   "execution_count": 38,
   "metadata": {
    "collapsed": false
   },
   "outputs": [
    {
     "name": "stdout",
     "output_type": "stream",
     "text": [
      "13 , 11 , 9\n",
      "30 , 0 , 47 , 34\n"
     ]
    }
   ],
   "source": [
    "print(Dual(3,Dual(2,1)) + Dual(10,Dual(9,8)))\n",
    "print(Dual(Dual(3,0),Dual(2,1)) * Dual(Dual(10,0),Dual(9,8)))"
   ]
  }
 ],
 "metadata": {
  "kernelspec": {
   "display_name": "Python 3",
   "language": "python",
   "name": "python3"
  },
  "language_info": {
   "codemirror_mode": {
    "name": "ipython",
    "version": 3
   },
   "file_extension": ".py",
   "mimetype": "text/x-python",
   "name": "python",
   "nbconvert_exporter": "python",
   "pygments_lexer": "ipython3",
   "version": "3.5.1"
  }
 },
 "nbformat": 4,
 "nbformat_minor": 0
}
