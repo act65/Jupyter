{
 "cells": [
  {
   "cell_type": "markdown",
   "metadata": {},
   "source": [
    "Seems important, should look into it.\n",
    "\n",
    "* [newtons](https://en.wikipedia.org/wiki/Newton%27s_method)\n",
    "* https://en.wikipedia.org/wiki/Scoring_algorithm\n",
    "* [bfgs](https://en.wikipedia.org/wiki/Broyden%E2%80%93Fletcher%E2%80%93Goldfarb%E2%80%93Shanno_algorithm)"
   ]
  },
  {
   "cell_type": "markdown",
   "metadata": {},
   "source": [
    "$$\n",
    "\\begin{align}\n",
    "f(x) \\Big|_{x^0}&\\approx f(x^0) + (x - x^0)^T \\nabla_x f(x^0) + \\frac{1}{2} (x - x^0)^T \\mathcal{H}(f)(x^0)(x - x^0) + \\mathcal O() \\tag{2nd order taylor expansion} \\\\\n",
    "...\\\\\n",
    "x^* &= x^0 - \\big(\\mathcal H(F)(x^0)\\big)^{-1}\\nabla_x f(x^0)\n",
    "\\end{align}\n",
    "$$"
   ]
  }
 ],
 "metadata": {
  "kernelspec": {
   "display_name": "Python 3",
   "language": "python",
   "name": "python3"
  },
  "language_info": {
   "codemirror_mode": {
    "name": "ipython",
    "version": 3
   },
   "file_extension": ".py",
   "mimetype": "text/x-python",
   "name": "python",
   "nbconvert_exporter": "python",
   "pygments_lexer": "ipython3",
   "version": "3.5.1"
  }
 },
 "nbformat": 4,
 "nbformat_minor": 0
}
