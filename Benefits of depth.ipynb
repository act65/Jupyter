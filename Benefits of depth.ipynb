{
 "cells": [
  {
   "cell_type": "markdown",
   "metadata": {},
   "source": [
    "Goal:\n",
    "\n",
    "Prove that deep neural networks are better than wide ones.\n",
    "\n",
    "\n",
    "## How can you prove this?\n",
    "\n",
    "\n",
    "General solution\n",
    "\n",
    "* Show that a function cannot arbitrarily reduce approximation error by changing weights, aka that there is a lower bound on error?\n",
    "* \n",
    "\n",
    "Current methods\n",
    "\n",
    "* Show that; ([Telgarsky](http://arxiv.org/abs/1602.04485))\n",
    "    * Functions with few oscillations pooorly approximate functions with many oscillations\n",
    "    * Functions computed by networks with few layers must have few oscillations\n",
    "    * Functions computed by networks with many layers can have many oscillations\n",
    "\n",
    "\n",
    "Ideas\n",
    "\n",
    "* Paths\n",
    "    * More paths = more representation power?\n",
    "    * Weight tying across paths allows faster learning?\n",
    "* Information\n",
    "    * We need to mix information in certain complicated ways, \n",
    "\n",
    "Problems\n",
    "\n",
    "* Both wide and deep non-linear nets are universal. So we need to ??? \n",
    "\n",
    "\n",
    "### Thoughts/questions\n",
    "\n",
    "* Maybe representational power of width $\\approx$ depth, but training/optimisation of width $\\not \\approx$ depth"
   ]
  }
 ],
 "metadata": {
  "kernelspec": {
   "display_name": "Python 3",
   "language": "python",
   "name": "python3"
  },
  "language_info": {
   "codemirror_mode": {
    "name": "ipython",
    "version": 3
   },
   "file_extension": ".py",
   "mimetype": "text/x-python",
   "name": "python",
   "nbconvert_exporter": "python",
   "pygments_lexer": "ipython3",
   "version": "3.5.2"
  }
 },
 "nbformat": 4,
 "nbformat_minor": 0
}
