{
 "cells": [
  {
   "cell_type": "markdown",
   "metadata": {},
   "source": [
    "* Quantum physics is linear...??? How does this bias our environment? Should we be building linear algorithms? What does non-linearity buy us? Greater efficiency (maybe at the software level, but not at the hardware??) Maybe we should be building larger linear nets?\n",
    "* So for a system to be more efficient we need to use less energy to push things around, aka more criticality? But can you ensure control over this? Reversable (Reversibility refers to performing a reaction continuously at equilibrium) actions are key(?).\n",
    "* \n",
    "\n"
   ]
  }
 ],
 "metadata": {
  "kernelspec": {
   "display_name": "Python 3",
   "language": "python",
   "name": "python3"
  },
  "language_info": {
   "codemirror_mode": {
    "name": "ipython",
    "version": 3
   },
   "file_extension": ".py",
   "mimetype": "text/x-python",
   "name": "python",
   "nbconvert_exporter": "python",
   "pygments_lexer": "ipython3",
   "version": "3.5.1"
  }
 },
 "nbformat": 4,
 "nbformat_minor": 0
}
