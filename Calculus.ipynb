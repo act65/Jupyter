{
 "cells": [
  {
   "cell_type": "markdown",
   "metadata": {},
   "source": [
    "Ok, a quick review of this as I dont know as much as I thought I did... \n",
    "\n",
    "### Finite difference\n",
    "\n",
    "\n",
    "\n",
    "\n",
    "### Partial vs total differentiation\n",
    "\n",
    "When can we use $\\frac{df}{dx}$ vs $\\frac{\\partial f}{\\partial x}$? So the total derivative of a function is the sum (??) of all its derivatves with respect to its variables.\n",
    "\n",
    "\n",
    "### Directional derivatives\n",
    "\n",
    "\n",
    "\n",
    "\n",
    "### Chain rule\n",
    "\n",
    "\n",
    "\n",
    "# Jacobians\n",
    "\n",
    "Does $\\frac{\\partial^2 f}{\\partial x \\partial y} = \\frac{\\partial^2 f}{\\partial y \\partial x}$. Proof!\n",
    "\n",
    "\n",
    "$H(f(x)) = J(\\nabla f(x))$\n",
    "but $J = \\nabla f(x)$ ? so therefore $H(f(x)) = J(J(f(x)) = \\nabla(\\nabla(f(x))$\n",
    "\n",
    "# Hessians\n",
    "\n",
    "Why do we need to compute the hessian? $\\frac{\\partial^2 f}{\\partial x_1 \\partial x_2}$? I though we were only interested in $\\frac{\\partial^2 f}{\\partial x_1^2 }$. Aka the diagonal of the hessian, which should be easier to invert/calculate? How can we use $\\frac{\\partial^2 f}{\\partial x_1 \\partial x_2}$ to update our weights?\n",
    "\n",
    "Does $\\frac{\\partial^2 f}{\\partial x_1 \\partial x_2} = \\frac{\\partial^2 f}{\\partial x_2 \\partial x_1}$??\n",
    "\n",
    "\n",
    "$${\\mathbf  H}={\\begin{bmatrix}{\\dfrac  {\\partial ^{2}f}{\\partial x_{1}^{2}}}&{\\dfrac  {\\partial ^{2}f}{\\partial x_{1}\\,\\partial x_{2}}}&\\cdots &{\\dfrac  {\\partial ^{2}f}{\\partial x_{1}\\,\\partial x_{n}}}\\\\[2.2ex]{\\dfrac  {\\partial ^{2}f}{\\partial x_{2}\\,\\partial x_{1}}}&{\\dfrac  {\\partial ^{2}f}{\\partial x_{2}^{2}}}&\\cdots &{\\dfrac  {\\partial ^{2}f}{\\partial x_{2}\\,\\partial x_{n}}}\\\\[2.2ex]\\vdots &\\vdots &\\ddots &\\vdots \\\\[2.2ex]{\\dfrac  {\\partial ^{2}f}{\\partial x_{n}\\,\\partial x_{1}}}&{\\dfrac  {\\partial ^{2}f}{\\partial x_{n}\\,\\partial x_{2}}}&\\cdots &{\\dfrac  {\\partial ^{2}f}{\\partial x_{n}^{2}}}\\end{bmatrix}}$$\n",
    "\n",
    "shape = $(n \\times n)$ so for your typical NN it is $(1,000,000 \\times 1,000,000)$ giving roughly $10^{12}$ elements... Finding the inverse of a matrix is $\\mathcal O (n^3)$ (??) so $\\approx 10^{36}$ operations?\n",
    "\n",
    "If it even exists... (when doesnt it?)"
   ]
  },
  {
   "cell_type": "markdown",
   "metadata": {},
   "source": [
    "## Hessian chain rule\n",
    "\n",
    "$$\n",
    "\\begin{align}\n",
    "&f:\\mathbb R^m \\rightarrow \\mathbb R^n \\\\\n",
    "&g:\\mathbb R^n \\rightarrow \\mathbb R^p \\\\\n",
    "y &= g(f(x)) \\\\\n",
    "\\nabla_x g(f(x)) &= \\nabla_{f(x)} g(f(x)) \\nabla_xf(x) \\tag{Chain rule} \\\\\n",
    "&\\text{(p x m) = (p x n) x (n x m)}\\\\\n",
    "\\nabla_x \\Big(\\nabla_x g(f(x))\\Big) &= \\nabla_x\\Big(\\nabla_{f(x)} g(f(x))\\Big) \\nabla_xf(x) +  \\nabla_{f(x)} g(f(x)) \\nabla_x \\Big(\\nabla_xf(x)\\Big) \\tag{Product rule}\\\\\n",
    "&= \\nabla_xf(x)^T\\nabla^2_{f(x)} g(f(x)) \\nabla_xf(x) +  \\nabla_{f(x)} g(f(x)) \\nabla^2_xf(x) \\tag{Chain rule}\\\\\n",
    "&\\text{(p x m x m) = (m x n)(n x p x n)(n x m) + (p x n)(n x m x m)}\\\\\n",
    "\\end{align}\n",
    "$$\n"
   ]
  },
  {
   "cell_type": "markdown",
   "metadata": {},
   "source": [
    "$$\n",
    "\\nabla_{f(x)} g(f(x))= \n",
    "\\begin{bmatrix}\n",
    "\\frac{\\partial g}{\\partial f} & \\dots & \\frac{\\partial g}{\\partial f}\\\\\n",
    "\\vdots &\\ddots&\\vdots \\\\\n",
    "\\frac{\\partial g}{\\partial f} & \\dots & \\frac{\\partial g}{\\partial f}\\\\\n",
    "\\end{bmatrix}\\\\\n",
    "$$"
   ]
  },
  {
   "cell_type": "markdown",
   "metadata": {},
   "source": [
    "\n",
    "#### Reshaping\n",
    "(why?) \n",
    "Why are we afraid of tensors? \n",
    "We can use they analytically?\n",
    "\n",
    "$$\n",
    "H_f:= \\begin{bmatrix}\\nabla^2_xf_1(x) \\\\ \\vdots \\\\ \\nabla^2_xf_i(x) \\\\ \\vdots \\\\ \\nabla^2_xf_n(x) \\\\ \\end{bmatrix} =  \\begin{bmatrix} H_{f_1} \\\\ \\vdots \\\\ H_{f_i} \\\\ \\vdots \\\\ H_{f_n} \\\\ \\end{bmatrix} \\text{(nm x m)} \\quad\n",
    "\\;H_g:= \\begin{bmatrix}\\nabla^2_{f(x)} g_1(f(x)) \\\\ \\vdots \\\\ \\nabla^2_{f(x)} g_j(f(x)) \\\\ \\vdots \\\\ \\nabla^2_{f(x)} g_p(f(x)) \\\\ \\end{bmatrix} = \\begin{bmatrix} H_{g_1} \\\\ \\vdots \\\\ H_{g_j} \\\\ \\vdots \\\\ H_{g_p} \\\\ \\end{bmatrix} =  \\text{(pn x n)} \\\\\n",
    "$$\n",
    "\n",
    "\n",
    "$$\n",
    "\\begin{bmatrix} \n",
    "\\nabla f\n",
    "\\end{bmatrix}\n",
    "$$"
   ]
  },
  {
   "cell_type": "markdown",
   "metadata": {},
   "source": [
    "# Resources\n",
    "\n",
    "http://math.stackexchange.com/questions/174270/what-exactly-is-the-difference-between-a-derivative-and-a-total-derivative"
   ]
  }
 ],
 "metadata": {
  "kernelspec": {
   "display_name": "Python 3",
   "language": "python",
   "name": "python3"
  },
  "language_info": {
   "codemirror_mode": {
    "name": "ipython",
    "version": 3
   },
   "file_extension": ".py",
   "mimetype": "text/x-python",
   "name": "python",
   "nbconvert_exporter": "python",
   "pygments_lexer": "ipython3",
   "version": "3.5.2"
  }
 },
 "nbformat": 4,
 "nbformat_minor": 0
}
