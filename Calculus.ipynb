{
 "cells": [
  {
   "cell_type": "markdown",
   "metadata": {},
   "source": [
    "Ok, a quick review of this as I dont know as much as I thought I did... \n",
    "\n",
    "### Finite difference\n",
    "\n",
    "\n",
    "\n",
    "\n",
    "### Partial vs total differentiation\n",
    "\n",
    "When can we use $\\frac{df}{dx}$ vs $\\frac{\\partial f}{\\partial x}$? So the total derivative of a function is the sum (??) of all its derivatves with respect to its variables.\n",
    "\n",
    "\n",
    "### Directional derivatives\n",
    "\n",
    "\n",
    "\n",
    "\n",
    "### Chain rule\n",
    "\n",
    "\n",
    "\n",
    "# Jacobians\n",
    "\n",
    "\n",
    "\n",
    "$H(f(x)) = J(\\nabla f(x))$\n",
    "but $J = \\nabla f(x)$ ? so therefore $H(f(x)) = J(J(f(x)) = \\nabla(\\nabla(f(x))$\n",
    "\n",
    "# Hessians\n",
    "\n",
    "Why do we need to compute the hessian? $\\frac{\\partial^2 f}{\\partial x_1 \\partial x_2}$? I though we were only interested in $\\frac{\\partial^2 f}{\\partial x_1^2 }$. Aka the diagonal of the hessian, which should be easier to invert/calculate? How can we use $\\frac{\\partial^2 f}{\\partial x_1 \\partial x_2}$ to update our weights?\n",
    "\n",
    "Does $\\frac{\\partial^2 f}{\\partial x_1 \\partial x_2} = \\frac{\\partial^2 f}{\\partial x_2 \\partial x_1}$??\n",
    "\n",
    "\n"
   ]
  },
  {
   "cell_type": "markdown",
   "metadata": {},
   "source": [
    "# Resources\n",
    "\n",
    "http://math.stackexchange.com/questions/174270/what-exactly-is-the-difference-between-a-derivative-and-a-total-derivative"
   ]
  }
 ],
 "metadata": {
  "kernelspec": {
   "display_name": "Python 3",
   "language": "python",
   "name": "python3"
  },
  "language_info": {
   "codemirror_mode": {
    "name": "ipython",
    "version": 3
   },
   "file_extension": ".py",
   "mimetype": "text/x-python",
   "name": "python",
   "nbconvert_exporter": "python",
   "pygments_lexer": "ipython3",
   "version": "3.5.1"
  }
 },
 "nbformat": 4,
 "nbformat_minor": 0
}
