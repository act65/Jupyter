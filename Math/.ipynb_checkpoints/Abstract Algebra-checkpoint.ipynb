{
 "cells": [
  {
   "cell_type": "markdown",
   "metadata": {},
   "source": [
    "# Subgroups\n",
    "\n",
    "Is ..."
   ]
  },
  {
   "cell_type": "markdown",
   "metadata": {},
   "source": [
    "## Cosets\n",
    "\n",
    "* Let G be a group and H be a subgroup of G. The relation $\\sim_H$ is defined (on what?) as $a \\sim_H b$ iff $a^{−1}b \\in H$ and is an equivalence relation. Its equivalence classes are exactly the sets $\\{ah ∶ h \\in H\\}$ for every $a \\in G$. ?????\n",
    "\n",
    "* Cosets of H are subgroups of G. \n",
    "    * Oh maybe not? Is {-1,1,3} a group? Because {0,2,4} is. \n",
    "    * It doesnt contain an/the identity so no.\n",
    "\n",
    "### My definition/proof/thing\n",
    "* Let G be a group and H be a subgroup of G. \n",
    "* Define $a \\sim_H b$ if $aH = bH$.\n",
    "* So $b^{-1}aH = H$ and we know $b^{-1}aH = \\{b^{-1}ah:h\\in H\\}$\n",
    "* So $b^{-1}ah$ must be in H as we know H is a group.\n",
    "* Implies $b^{-1}a \\in H$. As \n",
    "\n",
    "What are its equivalence classes?\n",
    "\n",
    "### Theorems/lemmas/interesting notes\n",
    "* If two left H-cosets share a common element, then they are equal. Equivalently,two left H-cosets that are not equal have no elements in common, i.e., they are disjoint. **(proof?)**\n",
    "\n",
    "### Examples and play\n",
    "\n",
    "#### Oh, equivalence...\n",
    "* Let G = {0,1,2,3}.\n",
    "* Then H = {0,2} or {0,1,2,3}.\n",
    "* So the left cosets of H={0,2} are aH = a+H = 0+{0,2}, 1+{0,2}, 2+{0,2},3+{0,2} = {0,2},{1,3},{0,2},{1,3}.\n",
    "* So therefore 0+H = 2+H and 1+H = 3+H.\n",
    "\n",
    "Oh... it seems so obvious now. There are the equivalence classes. They map to the same subgroups.\n",
    "\n",
    "#### Invariant?\n",
    "* What about cases where gH = H?\n",
    "* Well this means that $\\forall h\\in H: gh \\in H$.\n",
    "* So because H is a group, $g \\in H$ as ...?\n",
    "\n",
    "### Resources\n",
    "\n",
    "* [COSETS AND LAGRANGE’S THEOREM by Keith Conrad](http://www.math.uconn.edu/~kconrad/blurbs/grouptheory/coset.pdf)"
   ]
  },
  {
   "cell_type": "markdown",
   "metadata": {},
   "source": [
    "### Normal subgroups\n",
    "* Let G be a group and let H be a subgroup of G. We say that H is normal if $ghg^{-1}\\in H$ whenever $g\\in G$ and $h\\in H$.\n",
    "* Alternate definition: A subgroup H of a group G is normal if and only if there exists a group K and a homomorphism $\\phi:G\\to K$ such that H is the kernel of $\\phi$.\n",
    "\n",
    "Let G be a group and let H be a normal subgroup of G. Then G/H denotes the set of equivalence classes aH of $\\sim_H$.\n",
    "\n",
    "##### Resources\n",
    "\n",
    "* Tim Gowers' [blog on alternative definitions](https://gowers.wordpress.com/2011/10/25/alternative-definitions/)\n",
    "* Tim Gowers' [blog on normal subgroups](https://gowers.wordpress.com/2011/11/20/normal-subgroups-and-quotient-groups/)\n",
    "\n"
   ]
  },
  {
   "cell_type": "markdown",
   "metadata": {},
   "source": [
    "### Cauchy’s Theorem\n",
    "Let p be a prime number. If G is a finite group and p divides ∣G∣, then G contains a subgroup of size p (note that this subgroup has to be cyclic)\n",
    "\n",
    "##### Exercise\n",
    "\n",
    "Prove it.\n",
    "\n"
   ]
  },
  {
   "cell_type": "markdown",
   "metadata": {},
   "source": [
    "### Permutations\n",
    "\n",
    "\n",
    "##### Naming vs Moving\n",
    "\n",
    "Which way is the right way to think about a permutation? \n",
    "\n",
    "\n",
    "From a post on Tim Gowers' [blog](https://gowers.wordpress.com/2011/10/16/permutations/#comment-12397).\n",
    "\n",
    "##### Play\n",
    "Is there some sort of pattern???\n",
    "Imagine we have the set {1,2,3,4,5} and we apply the permutations;\n",
    "* (124), and (45).\n",
    "    * (124) gives {2,4,3,1,5} and then applying (45) to the result gives {2,5,3,1,4}. Which is the same as (1254).\n",
    "    * So therefore (124)(45) = (1254).\n",
    "* (123), and (12).\n",
    "    * (123) gives {2,3,1,4,5} and then (12) gives {1,3,2,4,5}. \n",
    "    * Therefore (123)(12) = (23).\n",
    "* (125), and (23).\n",
    "    * (125) gives {2,5,3,4,1} and then (23) gives {3,5,2,4,1}. \n",
    "    * Therefore (125)(23) = (1325)."
   ]
  },
  {
   "cell_type": "markdown",
   "metadata": {},
   "source": [
    "### Symmetry groups\n",
    "\n",
    "D3 = ({(12),(13),(23),(132),(123),(1)},+) ???\n",
    "What operation is a symmetry group equipped with? Does this make sense? Or is it irrelevant?\n",
    "\n",
    "##### Questions\n",
    "Is there a third type of symmetry? If not, can you prove that there isnt? So $\\forall P \\in S(X) \\exists \\tau, \\sigma \\in D_n: \\tau^n \\sigma^n = P$"
   ]
  },
  {
   "cell_type": "markdown",
   "metadata": {},
   "source": [
    "### Alternating groups\n",
    "\n",
    "* Let $A_n$ be the set of the elements of $S_n$ that can be expressed as an even number of transpotition. It is also called the alternating group of n elements.\n",
    "\n",
    "##### Exercise\n",
    "\n",
    "Prove an alternating group is a (normal?) subgroup of G."
   ]
  },
  {
   "cell_type": "markdown",
   "metadata": {},
   "source": [
    "The equivalence classes of ∼σ are called the orbits of σ. A permutation\n",
    "σ of a finite set A is a cycle if there is exactly one orbit of ∼σ containing\n",
    "more than one element."
   ]
  },
  {
   "cell_type": "markdown",
   "metadata": {},
   "source": [
    "### Equivalence relations\n",
    "\n",
    "* Reflective $x\\sim x$\n",
    "* Symmetric $x\\sim y \\implies y \\sim x$\n",
    "* Transitive $x\\sim y, y\\sim z \\implies x \\sim z$\n",
    "\n",
    "Tim Gowers' [blog](https://gowers.wordpress.com/2011/10/30/equivalence-relations/)"
   ]
  },
  {
   "cell_type": "markdown",
   "metadata": {},
   "source": [
    "### Equivalence class\n",
    "* For $a\\in X$, the equivalence class $[a]$, or $E(a) = \\{b\\;|\\; a\\sim b:b\\in X\\}$"
   ]
  },
  {
   "cell_type": "markdown",
   "metadata": {},
   "source": [
    "### Partitions\n",
    "P = a partition, a collection of subsets of X.\n",
    "* $\\forall A,B \\in P: A \\neq B, A\\bigcap B = \\emptyset$ and $\\forall x \\in X \\exists A \\in P: x\\in A$\n",
    "    * x must be in at most one set of P\n",
    "    * x must be in at least one set of P\n",
    "    * implies that there exists only one parition that contains x.\n",
    "* Gowers reckon there is another simples definition that requires only one condition??\n",
    "\n",
    "These are generated by equivalence classes, ... explain. Assume there exists $a \\in [x], b\\in [y]: a = b$ then since $x\\sim a$, as we know from the equivalence class $a\\in[x]$. Then a = x = b = y. Therefore x = y. Thus $[x]\\bigcap [Y] = \\{a,b\\} \\neq \\emptyset, \\therefore $ not a partition.\n",
    "##### Exercise\n",
    "\n",
    "Prove that an equivalence relation,$\\sim$, generates a partition, P, on a set X.\n",
    "\n",
    "* \n",
    "$\\forall a \\in X \\exists $"
   ]
  },
  {
   "cell_type": "markdown",
   "metadata": {},
   "source": [
    "### Kernel\n",
    "\n",
    "For a function (or only homomorphisms?) $f: G \\rightarrow H$. The kernel is defined as $Ker(f) = \\{g\\in G: f(g) = e_H\\}$\n"
   ]
  },
  {
   "cell_type": "markdown",
   "metadata": {},
   "source": [
    "### Quotient groups\n",
    "\n",
    "\n",
    "Let $f ∶ G \\rightarrow H$ be an homomorphism. Let $\\sim_f∶ G \\times G$ be the equivalence class\n",
    "defined by $a \\sim_f b$ if $f(a) = f(b)$. Then $\\sim_{Ker(f)}=\\sim_f$.\n",
    "\n",
    "\n",
    "For a homomorphic function $f:G\\rightarrow H$, elements of G are considered to be equivalent if their images are mapped to the same element on H.\n",
    "\n",
    "* Let $f ∶ G → H$ be an homomorphism. \n",
    "* Let $∗ ∶ G/Ker(f) \\times G/Ker(f) \\rightarrow G/Ker(f)$be the binary operator defined by $[a] ∗ [b] = f^{−1}(f([a])f([b]))$, for every $[a],[b] \\in G/Ker(f)$. \n",
    "* Then $(G/Ker(f), ∗)$ is isomoprhic to f(G). \n",
    "* In particular $(G/Ker(f), ∗)$ is a group.\n",
    "\n",
    "So take the equivalence classes and define a binary operation on them such that ??\n",
    "\n",
    "* Let G be a group and H be a subgroup. Then G/H is the set of equivalence classes aH of $\\sim_H$\n",
    "\n",
    "\n",
    "\n",
    "> You're finding how many cosets of B are present in A. The quotient group is the group of cosets. [SE](http://math.stackexchange.com/questions/69050/why-the-term-and-the-concept-of-quotient-group?rq=1)\n",
    "\n",
    "* http://math.stackexchange.com/questions/492281/why-not-introduce-quotient-groups-this-way\n",
    "* http://math.stackexchange.com/questions/266718/quotient-group-g-g-identity\n",
    "* http://math.stackexchange.com/questions/1253187/give-an-intuitive-explanation-for-polynomial-quotient-ring-or-polynomial-ring-m\n",
    "* http://math.stackexchange.com/questions/1602514/basic-understanding-of-quotients-of-things/1602526\n",
    "* http://math.stackexchange.com/questions/1380755/why-do-we-have-another-definition-for-the-kernel\n",
    "##### Examples\n",
    "* Take $\\mathbb{Z}$, the set of integers. And define $\\sim = \\{ (a,b):2\\mid a+b\\}$. Aka the odd and even pairs. \n",
    "* Now lets construct a quotient group from this relation. $f_{\\sim}:G\\rightarrow H$ such that f is a homomorphism.\n",
    "* So clearly the kernel of $f_{\\sim}(\\mathbb{Z})$ is ???\n",
    "* \n",
    "\n",
    "\n",
    "* Z/3Z = {0,1,2}.\n",
    "\n",
    "##### Thoughts and questions\n",
    "\n",
    "* Why $[a] ∗ [b] = f^{−1}(f([a])f([b]))$ and not [a] * [b] = ??? Oh.. we dont know how these elements in H relate to each other so we must use their relations from G. But, how do we know that the elements map onto each other correctly? Homomorphism. What is $f([a])f([b])$??\n",
    "* ?? Let $\\sim_f∶ G \\times G$ be ... $\\sim_f∶ G \\times G \\rightarrow G$??. Hmm, \n",
    "* Why does $\\sim_{Ker(f)}=\\sim_f$??? ??"
   ]
  },
  {
   "cell_type": "markdown",
   "metadata": {},
   "source": [
    "### Homomorphism\n",
    "\n",
    "* a group homomorphism is ??\n",
    "* a group homomorphism is injective iff the kernel is trivial. $homo:G \\rightarrow H$ then $Ker(homo) = \\{e_G\\}$"
   ]
  },
  {
   "cell_type": "markdown",
   "metadata": {},
   "source": [
    "### Action\n",
    "\n",
    "* (1) An action, $a$. $a:X\\times G \\rightarrow X$ where $a(e,x)=x$ for every $x\\in X$, and $a(g,a(h,x))=a(gh,x)$ for every $g,h\\in G$ and every $x\\in X$.\n",
    "* (2) Alternate definition: $a:G \\rightarrow \\mathcal{S}(X)$ where $\\mathcal{S}(X)$ is the set of all permutations of X and $a$ is a homomorphism.\n",
    "\n",
    "So $ X \\times G$ is the cartesian product? Therefore giving sets of xG, or Xg, whichever way you want to look at it.\n",
    "* What does xG mean?\n",
    "* What does Xg mean?\n",
    "\n",
    "##### Play\n",
    "Let X = {1,2,3} and G = D3 = ({(12),(13),(23),(132),(123),(1)},??). \n",
    "* By definiton (1). a(X,G) = $\\{\\{1,2,3\\} * (12),\\{1,2,3\\} * (13),\\{1,2,3\\} * (23),\\{1,2,3\\} * (132),\\{1,2,3\\} * (123),\\{1,2,3\\} * (1)\\}$\n",
    "* By definiton (2). Then the actions of X, a(X) = {{2,1,3},{3,2,1},{1,3,2},{2,3,1},{3,1,2},{1,2,3}} = permutations of X, S(X). So what does if mean to say $x * g? 1 * (1,2) = ??? = 2$\n",
    "\n",
    "##### Exercises\n",
    "\n",
    "Prove that if H is a group acting on a finite set X, where ∣H∣ = p for some prime p, then ∣X∣ ≡ ∣XH∣ mod p.\n"
   ]
  },
  {
   "cell_type": "markdown",
   "metadata": {},
   "source": [
    "### Stabilizer\n",
    "\n",
    "For a group G and a set X. The group $S = \\{g \\in G:gx=x\\}$ is a stabiliser of X, for $x \\in X$."
   ]
  },
  {
   "cell_type": "markdown",
   "metadata": {},
   "source": [
    "### Orbit\n",
    "\n",
    "* Define an equivalence relation, $\\sim$, on X. For $x,y \\in X, x\\sim y$ if $gx = y$ if $\\exists g \\in G$.\n",
    "* The equivalence classes of an eqiuvalence relation on a group are called the orbits of G on X.\n",
    "\n",
    "Aka symmetries? How is this similar to topology and quotient mappings? Transfering structure from one place to another. Is there a meta structure of transfering structure? What are the patterns?\n",
    "\n",
    "##### Example\n",
    "* X ={1,2,3,4,5}. G = D3 =  {(12),(13),(23),(132),(123),(1)}\n",
    "* $\\sim_{(1,2)} = \\{3,4,5\\}$ is an orbit of G on X."
   ]
  },
  {
   "cell_type": "markdown",
   "metadata": {},
   "source": [
    "##### Exercise\n",
    "\n",
    "Prove an orbit is an equivalence relation, and therefore they are partitions of X.\n",
    "\n"
   ]
  },
  {
   "cell_type": "markdown",
   "metadata": {},
   "source": [
    "### Ring\n",
    "X is a set, +, . are two binary operations on X. Then (X,+,.) is a ring if\n",
    "* (X,+) is an abelian group (commutative)\n",
    "* . is an associtaive binary opration (a * (b * c) = (a * b) * c)\n",
    "* Distributive. a.(b+c) = a.b + a.c and ...\n",
    "\n",
    "what about a ring with different operators?\n",
    "\n",
    "http://wwwf.imperial.ac.uk/~anskor/notesM2P4.pdf"
   ]
  },
  {
   "cell_type": "markdown",
   "metadata": {},
   "source": [
    "### Identity\n",
    "\n"
   ]
  },
  {
   "cell_type": "markdown",
   "metadata": {},
   "source": [
    "### Unit\n",
    "\n",
    "Suppose (X,+,.) is a ring with identity 1. Then for $a\\in X$, if $\\exists b : a.b =b.a= 1$ then we say $a$ is a unit of X."
   ]
  },
  {
   "cell_type": "markdown",
   "metadata": {},
   "source": [
    "### Field\n",
    "\n",
    "* A field is a commutative ring with idenity for which every non-zero element is a unit. (If . is a commutative binary operationthen we say that R is a commutative ring.)\n",
    "* An equivalent/alternative definition? A field is (X,+,.) such that (X,+) and (X,.) are groups???\n",
    "* Is it possible to think of it like nested groups??? ((X,+),.)"
   ]
  },
  {
   "cell_type": "markdown",
   "metadata": {},
   "source": [
    "### Irreducible\n",
    "\n",
    "Suppose that (R,+, .) is a ring with identity. A non-unit element $r \\in R$ is irreducible if, whenever $a$ and $b$ are elements in R such that $r = ab$, then either $a$ is a unit or $b$ is a unit. r = unit * x?\n",
    "XOR or OR?"
   ]
  },
  {
   "cell_type": "markdown",
   "metadata": {},
   "source": [
    "### Subrings\n",
    "Let (R,+,.) be a ring. Assert that (S,+,.) is a subring, for $S \\subseteq R$. S is a subring iff\n",
    "* $0 \\in S$\n",
    "* $a+b \\in S, a.b \\in S$\n",
    "* $\\forall a \\in S, \\exists -a$\n",
    "\n",
    "Alternate definiton?\n",
    "* (S,+) is a subgroup of (R,+)\n",
    "* ??"
   ]
  },
  {
   "cell_type": "markdown",
   "metadata": {},
   "source": [
    "### Zero divisior\n",
    "\n",
    "We say that an element $a \\in R$ is a zero divisor if $a\\neq 0, \\exists b : ab = 0 \\vee ba = 0$"
   ]
  },
  {
   "cell_type": "markdown",
   "metadata": {},
   "source": [
    "### Integral domain\n",
    "\n",
    "R is an integral domain if R is a commutaitive ring, $|R| \\ge 2$ and it has no zero divisors.\n",
    "\n",
    "\n",
    "##### Exercise\n",
    "Prove: A field is an integral domain."
   ]
  },
  {
   "cell_type": "markdown",
   "metadata": {},
   "source": [
    "### Ideals\n",
    "\n",
    "If I is a subring of R, and $ir , ri \\in I \\;\\forall i \\in I,r\\in R$ then I is called an ideal of R.\n",
    "\n",
    "##### Example\n",
    "\n",
    "##### Questions and notes\n",
    "\n",
    "So if A is an ideal of (R,+, .) then is A a normal subgroup of (R,+)?"
   ]
  },
  {
   "cell_type": "markdown",
   "metadata": {},
   "source": []
  },
  {
   "cell_type": "markdown",
   "metadata": {},
   "source": [
    "# Distractions\n",
    "\n",
    "### Decimals\n",
    "\n",
    "Check out this symmetry. What does it tell us?\n",
    "\n",
    "<img src='Decimalsymmetry.png' alt='pic'>\n",
    "\n",
    "Consider 5/13, which the first table tells us is .384615. Multiplying by 10 has the effect of cyclically shifting the digits in the decimal one position to the left:10 . 5/13= 10(.384615) = 10(.384615384615 . . .) = 3.84615384615 . . . = 3.846153. The numerator of 10(5/13) is 50, and 50 ≡ 11 mod 13, so 50/13 = 11/13 + integer. Since we already saw that 50/13 = 3.846153, the integer part of 50/13 is 3 and therefore 11/13 = .846153. In other words, shifting the digits in .384615 one position to the left turns 5/13 into 11/13, and the reason is that shifting digits in a decimal one position to the left corresponds to multiplication by 10 and 5 · 10 ≡ 11 mod 13.\n",
    "\n",
    "### Alternate groups\n",
    "\n",
    "##### A group of functions\n",
    "\n",
    "What would this look like?\n",
    "\n",
    "##### ???\n",
    "\n",
    "Other geometric ways to understand groups?"
   ]
  }
 ],
 "metadata": {
  "kernelspec": {
   "display_name": "Python 3",
   "language": "python",
   "name": "python3"
  },
  "language_info": {
   "codemirror_mode": {
    "name": "ipython",
    "version": 3
   },
   "file_extension": ".py",
   "mimetype": "text/x-python",
   "name": "python",
   "nbconvert_exporter": "python",
   "pygments_lexer": "ipython3",
   "version": "3.5.1"
  }
 },
 "nbformat": 4,
 "nbformat_minor": 0
}
