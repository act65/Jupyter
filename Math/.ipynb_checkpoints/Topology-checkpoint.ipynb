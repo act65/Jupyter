{
 "cells": [
  {
   "cell_type": "markdown",
   "metadata": {},
   "source": [
    "## Metrics\n",
    "\n",
    "We want a function, $d$, to tells us the distance between two points in a space/set, i.e. $d(x,y):x,y\\in \\mathbb{X}$. Or in math, $d:\\mathbb{X}^n \\times \\mathbb{X}^n \\rightarrow \\mathbb{X}$\n",
    "1. $d(x,y) = 0$ if $x = y$\n",
    "* Symmetry. $d(x,y) = d(y,x)$\n",
    "* The triangle inequality $d(x,z)\\le d(x,y) + d(y,z)$"
   ]
  },
  {
   "cell_type": "markdown",
   "metadata": {},
   "source": [
    "## Open balls and sets\n",
    "\n",
    "1. $\\mathcal{B}_{r}(c) = \\{x\\in \\mathbb{X}: d(c,x) < r\\} = (c-r,c+r)$ In words. An open ball $\\mathcal{B}$, with radius $r$, at point $c$ is the set of all points in our space, $x\\in \\mathbb{X}$, that are closer to c than r distance $d(c,x) < r$.\n",
    "* A set $U \\in \\mathbb{X}$ is open if $\\forall x \\in U, \\exists r>0:\\mathcal{B}_{r}(x) \\subseteq U$. In words. A set $U$ is open if for all the elements $x \\in U$ there is a ball (with some radius $r>0$) around each element ,$x$, such that the ball is also in U. \n",
    "\n",
    "http://math.stackexchange.com/questions/31859/what-concept-does-an-open-set-axiomatise\n",
    "\n",
    "##### Questions and thoughts\n",
    "* Counter argument. If you take a closed set, $V$, and choose a point on the boundary. No matter how small you make r, you will still get a ball that is not in V. \n",
    "    * Counter counter argument. But what if we had taken out of our set? e.g. Positive reals, $\\mathbb{R}^+$ for $V = [0,4)$ is open because any point in V has an open ball around it that is in V. $\\mathcal{B}_{r=0.1}(0) = (-0.1,0.1) = [0,0.1)$\n",
    "    \n",
    "    \n",
    "* What if we consider the integers $\\mathbb{Z}$, and we define $U = (2,4)$. Is this set open (in what?)?\n",
    "    * $x:\\forall x \\in U \\rightarrow 3 \\therefore \\mathcal{B}_{r=0.5}(3) = \\{3\\} \\in U \\therefore$ the set is open\n",
    "* If $\\mathbb{X}$ is a set containing two items, $a,b$ then is the subset $\\{a\\}$ open or closed?\n",
    "* What does the open set of a point mean?\n",
    "* The union of infinitely many open sets is open.\n",
    "\n",
    "##### Finite intersections\n",
    "\n",
    "> _Notice that the intersection of an infinite collection of open sets in R need not\n",
    "be open. For example, the intersection of all the open intervals (−1/n,1/n) for n = 1,2, ··· is the single point {0} which is not open. This explains why condition (2) is only for finite intersections._\n",
    "\n",
    "Hmm, I think this is wrong.\n",
    "Let $n\\rightarrow \\infty$ then $U_n = (-1/\\infty, 1/\\infty) = (0,0) = \\{0\\}$ which is not open in $\\mathbb{R}$. So then $\\neg \\exists U_n\\in\\mathbb{R}$ as $\\forall U_n \\exists $"
   ]
  },
  {
   "cell_type": "markdown",
   "metadata": {},
   "source": [
    "\n",
    "## Closed sets\n",
    "\n",
    "* $C \\subseteq \\mathcal{X}$ is closed if $X - C$ is open\n",
    "    * Equivalently, a set is closed if and only if it coincides with its closure.\n",
    "    * Equivalently, a set is closed if and only if it contains all of its limit points.\n",
    "* The intersection of infinitely many closed sets is closed.\n",
    "* The union of infinitely many closed sets could be open.\n",
    "\n",
    "##### Questions and thoughts\n",
    "\n",
    "* Take the topology $\\{\\emptyset, \\mathbb{X}\\}$. By definition $\\emptyset$ and $\\mathbb{X}$ are open. But they are also closed as \n",
    "    * $\\emptyset - \\mathbb{X} = \\emptyset$ which is open, therefore $\\emptyset$ is closed\n",
    "    * $\\mathbb{X} - \\mathbb{X} = \\emptyset$ which is open, therefore $\\mathbb{X}$ is closed"
   ]
  },
  {
   "cell_type": "markdown",
   "metadata": {},
   "source": [
    "## Topological space\n",
    "\n",
    "We want to generalise the notion/properties of open-ness and balls in euclidean space (**because??**).\n",
    "\n",
    "So, for a set $\\mathbb{X}$ we define a topology $\\tau$ as a collection of subsets of $\\mathbb{X}$.\n",
    "\n",
    "1. $\\{\\},\\mathbb{X} \\in \\tau$\n",
    "* $U_i \\in \\tau: \\bigcup_{i=I}U_i \\in \\tau$  \n",
    "* $U,V \\in \\tau: U \\bigcap V \\in \\tau$  \n",
    "\n",
    "Why? Because this gives us the exact same properties as open balls in the euclidean space as defined by metrics. But without any notion of a metric or distance.\n",
    "\n",
    "##### Questions and thoughts\n",
    "* So if a set is in a topology it is defined as being open in that topology. Why? As ...???\n",
    "* What does a set being in the topology really mean?\n",
    "* 3 is only for finite intersections... need to investigate further\n",
    "* Why do we define topologies in terms of open sets?"
   ]
  },
  {
   "cell_type": "markdown",
   "metadata": {},
   "source": [
    "## Well known topologies\n",
    "##### Trivial\n",
    "* $\\tau = \\{\\emptyset,\\mathbb{X}\\}$\n",
    "\n",
    "##### Standard\n",
    "* $\\mathbb{R}_{std}$ topology is the topology generated by the unions of open intervals. \n",
    "* $\\mathbb{R}_{std} = \\{(a,b):a,b\\in\\mathbb{R},a<b\\}$\n",
    "    \n",
    "##### Discrete topologies\n",
    "\n",
    "Let all the subsets of $\\mathbb{X}$ be open in the topology.\n",
    "Which also means they are all closed.\n",
    "\n",
    "What about:\n",
    "Let all the elements of $\\mathbb{X}$ be open in the topology.\n",
    "Nope. (2) wont hold.\n",
    "\n",
    "##### Finite-complement\n",
    "\n",
    "-- Reals?\n",
    "\n",
    "* Let $U \\in \\mathbb{R}_{FC}$ then $U = ??? $\n",
    "* Does this work? $ U = (-\\infty,a) \\bigcup (b,\\infty)$ so then $X-U = [a,b]$ which is closed... but not finite...\n",
    "    * Unless a=b then we get $\\{a\\}$.\n",
    "\n",
    "Can build basis for $\\mathbb{R}_{std}$ from a subbasis of finite compliment open sets???\n",
    "\n",
    "Prove this is a topology\n",
    "\n",
    "##### Half\n",
    "\n",
    "Let O consist of all sets O such that for each $x \\in O$ there is an interval $[a,b)$ with $x \\in [a,b) \\subset O$.\n",
    "\n",
    "##### Lower limit\n",
    "\n",
    "basis of [a,b)\n",
    "\n",
    "### Less well known topologies (made up)\n",
    "##### Like a group action?\n",
    "* The topology generated by the set of cosets under some subgroup of $\\mathbb{R}$?\n",
    "* Let $A = a\\mathbb{Z}$ then $\\tau = \\{\\{az+b:\\forall z\\in \\mathbb{R}\\} \\forall b\\in\\mathbb{R}:0\\le b\\le a\\}$\n",
    "\n",
    "Nope. Let $U,V \\in \\tau$ then $U \\bigcup V = A+b_1\\bigcup A+b_2\\notin \\tau$\n",
    "\n",
    "##### Chaotic/random\n",
    "If you have a random or chaotic variable and partition them by size, will it generate a topology? Well we need (2) and (3), but ...\n",
    "\n",
    "##### "
   ]
  },
  {
   "cell_type": "markdown",
   "metadata": {},
   "source": [
    "## Hausdorff spaces\n",
    "\n",
    "* (For all pairs of points), if any two points, x,y in a space X have disjoint neighborhoods then the space is hausdorff.\n",
    "    * Aka if the two points can be seperated.\n",
    "\n",
    "##### Questions and thoughts\n",
    "\n",
    "* How is this different from the discrete topology?\n",
    "* Any Metric Space is Hausdorff???\n"
   ]
  },
  {
   "cell_type": "markdown",
   "metadata": {},
   "source": [
    "\n",
    "## Bases\n",
    "\n",
    "* $\\mathcal{B}$ is a basis for $\\tau \\;$ if $\\forall U \\in \\tau, \\exists \\mathcal{C} = \\{ B_{i=I}\\}$ for $B_i \\in \\mathcal{B} : \\bigcup_{i=I} B_i = U$\n",
    "    * In words. B is a basis for the topology if, for all the sets in the topology, there exists a collection of sets (from in the basis) such that the union of this collection equals a/the set in the topology.\n",
    "* For $ B_1, B_2 \\in \\mathcal{B}$ and $\\forall x \\in B_1 \\bigcap B_2, \\exists B_3 \\in \\mathcal{B}: x \\in B_3$ and $ B_3 \\subseteq B_1 \\bigcap B_2$\n",
    "    * To satisfy the 3rd axiom of a topology.\n",
    "    * Why do we need this? Because, if $B_3$ is not a subset of $B_1,B_2$ then it breaks the difiniton of a topology.\n",
    "        * For example, a topology with a basis of all pairs of numbers, for $i \\neq j$. An intersection between two subsets gives a singleton, which is not in the topology.\n",
    "\n"
   ]
  },
  {
   "cell_type": "markdown",
   "metadata": {},
   "source": [
    "\n",
    "## Subbases\n",
    "\n",
    "* For $\\mathcal{S} \\subseteq \\tau: \\{ \\bigcap_{j = J} S_j, J > \\infty\\}$\n",
    "* Or?? $ \\forall J < \\infty: \\bigcap_{j = J} S_j= \\mathcal{B} $\n",
    "    * $\\mathcal{S}$ is a subbase for $\\tau$ if the finite intersection of all its members is a base in the topology \n",
    "\n",
    "##### Thoughts and questions\n",
    "\n",
    "* Let {{},{1},{1,2},{1,2,3}} be a topology.\n",
    "    * A basis for this topology is \n",
    "        * {{1},{2},{3}}\n",
    "            * dont need {} as the definition of B3 relies on having some x in B3??\n",
    "        * and {{},{1},{1,2},{3}}\n",
    "            * no this isnt because how can we get {2} from unions or intersections?\n",
    "        * and and {{},{1},{2},{1,3}}\n",
    "    * A subbasis for this topology is {{},{1},{2},{3}}\n",
    "* All finite intersections - can be with themselves thus equaling themselves, and otherwise the empty set. Thus generating a basis (we added the empty set)\n",
    "> Bases and subbases \"generate\" a topology in different ways. Every open set is a union of basis elements. Every open set is a union of finite intersections of subbasis elements.\n",
    "\n"
   ]
  },
  {
   "cell_type": "markdown",
   "metadata": {},
   "source": [
    "## Neighborhoods\n",
    "\n",
    "* For $V \\subseteq \\mathbb{X}, \\exists V \\in \\tau : U \\subseteq V, x \\in U$\n",
    "    * There exists a neighborhood V, in the topology $\\tau$ if, open set U, in $\\tau$, is a subset of the neighborhood.\n",
    "    \n",
    "##### Thoughts and questions\n",
    "\n",
    "* So this definiton only applies to one open set within $\\tau$? As travelling across/between open sets means we have travelled some sort of distance? But travelling within an open set means we are still in the same 'neighborhood'.\n",
    "\n"
   ]
  },
  {
   "cell_type": "markdown",
   "metadata": {},
   "source": [
    "## Interiors and exteriors\n",
    "\n",
    "Everything (inside/outside) but the bounary.\n",
    "\n",
    "* The interior of a set S, int(S), is the union of all open sets contained in X which are also contained in S.\n",
    "    * Therefore iff int(S) = S the set S is open\n",
    "* Ext(S) is the union of all open sets that are disjoint with S.\n",
    "\n",
    "##### Play\n",
    "\n",
    "Prove int(A) = int(int(A))\n",
    "\n",
    "$$\n",
    "\\begin{align}\n",
    "int(A) &:= \\bigcup U_i:U_i \\in A \\tag{defintion of interior}\\\\\n",
    "B&:= int(A) \\tag{let B}\\\\\n",
    "&\\implies \\bigcup U_i:U_i \\in A \\tag{by definition of interior}\\\\\n",
    "&\\implies U_i \\subseteq B \\tag{as it is the union}\\\\\n",
    "\\\\\n",
    "B &= \\bigcup U_i:U_i \\in A \\tag{by definition of interior}\\\\\n",
    "int(B) &= \\bigcup V_i:V_i \\in B \\tag{by definition of interior}\\\\\n",
    "&\\implies V_0 = B \\tag{as B is a single set, whose is the union of open setes in A}\\\\\n",
    "&\\implies int(B) = \\bigcup U_i:U_i \\in A \\tag{substituting definitions}\\\\\n",
    "&\\implies int(int(A)) = int(A) \\tag{substituting definitions}\\\\\n",
    "\\end{align}\n",
    "$$\n",
    "\n",
    "Is the notation wrong? It doesnt seem to make sense to say $V_0 \\in B$ as B is just a set of elements, not a collection of sets. Instead it should be int(A) = int({int(A)})"
   ]
  },
  {
   "cell_type": "markdown",
   "metadata": {},
   "source": [
    "\n",
    "## Closures and boundaries\n",
    "\n",
    "* The closure of a set S, cl(S), is the intersection of all closed sets in X containing S\n",
    "    * Aka the smallest closed set A that contains the set S. cl(S) = A\n",
    "* The definition of a bounary is the set of points p of X such that every neighborhood of p contains at least one point in S and at least one point not in S.\n",
    "\n",
    "##### Questions and thoughts\n",
    "\n",
    "* Closure of sets in topological space of or in X the set? Where do the closed sets come from in an open topological space?"
   ]
  },
  {
   "cell_type": "markdown",
   "metadata": {},
   "source": [
    "## Density\n",
    "\n",
    "* A subset $A$ of $X$ is called dense in $X$ if $cl(A) = X$. In words. If every point of X is a closure point of A. Or, for all x in X, every neighborhood of x intersects A. \n",
    "    * For example $\\mathbb{Q}$ is dense in $\\mathbb{R}_{std}$"
   ]
  },
  {
   "cell_type": "markdown",
   "metadata": {},
   "source": [
    "## Closure and limit points\n",
    "\n",
    "* A point x in X is a _closure point_ of S if every neighbourhood of x contains at least one point of S.\n",
    "* A point x in X is a _limit point_ of S if _every neighbourhood_ of x contains at least one point of S **different from x itself.**\n",
    "\n",
    "So if x is on the boundary of an open set A, then no matter how small a neighborhood you choose around x, you will always get some of A, and thus x is a limit point of A.\n",
    "\n",
    "But doesnt this just mean it could be pretty much any point? Not necessarily anywhere near a limit?\n",
    "\n",
    "Ahh, so you cant have limit points of a closed set."
   ]
  },
  {
   "cell_type": "markdown",
   "metadata": {},
   "source": [
    "## Subspaces\n",
    "\n",
    "* Given a topological space $(X,\\tau_X)$ and $S \\subset X$ the subspace topology on S is defined as $\\tau_S = \\{S \\bigcap U : U \\in \\tau_X\\}$\n",
    "\n",
    "##### Questions and thoughts\n",
    "\n",
    "* Does the subspace include S? As S in not necessarily the intersection of any open sets in $\\tau$.\n",
    "    * If not then the subspace is not a topology as $\\tau_S$ is defined as containing both $\\{\\}$ and S."
   ]
  },
  {
   "cell_type": "markdown",
   "metadata": {},
   "source": [
    "## Surjective map\n",
    "\n",
    "* $\\forall y \\in Y, \\; \\exists x \\in X: f(x) = y$"
   ]
  },
  {
   "cell_type": "markdown",
   "metadata": {},
   "source": [
    "## Product topology\n",
    "\n",
    "* $X\\times Y = \\{(x,y):x \\in X,y \\in Y\\}$\n",
    "Is the cartesian product of two topological spaces.\n",
    "\n",
    "##### Questions and thoughts\n",
    "\n",
    "* Why does $\\partial_{AxB} \\neq \\partial_X(A) \\times \\partial_Y(B)$? I am not sold. Just think about a circle??\n",
    "\n",
    "\n",
    "http://math.stackexchange.com/questions/871610/why-are-box-topology-and-product-topology-different-on-infinite-products-of-topo"
   ]
  },
  {
   "cell_type": "markdown",
   "metadata": {},
   "source": [
    "## Quotient topology\n",
    "\n",
    "* $R \\subseteq X \\times X$. We write xRy when (x,y) $\\in$ R. (???)\n",
    "* Refelxive $xRx$\n",
    "* Symmetric $xRy$\n",
    "* Transitive $xRy, yRz \\implies xRz$\n",
    "\n",
    "##### Questions and thoughts\n",
    "\n",
    "* $X/R = ???$ as $R \\subseteq X^2$"
   ]
  },
  {
   "cell_type": "markdown",
   "metadata": {},
   "source": [
    "## Quotient map\n",
    "\n",
    "* $f:X \\rightarrow X/R$ is a surjective map."
   ]
  },
  {
   "cell_type": "markdown",
   "metadata": {},
   "source": [
    "## Equivalence\n",
    "\n",
    "This seems important and powerful.\n",
    "Two metrics can be considered eqivalent if their topologies are equal.\n",
    "It is sufficient to show that ... to prove that"
   ]
  },
  {
   "cell_type": "markdown",
   "metadata": {},
   "source": [
    "## Partition\n",
    "\n",
    "Cells\n",
    "* $\\exists f_p$ such that $f_p$ is a surjective map onto a partition P"
   ]
  },
  {
   "cell_type": "markdown",
   "metadata": {},
   "source": [
    "\n",
    "## Functions, mappings and bijections\n",
    "\n",
    "$\\mathbb{Y}$ is the co-domain of $\\mathbb{X}$ under some function, f, if $f:\\mathbb{X} \\rightarrow \\mathbb{Y}$\n",
    "\n",
    "\n",
    "\n",
    "##### Questions and thoughts\n",
    "\n",
    "* I think this definition is wrong? \n",
    "    * Cant we just make $\\delta$ arbitrarlity large until it the first term is a subset? \n",
    "        * Ahh, the $\\forall$ helps us out here. \n",
    "    * I think it needs $\\epsilon \n",
    "* https://en.wikipedia.org/wiki/Continuous_function#Continuous_functions_between_topological_spaces\n",
    "    \n",
    "    \n",
    " \n",
    " \n",
    "Boundaries, interiors, closures, topologically indistinguishable, discrete (every point is an open set), topological distance (between open sets), Covering"
   ]
  },
  {
   "cell_type": "markdown",
   "metadata": {},
   "source": [
    "# Continuity\n",
    "\n",
    "* $\\forall \\epsilon > 0,\\exists \\delta >0 \\; \\forall x \\in \\mathbb{X}: f(\\mathcal{B}_{\\delta}(x)) \\subseteq \\mathcal{B}_{\\epsilon} (f(x))$ (1)\n",
    "* $\\forall V \\subseteq Y, f^{-1}(V) \\subseteq X$ (2)\n",
    "* $f(cl_X(A)) \\subseteq cl_Y(f(A))$ (3)\n",
    "\n",
    "### Play\n",
    "\n",
    "##### Is a hyperbolic function continuious? \n",
    "Prove it. \n",
    "* Let $X \\in \\mathbb{R}$ and, $f:X\\rightarrow Y$ be defined as $y = f(x) = \\frac{1}{x}$. \n",
    "* Then is it cts? Need (2) to hold. \n",
    "* Pick $V = (a,b) \\in Y$. Then $f^{-1} = 1/y \\implies f^{-1}(V) = (1/a,1/b)$. So for all values of $a,b\\in Y$ the ...\n",
    "\n",
    "How do we know $f^{-1}$? Need to be more rigorous?\n",
    "\n",
    "$$\n",
    "\\begin{align}\n",
    "X&:= \\mathbb{R} \\tag{define the X axis as the set of reals}\\\\\n",
    "f&:X\\rightarrow Y \\tag{define a function that maps from reals to Y}\\\\\n",
    "\\therefore y &= f(x) \\tag{why? is this by definition of any function?}\\\\\n",
    "f(x):&=1/x \\tag{define the function on X} \\\\\n",
    "f^{-1}(y) &=1/y \\tag{?? because algebra ??}\\\\\n",
    "\\end{align}\n",
    "$$\n",
    "\n",
    "The key is that we pick values from Y, not $\\mathbb{R}$, as $Y = \\mathbb{R}-\\{0\\}$.\n",
    "\n",
    "Wait so is it surjective and injective? \n",
    "* Yes it's surjective. \n",
    "* Need $\\exists x: \\forall y, y = f(x)$ aka $y = \\frac{1}{x}$\n",
    "* The only case where it could break down is for $y = 0 \\therefore x = \\frac{1}{0}$ but $0 \\notin Y$\n",
    "\n",
    "##### Questions and thoughts\n",
    "\n",
    "* How does this actually show continuity?\n",
    "* Any function from a discrete topological space to another topological space is continuous. (??? but it is discrete)\n",
    "* And any function from any topological space to a indiscrete space ($\\emptyset, X$) is continuious. ???\n",
    "* Must a continuious function be on-to and one-to-one?\n",
    "* So $f:X\\rightarrow Y$ is cts doesnt implie $f^{-1}:Y\\rightarrow X$ is cts.\n",
    "\n",
    "\n",
    "\n",
    "\n",
    "> Small changes in y result in small changes in x ???"
   ]
  },
  {
   "cell_type": "markdown",
   "metadata": {},
   "source": [
    "# Homeomorphism\n",
    "\n",
    "* $f:X\\rightarrow Y$ is a homeomorphism if; one-to-one, on-to, cts $f$ and $f^{-1}$\n"
   ]
  },
  {
   "cell_type": "markdown",
   "metadata": {},
   "source": [
    "## Isometry\n",
    "\n",
    "* Is a bijection $f: (X,d_X) \\rightarrow (Y,d_Y)$ such that $\\forall a,b \\in X, d_X(a,b) = d_Y(f(a),f(b))$. Aka it preserves distances.\n",
    "* If isometric then homeomorphic"
   ]
  },
  {
   "cell_type": "markdown",
   "metadata": {},
   "source": [
    "## Metrizable\n",
    "\n",
    "* A topology, T, is metrizable if $\\exists$ a metric, d, such that the topology generated by d, Td is equal to T.\n",
    "* Any metrizable space is hausdorff. (hu what??)"
   ]
  },
  {
   "cell_type": "markdown",
   "metadata": {},
   "source": [
    "# Connectedness\n",
    "Separated if $U,V \\subseteq X : U,V \\neq \\emptyset, \\; U \\bigcap V = \\emptyset, \\; U \\bigcup V = X, \\; U,V = open$\n",
    "\n",
    "\n",
    "Is this related to hausdorff spaces and discrete topologies?\n",
    "\n",
    "##### Exercises\n",
    "\n",
    "Prove $\\mathbb{Q}$ is totally disconected\n",
    "\n",
    "$\\forall U \\subseteq \\mathbb{Q} \\exists X,Y \\subseteq U: X,Y \\neq \\emptyset, X\\bigcup Y = U, X\\bigcap Y = \\emptyset$.\n",
    "\n",
    "Definiotns\n",
    "* Order density $\\forall (a,b) \\subseteq \\mathbb{Q}\\exists r: a<r,r<b \\wedge r \\notin \\mathbb{Q}$. Aka r is an irrational number.\n",
    "* $U \\subseteq \\mathbb{Q}$\n",
    "\n",
    "Steps\n",
    "Assume Q is connected then\n",
    "$$\n",
    "\\begin{align}\n",
    "&\\implies  \\exists a,b \\in \\mathbb{Q}: U = (a,b)  \\tag{}\\\\\n",
    "&\\implies    \\tag{by order density of Q}\\\\\n",
    "&\\implies \\exists X,Y \\subseteq U: X,Y \\neq \\emptyset, X\\bigcup Y = U, X\\bigcap Y \\neq \\emptyset  \\tag{definition of connected set}\\\\\n",
    "\\end{align}\n",
    "$$"
   ]
  },
  {
   "cell_type": "markdown",
   "metadata": {},
   "source": [
    "### Components"
   ]
  },
  {
   "cell_type": "markdown",
   "metadata": {},
   "source": [
    "### General intermediate value theorem\n",
    "\n",
    "Let X be a connected space and $f: X \\rightarrow Y$ be cts. Then for $ f(a) < p < f(b) \\exists x \\in X : p = f(x)$\n",
    "\n",
    "##### Proof\n",
    "\n",
    "Prove IVT\n",
    "\n",
    "Definitions\n",
    "1. If cts then $\\forall V \\subseteq Y, f^{-1}(V) \\subseteq X$. \n",
    "2. Let the set $V = \\{v:f(a)<v< f(b)\\}  \\subseteq Y$. \n",
    "\n",
    "Steps\n",
    "$$\n",
    "\\begin{align}\n",
    "f(V) \\subseteq Y &\\implies f^{-1}(V) \\subseteq X \\tag{because f is cts}\\\\\n",
    "&\\implies \\forall v \\in V, f^{-1}(v) \\in X \\tag{V's inverse is in X}\\\\\n",
    "&\\implies f^{-1}(p) \\in X \\tag{which means the inverse of p is in X, as p is in V}\\\\\n",
    "&\\implies \\exists x \\in X: f(x) = p \\tag{hmm...???} \\\\\n",
    "\\end{align}\n",
    "$$"
   ]
  },
  {
   "cell_type": "markdown",
   "metadata": {},
   "source": [
    "### Path connected\n",
    "\n",
    "* A path, in a topological space X, between two points in X -x,y, is a continuious function between [0,1] such that $f:[0,1] \\rightarrow X$ so f(0) = x,f(1) = y.\n",
    "    * So a path is closed?\n",
    "* Given two points in a space, b and d. The points are said to be path-connected if there exists a continuious path between them.\n",
    "* If all points of a space are path-connected then the space is connected.\n",
    "\n",
    "\n",
    "##### Play\n",
    "> Every path-connected space is connected. The converse is not always true\n",
    "\n",
    "* Let $X = (\\mathbb{R}_{FC},\\tau)$. And let $U \\subseteq_{open} \\mathbb{R}_{FC}$. Is U path connected?\n",
    "\n",
    "So, I need to show that there is a path between every x,y in U.\n",
    "$$\n",
    "\\begin{align}\n",
    "U \\subseteq_{open} \\mathbb{R}_{FC} \\implies & U =  \\tag{}\n",
    "\\end{align}\n",
    "$$\n",
    "\n",
    "##### Equivalence relation\n",
    "\n",
    "$x \\sim_P y $ iff x,y are path connected. \n",
    "\n",
    "* Reflexive. Their proof uses a constant function, but this doesnt show reflexivity in general? We only need f[0] = f[1].\n",
    "* Symmetric. Let g(t) = f(1-t). g is cts as $g = f\\circ h$ where $ h: [0,1] \\rightarrow [1,0] \\therefore h(t) = 1-t$ which is cts. So, we are really saying the $x\\sim_P y$ is symmetric iff there is a path that is exactally the same as f, but reversed. Isnt this just a result of it being cts?\n",
    "* \n",
    "\n",
    "##### Thoughts and Questions\n",
    "* What if the path is infinitely long? Or a bigger infinity than [0,1]?\n",
    "    * What would a shape with this property even look like?\n",
    "* What about a notion of paths that must stay in a neightborhood, thus partitioning?\n",
    "    * Or what about a formal notion of using paths in different neighborhoods. Could derive graph theory from this?\n",
    "* What about if we have a collection of paths? Can we have paths between paths? Prove!\n",
    "* Let f and g be cts. Then if $h = f \\circ g$ h is cts. Doesnt it depend on how they are composed???\n",
    "\n",
    "https://simomaths.wordpress.com/2013/03/07/topology-path-connected-spaces/\n",
    "http://www.math.uconn.edu/~kconrad/blurbs/topology/connnotpathconn.pdf"
   ]
  },
  {
   "cell_type": "markdown",
   "metadata": {},
   "source": [
    "## Covers\n",
    "\n",
    "* Take a space X, a set A and a collection C.\n",
    "* C covers A if $ A \\subseteq \\bigcup U_i: U_i \\in C$\n",
    "* So then C covers X if $X\\subseteq \\bigcup U_i: U_i \\in C$\n",
    "\n",
    "### Sub cover. \n",
    "* D is a subcover of X if $D\\subseteq C$ and D covers X.\n",
    "    * Subseteq or just subset?\n",
    "* ??? Let $A = (0,1) \\in \\mathbb{R}_{STD}$. So $(0,1) \\in \\mathbb{R}_{STD}$ is a cover for A. So there doesnt exist a sub cover of A???? As $C = (0,1) = A$, if Subcover $= B \\subset C$ then B doesnt cover A.\n",
    "    * Or is it subseteq??\n",
    "    * It's subseteq. So a cover can be a subcover for itself."
   ]
  },
  {
   "cell_type": "markdown",
   "metadata": {},
   "source": [
    "## Compactness\n",
    "\n",
    "Is ???\n",
    "\n",
    "* X is compact if (and only if?) every open cover of X has a finite subcover.\n",
    "    * What if it doesnt have any subcovers?? It isnt compact?\n",
    "\n",
    "### Examples and play\n",
    "\n",
    "Let's try to think of something that would/could break this.\n",
    "* Special cases? Trivial and infinite?\n",
    "* Discrete topologies? Totally separated, (which is the same as discrete??)\n",
    "* \n",
    "\n",
    "#### Reals\n",
    "\n",
    "* (0,1) vs [0,1].\n",
    "\n",
    "#### ???\n",
    "\n",
    "### Questions and thoughts\n",
    "\n",
    "* How is it related to finite and discrete ideas?\n",
    "* How the hell do you prove for **every** open cover? Must be via contradiction/contapositive?\n",
    "* \n",
    "\n",
    "### Resources\n",
    "\n",
    "http://math.stackexchange.com/questions/468889/how-is-every-subset-of-the-set-of-reals-with-the-finite-complement-topology-comp\n",
    "\n",
    "* http://www.math.ucla.edu/~tao/preprints/compactness.pdf\n",
    "* http://math.stackexchange.com/questions/485822/why-is-compactness-so-important\n",
    "* http://math.stackexchange.com/questions/1776826/characterization-of-compact-space-via-continuous-function\n",
    "* http://math.stackexchange.com/questions/1442665/a-noetherian-topological-space-is-compact\n",
    "* http://math.stackexchange.com/questions/371928/what-should-be-the-intuition-when-working-with-compactness?lq=1"
   ]
  },
  {
   "cell_type": "markdown",
   "metadata": {},
   "source": [
    "# Homotopy\n",
    "\n",
    "### Definition\n",
    "* Let $f,g: X \\rightarrow Y$ such that;\n",
    "    * they are cts.\n",
    "* Let $H: X \\times [0,1] \\rightarrow Y$ such that;\n",
    "    * it is cts,\n",
    "    * $H(x,0) = f(x)$,\n",
    "    * and $H(x,1) = g(x)$\n",
    "\n",
    "f and g are said to be homotopic iff there is a homotopoy, H, that maps between them.\n",
    "\n",
    "### Prove \n",
    "Homotopy is an equivalence relation. $\\simeq$\n",
    "\n",
    "So, need to show;\n",
    "1. Reflexive. $f \\simeq f$\n",
    "2. Symmetric. $f \\simeq g \\implies g \\simeq f$\n",
    "3. Transitive. $f\\simeq g, g \\simeq h \\implies f \\simeq h$\n",
    "\n",
    "$$\n",
    "\\begin{align}\n",
    "f&:X\\rightarrow Y \\tag{let f be some function} \\\\\n",
    "H&: X \\times [0,1] \\rightarrow Y \\tag{let H be a homotopy} \\\\\n",
    "H(x,0) &= f(x), H(x,1) = f(x) \\tag{between f and f}\\\\\n",
    "\\text{ } \\\\\n",
    "\\tag{need to show existince of homotopy, how???}\\\\\n",
    "\\end{align}\n",
    "$$\n",
    "\n",
    "http://mathoverflow.net/questions/35246/the-definition-of-homotopy-in-algebraic-topology\n",
    "\n",
    "###### Thoughts and questions\n",
    "\n",
    "* Null homotopy\n",
    "* Loops"
   ]
  },
  {
   "cell_type": "markdown",
   "metadata": {},
   "source": [
    "### Contractible\n",
    "\n",
    "\n",
    "\n",
    "\n",
    "Prove that any contracible space is path connected"
   ]
  },
  {
   "cell_type": "markdown",
   "metadata": {},
   "source": []
  },
  {
   "cell_type": "markdown",
   "metadata": {},
   "source": [
    "# Other resources\n",
    "\n",
    "### Questions\n",
    "* http://math.stackexchange.com/questions/2755/why-can-you-turn-clothing-right-side-out\n",
    "* http://math.stackexchange.com/questions/1267268/why-cant-differentiability-be-generalized-as-nicely-as-continuity\n",
    "\n",
    "### Notes\n",
    "* https://www.math.cornell.edu/~hatcher/Top/TopNotes.pdf\n",
    "* http://www.math.cornell.edu/~matsumura/math4530/IntroToTopology.pdf\n",
    "\n",
    "### Problems\n",
    "* https://www.math.lsu.edu/gradfiles/cor1topsp2012.pdf\n",
    "* http://ocw.mit.edu/courses/mathematics/18-904-seminar-in-topology-spring-2011/index.htm\n",
    "    * http://ocw.mit.edu/courses/mathematics/18-904-seminar-in-topology-spring-2011/assignments/MIT18_904S11_pset1.pdf\n",
    "    * http://ocw.mit.edu/courses/mathematics/18-904-seminar-in-topology-spring-2011/assignments/MIT18_904S11_pset2.pdf\n",
    "    * http://ocw.mit.edu/courses/mathematics/18-904-seminar-in-topology-spring-2011/assignments/MIT18_904S11_pset3.pdf"
   ]
  },
  {
   "cell_type": "markdown",
   "metadata": {},
   "source": [
    "# Other random interest\n",
    "\n",
    "Difference between a closed set and a closed space in a topology.\n",
    "\n",
    "### Topological games\n",
    "\n",
    "* Singularity chess\n",
    "* Torus tic-tac-toe\n",
    "\n",
    "### Project ideas\n",
    "\n",
    "* Find connections between (algorithmic) game theory and topology?\n",
    "* Find alternate definitions for;\n",
    "    * continuity\n",
    "    * connectedness\n",
    "    * compactness"
   ]
  }
 ],
 "metadata": {
  "kernelspec": {
   "display_name": "Python 3",
   "language": "python",
   "name": "python3"
  },
  "language_info": {
   "codemirror_mode": {
    "name": "ipython",
    "version": 3
   },
   "file_extension": ".py",
   "mimetype": "text/x-python",
   "name": "python",
   "nbconvert_exporter": "python",
   "pygments_lexer": "ipython3",
   "version": "3.5.1"
  }
 },
 "nbformat": 4,
 "nbformat_minor": 0
}
