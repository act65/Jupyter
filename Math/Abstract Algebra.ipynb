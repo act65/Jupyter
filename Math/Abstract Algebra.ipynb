{
 "cells": [
  {
   "cell_type": "markdown",
   "metadata": {},
   "source": [
    "### Euclid’s lemma\n",
    "If a prime number p divides ab then p divides a or p divides b."
   ]
  },
  {
   "cell_type": "markdown",
   "metadata": {},
   "source": [
    "# Groups\n",
    "\n",
    "### Definition\n",
    "A group is a pair $(G,*)$ such that\n",
    "* G is a set\n",
    "* $*$ is a function $*: G\\times G \\rightarrow G$\n",
    "    * $*$ is associative\n",
    "* Identity: there exists e in G such that $e*a = a*e = a$ for a also in G\n",
    "* Inverse: there exists b in G such that $a*b = b*a = e$\n",
    "\n",
    "\n",
    "### Thoughts and questions\n",
    "\n",
    "* Hmm. I didnt realise the inverse needed to be symmetric. I wonder what this effects."
   ]
  },
  {
   "cell_type": "markdown",
   "metadata": {},
   "source": [
    "# Isomorphism\n",
    "\n",
    "A function f, on two groups, $(X,*)$ and $(Y,\\circ)$. $f:X \\rightarrow Y$ is an isomporphism if\n",
    "\n",
    "* $\\forall a,b \\in X, f(a*b) = f(a)\\circ f(b)$\n",
    "* f is a bijection\n",
    "\n",
    "So we also say that two groups/structures are isomorphic if there exists an isomorphism between them."
   ]
  },
  {
   "cell_type": "markdown",
   "metadata": {},
   "source": [
    "# Subgroups\n",
    "\n",
    "H is a subgroup of G, $(H,*) \\subseteq (G,*)$, if\n",
    "\n",
    "* H is closed under the binary operation $*$.\n",
    "* H is a group (identity, inverse, ...)\n",
    "    * associativity is inherited from parent\n",
    "\n",
    "The idenity of H must be the identity of G. Proof?"
   ]
  },
  {
   "cell_type": "markdown",
   "metadata": {},
   "source": [
    "## Cosets\n",
    "\n",
    "* Let G be a group and H be a subgroup of G. The relation $\\sim_H$ is defined (on what?) as $a \\sim_H b$ iff $a^{−1}b \\in H$ and is an equivalence relation. Its equivalence classes are exactly the sets $\\{ah ∶ h \\in H\\}$ for every $a \\in G$. ?????\n",
    "\n",
    "* Cosets of H are subgroups of G. \n",
    "    * Oh maybe not? Is {-1,1,3} a group? Because {0,2,4} is. \n",
    "    * It doesnt contain an/the identity so never mind...\n",
    "\n",
    "### My definition/proof/thing\n",
    "* Let G be a group and H be a subgroup of G. \n",
    "* Define $a \\sim_H b$ if $aH = bH$.\n",
    "* So $b^{-1}aH = H$ and we know $b^{-1}aH = \\{b^{-1}ah:h\\in H\\}$\n",
    "* So $b^{-1}ah$ must be in H as we know H is a group.\n",
    "* Implies $b^{-1}a \\in H$. As H must be closed.\n",
    "\n",
    "What are its equivalence classes?\n",
    "\n",
    "### Theorems/lemmas/interesting notes\n",
    "* If two left H-cosets share a common element, then they are equal. Equivalently,two left H-cosets that are not equal have no elements in common, i.e., they are disjoint. **(proof?)**\n",
    "\n",
    "### Examples and play\n",
    "\n",
    "#### Oh, equivalence...\n",
    "* Let G = {0,1,2,3}.\n",
    "* Then H = {0,2} or {0,1,2,3}.\n",
    "* So the left cosets of H={0,2} are aH = a+H = 0+{0,2}, 1+{0,2}, 2+{0,2},3+{0,2} = {0,2},{1,3},{0,2},{1,3}.\n",
    "* So therefore 0+H = 2+H and 1+H = 3+H.\n",
    "\n",
    "Oh... it seems so obvious now. There are the equivalence classes. They map to the same subgroups. But what does this have to do with $b^{-1}a \\in H$\n",
    "\n",
    "* So we can say $0\\sim_H 2, 1\\sim_H 3$\n",
    "* $a \\sim_H b$ iff $a^{−1}b \\in H$\n",
    "    * so $1\\sim_H 3 \\implies 3 . 3 = 2 \\in H$\n",
    "\n",
    "#### Invariant?\n",
    "* What about cases where gH = H? From above, H = 0H = 2H = {0,2}\n",
    "* Well this means that $\\forall h\\in H: gh \\in H$.\n",
    "* So because H is a group, $g \\in H$ as ...?\n",
    "\n",
    "### Resources\n",
    "\n",
    "* [COSETS AND LAGRANGE’S THEOREM by Keith Conrad](http://www.math.uconn.edu/~kconrad/blurbs/grouptheory/coset.pdf)"
   ]
  },
  {
   "cell_type": "markdown",
   "metadata": {},
   "source": [
    "### Normal subgroups\n",
    "* Let G be a group and let H be a subgroup of G. We say that H is normal if $ghg^{-1}\\in H$ whenever $g\\in G$ and $h\\in H$.\n",
    "* Alternate definition: A subgroup H of a group G is normal if and only if there exists a group K and a homomorphism $\\phi:G\\to K$ such that H is the kernel of $\\phi$.\n",
    "\n",
    "Let G be a group and let H be a normal subgroup of G. Then G/H denotes the set of equivalence classes aH of $\\sim_H$.\n",
    "\n",
    "##### Resources\n",
    "\n",
    "* Tim Gowers' [blog on alternative definitions](https://gowers.wordpress.com/2011/10/25/alternative-definitions/)\n",
    "* Tim Gowers' [blog on normal subgroups](https://gowers.wordpress.com/2011/11/20/normal-subgroups-and-quotient-groups/)\n",
    "\n"
   ]
  },
  {
   "cell_type": "markdown",
   "metadata": {},
   "source": [
    "### Lagranges theorem\n",
    "\n",
    "$|G| = [G : H] |H|$\n",
    "\n",
    "##### Inverse lagrange\n",
    "\n",
    "\n",
    "If $m \\mid |G| \\implies \\exists:  \\frac{|G|}{|H|} = m, H \\le G$ (prove! for which cases)"
   ]
  },
  {
   "cell_type": "markdown",
   "metadata": {},
   "source": [
    "### Cauchy’s Theorem\n",
    "Let p be a prime number. If G is a finite group and p divides ∣G∣, then G contains a subgroup of size p (note that this subgroup has to be cyclic)\n",
    "\n",
    "##### Exercise\n",
    "\n",
    "Prove it.\n",
    "\n"
   ]
  },
  {
   "cell_type": "markdown",
   "metadata": {},
   "source": [
    "### Permutations\n",
    "\n",
    "A permutation of A is a bijection from A to A.\n",
    "\n",
    "### Definition\n",
    "\n",
    "##### Mine\n",
    "* S is the set of all permutations of A.\n",
    "* $\\sigma :S \\rightarrow S$ is a bijection.\n",
    "* Let $\\sigma(A)$ be a short hand for the rotational permutation of the original set $A = S_0$ such that $S_0$ is the null permutation\n",
    "* Then define a binary operation $\\circ: S \\times S \\rightarrow S$\n",
    "* Notice that elemets of S can be represented in terms of some more fundamental symmetries.\n",
    "* Let $\\sigma$ ... ???\n",
    "* $\\sigma(A) \\circ \\sigma (A)  = \\sigma(\\sigma(A)) = \\sigma^2$\n",
    "\n",
    "\n",
    "##### Naming vs Moving\n",
    "\n",
    "Which way is the right way to think about a permutation? \n",
    "\n",
    "\n",
    "From a post on Tim Gowers' [blog](https://gowers.wordpress.com/2011/10/16/permutations/#comment-12397).\n",
    "\n",
    "##### Play\n",
    "Is there some sort of pattern???\n",
    "Imagine we have the set {1,2,3,4,5} and we apply the permutations;\n",
    "* (124), and (45).\n",
    "    * (124) gives {2,4,3,1,5} and then applying (45) to the result gives {2,5,3,1,4}. Which is the same as (1254).\n",
    "    * So therefore (124)(45) = (1254).\n",
    "* (123), and (12).\n",
    "    * (123) gives {2,3,1,4,5} and then (12) gives {1,3,2,4,5}. \n",
    "    * Therefore (123)(12) = (23).\n",
    "* (125), and (23).\n",
    "    * (125) gives {2,5,3,4,1} and then (23) gives {3,5,2,4,1}. \n",
    "    * Therefore (125)(23) = (1325).\n",
    "    \n",
    "    \n",
    "##### Cayleys theorem\n",
    "\n",
    "Every group is isomorphic to a group of permutation.\n",
    "\n",
    "Proof.\n",
    "\n",
    "$$\n",
    "\\begin{align}\n",
    "p: X \\rightarrow Y \\\\\n",
    "\\forall a,b \\in X : p(ab) = p(a)p(b)  \\tag{from definition of a homomorphism}\\\\\n",
    "\\end{align}\n",
    "$$"
   ]
  },
  {
   "cell_type": "markdown",
   "metadata": {},
   "source": [
    "### Symmetry groups\n",
    "\n",
    "D3 = ({(12),(13),(23),(132),(123),(1)},+) ???\n",
    "What operation is a symmetry group equipped with? Does this make sense? Or is it irrelevant?\n",
    "\n",
    "##### Questions\n",
    "Is there a third type of symmetry? If not, can you prove that there isnt? So $\\forall P \\in S(X) \\exists \\tau, \\sigma \\in D_n: \\tau^n \\sigma^n = P$"
   ]
  },
  {
   "cell_type": "markdown",
   "metadata": {},
   "source": [
    "### Alternating groups\n",
    "\n",
    "* Let $A_n$ be the set of the elements of $S_n$ that can be expressed as an even number of transpotition. It is also called the alternating group of n elements.\n",
    "\n",
    "##### Exercise\n",
    "\n",
    "Prove an alternating group is a (normal?) subgroup of G."
   ]
  },
  {
   "cell_type": "markdown",
   "metadata": {},
   "source": [
    "The equivalence classes of ∼σ are called the orbits of σ. A permutation\n",
    "σ of a finite set A is a cycle if there is exactly one orbit of ∼σ containing\n",
    "more than one element."
   ]
  },
  {
   "cell_type": "markdown",
   "metadata": {},
   "source": [
    "### Equivalence relations\n",
    "\n",
    "* Reflective $x\\sim x$\n",
    "* Symmetric $x\\sim y \\implies y \\sim x$\n",
    "* Transitive $x\\sim y, y\\sim z \\implies x \\sim z$\n",
    "\n",
    "Tim Gowers' [blog](https://gowers.wordpress.com/2011/10/30/equivalence-relations/)"
   ]
  },
  {
   "cell_type": "markdown",
   "metadata": {},
   "source": [
    "### Equivalence class\n",
    "* For $a\\in X$, the equivalence class $[a]$, or $E(a) = \\{b\\;|\\; a\\sim b:b\\in X\\}$"
   ]
  },
  {
   "cell_type": "markdown",
   "metadata": {},
   "source": [
    "### Partitions\n",
    "P = a partition, a collection of subsets of X.\n",
    "* $\\forall A,B \\in P: A \\neq B, A\\bigcap B = \\emptyset$ and $\\forall x \\in X \\exists A \\in P: x\\in A$\n",
    "    * x must be in at most one set of P\n",
    "    * x must be in at least one set of P\n",
    "    * implies that there exists only one parition that contains x.\n",
    "* Gowers reckon there is another simples definition that requires only one condition??\n",
    "\n",
    "These are generated by equivalence classes, ... explain. Assume there exists $a \\in [x], b\\in [y]: a = b$ then since $x\\sim a$, as we know from the equivalence class $a\\in[x]$. Then a = x = b = y. Therefore x = y. Thus $[x]\\bigcap [Y] = \\{a,b\\} \\neq \\emptyset, \\therefore $ not a partition.\n",
    "##### Exercise\n",
    "\n",
    "Prove that an equivalence relation,$\\sim$, generates a partition, P, on a set X.\n",
    "\n",
    "* \n",
    "$\\forall a \\in X \\exists $"
   ]
  },
  {
   "cell_type": "markdown",
   "metadata": {},
   "source": [
    "### Kernel\n",
    "\n",
    "For a function (or only homomorphisms?) $f: G \\rightarrow H$. The kernel is defined as $Ker(f) = \\{g\\in G: f(g) = e_H\\}$\n"
   ]
  },
  {
   "cell_type": "markdown",
   "metadata": {},
   "source": [
    "### Quotient groups\n",
    "\n",
    "Why are they called quotient groups?\n",
    "\n",
    "\n",
    "\n",
    "Let $f ∶ G \\rightarrow H$ be an homomorphism. Let $\\sim_f∶ G \\times G$ be the equivalence class\n",
    "defined by $a \\sim_f b$ if $f(a) = f(b)$. Then $\\sim_{Ker(f)}=\\sim_f$.\n",
    "\n",
    "\n",
    "For a homomorphic function $f:G\\rightarrow H$, elements of G are considered to be equivalent if their images are mapped to the same element on H.\n",
    "\n",
    "* Let $f ∶ G → H$ be an homomorphism. \n",
    "* Let $∗ ∶ G/Ker(f) \\times G/Ker(f) \\rightarrow G/Ker(f)$be the binary operator defined by $[a] ∗ [b] = f^{−1}(f([a])f([b]))$, for every $[a],[b] \\in G/Ker(f)$. \n",
    "* Then $(G/Ker(f), ∗)$ is isomoprhic to f(G). \n",
    "* In particular $(G/Ker(f), ∗)$ is a group.\n",
    "\n",
    "So take the equivalence classes and define a binary operation on them such that ??\n",
    "\n",
    "* Let G be a group and H be a subgroup. Then G/H is the set of equivalence classes aH of $\\sim_H$\n",
    "\n",
    "\n",
    "\n",
    "> You're finding how many cosets of B are present in A. The quotient group is the group of cosets. [SE](http://math.stackexchange.com/questions/69050/why-the-term-and-the-concept-of-quotient-group?rq=1)\n",
    "\n",
    "* http://math.stackexchange.com/questions/492281/why-not-introduce-quotient-groups-this-way\n",
    "* http://math.stackexchange.com/questions/266718/quotient-group-g-g-identity\n",
    "* http://math.stackexchange.com/questions/1253187/give-an-intuitive-explanation-for-polynomial-quotient-ring-or-polynomial-ring-m\n",
    "* http://math.stackexchange.com/questions/1602514/basic-understanding-of-quotients-of-things/1602526\n",
    "* http://math.stackexchange.com/questions/1380755/why-do-we-have-another-definition-for-the-kernel\n",
    "##### Examples\n",
    "* Take $\\mathbb{Z}$, the set of integers. And define $\\sim = \\{ (a,b):2\\mid a+b\\}$. Aka the odd and even pairs. \n",
    "* Now lets construct a quotient group from this relation. $f_{\\sim}:G\\rightarrow H$ such that f is a homomorphism.\n",
    "* So clearly the kernel of $f_{\\sim}(\\mathbb{Z})$ is ???\n",
    "* \n",
    "\n",
    "\n",
    "* Let G = {0,1,2,3} and H = 2G = {0,2}.\n",
    "* $\\{aH: a\\in G\\}$ = ...\n",
    "* $\\therefore 0\\sim 2, 1\\sim 3$ so G/H = {0,1} = {0,3} = {2,1} = {2,3}\n",
    "* So $G/H = \\{aH: a\\in G\\}$\n",
    "\n",
    "\n",
    "* Z/3Z = {0,1,2}.\n",
    "\n",
    "##### Thoughts and questions\n",
    "\n",
    "* Why $[a] ∗ [b] = f^{−1}(f([a])f([b]))$ and not [a] * [b] = ??? Oh.. we dont know how these elements in H relate to each other so we must use their relations from G. But, how do we know that the elements map onto each other correctly? Homomorphism. What is $f([a])f([b])$??\n",
    "* ?? Let $\\sim_f∶ G \\times G$ be ... $\\sim_f∶ G \\times G \\rightarrow G$??. Hmm, \n",
    "* Why does $\\sim_{Ker(f)}=\\sim_f$??? ??"
   ]
  },
  {
   "cell_type": "markdown",
   "metadata": {},
   "source": [
    "### Homomorphism\n",
    "\n",
    "* a group homomorphism is ??\n",
    "* a group homomorphism is injective iff the kernel is trivial. $homo:G \\rightarrow H$ then $Ker(homo) = \\{e_G\\}$"
   ]
  },
  {
   "cell_type": "markdown",
   "metadata": {},
   "source": [
    "### Action\n",
    "\n",
    "* (1) An action, $a$. $a:X\\times G \\rightarrow X$ where $a(e,x)=x$ for every $x\\in X$, and $a(g,a(h,x))=a(gh,x)$ for every $g,h\\in G$ and every $x\\in X$.\n",
    "* (2) Alternate definition: $a:G \\rightarrow \\mathcal{S}(X)$ where $\\mathcal{S}(X)$ is the set of all permutations of X and $a$ is a homomorphism.\n",
    "\n",
    "So $ X \\times G$ is the cartesian product? Therefore giving sets of xG, or Xg, whichever way you want to look at it.\n",
    "* What does xG mean?\n",
    "* What does Xg mean?\n",
    "\n",
    "##### Play\n",
    "Let X = {1,2,3} and G = D3 = ({(12),(13),(23),(132),(123),(1)},??). \n",
    "* By definiton (1). a(X,G) = $\\{\\{1,2,3\\} * (12),\\{1,2,3\\} * (13),\\{1,2,3\\} * (23),\\{1,2,3\\} * (132),\\{1,2,3\\} * (123),\\{1,2,3\\} * (1)\\}$\n",
    "* By definiton (2). Then the actions of X, a(X) = {{2,1,3},{3,2,1},{1,3,2},{2,3,1},{3,1,2},{1,2,3}} = permutations of X, S(X). So what does if mean to say $x * g? 1 * (1,2) = ??? = 2$\n",
    "\n",
    "##### Exercises\n",
    "\n",
    "Prove that if H is a group acting on a finite set X, where ∣H∣ = p for some prime p, then ∣X∣ ≡ ∣XH∣ mod p.\n"
   ]
  },
  {
   "cell_type": "markdown",
   "metadata": {},
   "source": [
    "### Stabilizer\n",
    "\n",
    "For a group G and a set X. The group $S = \\{g \\in G:gx=x\\}$ is a stabiliser of X, for $x \\in X$."
   ]
  },
  {
   "cell_type": "markdown",
   "metadata": {},
   "source": [
    "### Orbit\n",
    "\n",
    "* Define an equivalence relation, $\\sim$, on X. For $x,y \\in X, x\\sim y$ if $gx = y$ if $\\exists g \\in G$.\n",
    "* The equivalence classes of an eqiuvalence relation on a group are called the orbits of G on X.\n",
    "\n",
    "Aka symmetries? How is this similar to topology and quotient mappings? Transfering structure from one place to another. Is there a meta structure of transfering structure? What are the patterns?\n",
    "\n",
    "##### Example\n",
    "* X ={1,2,3,4,5}. G = D3 =  {(12),(13),(23),(132),(123),(1)}\n",
    "* $\\sim_{(1,2)} = \\{3,4,5\\}$ is an orbit of G on X."
   ]
  },
  {
   "cell_type": "markdown",
   "metadata": {},
   "source": [
    "##### Exercise\n",
    "\n",
    "Prove an orbit is an equivalence relation, and therefore they are partitions of X.\n",
    "\n"
   ]
  },
  {
   "cell_type": "markdown",
   "metadata": {},
   "source": [
    "### Ring\n",
    "X is a set, +, . are two binary operations on X. Then (X,+,.) is a ring if\n",
    "* (X,+) is an abelian group (commutative)\n",
    "* . is an associtaive binary opration (a * (b * c) = (a * b) * c)\n",
    "* Distributive. a.(b+c) = a.b + a.c and ...\n",
    "\n",
    "\n",
    "##### Play\n",
    "\n",
    "Prove that $(\\mathbb{Q},+,\\cdot)$ is a ring.\n",
    "\n",
    "$$\n",
    "\\begin{align}\n",
    "G &= (\\mathbb{Q},+) \\tag{Claim : need to prove this}\\\\\n",
    "&\\implies \\exists p,q\\in G:p=\\frac{a}{b},q=\\frac{c}{d}\\\\\n",
    "&\\therefore p+q = \\frac{a}{b} + \\frac{c}{d} = \\frac{ad+bc}{bd} = \\frac{x}{y} \\tag{this reminds me of matmul?}\\\\\n",
    "&\\implies  \\frac{x}{y} \\in G \\tag{therefore closed under addition}\\\\\n",
    "&\\therefore q+p = \\frac{c}{d}+\\frac{a}{b}  = \\frac{ad+bc}{bd} = \\frac{x}{y} \\tag{therefore commutative}\\\\\n",
    "...\n",
    "\\end{align}\n",
    "$$\n",
    "\n",
    "##### Questions and thoughts\n",
    "\n",
    "* What about a ring with different operators? Is seems that a ring is specifically defined for + and .\n",
    "* What about 3 operations?\n",
    "\n",
    "##### Resources\n",
    "\n",
    "http://wwwf.imperial.ac.uk/~anskor/notesM2P4.pdf"
   ]
  },
  {
   "cell_type": "markdown",
   "metadata": {},
   "source": [
    "### Identity\n",
    "\n"
   ]
  },
  {
   "cell_type": "markdown",
   "metadata": {},
   "source": [
    "### Unit\n",
    "\n",
    "Suppose (X,+,.) is a ring with identity 1. Then for $a\\in X$, if $\\exists b : a.b =b.a= 1$ then we say $a$ is a unit of X."
   ]
  },
  {
   "cell_type": "markdown",
   "metadata": {},
   "source": [
    "### Field\n",
    "\n",
    "* A field is a commutative ring with idenity for which every non-zero element is a unit. (If . is a commutative binary operationthen we say that R is a commutative ring.)\n",
    "* An equivalent/alternative definition? A field is (X,+,.) such that (X,+) and (X,.) are groups???\n",
    "* Is it possible to think of it like nested groups??? ((X,+),.)\n",
    "\n",
    "\n",
    "The ring (Q,+, ⋅) is also a field, but not the ring (Z,+, ⋅).\n",
    "\n",
    "* What are the properties of these? If everything (except zero) is a unit, then nothing is irreducible?"
   ]
  },
  {
   "cell_type": "markdown",
   "metadata": {},
   "source": [
    "### Irreducible\n",
    "\n",
    "Suppose that (R,+, .) is a ring with identity. A non-unit element $r \\in R$ is irreducible if, whenever $a$ and $b$ are elements in R such that $r = ab$, then either $a$ is a unit or $b$ is a unit.\n",
    "\n",
    "> a non-zero non-unit element in an integral domain is said to be irreducible if it is not a product of two non-units.\n",
    "\n",
    "##### Play\n",
    "\n",
    "Two definitions x, an irreducible element. if;\n",
    "* r $\\neq$ ab for a,b $\\neq$ units\n",
    "* r = ab for a or b = units\n",
    "\n",
    "Are these equivalent. It doesnt seem obvious at first glance? Ahh, that's where the or comes from. Need at least one element of its product to be a unit.\n",
    "\n",
    "* In $\\mathbb{Z}$, the set of units is {-1,1}. So if x = 12 = 2.6 = 3.4 = 12.1 then 12 is a product of two non-unit elements and thus is not irreducible (is reducible).\n",
    "* In $\\mathbb{R}$. the set of units is $\\mathbb{R}-\\{0\\}$. So then every real number, except zero, is irreducible.\n",
    "    * Is this telling us something about randomness/halting problem/information theory. That reals are not compressible? But that's not true? Repeating reals can be compressed? \n",
    "* So in Z, 4 is not irreducible but in Z mod 5, 4 is irreducible (as 2 is now a unit, 3.2 mod 5 = 1). \n",
    "    * That's counter intuitive...\n",
    "    * Why has this happened? Because in Z mod 5, everything is a unit (aka it's a field). As everything has an inverse. \n",
    "    * So, what does x being reducible mean? That there exists two elements, who dont have inverses, that and be combined to make x.\n",
    "    \n",
    "\n",
    "##### Thought and questions\n",
    "* Requires a ring? (Or field/integral domain?)\n",
    "* Does being reducible relate in any way to the typical meaning of the word?\n",
    "* Relation to primes?? In a PID if a element is irreducible it is a prime (and vice versa?) <- prove!\n",
    "* What relation does this have to disentangled representations/compositional units.\n",
    "    * Let F be a set (our subset or all?) of features. (would/could this make our set of features a group or ring somehow?)\n",
    "        * Then f in F is a unit if there exists g in F such that fg = identity (is this even possible with our features? maybe for (A.B)(x) - aka matrix transforms - but not A(B(x))). \n",
    "        * So h in F is irreducible if h = f.g such that f or g is a unit. \n",
    "        \n",
    "* What about applied to functions?"
   ]
  },
  {
   "cell_type": "markdown",
   "metadata": {},
   "source": [
    "### Subrings\n",
    "Let (R,+,.) be a ring. Assert that (S,+,.) is a subring, for $S \\subseteq R$. S is a subring iff\n",
    "* S is a subset of R\n",
    "* $0 \\in S$\n",
    "* $a+b \\in S, a.b \\in S$\n",
    "* $\\forall a \\in S, \\exists -a$\n",
    "    * That seems weird, Do they mean to say $\\forall a \\in S, \\exists b: a + b = b + a = 0$\n",
    "    * Aka the additive inverse? Which I guess is the same as negative? What about under modulo x, this isnt necessarily true?\n",
    "\n",
    "Alternate definiton?\n",
    "* (S,+) is a subgroup of (R,+) which implies that $a+b \\in S$\n",
    "* (S,.) is a submonoid (according to wikipedia..)"
   ]
  },
  {
   "cell_type": "markdown",
   "metadata": {},
   "source": [
    "### Zero divisior\n",
    "\n",
    "We say that an element $a \\in R$ is a zero divisor if $a\\neq 0, \\exists b : ab = 0 \\vee ba = 0$\n",
    "\n",
    "If a in R is a unit, then a is not a zero divisor?"
   ]
  },
  {
   "cell_type": "markdown",
   "metadata": {},
   "source": [
    "### Integral domain\n",
    "\n",
    "R is an integral domain if R is a commutaitive ring, $|R| \\ge 2$ and it has no zero divisors.\n",
    "\n",
    "Let R be an integral domain. Then $a ∣ b$ iff $<b> \\subseteq <a>$. In particular a and b are associates iff $<a> = <b>$.\n",
    "\n",
    "Associates?\n",
    "##### Exercise\n",
    "Prove: A field is an integral domain."
   ]
  },
  {
   "cell_type": "markdown",
   "metadata": {},
   "source": [
    "# Ideals\n",
    "\n",
    "### Definition\n",
    "If I is a subring of R, and $ir , ri \\in I \\;\\forall i \\in I,r\\in R$ then I is called an ideal of R.\n",
    "\n",
    "\n",
    "### Theorems\n",
    "Suppose that R is a ring and that I is an ideal of R. The cosets of I form a ring under the operations.\n",
    "\n",
    "\n",
    "##### Example\n",
    "\n",
    "Let A be the set mZ. Then $< m > = \\{mr:r\\in Z\\}$. ... principle ideal.\n",
    "\n",
    "Example of a rubring that isnt an ideal??\n",
    "\n",
    "##### Play\n",
    "* So if I is an ideal of (R,+, .) then is H = I a normal subgroup of G = (R,+)?\n",
    "    * Let R = {0,1,2,3} and I = {0,2}. (does this fit the definition of a sub ring?)\n",
    "    * Then gH = g+{0,2} = {0,2}, {1,3}, {0,2}, {1,3} so gh $\\notin$ H.\n",
    "    * ir = i.{0,2} = {0,0},{0,2},{2,0}, {0,2} so ir $\\in$ I\n",
    "    \n",
    "For a ring R and an element r ∈ R we write ⟨r⟩ to denote the set {ar ∣ a ∈ R}.\n",
    "We say that ⟨r⟩ is the ideal generated by r. We say that an ideal I of the form\n",
    "⟨r⟩ for some r is a principal ideal.\n",
    "\n",
    "\n",
    "Let R be an integral domain. Then a ∣ b iff ⟨b⟩ ⊆ ⟨a⟩. In particular a and b are\n",
    "associates iff ⟨a⟩ = ⟨b⟩.\n",
    "##### Questions and notes\n",
    "\n"
   ]
  },
  {
   "cell_type": "markdown",
   "metadata": {},
   "source": [
    "### Principle ideal domains\n",
    "\n",
    "Prove - any field is a principle ideal domain.\n",
    "\n",
    "Let R be a principal ideal domain. Then the irreducible decomposition of a\n",
    "non-zero element a is unique up to the relation of being associate."
   ]
  },
  {
   "cell_type": "markdown",
   "metadata": {},
   "source": [
    "# Quotient rings\n",
    "\n",
    "### Definition\n",
    "> If (R,+, ⋅) is a ring, and S is a subring of R, then (S,+) is a subgroup of (R,+), and the cosets of S, considered as a subring of (R,+, ⋅), are exactly the same as the cosets of S, considered as a subgroup of (R,+). \n",
    "\n",
    "Play/explore this!!\n",
    "### Prove\n",
    "that if $\\psi ∶ R → R′$ is a homomorphism between the two rings, R and R′, $Ker(\\psi)$ is an ideal of R.\n",
    "\n",
    "$$\n",
    "\\begin{align}\n",
    "\\psi (a) + \\psi (b) = \\psi (a+b), \\quad \\psi (a)\\psi (b) = \\psi (ab) \\tag{by definition of a homeomorphism}\\\\\n",
    "Ker(\\psi ) = \\{a \\in R : \\psi (a) = 0\\} \\tag{by difinition of a kernel} \\\\\n",
    "ir , ri \\in I \\;\\forall i \\in I,r\\in R  \\tag{by definition of an ideal} \\\\\n",
    "0 \\in S, \\quad a+b \\in S, a.b \\in S, \\quad \\forall a \\in S, \\exists -a \\tag{by definition of a subring} \\\\\n",
    "  \\\\\n",
    "0 = \\psi(0) \\implies 0 \\in Ker(\\psi) \\tag{by definition of homeomorphism} \\\\\n",
    "  \\\\\n",
    "\\forall a,b \\in Ker(\\psi) \\\\\n",
    "\\implies & \\psi (a) + \\psi (b) = \\psi (a + b) = 0 \\tag{because psi is a homeomorphism} \\\\\n",
    "c = a + b \\implies & \\psi (c) = 0 \\tag{let c} \\\\\n",
    "\\implies & c \\in Ker(\\psi) \\\\\n",
    "\\implies &\\forall a,b \\in Ker(\\psi) a+b\\in Ker(\\psi) \\tag{closed under addition}  \\\\ \n",
    "\\text{similar argument applies to a.b}  \\\\\n",
    "  \\\\\n",
    "\\psi(ri) = 0 \\implies ir \\in I  \\\\\n",
    "\\psi(r\\cdot i) = \\psi(r) \\cdot \\psi (i) = x \\cdot 0 = 0  \\tag{so since 0.x = 0 all ir are in I. } \\\\\n",
    "\\text{this doesnt make sense?} \\\\\n",
    "\\end{align}\n",
    "$$"
   ]
  },
  {
   "cell_type": "markdown",
   "metadata": {},
   "source": [
    "# Polynomials\n",
    "\n",
    "\n",
    "Let R be a ring. \n",
    "\n",
    "\n",
    "* Degree - the largest n such that $a_n \\neq 0$. What about x^3 + x + 1. Does the degree = 1 or 3??? No... Not equal to 0.\n",
    "\n",
    "\n",
    "### Theorems\n",
    "\n",
    "Let R be an integral domain. Then R[X] is an integral domain (prove??!?)\n",
    "\n",
    "### Play\n",
    "\n",
    "R[X] -- there is something funny going on in here. \n",
    "* What does R[X] mean?\n",
    "    * $R[\\sqrt{x}] = \\{(a+b\\cdot \\sqrt{x}) \\mid a,b \\in R\\}$\n",
    "    * $R[X] = \\{ (a_0.x^0 ... a_i.x^i, ... a_n.x^n) \\mid a_i \\in R\\}$\n",
    "* Is it still a ring? How do the element of R[X] relate to elements of R? \n",
    "    * Take an element in R,a, and an element in R[X], b+cX\n",
    "    \n",
    "\n",
    "\n",
    "### Questions and thoughts\n",
    "\n",
    "* Why would we want to define polynomial equations as elements of rings?\n",
    "    * Is R[X] still a ring? \n",
    "    \n",
    "* Why isn't 1/x a polynomial? [SE](http://math.stackexchange.com/questions/2514/why-cant-the-polynomial-ring-be-a-field)\n",
    "* Can a polynomial ring be a field?\n",
    "\n"
   ]
  },
  {
   "cell_type": "markdown",
   "metadata": {},
   "source": []
  },
  {
   "cell_type": "markdown",
   "metadata": {},
   "source": []
  },
  {
   "cell_type": "markdown",
   "metadata": {},
   "source": []
  },
  {
   "cell_type": "markdown",
   "metadata": {},
   "source": [
    "# Distractions\n",
    "\n",
    "### Decimals\n",
    "\n",
    "Check out this symmetry. What does it tell us?\n",
    "\n",
    "<img src='Decimalsymmetry.png' alt='pic'>\n",
    "\n",
    "Consider 5/13, which the first table tells us is .384615. Multiplying by 10 has the effect of cyclically shifting the digits in the decimal one position to the left:10 . 5/13= 10(.384615) = 10(.384615384615 . . .) = 3.84615384615 . . . = 3.846153. The numerator of 10(5/13) is 50, and 50 ≡ 11 mod 13, so 50/13 = 11/13 + integer. Since we already saw that 50/13 = 3.846153, the integer part of 50/13 is 3 and therefore 11/13 = .846153. In other words, shifting the digits in .384615 one position to the left turns 5/13 into 11/13, and the reason is that shifting digits in a decimal one position to the left corresponds to multiplication by 10 and 5 · 10 ≡ 11 mod 13.\n",
    "\n",
    "### Alternate groups\n",
    "\n",
    "##### A group of functions\n",
    "\n",
    "What would this look like?\n",
    "\n",
    "##### ???\n",
    "\n",
    "Other geometric ways to understand groups?"
   ]
  },
  {
   "cell_type": "markdown",
   "metadata": {},
   "source": [
    "# Related resources\n",
    "* http://math.stackexchange.com/questions/947239/novel-approaches-to-elementary-number-theory-and-abstract-algebra\n",
    "* http://martyweissman.com/\n",
    "* https://plus.maths.org/content/teacher-package-group-theory#intro\n",
    "* http://ocw.mit.edu/courses/mathematics/18-703-modern-algebra-spring-2013/lecture-notes/"
   ]
  }
 ],
 "metadata": {
  "kernelspec": {
   "display_name": "Python 3",
   "language": "python",
   "name": "python3"
  },
  "language_info": {
   "codemirror_mode": {
    "name": "ipython",
    "version": 3
   },
   "file_extension": ".py",
   "mimetype": "text/x-python",
   "name": "python",
   "nbconvert_exporter": "python",
   "pygments_lexer": "ipython3",
   "version": "3.5.1"
  }
 },
 "nbformat": 4,
 "nbformat_minor": 0
}
