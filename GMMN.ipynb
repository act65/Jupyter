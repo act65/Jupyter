{
 "cells": [
  {
   "cell_type": "markdown",
   "metadata": {},
   "source": [
    "* Nice story. AE -> GMMN + AE -> GAN\n",
    "* Test GMMN + AE vs AE vs GMMN vs ?? -- how do the gradient compare between these?!?\n",
    "* https://github.com/siddharth-agrawal/Generative-Moment-Matching-Networks\n",
    "* test - first step on one data point - massive learning rate = 1. Get into the right genral area. Tehe assumption is that all the data is 'close' to eachother in solution space."
   ]
  },
  {
   "cell_type": "code",
   "execution_count": 1,
   "metadata": {
    "collapsed": false
   },
   "outputs": [
    {
     "ename": "ImportError",
     "evalue": "No module named 'tensorflow'",
     "output_type": "error",
     "traceback": [
      "\u001b[1;31m---------------------------------------------------------------------------\u001b[0m",
      "\u001b[1;31mImportError\u001b[0m                               Traceback (most recent call last)",
      "\u001b[1;32m<ipython-input-1-41389fad42b5>\u001b[0m in \u001b[0;36m<module>\u001b[1;34m()\u001b[0m\n\u001b[1;32m----> 1\u001b[1;33m \u001b[1;32mimport\u001b[0m \u001b[0mtensorflow\u001b[0m \u001b[1;32mas\u001b[0m \u001b[0mtf\u001b[0m\u001b[1;33m\u001b[0m\u001b[0m\n\u001b[0m",
      "\u001b[1;31mImportError\u001b[0m: No module named 'tensorflow'"
     ]
    }
   ],
   "source": [
    "import tensorflow as tf"
   ]
  },
  {
   "cell_type": "code",
   "execution_count": null,
   "metadata": {
    "collapsed": true
   },
   "outputs": [],
   "source": [
    "x = batch(n,d)\n",
    "\n",
    "def kernel():#a similarity kernel\n",
    "    tf.exp(-(1/2)*tf.norm(x-y))\n",
    "\n",
    "\n",
    "def L_MMD(X,Y):\n",
    "    return (tf.reduce_mean(kernel(X,X),reduction_indicies) - 2*tf.reduce_mean(kernel(X,Y) , reduction_inidies = [1]) \n",
    "            + tf.reduce_mean(kernel(Y,tf.transpose(Y)),reduction_indicies = [1])"
   ]
  },
  {
   "cell_type": "code",
   "execution_count": 2,
   "metadata": {
    "collapsed": false
   },
   "outputs": [],
   "source": [
    "def computeLoss(self, x, samples, sigma = [1]):\n",
    "    \"\"\"\n",
    "    Calculates cost of the network, which is square root of the mixture of 'K'\n",
    "    RBF kernels\n",
    "    x:       Batch from the dataset\n",
    "    samples: Samples from the uniform distribution\n",
    "    sigma:   Bandwidth parameters for the 'K' kernels\n",
    "    \"\"\"\n",
    "    gen_x = self.forward(samples)\n",
    "    encode_x = self.encode(x)\n",
    "    \n",
    "    X = tf.concat(0, [gen_x, encode_x])\n",
    "    XX = tf.matmul(X, tf.transpose(X))\n",
    "    X2 = tf.reduce_sum(X * X, 1, keep_dims = True)\n",
    "\n",
    "    # -0.5 * (x^Tx - 2*x^Ty + y^Ty)\n",
    "    exponent = XX - 0.5 * X2 - 0.5 * tf.transpose(X2)\n",
    "\n",
    "    s = self.makeScaleMatrix(self.batch_size, self.batch_size)\n",
    "    S = tf.matmul(s, tf.transpose(s))\n",
    "\n",
    "    loss = 0\n",
    "\n",
    "    # for each bandwidth parameter, compute the MMD value and add them all\n",
    "    for i in range(len(sigma)):\n",
    "        # kernel values for each combination of the rows in 'X' \n",
    "        kernel_val = tf.exp(1.0 / sigma[i] * exponent)\n",
    "        loss += tf.reduce_sum(S * kernel_val)\n",
    "\n",
    "    return tf.sqrt(loss)\n"
   ]
  }
 ],
 "metadata": {
  "kernelspec": {
   "display_name": "Python 3",
   "language": "python",
   "name": "python3"
  },
  "language_info": {
   "codemirror_mode": {
    "name": "ipython",
    "version": 3
   },
   "file_extension": ".py",
   "mimetype": "text/x-python",
   "name": "python",
   "nbconvert_exporter": "python",
   "pygments_lexer": "ipython3",
   "version": "3.5.2"
  }
 },
 "nbformat": 4,
 "nbformat_minor": 0
}
