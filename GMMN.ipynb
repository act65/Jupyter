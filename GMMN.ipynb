{
 "cells": [
  {
   "cell_type": "markdown",
   "metadata": {},
   "source": [
    "* Nice story. AE -> GMMN + AE -> GAN\n",
    "* Test GMMN + AE vs AE vs GMMN vs ?? -- how do the gradient compare between these?!?\n",
    "* https://github.com/siddharth-agrawal/Generative-Moment-Matching-Networks\n",
    "* test - first step on one data point - massive learning rate = 1. Get into the right genral area. Tehe assumption is that all the data is 'close' to eachother in solution space."
   ]
  },
  {
   "cell_type": "code",
   "execution_count": null,
   "metadata": {
    "collapsed": false
   },
   "outputs": [],
   "source": [
    "import tensorflow as tf"
   ]
  },
  {
   "cell_type": "code",
   "execution_count": null,
   "metadata": {
    "collapsed": true
   },
   "outputs": [],
   "source": [
    "def L_MSE(X,Y): #Squared error loss\n",
    "    return tf.reduce_mean(tf.reduce_sum(tf.square(X-Y),reduction_indicies = [1]))"
   ]
  },
  {
   "cell_type": "code",
   "execution_count": null,
   "metadata": {
    "collapsed": true
   },
   "outputs": [],
   "source": [
    "def kernel(): #A gaussian similarity kernel\n",
    "    tf.exp(-(1/2)*tf.norm(x-y))\n",
    "    \n",
    "def L_MMD(X,Y): #Maximum mean discrepancy\n",
    "     return (tf.reduce_mean(kernel(X,X),reduction_indicies = [1]) - 2*tf.reduce_mean(kernel(X,Y) , reduction_inidies = [1]) \n",
    "            + tf.reduce_mean(kernel(Y,tf.transpose(Y)),reduction_indicies = [1])"
   ]
  },
  {
   "cell_type": "code",
   "execution_count": 7,
   "metadata": {
    "collapsed": true
   },
   "outputs": [],
   "source": [
    "def L_KL(X,Y): #Kulback-libeler\n",
    "    return -X*(tf.log(X) - tf.log(Y))"
   ]
  },
  {
   "cell_type": "code",
   "execution_count": 8,
   "metadata": {
    "collapsed": true
   },
   "outputs": [],
   "source": [
    "def L_JS(X,Y,p=0.5): #Jensen-shannon\n",
    "    M = p*X+(1-p)*Y\n",
    "    return (1-p)*L_KL(X,M) + p*L_KL(Y,M)"
   ]
  },
  {
   "cell_type": "code",
   "execution_count": null,
   "metadata": {
    "collapsed": true
   },
   "outputs": [],
   "source": []
  }
 ],
 "metadata": {
  "kernelspec": {
   "display_name": "Python 3",
   "language": "python",
   "name": "python3"
  },
  "language_info": {
   "codemirror_mode": {
    "name": "ipython",
    "version": 3
   },
   "file_extension": ".py",
   "mimetype": "text/x-python",
   "name": "python",
   "nbconvert_exporter": "python",
   "pygments_lexer": "ipython3",
   "version": "3.5.2"
  }
 },
 "nbformat": 4,
 "nbformat_minor": 0
}
