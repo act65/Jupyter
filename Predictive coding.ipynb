{
 "cells": [
  {
   "cell_type": "markdown",
   "metadata": {},
   "source": [
    "A and B use channel C to communicate, we want to send a minimal amount of information.\n",
    "\n",
    "If A knows what B knows, and B knows what A knows, then ??\n",
    "\n",
    "\n",
    "## Computational Complexity\n",
    "\n",
    "##### Lower bound\n",
    "\n",
    "Dont have to communicate anything, because you predict everything accurately.\n",
    "\n",
    "##### Upper bound\n",
    "\n",
    "Have to communicate everything, because you cant predict anything (random)."
   ]
  },
  {
   "cell_type": "markdown",
   "metadata": {},
   "source": [
    "# Resources\n",
    "\n",
    "\n",
    "# Questions\n",
    "\n",
    "\n",
    "\n",
    "# TODO\n",
    "\n",
    "* Get reference from [Surfing Uncertainty]()\n",
    "* Find some papers, \n",
    "* Write a wikipedia entry (as there isnt anything on it)\n",
    "* An auto encoder? Where we view the encoder and decoder communicating through some channel."
   ]
  }
 ],
 "metadata": {
  "kernelspec": {
   "display_name": "Python 3",
   "language": "python",
   "name": "python3"
  },
  "language_info": {
   "codemirror_mode": {
    "name": "ipython",
    "version": 3
   },
   "file_extension": ".py",
   "mimetype": "text/x-python",
   "name": "python",
   "nbconvert_exporter": "python",
   "pygments_lexer": "ipython3",
   "version": "3.5.1"
  }
 },
 "nbformat": 4,
 "nbformat_minor": 0
}
