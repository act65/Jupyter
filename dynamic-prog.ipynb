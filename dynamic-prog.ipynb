{
 "cells": [
  {
   "cell_type": "markdown",
   "metadata": {},
   "source": [
    "- https://jeremykun.com/2012/01/12/a-spoonful-of-python/\n",
    "- https://github.com/alexnowakvila/DiCoNet\n",
    "- https://en.wikipedia.org/wiki/Dynamic_programming\n",
    "\n",
    "Oh, dynamic programming is recursion plus memoization. The curse of recursion being the `StackOverFlowError`.\n",
    "\n",
    "- http://www.ams.org/journals/proc/1954-005-05/S0002-9939-1954-0063328-5/S0002-9939-1954-0063328-5.pdf\n",
    "- https://plato.stanford.edu/entries/recursive-functions/\n",
    "- https://en.wikipedia.org/wiki/Recurrence_relation"
   ]
  },
  {
   "cell_type": "code",
   "execution_count": 8,
   "metadata": {},
   "outputs": [],
   "source": [
    "def fib(n):\n",
    "    if n <= 2:\n",
    "        return 1\n",
    "    else:\n",
    "        return fib(n-1) + fib(n-2)\n",
    "    \n",
    "%timeit fib(10)"
   ]
  },
  {
   "cell_type": "code",
   "execution_count": 2,
   "metadata": {},
   "outputs": [
    {
     "data": {
      "text/plain": [
       "'\\nSo memoizing only works with discrete/categorical inputs.\\nIf the args are reals, then it is unlikely we are going to\\nsee the same inputs.\\n'"
      ]
     },
     "execution_count": 2,
     "metadata": {},
     "output_type": "execute_result"
    }
   ],
   "source": [
    "def memoize(f):\n",
    "    cache = {}\n",
    "\n",
    "    def memoizedFunction(*args):\n",
    "        if args not in cache:\n",
    "            cache[args] = f(*args)\n",
    "        return cache[args]\n",
    "\n",
    "    memoizedFunction.cache = cache\n",
    "    return memoizedFunction\n",
    "\n",
    "\"\"\"\n",
    "So memoizing only works with discrete/categorical inputs.\n",
    "If the args are reals, then it is unlikely we are going to\n",
    "see the same inputs.\n",
    "\"\"\""
   ]
  },
  {
   "cell_type": "code",
   "execution_count": 9,
   "metadata": {},
   "outputs": [
    {
     "name": "stdout",
     "output_type": "stream",
     "text": [
      "9.44 µs ± 55.6 ns per loop (mean ± std. dev. of 7 runs, 100000 loops each)\n",
      "9.87 µs ± 26.4 ns per loop (mean ± std. dev. of 7 runs, 100000 loops each)\n"
     ]
    }
   ],
   "source": [
    "@memoize\n",
    "def fib(n):\n",
    "    if n <= 2:\n",
    "        return 1\n",
    "    else:\n",
    "        return fib(n-1) + fib(n-2)\n",
    "    \n",
    "%timeit fib(10)"
   ]
  },
  {
   "cell_type": "code",
   "execution_count": 10,
   "metadata": {},
   "outputs": [
    {
     "name": "stdout",
     "output_type": "stream",
     "text": [
      "1.05 µs ± 17.8 ns per loop (mean ± std. dev. of 7 runs, 1000000 loops each)\n",
      "160 ns ± 0.268 ns per loop (mean ± std. dev. of 7 runs, 10000000 loops each)\n"
     ]
    }
   ],
   "source": [
    "def fac(n):\n",
    "    if n == 0:\n",
    "        return 1\n",
    "    else:\n",
    "        return n * fac(n-1)  # this isnt a tree. just a chain. huh\n",
    "\n",
    "%timeit fac(10)\n",
    "\n",
    "@memoize\n",
    "def fac(n):\n",
    "    if n == 0:\n",
    "        return 1\n",
    "    else:\n",
    "        return n * fac(n-1)\n",
    "    \n",
    "%timeit fac(10)"
   ]
  },
  {
   "cell_type": "code",
   "execution_count": 18,
   "metadata": {},
   "outputs": [
    {
     "data": {
      "text/plain": [
       "2432902008176640000"
      ]
     },
     "execution_count": 18,
     "metadata": {},
     "output_type": "execute_result"
    }
   ],
   "source": [
    "fac(20)"
   ]
  },
  {
   "cell_type": "code",
   "execution_count": 20,
   "metadata": {},
   "outputs": [
    {
     "data": {
      "text/plain": [
       "{(0,): 1,\n",
       " (1,): 1,\n",
       " (2,): 2,\n",
       " (3,): 6,\n",
       " (4,): 24,\n",
       " (5,): 120,\n",
       " (6,): 720,\n",
       " (7,): 5040,\n",
       " (8,): 40320,\n",
       " (9,): 362880,\n",
       " (10,): 3628800,\n",
       " (11,): 39916800,\n",
       " (12,): 479001600,\n",
       " (13,): 6227020800,\n",
       " (14,): 87178291200,\n",
       " (15,): 1307674368000,\n",
       " (16,): 20922789888000,\n",
       " (17,): 355687428096000,\n",
       " (18,): 6402373705728000,\n",
       " (19,): 121645100408832000,\n",
       " (20,): 2432902008176640000}"
      ]
     },
     "execution_count": 20,
     "metadata": {},
     "output_type": "execute_result"
    }
   ],
   "source": [
    "fac.cache  # this isnt getting cleared!?"
   ]
  },
  {
   "cell_type": "markdown",
   "metadata": {},
   "source": [
    "### Approximate dynamic programming!?\n",
    "\n",
    "Inputs are approx equal to past inputs.\n",
    "the measure of approximately equal will need to be cheap relative to the operation itself (and how many times it is repeated?), else nothing is gained."
   ]
  },
  {
   "cell_type": "code",
   "execution_count": null,
   "metadata": {},
   "outputs": [],
   "source": []
  },
  {
   "cell_type": "markdown",
   "metadata": {},
   "source": [
    "### Learned dynamic programming\n",
    "\n",
    "Two parts? Recursion (hard), memorisation (easier?).\n",
    "\n",
    "Aka lazy.\n",
    "- I have done that before.\n",
    "- If we reshuffle the inputs then I already have an op that can solve this."
   ]
  }
 ],
 "metadata": {
  "kernelspec": {
   "display_name": "Python 3",
   "language": "python",
   "name": "python3"
  },
  "language_info": {
   "codemirror_mode": {
    "name": "ipython",
    "version": 3
   },
   "file_extension": ".py",
   "mimetype": "text/x-python",
   "name": "python",
   "nbconvert_exporter": "python",
   "pygments_lexer": "ipython3",
   "version": "3.6.4"
  }
 },
 "nbformat": 4,
 "nbformat_minor": 2
}
