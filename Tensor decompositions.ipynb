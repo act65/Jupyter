{
 "cells": [
  {
   "cell_type": "markdown",
   "metadata": {},
   "source": [
    "# Structured matrices\n",
    "\n",
    "* Circulant\n",
    "* Diagonal\n",
    "* Upper triangular\n",
    "* Symmetric\n",
    "* ?!?\n",
    "* Convolutional\n",
    "* ?"
   ]
  },
  {
   "cell_type": "markdown",
   "metadata": {},
   "source": [
    "* How can we define structure?\n",
    "* Why are tensors useful?\n",
    "* How do they efficiently represent information?\n",
    "* ???\n",
    "* \n",
    "\n",
    "http://www.offconvex.org/2015/12/17/tensor-decompositions/"
   ]
  }
 ],
 "metadata": {
  "kernelspec": {
   "display_name": "Julia 0.4.6",
   "language": "julia",
   "name": "julia-0.4"
  },
  "language_info": {
   "file_extension": ".jl",
   "mimetype": "application/julia",
   "name": "julia",
   "version": "0.4.6"
  }
 },
 "nbformat": 4,
 "nbformat_minor": 0
}
