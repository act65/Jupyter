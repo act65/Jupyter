{
 "cells": [
  {
   "cell_type": "markdown",
   "metadata": {},
   "source": [
    "So, this will be a quick exploration of embedding high dimensional data into a lower dimensional space. We will use a one-hot encoding as the input and train it using a hebbian type learning algorithm, where inputs that occur together will be trained to have closer representations in the embedded space.\n",
    "\n",
    "Questions\n",
    "* How do we know which inputs occur together? Do we base this on time, or can we also use other metrics? Space, ...?\n",
    "* Would it be better if the embeddings were probability distubutions instead of vectors in the lower dimensional space?\n",
    "* \n",
    "\n",
    "So lets generate some data.\n",
    "\n",
    "word2vec?!?"
   ]
  },
  {
   "cell_type": "code",
   "execution_count": null,
   "metadata": {
    "collapsed": true
   },
   "outputs": [],
   "source": []
  }
 ],
 "metadata": {
  "kernelspec": {
   "display_name": "Python 3",
   "language": "python",
   "name": "python3"
  },
  "language_info": {
   "codemirror_mode": {
    "name": "ipython",
    "version": 3
   },
   "file_extension": ".py",
   "mimetype": "text/x-python",
   "name": "python",
   "nbconvert_exporter": "python",
   "pygments_lexer": "ipython3",
   "version": "3.5.1"
  }
 },
 "nbformat": 4,
 "nbformat_minor": 0
}
