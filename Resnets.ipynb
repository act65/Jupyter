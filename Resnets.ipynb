{
 "cells": [
  {
   "cell_type": "markdown",
   "metadata": {},
   "source": [
    "Does the residual passed forward include other residuals? $y = \\mathcal{F}(x,W\\{W_i\\}) + W_S x $ OR $y = \\mathcal{F}(x,W\\{W_i\\}) + W_{S_i} x_i + W_{S_{i-1}} x_{i-1}$\n",
    "\n",
    "Could used multiplicitive residuals to decide which information is sent forward through the residuals? $y =  \\mathcal{F}(x,W\\{W_i\\}) + W_{S_i} x_i \\times \\sigma(W_{S_{i-1}} x_{i-1})$. Kind of like gating the residuals, or could use the residuals to gate?"
   ]
  }
 ],
 "metadata": {
  "kernelspec": {
   "display_name": "Python 3",
   "language": "python",
   "name": "python3"
  },
  "language_info": {
   "codemirror_mode": {
    "name": "ipython",
    "version": 3
   },
   "file_extension": ".py",
   "mimetype": "text/x-python",
   "name": "python",
   "nbconvert_exporter": "python",
   "pygments_lexer": "ipython3",
   "version": "3.5.1"
  }
 },
 "nbformat": 4,
 "nbformat_minor": 0
}
