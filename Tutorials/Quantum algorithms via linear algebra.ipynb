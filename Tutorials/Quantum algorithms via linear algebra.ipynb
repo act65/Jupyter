{
 "cells": [
  {
   "cell_type": "markdown",
   "metadata": {},
   "source": [
    "Does computation over a different basis (i.e. quantum rather than classical - logical) mean that we can compute some algorithms faster?"
   ]
  },
  {
   "cell_type": "markdown",
   "metadata": {},
   "source": [
    "## Asymptotic complexity\n",
    "\n",
    "If we want to compre algorithms, we need to have some notion of better algorithms. How do we know one algorithm is better than another?\n",
    "\n",
    "$$\n",
    "\\lim_{n\\rightarrow \\infty} \\frac{f(n)}{n(t)} = 1\\\\\n",
    "f(n) = \\mathcal O() \\\\\n",
    "$$\n",
    "\n",
    "Imagine we are taking a walk, where each step has a cost. Then which path (or algorithm) is better? The one that requires fewer steps. \n",
    "Buried within this are a couple of assumptions;\n",
    "\n",
    "* the energy cost of a step doesnt change. (!! But it might? Steps cannot be taken for infinity, systems degrade, some types of operation may be more taxing than others, and thus slowly impose a greater cost per step)\n",
    "* each step taken is always the same \n",
    "* \n",
    "\n",
    "Relation of $\\mathcal O$ with the gradients of a function. If $\\forall x \\;\\parallel\\nabla_x f_1 \\parallel > \\parallel\\nabla_x f_2\\parallel $ then $f_1 = \\mathcal O(f_2)$\n",
    "\n",
    "\n",
    "We would always expect $\\parallel\\nabla_x f\\parallel>0$, unless ???. \n",
    "\n",
    "If negative then: more iteration/steps/?? make the algoithm more efficient. This could almost be true in some cases? It depends of the problem set? If we can learn/remeber something about previous steps and recycle those computations?? No, that only leads to $\\parallel\\nabla_x f\\parallel \\rightarrow 0$."
   ]
  },
  {
   "cell_type": "markdown",
   "metadata": {},
   "source": []
  }
 ],
 "metadata": {
  "kernelspec": {
   "display_name": "Python 3",
   "language": "python",
   "name": "python3"
  },
  "language_info": {
   "codemirror_mode": {
    "name": "ipython",
    "version": 3
   },
   "file_extension": ".py",
   "mimetype": "text/x-python",
   "name": "python",
   "nbconvert_exporter": "python",
   "pygments_lexer": "ipython3",
   "version": "3.5.2"
  }
 },
 "nbformat": 4,
 "nbformat_minor": 0
}
