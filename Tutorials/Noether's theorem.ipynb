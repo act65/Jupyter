{
 "cells": [
  {
   "cell_type": "markdown",
   "metadata": {},
   "source": [
    " Lagrangian mechanics. Principle of least action...\n",
    " \n",
    " Lagrangian multipliers. Optimisation?\n",
    " \n",
    " $$\\mathcal{S}[\\mathbf{q}(t)] = \\int_{t_1}^{t_2} L(\\mathbf{q}(t),\\mathbf{\\dot{q}}(t), t) dt $$"
   ]
  },
  {
   "cell_type": "markdown",
   "metadata": {},
   "source": [
    "* http://phys.columbia.edu/~nicolis/NewFiles/Noether_theorem.pdf\n",
    "* http://www.physics.usu.edu/torre/6010_Fall_2010/Lectures.html"
   ]
  }
 ],
 "metadata": {
  "kernelspec": {
   "display_name": "Python 3",
   "language": "python",
   "name": "python3"
  },
  "language_info": {
   "codemirror_mode": {
    "name": "ipython",
    "version": 3
   },
   "file_extension": ".py",
   "mimetype": "text/x-python",
   "name": "python",
   "nbconvert_exporter": "python",
   "pygments_lexer": "ipython3",
   "version": "3.5.1"
  }
 },
 "nbformat": 4,
 "nbformat_minor": 0
}
