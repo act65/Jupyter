{
 "cells": [
  {
   "cell_type": "markdown",
   "metadata": {},
   "source": [
    "* Rank can exceed dimensionality?!?\n",
    "* Tensor rank is weird. Investigate\n",
    "* ?"
   ]
  },
  {
   "cell_type": "markdown",
   "metadata": {},
   "source": [
    "# Tensor product\n",
    "\n",
    "> This is what we mean when we combine two independent states.\n",
    "\n",
    "## Kronecker product\n",
    "\n",
    "\n",
    "$$A\\otimes B = \n",
    "\\begin{bmatrix}\n",
    "a_{11}B & ... & a_{1n}B \\\\\n",
    "\\vdots & \\ddots & \\vdots \\\\\n",
    "a_{m1}B & ... & a_{mn}B \\\\\n",
    "\\end{bmatrix}\n",
    "$$\n",
    "\n",
    "```julia\n",
    "function kronecker(A::Array,B::Array)\n",
    "    n,m = size(A)\n",
    "    p,q = size(B)\n",
    "    C = zeros((n*p,q*m))\n",
    "    for i in 1:n\n",
    "        for j in 1:m\n",
    "            C[ p*(i-1)+1:p*i , q*(j-1)+1:q*j] += A[i,j].*B\n",
    "        end\n",
    "    end\n",
    "    return C\n",
    "end\n",
    "```\n",
    "\n",
    "#### Exercises\n",
    "\n",
    "Show that\n",
    "* $(A \\otimes B)(C \\otimes D) = AC \\otimes BD$\n",
    "* $vec(ABC) = (C^T \\otimes A ) vec(B)$\n",
    "* $AX=B \\implies (I\\otimes A)vec(X) = vec(B)$\n",
    "* $A\\otimes B = U_A\\Sigma_A V_A^T \\otimes U_B\\Sigma_B V_B^T = (U_A \\otimes U_B)(\\Sigma_A \\otimes \\Sigma_B )(V_A^T \\otimes V_B^T)$ with some reordering?!?\n",
    "* $tr(x \\otimes y) = x \\cdot y$ if x and y are the same shape????\n",
    "\n",
    "## Generalised tensor product\n",
    "\n",
    "$A\\in \\mathbb R^{n_1,\\dots,n_P}, B\\in \\mathbb R^{n_{P+1},\\dots,n_{Q+P}}, A\\otimes_g B \\in \\mathbb R^{n_1,\\dots,n_{P+Q}}$\n",
    "\n",
    "$g : \\mathbb R \\times \\mathbb R \\rightarrow \\mathbb R$ such that $\\forall a, b, c \\in \\mathbb R : g(g(a, b), c) = g(a, g(b, c))$ and $\\forall a, b ∈ \\mathbb R : g(a, b) = g(b, a)$\n",
    "\n",
    "\\begin{align*}\n",
    "(A\\otimes B)_{i_1,\\dots,i_{P+Q}} &= (a_{i_1,\\dots,i_{P}}b_{i_{P+1},\\dots,i_{P+Q}})\\\\\n",
    "(A\\otimes_g B)_{i,j} &= g(a_i,b_j) \\\\\n",
    "\\end{align*}\n",
    "\n",
    "***\n",
    "* A matmul is a special case (?). By summing over a set of the ."
   ]
  },
  {
   "cell_type": "code",
   "execution_count": null,
   "metadata": {
    "collapsed": true
   },
   "outputs": [],
   "source": []
  }
 ],
 "metadata": {
  "kernelspec": {
   "display_name": "Python 3",
   "language": "python",
   "name": "python3"
  },
  "language_info": {
   "codemirror_mode": {
    "name": "ipython",
    "version": 3
   },
   "file_extension": ".py",
   "mimetype": "text/x-python",
   "name": "python",
   "nbconvert_exporter": "python",
   "pygments_lexer": "ipython3",
   "version": "3.5.2"
  }
 },
 "nbformat": 4,
 "nbformat_minor": 0
}
