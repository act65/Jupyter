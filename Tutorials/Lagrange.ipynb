{
 "cells": [
  {
   "cell_type": "markdown",
   "metadata": {},
   "source": [
    "lagrangian opt and mech\n",
    "\n",
    "* https://en.wikipedia.org/wiki/Lagrange_multiplier\n",
    "* https://en.wikipedia.org/wiki/Karush%E2%80%93Kuhn%E2%80%93Tucker_conditions"
   ]
  },
  {
   "cell_type": "code",
   "execution_count": 1,
   "metadata": {
    "collapsed": false
   },
   "outputs": [
    {
     "data": {
      "text/plain": [
       "g (generic function with 1 method)"
      ]
     },
     "execution_count": 1,
     "metadata": {},
     "output_type": "execute_result"
    }
   ],
   "source": [
    "f(x,y) = x^2 + y^2 #a convex bowl\n",
    "g(x,y) = 2*x #a plane that intersects it at an angle\n",
    "\n",
    "lagrangian(x,y,λ)\n",
    "\n",
    "for i in 1:T\n",
    "    \n",
    "    #gradient descent\n",
    "    x -= dfdx(x,y)\n",
    "    y -= dfdx(x,y)"
   ]
  },
  {
   "cell_type": "code",
   "execution_count": 2,
   "metadata": {
    "collapsed": false
   },
   "outputs": [
    {
     "ename": "LoadError",
     "evalue": "LoadError: UndefVarError: T not defined\nwhile loading In[2], in expression starting on line 2",
     "output_type": "error",
     "traceback": [
      "LoadError: UndefVarError: T not defined\nwhile loading In[2], in expression starting on line 2",
      ""
     ]
    }
   ],
   "source": [
    "using PyPlot\n",
    "t = linspace(-10,10,T)\n",
    "plot(t,f(x))"
   ]
  }
 ],
 "metadata": {
  "kernelspec": {
   "display_name": "Julia 0.4.6",
   "language": "julia",
   "name": "julia-0.4"
  },
  "language_info": {
   "file_extension": ".jl",
   "mimetype": "application/julia",
   "name": "julia",
   "version": "0.4.6"
  }
 },
 "nbformat": 4,
 "nbformat_minor": 0
}
