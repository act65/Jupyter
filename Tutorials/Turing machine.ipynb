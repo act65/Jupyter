{
 "cells": [
  {
   "cell_type": "markdown",
   "metadata": {},
   "source": [
    "# Introduction\n",
    "\n",
    "Turing machines are the foundation of the study of computational complexity. They are as the basis for measuing the amount of computational steps required for a function to generate output, given input.\n",
    "\n",
    "Real algorithms are too complicated (redundancy...???, finite memory???) so we make a nicer version - Turing machines - full of assumptions and ideals... This does not sound like a good presmise to start on... What is the study of real algorithms and problems? Just timing them and recording the CPU/GPU activity? \n",
    "\n",
    "What is the point of non-deterministic turning machines? To model ?? real computers, as electonics makes mistakes, bits accidentally flipped etc...\n",
    "\n",
    "### Definition\n",
    "\n",
    "A Turing machine, TM, is defined by;\n",
    "\n",
    "* Q, a finite, non-empty set of states. The current state is determined by the position of the read/write head and past actions?? $Q = \\{x_1,x_2 ... x_{\\infty}\\} $\n",
    "* $\\Gamma$, a finite, non-empty set of tape alphabet symbols. $\\Gamma = \\{\\_,0,1\\}$\n",
    "* $\\delta: (Q \\setminus F) \\times \\Gamma \\rightarrow Q \\times \\Gamma \\times \\{L,R\\} $is a partial function called the transition function, where L is left shift, R is right shift. (A relatively uncommon variant allows \"no shift\", say N, as a third element of the latter set.) If \\delta is not defined on the current state and the current tape symbol, then the machine halts.\n",
    "* $q_0 \\in$ Q is the initial state, which determines the position of the read/write head, ... ??\n",
    "* F $\\subseteq$ Q is the set of final or accepting states. The initial tape contents is said to be accepted by M if it eventually halts in a state from F.\n",
    "\n",
    "\\begin{align*}\n",
    "TM = \\langle Q, \\Gamma, \\delta, q_0, F \\rangle \n",
    "\\end{align*}\n",
    "\n",
    "\n",
    "# Implementation\n",
    "\n",
    "Lets begin with a simple single tape Turning machine, defined by;\n",
    "\n",
    "the alphabet ..., transition function ..., a state, ?\n",
    "\n",
    "We can use this to solve some simple ..."
   ]
  },
  {
   "cell_type": "code",
   "execution_count": 21,
   "metadata": {
    "collapsed": false
   },
   "outputs": [
    {
     "name": "stdout",
     "output_type": "stream",
     "text": [
      "Bit inversion TM\n",
      "Input on Tape: 010011 \n",
      "Result of TM calculation: 101100 \n",
      "Steps = 7\n",
      "\n",
      "Pattern recognition - 111 - TM\n",
      "Input on Tape: 001001110101 \n",
      "Result of TM calculation: 000000010000 \n",
      "Steps = 13\n",
      "\n",
      "Adder\n",
      "Input on Tape: 0011+0101 \n",
      "Result of TM calculation:     1000 \n",
      "Steps = 135\n",
      "Input on Tape: 00010+01100 \n",
      "Result of TM calculation:      01110 \n",
      "Steps = 116\n"
     ]
    }
   ],
   "source": [
    "class TuringMachine(object):\n",
    "    def __init__(self, tape = \"\", initial_state = \"\", head_position = 0, \n",
    "                 final_states = [], transition_function = {}):\n",
    "        self.__head_position = head_position\n",
    "        self.__current_state = initial_state \n",
    "        self.__tape = list(tape)\n",
    "        self.__transition_function = transition_function\n",
    "        self.__final_states = final_states\n",
    "    \n",
    "    def step(self):\n",
    "        y = self.__transition_function[(self.__current_state, self.__tape[self.__head_position])]\n",
    "        self.__current_state = y[0] \n",
    "        self.__tape[self.__head_position] = y[1] #write onto the tape\n",
    "        self.__head_position += y[2] #left = -1, right = 1, pass = 0\n",
    "\n",
    "    def get_tape(self): \n",
    "        return ''.join(self.__tape)\n",
    "        \n",
    "    def is_final(self):\n",
    "        return True if self.__current_state in self.__final_states else False\n",
    "    \n",
    "    def calculate(self):\n",
    "        self.count = 0\n",
    "        while not self.is_final():\n",
    "            self.count += 1\n",
    "            self.step()\n",
    "    \n",
    "    def details(self):\n",
    "        print(\"Head position = \",self.__head_position)\n",
    "        print(\"Current state = \",self.__current_state)\n",
    "        print(\"Transition function = \",self.__transition_function)\n",
    "        print(\"Tape\",self.get_tape)  \n",
    "        \n",
    "###### Lets test it out\n",
    "### A bit inverter\n",
    "print(\"Bit inversion TM\")\n",
    "tf =  {(\"init\",\"0\"):(\"init\", \"1\", 1),\n",
    "       (\"init\",\"1\"):(\"init\", \"0\", 1),\n",
    "       (\"init\",\" \"):(\"final\",\" \", 0)}\n",
    "\n",
    "t = TuringMachine(tape = \"010011 \", initial_state = \"init\", final_states = [\"final\"], \n",
    "                  transition_function=tf)\n",
    "\n",
    "print(\"Input on Tape:\",t.get_tape())\n",
    "t.calculate()\n",
    "print(\"Result of TM calculation:\",t.get_tape())    \n",
    "print(\"Steps = \" + str(t.count))\n",
    "\n",
    "### Pattern recogniser - 111\n",
    "print(\"\\nPattern recognition - 111 - TM\")\n",
    "transition_function = {(\"A\",\"0\"):(\"A\", \"0\", 1),\n",
    "                       (\"A\",\"1\"):(\"B\", \"0\", 1),\n",
    "                       (\"B\",\"0\"):(\"A\", \"0\", 1),\n",
    "                       (\"B\",\"1\"):(\"C\", \"0\", 1),\n",
    "                       (\"C\",\"0\"):(\"A\", \"0\", 1),\n",
    "                       (\"C\",\"1\"):(\"A\", \"1\", 1),\n",
    "                       (\"A\",\" \"):(\"final\",\" \", 0),\n",
    "                       (\"B\",\" \"):(\"final\",\" \", 0),\n",
    "                       (\"C\",\" \"):(\"final\",\" \", 0)}\n",
    "\n",
    "t = TuringMachine(tape = \"001001110101 \", initial_state = \"A\", final_states = [\"final\"], \n",
    "                  transition_function=transition_function) \n",
    "print(\"Input on Tape:\",t.get_tape())\n",
    "t.calculate()\n",
    "print(\"Result of TM calculation:\",t.get_tape())    \n",
    "print(\"Steps = \" + str(t.count))\n",
    "\n",
    "### Adder\n",
    "print(\"\\nAdder\")\n",
    "transition_function = {\n",
    "                       #A - check if zero\n",
    "                       (\"A\",\"0\"):(\"A\", \"0\", 1),\n",
    "                       (\"A\",\"1\"):(\"B\", \"1\", -1),\n",
    "                       (\"A\",\"+\"):(\"K\", \" \", -1),\n",
    "                       #B - seek left and sub 1\n",
    "                       (\"B\",\"0\"):(\"B\", \"0\", -1),\n",
    "                       (\"B\",\"1\"):(\"B\", \"1\", -1),\n",
    "                       (\"B\",\" \"):(\"C\", \" \", 1),\n",
    "                       #C - sub1 ones compliment\n",
    "                       (\"C\",\"0\"):(\"C\", \"1\", 1),\n",
    "                       (\"C\",\"1\"):(\"C\", \"0\", 1),\n",
    "                       (\"C\",\"+\"):(\"D\", \"+\", -1),\n",
    "                       #D - sub1 add1 zero until 0\n",
    "                       (\"D\",\"0\"):(\"E\", \"1\", 1),\n",
    "                       (\"D\",\"1\"):(\"D\", \"0\", -1),\n",
    "                       #E - sub1 add1 find end\n",
    "                       (\"E\",\"0\"):(\"E\", \"0\", 1),\n",
    "                       (\"E\",\"1\"):(\"E\", \"1\", 1),\n",
    "                       (\"E\",\"+\"):(\"F\", \"+\", -1),\n",
    "                       #F - sub1 ones-complementR\n",
    "                       (\"F\",\"0\"):(\"F\", \"1\", -1),\n",
    "                       (\"F\",\"1\"):(\"F\", \"0\", -1),\n",
    "                       (\"F\",\" \"):(\"G\", \" \", 1),\n",
    "                       #G - seek right add 1\n",
    "                       (\"G\",\"0\"):(\"G\", \"0\", 1),\n",
    "                       (\"G\",\"1\"):(\"G\", \"1\", 1),\n",
    "                       (\"G\",\"+\"):(\"H\", \"+\", 1),\n",
    "                       #H - add1 find end\n",
    "                       (\"H\",\"0\"):(\"H\", \"0\", 1),\n",
    "                       (\"H\",\"1\"):(\"H\", \"1\", 1),\n",
    "                       (\"H\",\" \"):(\"I\", \" \", -1),\n",
    "                       #I - add1 zero until 0\n",
    "                       (\"I\",\"0\"):(\"J\", \"1\", -1),\n",
    "                       (\"I\",\"1\"):(\"I\", \"0\", -1),\n",
    "                       #J - seek left and continue\n",
    "                       (\"J\",\"0\"):(\"J\", \"0\", -1),\n",
    "                       (\"J\",\"1\"):(\"J\", \"1\", -1),\n",
    "                       (\"J\",\"+\"):(\"J\", \"+\", -1),\n",
    "                       (\"J\",\" \"):(\"A\", \" \", 1),\n",
    "                       #K - Seek left and zero\n",
    "                       (\"K\",\"0\"):(\"K\", \" \", -1),\n",
    "                       (\"K\",\" \"):(\"L\", \" \", 1),\n",
    "                       #L - seek start\n",
    "                       (\"L\",\"0\"):(\"M\", \"0\", -1),\n",
    "                       (\"L\",\"1\"):(\"M\", \"1\", -1),\n",
    "                       (\"L\",\" \"):(\"L\", \" \", 1),\n",
    "                       #M - move right once\n",
    "                       (\"M\",\" \"):(\"final\", \"\", 0)}\n",
    "\n",
    "t = TuringMachine(tape = \"0011+0101 \", initial_state = \"A\", final_states = [\"final\"], \n",
    "                  transition_function=transition_function)\n",
    "\n",
    "print(\"Input on Tape:\",t.get_tape())\n",
    "t.calculate()\n",
    "print(\"Result of TM calculation:\",t.get_tape())    \n",
    "print(\"Steps = \" + str(t.count))\n",
    "\n",
    "t = TuringMachine(tape = \"00010+01100 \", initial_state = \"A\", final_states = [\"final\"], \n",
    "                  transition_function=transition_function)\n",
    "\n",
    "print(\"Input on Tape:\",t.get_tape())\n",
    "t.calculate()\n",
    "print(\"Result of TM calculation:\",t.get_tape())    \n",
    "print(\"Steps = \" + str(t.count))"
   ]
  },
  {
   "cell_type": "markdown",
   "metadata": {},
   "source": [
    "but really the state is determined from the head position, ... , not like we are doing here???\n",
    "\n",
    "\n",
    "\n",
    "# Universal Turning Machine\n",
    "\n",
    "So how can we make this single tape Turing machine universal? We could design our UTM to expect a description of the transition function (no, not the transition function - a seperate action table) first and then the input string after. This would allow the simulation of any Turing machine (as we could specify any Turing machine in the action table - equivalent to the transition function of the simulated Turing machine). \n",
    "\n",
    "We need to develop a way for the input string to ... ?\n",
    "But where does this action table get stored? So we need to add another tape, or more heads?"
   ]
  },
  {
   "cell_type": "code",
   "execution_count": null,
   "metadata": {
    "collapsed": false
   },
   "outputs": [],
   "source": []
  },
  {
   "cell_type": "markdown",
   "metadata": {},
   "source": []
  },
  {
   "cell_type": "code",
   "execution_count": null,
   "metadata": {
    "collapsed": false
   },
   "outputs": [],
   "source": []
  },
  {
   "cell_type": "markdown",
   "metadata": {},
   "source": [
    "Cool. But... no working space??? or are we just supposed to use the same tape? Is it possible for one transition function reference to give multiple actions?\n",
    "\n",
    "3 state not working.\n",
    "\n",
    "how is it possible to find these algorithms? is there a better way to visualise what is happening?\n",
    "\n",
    "Moving on, now we will have a quick look into multi-tape TMs.\n",
    "\n",
    "So is it possible to simply define a class of a single two tape TM and recursively join them together tor form TMs with more tapes?\n",
    "\n",
    "what about multi-tape TMs? limitations of a single taped TM?"
   ]
  },
  {
   "cell_type": "code",
   "execution_count": 3,
   "metadata": {
    "collapsed": false
   },
   "outputs": [],
   "source": [
    "class MultiTapeTM(object):\n",
    "    def __init__(self, readtape = \"\", initial_states = \"\", head_positions = [1,1], \n",
    "                 final_states = [], transition_function = {}):\n",
    "        self.__head_positions = head_positions\n",
    "        self.__current_states = initial_states\n",
    "        self.__readtape = list(readtape)\n",
    "        self.__writetape = [\"\"]*len(self.__readtape)\n",
    "        self.__transition_function = transition_function\n",
    "        self.__final_states = final_states\n",
    "    \n",
    "    def step(self):\n",
    "        y = self.__transition_function[(self.__current_states, self.__readtape[self.__head_positions[0]])]\n",
    "        self.__current_state = y[0] \n",
    "        self.__writetape[self.__head_positions[1]] = y[2] #write onto the tape\n",
    "        self.__head_positions[0] += y[1]\n",
    "        self.__head_positions[1] += y[3] \n",
    "\n",
    "    def get_tape(self): \n",
    "        print(''.join(self.__readtape))\n",
    "    def is_final(self):\n",
    "        return True if self.__current_states in self.__final_states else False"
   ]
  },
  {
   "cell_type": "markdown",
   "metadata": {},
   "source": []
  },
  {
   "cell_type": "code",
   "execution_count": 22,
   "metadata": {
    "collapsed": false
   },
   "outputs": [
    {
     "name": "stdout",
     "output_type": "stream",
     "text": [
      "Input on Tape:\n",
      "010011 \n"
     ]
    },
    {
     "ename": "IndexError",
     "evalue": "list index out of range",
     "output_type": "error",
     "traceback": [
      "\u001b[0;31m---------------------------------------------------------------------------\u001b[0m",
      "\u001b[0;31mIndexError\u001b[0m                                Traceback (most recent call last)",
      "\u001b[0;32m<ipython-input-22-18e36d645a0b>\u001b[0m in \u001b[0;36m<module>\u001b[0;34m()\u001b[0m\n\u001b[1;32m      9\u001b[0m \u001b[0mt\u001b[0m\u001b[0;34m.\u001b[0m\u001b[0mget_tape\u001b[0m\u001b[0;34m(\u001b[0m\u001b[0;34m)\u001b[0m\u001b[0;34m\u001b[0m\u001b[0m\n\u001b[1;32m     10\u001b[0m \u001b[0;32mwhile\u001b[0m \u001b[0;32mnot\u001b[0m \u001b[0mt\u001b[0m\u001b[0;34m.\u001b[0m\u001b[0mis_final\u001b[0m\u001b[0;34m(\u001b[0m\u001b[0;34m)\u001b[0m\u001b[0;34m:\u001b[0m\u001b[0;34m\u001b[0m\u001b[0m\n\u001b[0;32m---> 11\u001b[0;31m     \u001b[0mt\u001b[0m\u001b[0;34m.\u001b[0m\u001b[0mstep\u001b[0m\u001b[0;34m(\u001b[0m\u001b[0;34m)\u001b[0m\u001b[0;34m\u001b[0m\u001b[0m\n\u001b[0m\u001b[1;32m     12\u001b[0m \u001b[0mprint\u001b[0m\u001b[0;34m(\u001b[0m\u001b[0;34m\"Result of TM calculation:\"\u001b[0m\u001b[0;34m)\u001b[0m\u001b[0;34m\u001b[0m\u001b[0m\n\u001b[1;32m     13\u001b[0m \u001b[0mt\u001b[0m\u001b[0;34m.\u001b[0m\u001b[0mget_tape\u001b[0m\u001b[0;34m(\u001b[0m\u001b[0;34m)\u001b[0m\u001b[0;34m\u001b[0m\u001b[0m\n",
      "\u001b[0;32m<ipython-input-3-77a468bc21a2>\u001b[0m in \u001b[0;36mstep\u001b[0;34m(self)\u001b[0m\n\u001b[1;32m     10\u001b[0m \u001b[0;34m\u001b[0m\u001b[0m\n\u001b[1;32m     11\u001b[0m     \u001b[0;32mdef\u001b[0m \u001b[0mstep\u001b[0m\u001b[0;34m(\u001b[0m\u001b[0mself\u001b[0m\u001b[0;34m)\u001b[0m\u001b[0;34m:\u001b[0m\u001b[0;34m\u001b[0m\u001b[0m\n\u001b[0;32m---> 12\u001b[0;31m         \u001b[0my\u001b[0m \u001b[0;34m=\u001b[0m \u001b[0mself\u001b[0m\u001b[0;34m.\u001b[0m\u001b[0m__transition_function\u001b[0m\u001b[0;34m[\u001b[0m\u001b[0;34m(\u001b[0m\u001b[0mself\u001b[0m\u001b[0;34m.\u001b[0m\u001b[0m__current_states\u001b[0m\u001b[0;34m,\u001b[0m \u001b[0mself\u001b[0m\u001b[0;34m.\u001b[0m\u001b[0m__readtape\u001b[0m\u001b[0;34m[\u001b[0m\u001b[0mself\u001b[0m\u001b[0;34m.\u001b[0m\u001b[0m__head_positions\u001b[0m\u001b[0;34m[\u001b[0m\u001b[0;36m0\u001b[0m\u001b[0;34m]\u001b[0m\u001b[0;34m]\u001b[0m\u001b[0;34m)\u001b[0m\u001b[0;34m]\u001b[0m\u001b[0;34m\u001b[0m\u001b[0m\n\u001b[0m\u001b[1;32m     13\u001b[0m         \u001b[0mself\u001b[0m\u001b[0;34m.\u001b[0m\u001b[0m__current_state\u001b[0m \u001b[0;34m=\u001b[0m \u001b[0my\u001b[0m\u001b[0;34m[\u001b[0m\u001b[0;36m0\u001b[0m\u001b[0;34m]\u001b[0m\u001b[0;34m\u001b[0m\u001b[0m\n\u001b[1;32m     14\u001b[0m         \u001b[0mself\u001b[0m\u001b[0;34m.\u001b[0m\u001b[0m__writetape\u001b[0m\u001b[0;34m[\u001b[0m\u001b[0mself\u001b[0m\u001b[0;34m.\u001b[0m\u001b[0m__head_positions\u001b[0m\u001b[0;34m[\u001b[0m\u001b[0;36m1\u001b[0m\u001b[0;34m]\u001b[0m\u001b[0;34m]\u001b[0m \u001b[0;34m=\u001b[0m \u001b[0my\u001b[0m\u001b[0;34m[\u001b[0m\u001b[0;36m2\u001b[0m\u001b[0;34m]\u001b[0m \u001b[0;31m#write onto the tape\u001b[0m\u001b[0;34m\u001b[0m\u001b[0m\n",
      "\u001b[0;31mIndexError\u001b[0m: list index out of range"
     ]
    }
   ],
   "source": [
    "transition_function = {(\"A\",\"0\"):(\"A\", 1, \"1\",1), #we are reading from one tape and writing to the other.\n",
    "                       (\"A\",\"1\"):(\"A\", 1, \"1\",1), # but now the state also depends on what has been written?\n",
    "                       (\"A\",\" \"):(\"final\", 1, \"1\",1),}\n",
    "\n",
    "t = MultiTapeTM(readtape = \"010011 \", initial_states = \"A\", final_states = [\"final\"], \n",
    "                  transition_function=transition_function)\n",
    "\n",
    "print(\"Input on Tape:\")\n",
    "t.get_tape()\n",
    "while not t.is_final():\n",
    "    t.step()\n",
    "print(\"Result of TM calculation:\")    \n",
    "t.get_tape()"
   ]
  },
  {
   "cell_type": "markdown",
   "metadata": {},
   "source": []
  },
  {
   "cell_type": "markdown",
   "metadata": {},
   "source": [
    "Questions\n",
    "* Why turing machines and not some other type? What other types are there?\n",
    "* How does the turing machine keep track of its state? Also via lookup table?\n",
    "\n",
    "\n",
    "To-do\n",
    "* Universal turing machine, \n",
    "* multi tape machine, \n",
    "* halting problem, halting probability and omega\n",
    "* count computations, \n",
    "* turing-chruch theorem, church turing thesis...\n",
    "* busy beaver, \n",
    "* visualise the TM look up table as a finite state automata, \n",
    "* plot head positions, plot changes to the tape, ?? investigate patterns in the details\n",
    "\n"
   ]
  },
  {
   "cell_type": "code",
   "execution_count": null,
   "metadata": {
    "collapsed": true
   },
   "outputs": [],
   "source": []
  }
 ],
 "metadata": {
  "kernelspec": {
   "display_name": "Python 3",
   "language": "python",
   "name": "python3"
  },
  "language_info": {
   "codemirror_mode": {
    "name": "ipython",
    "version": 3
   },
   "file_extension": ".py",
   "mimetype": "text/x-python",
   "name": "python",
   "nbconvert_exporter": "python",
   "pygments_lexer": "ipython3",
   "version": "3.5.1"
  }
 },
 "nbformat": 4,
 "nbformat_minor": 0
}
