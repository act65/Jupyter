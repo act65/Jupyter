{
 "cells": [
  {
   "cell_type": "markdown",
   "metadata": {},
   "source": [
    "> _If you understand how compilers work, what's really going on is not so much that Lisp has a strange syntax as that Lisp has no syntax. You write programs in the parse trees that get generated within the compiler when other languages are parsed. But these parse trees are fully accessible to your programs. You can write programs that manipulate them. In Lisp, these programs are called macros. They are programs that write programs._\n",
    "\n",
    "### Abstract syntax tree\n",
    "\n",
    "What are the benfits to programming syntax being the same as parsing? What other data structures could be used as a basis for syntax?\n",
    "\n",
    "\n",
    "### Meta programming\n",
    "\n",
    "Even more ability to abstract away from operations. To find structure within meta programs.\n",
    "http://docs.julialang.org/en/release-0.4/manual/metaprogramming/\n",
    "\n",
    "### Questions\n",
    "\n",
    "* A differentiable version of metaprogramming with parameterised functions? OPtimise the whole language?!?\n",
    "\n",
    "Relation to \n",
    "* lisp - macros?\n",
    "* S-expressions?\n",
    "* meta-programming\n",
    "* Julia\n",
    "* functional programming?\n",
    "* scheme or clojure?\n",
    "\n",
    "* Is that meta programming just one result of programming syntax == compiler/parser data structure? What are the others? \n",
    "* Why does metaprogramming arise from homoiconicity?\n",
    "\n",
    "What was that coding language that you can implement in _ lines??!?\n",
    "\n",
    "\n",
    "### Resources\n",
    "\n",
    "* http://programmers.stackexchange.com/questions/213858/python-decorators-and-lisp-macros?newreg=4d996b6a492b46d78a4fea15a0e5afdd\n",
    "* http://stackoverflow.com/questions/267862/what-makes-lisp-macros-so-special\n",
    "* http://stackoverflow.com/questions/2307562/how-does-lisp-let-you-redefine-the-language-itself?lq=1\n",
    "* [Lisp interpreter in python](http://norvig.com/lispy.html)\n",
    "* http://ep.yimg.com/ty/cdn/paulgraham/jmc.lisp"
   ]
  }
 ],
 "metadata": {
  "kernelspec": {
   "display_name": "Julia 0.4.6",
   "language": "julia",
   "name": "julia-0.4"
  },
  "language_info": {
   "file_extension": ".jl",
   "mimetype": "application/julia",
   "name": "julia",
   "version": "0.4.6"
  }
 },
 "nbformat": 4,
 "nbformat_minor": 0
}
