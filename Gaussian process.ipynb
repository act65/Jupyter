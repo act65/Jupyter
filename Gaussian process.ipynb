{
 "cells": [
  {
   "cell_type": "code",
   "execution_count": 1,
   "metadata": {
    "collapsed": true
   },
   "outputs": [],
   "source": [
    "import numpy as np\n",
    "import matplotlib.pyplot as plt"
   ]
  },
  {
   "cell_type": "code",
   "execution_count": 3,
   "metadata": {
    "collapsed": true
   },
   "outputs": [],
   "source": [
    "def guassian(x, y):\n",
    "    return np.exp(-(0.5)*np.sum((x-y)**2, axis=1))\n",
    "\n",
    "def cosine(x, y):\n",
    "    return np.dot(x, y)/(np.linalg.norm(x)*np.linalg.norm(y))\n",
    "\n",
    "# ?? other kernels?\n",
    "# what are these kernels actually doing? \n",
    "# measuring similarity? a distance measure?\n",
    "# what about divergences? should thes be symmetric? \n",
    "# should we be treating the train and test data the same?"
   ]
  },
  {
   "cell_type": "code",
   "execution_count": 4,
   "metadata": {
    "collapsed": true
   },
   "outputs": [],
   "source": [
    "def covar_matrix(X, X_t, kernel):  # how to do pairwise?!?\n",
    "    return kernel(X, X_t)\n",
    "# if cosine distance. then just == covariance?! X . X_t?"
   ]
  },
  {
   "cell_type": "code",
   "execution_count": null,
   "metadata": {
    "collapsed": true
   },
   "outputs": [],
   "source": []
  }
 ],
 "metadata": {
  "kernelspec": {
   "display_name": "Python 3",
   "language": "python",
   "name": "python3"
  },
  "language_info": {
   "codemirror_mode": {
    "name": "ipython",
    "version": 3
   },
   "file_extension": ".py",
   "mimetype": "text/x-python",
   "name": "python",
   "nbconvert_exporter": "python",
   "pygments_lexer": "ipython3",
   "version": "3.5.2"
  }
 },
 "nbformat": 4,
 "nbformat_minor": 0
}
