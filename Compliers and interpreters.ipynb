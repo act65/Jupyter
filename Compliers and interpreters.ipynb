{
 "cells": [
  {
   "cell_type": "markdown",
   "metadata": {},
   "source": [
    "What is the difference between a compiler and an interpreter?!?!?!?!?\n",
    "\n",
    "\n",
    "\n",
    "\n",
    "> You can't fully understand how compilers work without knowing machine architecture, because compilers emit machine code. It's more than just instructions; compilers need to understand how the underlying machine actually operates in order to translate your source code efficiently. [blog post](http://steve-yegge.blogspot.co.nz/2007/06/rich-programmer-food.html)\n",
    "\n",
    "Compilers take a stream of symbols, figure out their structure according to some domain-specific predefined rules, and transform them into another symbol stream.\n",
    "\n",
    "\n",
    "* Parse\n",
    "* Type check\n",
    "* Code generation (and optimisation)\n",
    "\n",
    "> Optimization is the art of producing correct code that is equivalent to the naive, expensive code written by your presumably naive, expensive programmers.\n",
    "\n",
    "\n",
    "\n",
    "# Parsers\n",
    "\n",
    "## Grammars\n",
    "\n",
    "https://en.wikipedia.org/wiki/Augmented_Backus%E2%80%93Naur_Form\n",
    "https://en.wikipedia.org/wiki/Parsing_expression_grammar\n",
    "https://en.wikipedia.org/wiki/Context-free_grammar\n",
    "\n",
    "\n",
    "# Meta compilers\n",
    "\n",
    "https://en.wikipedia.org/wiki/Metacompiler\n",
    "https://en.wikipedia.org/wiki/Compiler-compiler\n",
    "\n",
    "\n",
    "https://en.wikipedia.org/wiki/Forth_(programming_language)\n",
    "Racket?\n",
    "Ohm? https://github.com/cdglabs/ohm\n",
    "http://www.hcs64.com/files/pd1-3-schorre.pdf\n",
    "\n",
    "https://pypi.python.org/pypi/grako/\n",
    "\n",
    "\n",
    "# TODO\n",
    "\n",
    "* Would be good it this was in IRacket? or IScheme??\n",
    "* Make some DS?\n",
    "* DIY parser/language?\n",
    "* Scheme's metacircular interpreter\n",
    "* [Complier building tut](https://ruslanspivak.com/lsbasi-part1/)"
   ]
  }
 ],
 "metadata": {
  "kernelspec": {
   "display_name": "Python 3",
   "language": "python",
   "name": "python3"
  },
  "language_info": {
   "codemirror_mode": {
    "name": "ipython",
    "version": 3
   },
   "file_extension": ".py",
   "mimetype": "text/x-python",
   "name": "python",
   "nbconvert_exporter": "python",
   "pygments_lexer": "ipython3",
   "version": "3.5.1"
  }
 },
 "nbformat": 4,
 "nbformat_minor": 0
}
