{
 "cells": [
  {
   "cell_type": "markdown",
   "metadata": {},
   "source": [
    "Strengths and weaknesses.\n",
    "\n",
    "\n",
    "> If C is the closest language to modeling how computers work, Lisp is the closest to modeling how computation works. [Steve Jegge](https://sites.google.com/site/steveyegge2/tour-de-babel)\n",
    "\n",
    "\n",
    "#\n",
    "\n",
    "* Run time reflection\n",
    "* typing\n",
    "* OOP (is bad? -> [link](https://medium.com/@cscalfani/goodbye-object-oriented-programming-a59cda4c0e53#.4cs3no3ab))\n",
    "\n",
    "\n",
    "# C\n",
    "\n",
    "C#, C++, ...\n",
    "\n",
    "\n",
    "# Python\n",
    "\n",
    "and java, and ... ?\n",
    "\n",
    "\n",
    "# Haskell\n",
    "\n",
    "and F# and ??\n",
    "\n",
    "\n",
    "# Lisp based\n",
    "\n",
    "Scheme, CL, Clojure, racket ..\n",
    "\n",
    "\n"
   ]
  }
 ],
 "metadata": {
  "kernelspec": {
   "display_name": "Julia 0.4.6",
   "language": "julia",
   "name": "julia-0.4"
  },
  "language_info": {
   "file_extension": ".jl",
   "mimetype": "application/julia",
   "name": "julia",
   "version": "0.4.6"
  }
 },
 "nbformat": 4,
 "nbformat_minor": 0
}
