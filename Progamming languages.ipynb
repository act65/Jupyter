{
 "cells": [
  {
   "cell_type": "markdown",
   "metadata": {},
   "source": [
    "Strengths and weaknesses.\n",
    "\n",
    "\n",
    "> If C is the closest language to modeling how computers work, Lisp is the closest to modeling how computation works. [Steve Jegge](https://sites.google.com/site/steveyegge2/tour-de-babel)\n",
    "\n",
    "\n",
    "#\n",
    "\n",
    "* Run time reflection\n",
    "* typing\n",
    "* OOP (is bad? -> [link](https://medium.com/@cscalfani/goodbye-object-oriented-programming-a59cda4c0e53#.4cs3no3ab))\n",
    "\n",
    "\n",
    "# C\n",
    "\n",
    "C#, C++, ...\n",
    "\n",
    "\n",
    "# Python\n",
    "\n",
    "and java, and ... ?\n",
    "\n",
    "\n",
    "# Haskell\n",
    "\n",
    "and F# and ??\n",
    "\n",
    "\n",
    "# Lisp based\n",
    "\n",
    "Scheme, CL, Clojure, racket ..\n",
    "\n",
    "\n"
   ]
  },
  {
   "cell_type": "markdown",
   "metadata": {},
   "source": [
    "Ideas\n",
    "\n",
    "### UI\n",
    "\n",
    "* Inputs = drawings. Then CNN interprets them?\n",
    "* Voice.\n",
    "\n",
    "### How it works\n",
    "\n"
   ]
  },
  {
   "cell_type": "markdown",
   "metadata": {},
   "source": [
    "Compilers/interpreters and their relation to translation of spoken/written languages?\n",
    "\n"
   ]
  },
  {
   "cell_type": "markdown",
   "metadata": {},
   "source": [
    "> Some languages, including Perl and Lisp, contain constructs that allow execution during the parsing phase"
   ]
  },
  {
   "cell_type": "markdown",
   "metadata": {},
   "source": [
    "### Resources\n",
    "\n",
    "* https://en.wikipedia.org/wiki/LR_parser\n",
    "* https://en.wikipedia.org/wiki/Recursive_descent_parser\n",
    "* http://www.antlr.org/papers/allstar-techreport.pdf"
   ]
  }
 ],
 "metadata": {
  "kernelspec": {
   "display_name": "Julia 0.4.6",
   "language": "julia",
   "name": "julia-0.4"
  },
  "language_info": {
   "file_extension": ".jl",
   "mimetype": "application/julia",
   "name": "julia",
   "version": "0.4.6"
  }
 },
 "nbformat": 4,
 "nbformat_minor": 0
}
