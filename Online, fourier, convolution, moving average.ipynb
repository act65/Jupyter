{
 "cells": [
  {
   "cell_type": "markdown",
   "metadata": {},
   "source": [
    "Problem: want to esimate fourier coefficients online. The key is memory\n",
    "\n",
    "* Stacked exponential moving averages at different rates, take their difference and integrate?\n",
    "* A tree constructed online, where only the leading edges are kept.\n",
    "* ?? fft approach?\n",
    "* \n",
    "\n",
    "Problem is that if we want to estimate the lowest frequencies, we need to have remembered enough data. \n",
    "\n",
    "\n",
    "Estimating high frequencies online isnt so bad if we only require a local estimate. How can we sketch local high frequencies and combine them later? That is what the tree is for?"
   ]
  }
 ],
 "metadata": {
  "kernelspec": {
   "display_name": "Python 3",
   "language": "python",
   "name": "python3"
  },
  "language_info": {
   "codemirror_mode": {
    "name": "ipython",
    "version": 3
   },
   "file_extension": ".py",
   "mimetype": "text/x-python",
   "name": "python",
   "nbconvert_exporter": "python",
   "pygments_lexer": "ipython3",
   "version": "3.5.2"
  }
 },
 "nbformat": 4,
 "nbformat_minor": 2
}
