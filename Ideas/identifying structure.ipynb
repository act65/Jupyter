{
 "cells": [
  {
   "cell_type": "markdown",
   "metadata": {},
   "source": [
    "__Finding structure__ in dense tensors. \n",
    "\n",
    "* If we see that as a tensor is being trained it is tending towards (within some tolerance) a certain structure. \n",
    "* Then reinitialise tensor with that structure. (but many structures can end up creating the same output -- need more data? or better priors) \n",
    "* If that effects loss (how???) then change back to dense? \n",
    "\n",
    "You would start with a fully connected/dense network of tensors, and you could slowly convert each tensor into something more structured as they converge (if grads start to diverge then change back to dense). (reminds me of the story behind cognitive development -- many connections initially, then we specialise and cut down connections -- not sure how true this story is tho)\n",
    "\n",
    "(!!! this is a cool direction. finding structure and exploiting)\n",
    "\n",
    "How can we know what structure is present? \n",
    "The directions/grads that the tensor wants to/has changed. (must all fit within the same structure)\n",
    "Does this mean we would need to compare many different possible structures at every step?"
   ]
  }
 ],
 "metadata": {
  "kernelspec": {
   "display_name": "Python 3",
   "language": "python",
   "name": "python3"
  },
  "language_info": {
   "codemirror_mode": {
    "name": "ipython",
    "version": 3
   },
   "file_extension": ".py",
   "mimetype": "text/x-python",
   "name": "python",
   "nbconvert_exporter": "python",
   "pygments_lexer": "ipython3",
   "version": "3.5.2"
  }
 },
 "nbformat": 4,
 "nbformat_minor": 0
}
