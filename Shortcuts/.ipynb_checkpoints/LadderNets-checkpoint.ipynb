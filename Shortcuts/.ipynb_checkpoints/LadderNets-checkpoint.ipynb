{
 "cells": [
  {
   "cell_type": "markdown",
   "metadata": {},
   "source": [
    "### Summary\n",
    "##### Valpola\n",
    "> What unsupervised learning should be able to do efficiently is to find new features which correlate with and predict the features selected by supervised learning.\n",
    "\n",
    "<img src=\"LadderNet.png\" alt=\"net\">\n",
    "##### Pezeshki et al.\n",
    "* Hmm, interesting. They are using a small MLP to learn how to combine two variavles, instead of just adding them via element-wise addition.\n",
    "\n"
   ]
  },
  {
   "cell_type": "markdown",
   "metadata": {},
   "source": [
    "### Interpretations\n",
    "\n",
    "\n",
    "##### Residual connections? \n",
    "(so I need to formulate this using their mathematical language)\n",
    "\n",
    "Aka nested residual units. (within eachother)\n",
    "\n",
    "Let $\\mathcal{H}:= \\mathcal{F}(x) + x$ as in residual nets. Where $\\mathcal{F} = f(g(x)) = \\sigma(W \\cdot g(x) + b)$...\n",
    "\n",
    "So the ladder net is \n",
    "\n",
    "##### Heirachical latent variable model\n",
    "Or i could try to use the proabalistic framework developed in ladder nets to interpret resnets?\n",
    "\n",
    "Is there another way??? As RNNs?\n",
    "\n",
    "### Questions and thoughts\n",
    "* What does it look like if we plot the values of the highest layer? Do we get a nice plot of separated classes?\n",
    "* So is it learning to model noise, or making a memory for what the classes 'look' like, or learning residuals, or?? Which way to think about it?\n",
    "* What is the best way to add noise?? Uniform, gaussian, local neighborhoods, occlusions (this would be similar to context encoders?), ...???"
   ]
  },
  {
   "cell_type": "code",
   "execution_count": null,
   "metadata": {
    "collapsed": true
   },
   "outputs": [],
   "source": []
  }
 ],
 "metadata": {
  "kernelspec": {
   "display_name": "Python 3",
   "language": "python",
   "name": "python3"
  },
  "language_info": {
   "codemirror_mode": {
    "name": "ipython",
    "version": 3
   },
   "file_extension": ".py",
   "mimetype": "text/x-python",
   "name": "python",
   "nbconvert_exporter": "python",
   "pygments_lexer": "ipython3",
   "version": "3.5.1"
  }
 },
 "nbformat": 4,
 "nbformat_minor": 0
}
