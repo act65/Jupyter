{
 "cells": [
  {
   "cell_type": "markdown",
   "metadata": {},
   "source": [
    "# Gradient boosting\n",
    "\n",
    "## Algorithm\n",
    "\n",
    "### v0.1\n",
    "\n",
    "```python\n",
    "import numpy as np\n",
    "data,labels = get_data()\n",
    "G = np.linspace(-10,10,100)\n",
    "F = G[np.argmin(loss(G,labels)]\n",
    "\n",
    "for i in range(m):\n",
    "    #Learn what we are getting wrong.\n",
    "    residual = grad(loss(F(x),labels),F(x)) #dL/dF #is a vector for each x_i\n",
    "    h = WeakLearner(residual) #fit to residuals - how? \n",
    "    \n",
    "    #Find a linear combination of new + old learners that minimises error\n",
    "    g = G[np.argmin(loss(F(x) + G * h(x),labels))]\n",
    "    F = F + g * h\n",
    "```\n",
    "\n",
    "\n",
    "### v0.2\n",
    "\n",
    "```python\n",
    "import tensorflow as tf\n",
    "opt = tf.GradientDescentOptimiser(0.1)\n",
    "\n",
    "```\n",
    "\n",
    "##### Questions and thoughts\n",
    "* how is this really a residual? we are really taking the gradient of the loss? is that the same as a residual? if the loss is the MSE then yes? otherwise?\n",
    "Try implement in tf?\n",
    "* Ahh. So each residual unit in a resnet can act as an h? A weak learner fitting itself to whatever error there is in x. Why \n",
    "* https://jeremykun.com/2015/05/18/boosting-census/\n",
    "* https://codesachin.wordpress.com/2016/03/06/a-small-introduction-to-boosting/\n",
    "\n",
    "http://scikit-learn.org/stable/modules/generated/sklearn.ensemble.GradientBoostingClassifier.html\n",
    "\n",
    "### Tree boosting\n",
    "\n",
    "???"
   ]
  },
  {
   "cell_type": "code",
   "execution_count": 1,
   "metadata": {
    "collapsed": true
   },
   "outputs": [],
   "source": [
    "from sklearn.ensemble import GradientBoostingClassifier"
   ]
  },
  {
   "cell_type": "code",
   "execution_count": 24,
   "metadata": {
    "collapsed": false
   },
   "outputs": [],
   "source": [
    "from fuel.datasets import MNIST\n",
    "\n",
    "def get_data(dtype):\n",
    "    mnist = MNIST((dtype,))\n",
    "    state = mnist.open()\n",
    "    N = int(mnist.num_examples/100)\n",
    "    data,labels = mnist.get_data(state = state,request=[n for n in range(N)])\n",
    "    data = data.reshape(N,784)\n",
    "    labels = labels.squeeze()\n",
    "    return data,labels\n",
    "\n",
    "data,labels = get_data('train')\n",
    "test_data,test_labels = get_data('test')"
   ]
  },
  {
   "cell_type": "code",
   "execution_count": 25,
   "metadata": {
    "collapsed": false
   },
   "outputs": [
    {
     "data": {
      "text/plain": [
       "0.79000000000000004"
      ]
     },
     "execution_count": 25,
     "metadata": {},
     "output_type": "execute_result"
    }
   ],
   "source": [
    "# Fit regression model\n",
    "params = {'n_samples':N}\n",
    "GBC = GradientBoostingClassifier()\n",
    "\n",
    "GBC.fit(data, labels)\n",
    "GBC.score(test_data,test_labels)"
   ]
  }
 ],
 "metadata": {
  "kernelspec": {
   "display_name": "Python 3",
   "language": "python",
   "name": "python3"
  },
  "language_info": {
   "codemirror_mode": {
    "name": "ipython",
    "version": 3
   },
   "file_extension": ".py",
   "mimetype": "text/x-python",
   "name": "python",
   "nbconvert_exporter": "python",
   "pygments_lexer": "ipython3",
   "version": "3.5.1"
  }
 },
 "nbformat": 4,
 "nbformat_minor": 0
}
