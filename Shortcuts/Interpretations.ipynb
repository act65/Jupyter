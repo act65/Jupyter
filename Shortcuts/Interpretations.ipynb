{
 "cells": [
  {
   "cell_type": "markdown",
   "metadata": {},
   "source": []
  },
  {
   "cell_type": "markdown",
   "metadata": {},
   "source": []
  },
  {
   "cell_type": "code",
   "execution_count": 2,
   "metadata": {
    "collapsed": false
   },
   "outputs": [],
   "source": [
    "from autograd import grad\n",
    "import autograd.numpy as np\n",
    "#Some short examples of Boosting/ResNets"
   ]
  },
  {
   "cell_type": "code",
   "execution_count": 45,
   "metadata": {
    "collapsed": false
   },
   "outputs": [
    {
     "data": {
      "text/plain": [
       "array([[-0.57438557, -1.19315059, -0.45606054],\n",
       "       [-0.04128226, -0.01706088, -1.09902013],\n",
       "       [-0.77801023, -1.98974185, -1.17323549]])"
      ]
     },
     "execution_count": 45,
     "metadata": {},
     "output_type": "execute_result"
    }
   ],
   "source": [
    "z = np.random.random((3,3))\n",
    "f = lambda x: x + 2\n",
    "g = lambda x: x - 4\n",
    "\n",
    "\n",
    "\n",
    "np.sum(list(map(lambda x:x(z),[f,g])),0)"
   ]
  },
  {
   "cell_type": "code",
   "execution_count": 99,
   "metadata": {
    "collapsed": false
   },
   "outputs": [
    {
     "data": {
      "text/plain": [
       "-1.7985608910904567"
      ]
     },
     "execution_count": 99,
     "metadata": {},
     "output_type": "execute_result"
    }
   ],
   "source": [
    "MSE(F,batch,labels)"
   ]
  },
  {
   "cell_type": "code",
   "execution_count": 103,
   "metadata": {
    "collapsed": false
   },
   "outputs": [
    {
     "name": "stdout",
     "output_type": "stream",
     "text": [
      "-1.77498302368\n",
      "1\n",
      "0.846276947379\n",
      "2\n",
      "-0.154570270213\n",
      "3\n",
      "0.0016380345736\n",
      "4\n",
      "0.279381013682\n",
      "5\n",
      "-0.570218463546\n",
      "6\n",
      "0.42948962492\n",
      "7\n",
      "-0.0374986136537\n",
      "8\n",
      "-0.0749335638711\n",
      "9\n",
      "-0.16966369274\n",
      "10\n"
     ]
    }
   ],
   "source": [
    "def MeanLearners(params,x):\n",
    "    return np.sum(list(map(lambda p:p*x,params)),0)\n",
    "\n",
    "def MSE(params,x,labels):\n",
    "    return -np.mean((MeanLearners(params,x)-labels)**2)\n",
    "\n",
    "\n",
    "\n",
    "F = [1.0]#start at zero\n",
    "for i in range(10):\n",
    "    batch = np.random.standard_normal((10,3))\n",
    "    labels = np.random.random((1,3)) \n",
    "    y = MeanLearners(F,batch)\n",
    "    dL = grad(MSE)\n",
    "    r = dL(F,batch,labels)\n",
    "    F.append(r[0])\n",
    "    print(r[0])"
   ]
  },
  {
   "cell_type": "code",
   "execution_count": 10,
   "metadata": {
    "collapsed": false,
    "scrolled": true
   },
   "outputs": [
    {
     "ename": "SyntaxError",
     "evalue": "invalid syntax (<ipython-input-10-b3f8b3611fcc>, line 3)",
     "output_type": "error",
     "traceback": [
      "\u001b[0;36m  File \u001b[0;32m\"<ipython-input-10-b3f8b3611fcc>\"\u001b[0;36m, line \u001b[0;32m3\u001b[0m\n\u001b[0;31m    class\u001b[0m\n\u001b[0m          ^\u001b[0m\n\u001b[0;31mSyntaxError\u001b[0m\u001b[0;31m:\u001b[0m invalid syntax\n"
     ]
    }
   ],
   "source": [
    "act_fn = lambda x: 1/(1+np.exp(-x))\n",
    "depth = 10\n",
    "class \n",
    "\n",
    "def layer(z,w,b):\n",
    "    return z + act_fn(np.dot(w,z) + b)\n",
    "\n",
    "def Net(x):\n",
    "    output = x\n",
    "    for i in range(depth):\n",
    "        w,b = params[i]\n",
    "        output = layer(output,w,b)\n",
    "\n",
    "def Loss(w,ims,labels):\n",
    "    return np.mean(np.sum(-labels * np.log(Net(ims)),1)) #cross entropy\n",
    "    \n",
    "dL = grad(Loss)\n",
    "\n",
    "#hmm. this is kida a pain in the ass for a resnet."
   ]
  },
  {
   "cell_type": "markdown",
   "metadata": {},
   "source": [
    "### Recursion\n",
    "this seems similar to boosting? (recusrively) adding on an extra (residual) learner?\n",
    "\n",
    "Could/should I be using map or reduce some how??"
   ]
  },
  {
   "cell_type": "code",
   "execution_count": 3,
   "metadata": {
    "collapsed": false
   },
   "outputs": [],
   "source": [
    "def Unroll(F,x,mapping):\n",
    "    if len(F) == 1:\n",
    "        return mapping(F[0],x)\n",
    "    else:\n",
    "        return Unroll(F[1:],mapping(F[0],x),mapping)\n",
    "\n",
    "#special cases\n",
    "linear_map = lambda f,x: f(x) #feedforward net\n",
    "skip_map = lambda f,x: x + f(x) #resnet\n",
    "#mul_map = lambda f,x: x * f(x)  ???\n",
    "#??? = lambda f,g,x,s: f(x) + g(s) ??? a RNN?\n",
    "# ??? = lambda f,x: ???? - #boosting"
   ]
  },
  {
   "cell_type": "code",
   "execution_count": 4,
   "metadata": {
    "collapsed": true
   },
   "outputs": [],
   "source": [
    "#A simple NN function to play with\n",
    "class Net():\n",
    "    def __init__(self,size):\n",
    "        self.weights = np.random.standard_normal(size)\n",
    "        self.biases = np.zeros((size[1],1))\n",
    "    def __call__(self,x):\n",
    "        return np.tanh(np.dot(self.weights,x) + self.biases)"
   ]
  },
  {
   "cell_type": "code",
   "execution_count": 5,
   "metadata": {
    "collapsed": false
   },
   "outputs": [
    {
     "name": "stdout",
     "output_type": "stream",
     "text": [
      "[[-0.32033308 -0.64245582 -0.87077009]\n",
      " [ 0.49880584  0.59990098  0.89431131]\n",
      " [-0.56066326 -0.51825348 -0.85027064]]\n"
     ]
    }
   ],
   "source": [
    "#A feedforward net\n",
    "F = [Net((3,3)) for i in range(3)] #a list of layers of a resnet\n",
    "x = np.random.standard_normal((3,3))\n",
    "print(Unroll(F,x,linear_map))"
   ]
  },
  {
   "cell_type": "code",
   "execution_count": 6,
   "metadata": {
    "collapsed": false
   },
   "outputs": [
    {
     "name": "stdout",
     "output_type": "stream",
     "text": [
      "[[-1.17381352  3.0150872   1.1394695 ]\n",
      " [-2.66984591  1.39562755  1.57520143]\n",
      " [-0.66600796 -0.86168618 -3.22562506]]\n"
     ]
    }
   ],
   "source": [
    "#A ResNet\n",
    "F = [Net((3,3)) for i in range(3)] #a list of layers of a resnet\n",
    "x = np.random.standard_normal((3,3))\n",
    "print(Unroll(F,x,skip_map))"
   ]
  },
  {
   "cell_type": "code",
   "execution_count": 7,
   "metadata": {
    "collapsed": false
   },
   "outputs": [],
   "source": [
    "#A RNN\n",
    "N = Net((3,3)) #define a \n",
    "F = [N for t in range(10)]\n",
    "\n",
    "#what about a multilayer RNN??\n",
    "#we are passing information in two directions now.\n",
    "#across in time and down in depth."
   ]
  },
  {
   "cell_type": "markdown",
   "metadata": {},
   "source": [
    "## Boosting -> ResNet\n",
    "\n",
    "Interpret/write a ResNet in the boosting language.\n",
    "\n",
    "Let F be a ResNet, $F:X\\rightarrow Y$. With;\n",
    "* depth D, with $0<i<D-1$.\n",
    "* $y =  x_0 + \\sum F_i(x_i)$\n",
    "\n",
    "### SGD interpretation\n",
    "\n",
    "http://papers.nips.cc/paper/1766-boosting-algorithms-as-gradient-descent.pdf\n",
    "\n",
    "```python\n",
    "Res = ResNet()\n",
    "#for each iteration, epochs, time, .. whatever.\n",
    "for t in range(T):\n",
    "    y = Res.run(data)\n",
    "    \n",
    "    ### Calulate the residual of the function.\n",
    "    # Instead, do this for each layer/weak learner\n",
    "    # Backprop loss through the net to the output of layer i\n",
    "    residual = grad(loss(y, label)) # a vector of partials, dLoss/dLayer_i \n",
    "    \n",
    "    ### Fit the residual loss to a new function.\n",
    "    # Instead, \n",
    "    h = residual\n",
    "    \n",
    "    ### Compute a multiplier for the new weak learner.\n",
    "    # Instead set it to be a constant\n",
    "    g = learning_rate\n",
    "    \n",
    "    ### Update our function - F = F + g h\n",
    "    # SGD.\n",
    "    Res.params = Res.params +  g*h\n",
    "```"
   ]
  },
  {
   "cell_type": "markdown",
   "metadata": {},
   "source": [
    "##### Boosting - Definitions\n",
    "\n",
    "$$\n",
    "\\vec{r}^{t} = - \\left[ \\frac{\\partial \\mathcal{L} (\\vec{y},F(\\vec{x}_t))}{\\partial F(\\vec{x}_t)} \\right]_{F(\\vec{x}) = F(\\vec{x})_{t-1}}\n",
    "$$\n",
    "So $\\vec{r}^{t}$ is a vector of residual errors (over the dataset) for a given function F(x).\n",
    "##### ResNet - Definitions\n",
    "$$\n",
    "\\vec{r}^{t} = - \\left[ \\frac{\\partial \\mathcal{L} (\\vec{y},F(\\vec{x}_t))}{\\partial f_i(\\vec{x}_t)} \\right]_{F(\\vec{x}) = F(\\vec{x})_{t-1}}\n",
    "$$\n",
    "So $\\vec{r}^{t}$ is a vector of residual error (over each layer) for a given batch."
   ]
  },
  {
   "cell_type": "markdown",
   "metadata": {},
   "source": [
    "### Initialisation interpretation\n",
    "\n",
    "```python\n",
    "Res = ResNet()\n",
    "#for each iteration, epochs, time, .. whatever.\n",
    "for t in range(T):\n",
    "    y = \n",
    "    \n",
    "    ### Calulate the residual of the function.\n",
    "    # Instead, do this for each layer/weak learner\n",
    "    # Backprop loss through the net to the output of layer i\n",
    "    residual = grad(loss(y, label)) # a vector of partials, dLoss/dLayer_i \n",
    "    \n",
    "    ### Fit the residual loss to a new function.\n",
    "    # Instead, initialise a new function with the parameters of the last\n",
    "    h = ResNet(params = Res.params)\n",
    "    for layer in layers:\n",
    "        h = fit(Res.params, residual)\n",
    "    \n",
    "    ### Update our function -- F = F + g h\n",
    "    # Instead, discard the previous function\n",
    "    Res.params = h\n",
    "```\n",
    "\n"
   ]
  },
  {
   "cell_type": "markdown",
   "metadata": {},
   "source": [
    "### ResNet -> Boosting\n",
    "\n",
    "```python\n",
    "\n",
    "for batch in batches:\n",
    "    \n",
    "\n",
    "```"
   ]
  }
 ],
 "metadata": {
  "kernelspec": {
   "display_name": "Python 3",
   "language": "python",
   "name": "python3"
  },
  "language_info": {
   "codemirror_mode": {
    "name": "ipython",
    "version": 3
   },
   "file_extension": ".py",
   "mimetype": "text/x-python",
   "name": "python",
   "nbconvert_exporter": "python",
   "pygments_lexer": "ipython3",
   "version": "3.5.1"
  }
 },
 "nbformat": 4,
 "nbformat_minor": 0
}
