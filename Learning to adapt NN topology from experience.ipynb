{
 "cells": [
  {
   "cell_type": "markdown",
   "metadata": {},
   "source": [
    "What if a neural network ccould decide when to add or remove nodes? What information would it need to do so, and how would this information inform the decision?\n",
    "\n",
    "Lets start with a simple example, a multi-layer feedforward neural network."
   ]
  },
  {
   "cell_type": "code",
   "execution_count": 3,
   "metadata": {
    "collapsed": true
   },
   "outputs": [],
   "source": [
    "import numpy as np\n",
    "from tools_aug import *\n",
    "\n",
    "class Network():\n",
    "    def __init__(self,shape): #shape = (num inputs, num hidden1, .. , num ouputs)  \n",
    "        self.shape = np.array(shape)\n",
    "        self.weights = gen(self.shape)\n",
    "         \n",
    "    def forward(self,x):\n",
    "        out = logistic(np.dot(x,self.weights[0]))\n",
    "        for i in range(len(self.shape)-2):\n",
    "            out = logistic(np.dot(out,self.weights[i+1]))\n",
    "        return out\n",
    "    \n",
    "    def add_node(self, layer):\n",
    "        #map the layer index to a one hot list\n",
    "        layer = np.array(layer_index(layer,len(self.weights)))\n",
    "        placeholder = gen(self.shape + layer) \n",
    "        for i in range(len(self.shape)-1): \n",
    "            placeholder[i][0:self.shape[i],0:self.shape[i+1]] = self.weights[i]\n",
    "            \n",
    "        self.weights = placeholder\n",
    "        self.shape += layer "
   ]
  },
  {
   "cell_type": "markdown",
   "metadata": {},
   "source": [
    "Now that we can add a node where ever we whan, when should new add these nodes?\n",
    "\n",
    "\n",
    "A neural network with an extra layer(s) of connections that determine the function of individual nodes.\n",
    "How is the function of individual nodes determined?\n",
    "\n",
    "How does epigenetics learn from experience???!!! Or is it by evolution?"
   ]
  },
  {
   "cell_type": "code",
   "execution_count": null,
   "metadata": {
    "collapsed": true
   },
   "outputs": [],
   "source": []
  }
 ],
 "metadata": {
  "kernelspec": {
   "display_name": "Python 3",
   "language": "python",
   "name": "python3"
  },
  "language_info": {
   "codemirror_mode": {
    "name": "ipython",
    "version": 3
   },
   "file_extension": ".py",
   "mimetype": "text/x-python",
   "name": "python",
   "nbconvert_exporter": "python",
   "pygments_lexer": "ipython3",
   "version": "3.4.4"
  }
 },
 "nbformat": 4,
 "nbformat_minor": 0
}
