{
 "cells": [
  {
   "cell_type": "markdown",
   "metadata": {},
   "source": [
    "What does a linear convolutional autoencoder learn?!? The principle components?"
   ]
  },
  {
   "cell_type": "code",
   "execution_count": 4,
   "metadata": {
    "collapsed": true
   },
   "outputs": [],
   "source": [
    "import tensorflow as tf\n",
    "sess = tf.InteractiveSession()"
   ]
  },
  {
   "cell_type": "code",
   "execution_count": 30,
   "metadata": {
    "collapsed": false
   },
   "outputs": [
    {
     "data": {
      "text/plain": [
       "(50, 28, 28, 1)"
      ]
     },
     "execution_count": 30,
     "metadata": {},
     "output_type": "execute_result"
    }
   ],
   "source": [
    "w = 11\n",
    "s = 2\n",
    "n = 28\n",
    "\n",
    "x = tf.truncated_normal(shape=[50,n,n,1])#tf.placeholder(tf.float32,[None,n,n,1])\n",
    "A = tf.Variable(tf.truncated_normal(shape=[w,w,1,1]))\n",
    "B = tf.Variable(tf.truncated_normal(shape=[w,w,1,1]))\n",
    "tf.initialize_all_variables().run()\n",
    "\n",
    "h = tf.nn.conv2d(x, B, strides=[1, s, s, 1],padding =  \"VALID\")\n",
    "y = tf.nn.conv2d_transpose(h,A,x.get_shape(),[1, s, s, 1],padding = \"VALID\")\n",
    "sess.run(y)"
   ]
  },
  {
   "cell_type": "code",
   "execution_count": 34,
   "metadata": {
    "collapsed": false
   },
   "outputs": [
    {
     "data": {
      "text/plain": [
       "TensorShape([Dimension(50), Dimension(28), Dimension(28), Dimension(1)])"
      ]
     },
     "execution_count": 34,
     "metadata": {},
     "output_type": "execute_result"
    }
   ],
   "source": [
    "x.get_shape()"
   ]
  }
 ],
 "metadata": {
  "kernelspec": {
   "display_name": "Python 3",
   "language": "python",
   "name": "python3"
  },
  "language_info": {
   "codemirror_mode": {
    "name": "ipython",
    "version": 3
   },
   "file_extension": ".py",
   "mimetype": "text/x-python",
   "name": "python",
   "nbconvert_exporter": "python",
   "pygments_lexer": "ipython3",
   "version": "3.5.2"
  }
 },
 "nbformat": 4,
 "nbformat_minor": 0
}
