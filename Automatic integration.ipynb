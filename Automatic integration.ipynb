{
 "cells": [
  {
   "cell_type": "markdown",
   "metadata": {},
   "source": [
    "https://github.com/JuliaDiff/TaylorSeries.jl"
   ]
  },
  {
   "cell_type": "code",
   "execution_count": 9,
   "metadata": {
    "collapsed": false
   },
   "outputs": [
    {
     "ename": "LoadError",
     "evalue": "LoadError: UndefVarError: help not defined\nwhile loading In[9], in expression starting on line 2",
     "output_type": "error",
     "traceback": [
      "LoadError: UndefVarError: help not defined\nwhile loading In[9], in expression starting on line 2",
      ""
     ]
    }
   ],
   "source": [
    "using TaylorSeries\n",
    "help(TaylorSeries)"
   ]
  },
  {
   "cell_type": "code",
   "execution_count": 22,
   "metadata": {
    "collapsed": false
   },
   "outputs": [
    {
     "name": "stdout",
     "output_type": "stream",
     "text": [
      "search: taylor1_variable\n",
      "\n"
     ]
    },
    {
     "data": {
      "text/latex": [
       "\\begin{verbatim}\n",
       "taylor1_variable(T, [order=1])\n",
       "taylor1_variable([order=1])\n",
       "\\end{verbatim}\n",
       "Shortcut to define the independent variable as a \\texttt{Taylor1} polynomial of given \\texttt{order}. If \\texttt{T::Type} is ommitted, \\texttt{Float64} is assumend.\n"
      ],
      "text/markdown": [
       "```\n",
       "taylor1_variable(T, [order=1])\n",
       "taylor1_variable([order=1])\n",
       "```\n",
       "\n",
       "Shortcut to define the independent variable as a `Taylor1` polynomial of given `order`. If `T::Type` is ommitted, `Float64` is assumend.\n"
      ],
      "text/plain": [
       "```\n",
       "taylor1_variable(T, [order=1])\n",
       "taylor1_variable([order=1])\n",
       "```\n",
       "\n",
       "Shortcut to define the independent variable as a `Taylor1` polynomial of given `order`. If `T::Type` is ommitted, `Float64` is assumend.\n"
      ]
     },
     "execution_count": 22,
     "metadata": {},
     "output_type": "execute_result"
    }
   ],
   "source": [
    "? taylor1_variable"
   ]
  }
 ],
 "metadata": {
  "kernelspec": {
   "display_name": "Julia 0.4.6",
   "language": "julia",
   "name": "julia-0.4"
  },
  "language_info": {
   "file_extension": ".jl",
   "mimetype": "application/julia",
   "name": "julia",
   "version": "0.4.6"
  }
 },
 "nbformat": 4,
 "nbformat_minor": 0
}
