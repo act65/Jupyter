{
 "cells": [
  {
   "cell_type": "markdown",
   "metadata": {},
   "source": [
    "### Questions to answer\n",
    "* Relation to eigenvectors?\n",
    "* Why so effective at factorising? What representational power do we lose? Can we measure this?\n",
    "* How does it work for tensors?\n",
    "* What do U,V mean intuitively? Rotations on some sort, but to where?\n",
    "* What is its computational complexity?\n",
    "* \n",
    "\n",
    "* https://en.wikipedia.org/wiki/Higher-order_singular_value_decomposition\n",
    "* https://en.wikipedia.org/wiki/Tensor_product"
   ]
  },
  {
   "cell_type": "code",
   "execution_count": 1,
   "metadata": {
    "collapsed": false
   },
   "outputs": [],
   "source": [
    "import tensorflow as tf\n",
    "import numpy as np\n",
    "sess = tf.InteractiveSession()\n",
    "\n",
    "A = tf.truncated_normal((784,100))\n",
    "B = tf.truncated_normal((100,45))\n",
    "C = tf.truncated_normal((3,4,5))\n",
    "tf.initialize_all_variables().run()"
   ]
  },
  {
   "cell_type": "code",
   "execution_count": 2,
   "metadata": {
    "collapsed": false
   },
   "outputs": [
    {
     "name": "stdout",
     "output_type": "stream",
     "text": [
      "(784, 784) (784,) (100, 100)\n"
     ]
    }
   ],
   "source": [
    "def eig(M):\n",
    "    eig = tf.self_adjoint_eig(M)\n",
    "    return eig[1:,:],eig[0,:] #eigenvalues, eigenvectors\n",
    "\n",
    "def svd2D(x):\n",
    "    xT = tf.transpose(x)\n",
    "    u,l = eig(tf.matmul(x,xT)) #which eigen values?\n",
    "    v,_ = eig(tf.matmul(xT,x)) #the longest set?\n",
    "    return u,tf.sqrt(l),v\n",
    "\n",
    "u,s,v  = svd2D(A)\n",
    "print(u.get_shape(),s.get_shape(),v.get_shape())"
   ]
  },
  {
   "cell_type": "code",
   "execution_count": 3,
   "metadata": {
    "collapsed": false
   },
   "outputs": [
    {
     "data": {
      "text/plain": [
       "True"
      ]
     },
     "execution_count": 3,
     "metadata": {},
     "output_type": "execute_result"
    }
   ],
   "source": [
    "def isorthonormal(x):\n",
    "    return tf.equal(tf.cast(x.get_shape()[0],tf.float32) , \n",
    "                    tf.trace(tf.round(tf.matmul(x,tf.transpose(x)))))\n",
    "\n",
    "sess.run(isorthonormal(u))"
   ]
  },
  {
   "cell_type": "code",
   "execution_count": 4,
   "metadata": {
    "collapsed": false
   },
   "outputs": [],
   "source": [
    "def tensorprod(A,B):\n",
    "    pass"
   ]
  },
  {
   "cell_type": "markdown",
   "metadata": {},
   "source": [
    "$$\\mathbf {M} =\\sum _{i}\\mathbf {A} _{i}=\\sum _{i}\\sigma _{i}\\mathbf {U} _{i}\\otimes \\mathbf {V} _{i}^{\\dagger }$$\n",
    "\n",
    "* So how many times can we do this sum? We are limited by the minimum of the number of columns of U or V. Do we lose accuracy? \n",
    "* Does this mean that u and V are ordered according to the singular values?\n",
    "\n",
    "\n",
    "```python\n",
    "#Given some tensor\n",
    "shape = [n1,n2,n3, ... ni]\n",
    "A = tensor(shape)\n",
    "for n in shape:\n",
    "    Ai = reshape(A, [n,others]) \n",
    "    #wasteful for 2d? #transpose vs reshape?\n",
    "    #how does reshape work for potnetially ambiguious shapes? [2x3x2].reshape([2,2,3])\n",
    "    u,s = eig(Ai * Ai.T) #dont need right-singular vectors\n",
    "    \n",
    "    u\n",
    "```"
   ]
  },
  {
   "cell_type": "code",
   "execution_count": 20,
   "metadata": {
    "collapsed": false
   },
   "outputs": [],
   "source": [
    "import functools"
   ]
  },
  {
   "cell_type": "code",
   "execution_count": 54,
   "metadata": {
    "collapsed": false
   },
   "outputs": [
    {
     "name": "stdout",
     "output_type": "stream",
     "text": [
      "(3, 3)\n",
      "(4, 4)\n",
      "(5, 5)\n"
     ]
    }
   ],
   "source": [
    "shape = C.get_shape()\n",
    "\n",
    "vectors = []\n",
    "for n in shape:\n",
    "    others = [i for i in shape if i!= n] #not very nice...\n",
    "    m = functools.reduce(lambda x,y:x*y,others) #also ugly\n",
    "    \n",
    "    M = tf.reshape(C,[tf.to_int32(n),tf.to_int32(m)]) #will this always work?!? what about ambiguious cases?\n",
    "    u = tf.self_adjoint_eig(tf.matmul(M,tf.transpose(M)))\n",
    "    vectors.append(u[1:,:])\n",
    "    print(u[1:,:].get_shape())"
   ]
  },
  {
   "cell_type": "code",
   "execution_count": 11,
   "metadata": {
    "collapsed": false
   },
   "outputs": [
    {
     "data": {
      "text/plain": [
       "(array([ 0.64706647,  1.47833908,  2.42983222,  3.34138894], dtype=float32),\n",
       " array([ 0.4552415 ,  1.77607119,  2.16378045,  2.71583319], dtype=float32))"
      ]
     },
     "execution_count": 11,
     "metadata": {},
     "output_type": "execute_result"
    }
   ],
   "source": [
    "def svd(x):\n",
    "    \"\"\"\n",
    "    n dimensional svd.\n",
    "    Works recursively.\n",
    "    \n",
    "    Args:\n",
    "    Some tensor. [n x m x ... x l]\n",
    "    \n",
    "    Returns:\n",
    "    S,          singular values\n",
    "    U,V,W, ...  eigenvectors\n",
    "    \"\"\"\n",
    "    \n",
    "    x = tf.squeeze(x) #to handle [1 x n x m]\n",
    "    if len(x.get_shape()) == 2:\n",
    "        return svd2D(x)[0] #just the left eigenvectors\n",
    "    else:\n",
    "        return svd(x[0,:,:]) , svd(x[1:,:,:])\n",
    "        \n",
    "sess.run(svd(C))\n",
    "# why do the numbers change when I run this on the same inputs?\n",
    "# the decomposition isnt unique? but that shouldnt matter\n",
    "# with a deterministic algorithm?"
   ]
  },
  {
   "cell_type": "code",
   "execution_count": 6,
   "metadata": {
    "collapsed": true
   },
   "outputs": [],
   "source": [
    "import matplotlib.pyplot as plt\n",
    "%matplotlib inline\n",
    "\n",
    "#error hear map in 2D\n",
    "#visualise transforms of U,V"
   ]
  }
 ],
 "metadata": {
  "kernelspec": {
   "display_name": "Python 3",
   "language": "python",
   "name": "python3"
  },
  "language_info": {
   "codemirror_mode": {
    "name": "ipython",
    "version": 3
   },
   "file_extension": ".py",
   "mimetype": "text/x-python",
   "name": "python",
   "nbconvert_exporter": "python",
   "pygments_lexer": "ipython3",
   "version": "3.5.1"
  }
 },
 "nbformat": 4,
 "nbformat_minor": 0
}
