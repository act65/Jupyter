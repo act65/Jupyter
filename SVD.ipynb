{
 "cells": [
  {
   "cell_type": "markdown",
   "metadata": {},
   "source": [
    "### Questions to answer\n",
    "* Relation to eigenvectors?\n",
    "* Why so effective at factorising? What representational power do we lose? Can we measure this?\n",
    "* How does it work for tensors?\n",
    "* What do U,V mean intuitively? Rotations on some sort, but to where?\n",
    "* What is its computational complexity?\n",
    "* \n",
    "\n",
    "* https://en.wikipedia.org/wiki/Higher-order_singular_value_decomposition\n",
    "* https://en.wikipedia.org/wiki/Tensor_product"
   ]
  },
  {
   "cell_type": "code",
   "execution_count": 20,
   "metadata": {
    "collapsed": true
   },
   "outputs": [],
   "source": [
    "import tensorflow as tf\n",
    "import numpy as np\n",
    "sess = tf.InteractiveSession()\n",
    "\n",
    "A = tf.truncated_normal((784,100))\n",
    "B = tf.truncated_normal((100,45))\n",
    "tf.initialize_all_variables().run()"
   ]
  },
  {
   "cell_type": "code",
   "execution_count": 21,
   "metadata": {
    "collapsed": false
   },
   "outputs": [
    {
     "name": "stdout",
     "output_type": "stream",
     "text": [
      "(784, 784) (784,) (100, 100)\n"
     ]
    }
   ],
   "source": [
    "def eig(M):\n",
    "    eig = tf.self_adjoint_eig(M)\n",
    "    return eig[1:,:],eig[0,:] #eigenvalues, eigenvectors\n",
    "\n",
    "def svd(x):\n",
    "    xT = tf.transpose(x)\n",
    "    u,l = eig(tf.matmul(x,xT)) #which eigen values?\n",
    "    v,_ = eig(tf.matmul(xT,x)) #the longest set?\n",
    "    return u,tf.sqrt(l),v\n",
    "\n",
    "u,s,v  = svd(A)\n",
    "print(u.get_shape(),s.get_shape(),v.get_shape())"
   ]
  },
  {
   "cell_type": "code",
   "execution_count": 46,
   "metadata": {
    "collapsed": false
   },
   "outputs": [
    {
     "data": {
      "text/plain": [
       "True"
      ]
     },
     "execution_count": 46,
     "metadata": {},
     "output_type": "execute_result"
    }
   ],
   "source": [
    "def isorthonormal(x):\n",
    "    return tf.equal(tf.cast(x.get_shape()[0],tf.float32) , \n",
    "                    tf.trace(tf.round(tf.matmul(x,tf.transpose(x)))))\n",
    "\n",
    "sess.run(isorthonormal(u))"
   ]
  },
  {
   "cell_type": "code",
   "execution_count": null,
   "metadata": {
    "collapsed": true
   },
   "outputs": [],
   "source": [
    "import matplotlib.pyplot as plt\n",
    "%matplotlib inline\n",
    "\n",
    "sess.run()"
   ]
  },
  {
   "cell_type": "code",
   "execution_count": null,
   "metadata": {
    "collapsed": false
   },
   "outputs": [],
   "source": [
    "def tensorprod(A,B):\n",
    "    pass"
   ]
  }
 ],
 "metadata": {
  "kernelspec": {
   "display_name": "Python 3",
   "language": "python",
   "name": "python3"
  },
  "language_info": {
   "codemirror_mode": {
    "name": "ipython",
    "version": 3
   },
   "file_extension": ".py",
   "mimetype": "text/x-python",
   "name": "python",
   "nbconvert_exporter": "python",
   "pygments_lexer": "ipython3",
   "version": "3.5.1"
  }
 },
 "nbformat": 4,
 "nbformat_minor": 0
}
