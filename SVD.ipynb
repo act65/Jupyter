{
 "cells": [
  {
   "cell_type": "markdown",
   "metadata": {},
   "source": [
    "Wishlist:\n",
    "\n",
    "* Visualisations! Interactive."
   ]
  },
  {
   "cell_type": "markdown",
   "metadata": {},
   "source": [
    "### Questions to answer\n",
    "\n",
    "* Relation to eigenvectors?\n",
    "* Why so effective at factorising? What representational power do we lose? Can we measure this?\n",
    "* How does it work for tensors?\n",
    "* What do U,V mean intuitively? Rotations on some sort, but to where? Left vs right vector spaces and their relations to U,V.\n",
    "* What is its computational complexity?\n",
    "* How to make non-orthogonal matrices?!?!?\n",
    "\n",
    "* https://en.wikipedia.org/wiki/Higher-order_singular_value_decomposition\n",
    "* https://en.wikipedia.org/wiki/Tensor_product\n",
    "\n"
   ]
  },
  {
   "cell_type": "code",
   "execution_count": 5,
   "metadata": {
    "collapsed": false
   },
   "outputs": [
    {
     "ename": "TypeError",
     "evalue": "tuple indices must be integers or slices, not tuple",
     "output_type": "error",
     "traceback": [
      "\u001b[0;31m---------------------------------------------------------------------------\u001b[0m",
      "\u001b[0;31mTypeError\u001b[0m                                 Traceback (most recent call last)",
      "\u001b[0;32m<ipython-input-5-a95dec461b67>\u001b[0m in \u001b[0;36m<module>\u001b[0;34m()\u001b[0m\n\u001b[1;32m     18\u001b[0m     \u001b[0;32mreturn\u001b[0m \u001b[0mu\u001b[0m\u001b[0;34m,\u001b[0m\u001b[0mtf\u001b[0m\u001b[0;34m.\u001b[0m\u001b[0msqrt\u001b[0m\u001b[0;34m(\u001b[0m\u001b[0ml\u001b[0m\u001b[0;34m)\u001b[0m\u001b[0;34m,\u001b[0m\u001b[0mv\u001b[0m\u001b[0;34m\u001b[0m\u001b[0m\n\u001b[1;32m     19\u001b[0m \u001b[0;34m\u001b[0m\u001b[0m\n\u001b[0;32m---> 20\u001b[0;31m \u001b[0mu\u001b[0m\u001b[0;34m,\u001b[0m\u001b[0ms\u001b[0m\u001b[0;34m,\u001b[0m\u001b[0mv\u001b[0m  \u001b[0;34m=\u001b[0m \u001b[0msvd2D\u001b[0m\u001b[0;34m(\u001b[0m\u001b[0mA\u001b[0m\u001b[0;34m)\u001b[0m\u001b[0;34m\u001b[0m\u001b[0m\n\u001b[0m\u001b[1;32m     21\u001b[0m \u001b[0mprint\u001b[0m\u001b[0;34m(\u001b[0m\u001b[0mu\u001b[0m\u001b[0;34m.\u001b[0m\u001b[0mget_shape\u001b[0m\u001b[0;34m(\u001b[0m\u001b[0;34m)\u001b[0m\u001b[0;34m,\u001b[0m\u001b[0ms\u001b[0m\u001b[0;34m.\u001b[0m\u001b[0mget_shape\u001b[0m\u001b[0;34m(\u001b[0m\u001b[0;34m)\u001b[0m\u001b[0;34m,\u001b[0m\u001b[0mv\u001b[0m\u001b[0;34m.\u001b[0m\u001b[0mget_shape\u001b[0m\u001b[0;34m(\u001b[0m\u001b[0;34m)\u001b[0m\u001b[0;34m)\u001b[0m\u001b[0;34m\u001b[0m\u001b[0m\n",
      "\u001b[0;32m<ipython-input-5-a95dec461b67>\u001b[0m in \u001b[0;36msvd2D\u001b[0;34m(x)\u001b[0m\n\u001b[1;32m     14\u001b[0m \u001b[0;32mdef\u001b[0m \u001b[0msvd2D\u001b[0m\u001b[0;34m(\u001b[0m\u001b[0mx\u001b[0m\u001b[0;34m)\u001b[0m\u001b[0;34m:\u001b[0m\u001b[0;34m\u001b[0m\u001b[0m\n\u001b[1;32m     15\u001b[0m     \u001b[0mxT\u001b[0m \u001b[0;34m=\u001b[0m \u001b[0mtf\u001b[0m\u001b[0;34m.\u001b[0m\u001b[0mtranspose\u001b[0m\u001b[0;34m(\u001b[0m\u001b[0mx\u001b[0m\u001b[0;34m)\u001b[0m\u001b[0;34m\u001b[0m\u001b[0m\n\u001b[0;32m---> 16\u001b[0;31m     \u001b[0mu\u001b[0m\u001b[0;34m,\u001b[0m\u001b[0ml\u001b[0m \u001b[0;34m=\u001b[0m \u001b[0meig\u001b[0m\u001b[0;34m(\u001b[0m\u001b[0mtf\u001b[0m\u001b[0;34m.\u001b[0m\u001b[0mmatmul\u001b[0m\u001b[0;34m(\u001b[0m\u001b[0mx\u001b[0m\u001b[0;34m,\u001b[0m\u001b[0mxT\u001b[0m\u001b[0;34m)\u001b[0m\u001b[0;34m)\u001b[0m \u001b[0;31m#which eigen values?\u001b[0m\u001b[0;34m\u001b[0m\u001b[0m\n\u001b[0m\u001b[1;32m     17\u001b[0m     \u001b[0mv\u001b[0m\u001b[0;34m,\u001b[0m\u001b[0m_\u001b[0m \u001b[0;34m=\u001b[0m \u001b[0meig\u001b[0m\u001b[0;34m(\u001b[0m\u001b[0mtf\u001b[0m\u001b[0;34m.\u001b[0m\u001b[0mmatmul\u001b[0m\u001b[0;34m(\u001b[0m\u001b[0mxT\u001b[0m\u001b[0;34m,\u001b[0m\u001b[0mx\u001b[0m\u001b[0;34m)\u001b[0m\u001b[0;34m)\u001b[0m \u001b[0;31m#the longest set?\u001b[0m\u001b[0;34m\u001b[0m\u001b[0m\n\u001b[1;32m     18\u001b[0m     \u001b[0;32mreturn\u001b[0m \u001b[0mu\u001b[0m\u001b[0;34m,\u001b[0m\u001b[0mtf\u001b[0m\u001b[0;34m.\u001b[0m\u001b[0msqrt\u001b[0m\u001b[0;34m(\u001b[0m\u001b[0ml\u001b[0m\u001b[0;34m)\u001b[0m\u001b[0;34m,\u001b[0m\u001b[0mv\u001b[0m\u001b[0;34m\u001b[0m\u001b[0m\n",
      "\u001b[0;32m<ipython-input-5-a95dec461b67>\u001b[0m in \u001b[0;36meig\u001b[0;34m(M)\u001b[0m\n\u001b[1;32m     10\u001b[0m \u001b[0;32mdef\u001b[0m \u001b[0meig\u001b[0m\u001b[0;34m(\u001b[0m\u001b[0mM\u001b[0m\u001b[0;34m)\u001b[0m\u001b[0;34m:\u001b[0m\u001b[0;34m\u001b[0m\u001b[0m\n\u001b[1;32m     11\u001b[0m     \u001b[0meig\u001b[0m \u001b[0;34m=\u001b[0m \u001b[0mtf\u001b[0m\u001b[0;34m.\u001b[0m\u001b[0mself_adjoint_eig\u001b[0m\u001b[0;34m(\u001b[0m\u001b[0mM\u001b[0m\u001b[0;34m)\u001b[0m\u001b[0;34m\u001b[0m\u001b[0m\n\u001b[0;32m---> 12\u001b[0;31m     \u001b[0;32mreturn\u001b[0m \u001b[0meig\u001b[0m\u001b[0;34m[\u001b[0m\u001b[0;36m1\u001b[0m\u001b[0;34m:\u001b[0m\u001b[0;34m,\u001b[0m\u001b[0;34m:\u001b[0m\u001b[0;34m]\u001b[0m\u001b[0;34m,\u001b[0m\u001b[0meig\u001b[0m\u001b[0;34m[\u001b[0m\u001b[0;36m0\u001b[0m\u001b[0;34m,\u001b[0m\u001b[0;34m:\u001b[0m\u001b[0;34m]\u001b[0m \u001b[0;31m#eigenvalues, eigenvectors\u001b[0m\u001b[0;34m\u001b[0m\u001b[0m\n\u001b[0m\u001b[1;32m     13\u001b[0m \u001b[0;34m\u001b[0m\u001b[0m\n\u001b[1;32m     14\u001b[0m \u001b[0;32mdef\u001b[0m \u001b[0msvd2D\u001b[0m\u001b[0;34m(\u001b[0m\u001b[0mx\u001b[0m\u001b[0;34m)\u001b[0m\u001b[0;34m:\u001b[0m\u001b[0;34m\u001b[0m\u001b[0m\n",
      "\u001b[0;31mTypeError\u001b[0m: tuple indices must be integers or slices, not tuple"
     ]
    }
   ],
   "source": [
    "import tensorflow as tf\n",
    "import numpy as np\n",
    "sess = tf.InteractiveSession()\n",
    "\n",
    "A = tf.truncated_normal((784,100))\n",
    "B = tf.truncated_normal((100,45))\n",
    "C = tf.truncated_normal((3,4,5))\n",
    "tf.initialize_all_variables().run()\n",
    "\n",
    "def eig(M):\n",
    "    eig = tf.self_adjoint_eig(M)\n",
    "    return eig[1:,:],eig[0,:] #eigenvalues, eigenvectors\n",
    "\n",
    "def svd2D(x):\n",
    "    xT = tf.transpose(x)\n",
    "    u,l = eig(tf.matmul(x,xT)) #which eigen values?\n",
    "    v,_ = eig(tf.matmul(xT,x)) #the longest set?\n",
    "    return u,tf.sqrt(l),v\n",
    "\n",
    "u,s,v  = svd2D(A)\n",
    "print(u.get_shape(),s.get_shape(),v.get_shape())"
   ]
  },
  {
   "cell_type": "code",
   "execution_count": 3,
   "metadata": {
    "collapsed": false
   },
   "outputs": [
    {
     "data": {
      "text/plain": [
       "True"
      ]
     },
     "execution_count": 3,
     "metadata": {},
     "output_type": "execute_result"
    }
   ],
   "source": [
    "def isorthonormal(x):\n",
    "    return tf.equal(tf.cast(x.get_shape()[0],tf.float32) , \n",
    "                    tf.trace(tf.round(tf.matmul(x,tf.transpose(x)))))\n",
    "\n",
    "sess.run(isorthonormal(u))"
   ]
  },
  {
   "cell_type": "code",
   "execution_count": 4,
   "metadata": {
    "collapsed": false
   },
   "outputs": [],
   "source": [
    "def tensorprod(A,B):\n",
    "    pass"
   ]
  },
  {
   "cell_type": "markdown",
   "metadata": {},
   "source": [
    "$$\\mathbf {M} =\\sum _{i}\\mathbf {A} _{i}=\\sum _{i}\\sigma _{i}\\mathbf {U} _{i}\\otimes \\mathbf {V} _{i}^{\\dagger }$$\n",
    "\n",
    "* So how many times can we do this sum? We are limited by the minimum of the number of columns of U or V. Do we lose accuracy? \n",
    "* Does this mean that u and V are ordered according to the singular values?\n",
    "\n",
    "\n",
    "```python\n",
    "#Given some tensor\n",
    "shape = [n1,n2,n3, ... ni]\n",
    "A = tensor(shape)\n",
    "for n in shape:\n",
    "    Ai = reshape(A, [n,others]) \n",
    "    #wasteful for 2d? #transpose vs reshape?\n",
    "    #how does reshape work for potnetially ambiguious shapes? [2x3x2].reshape([2,2,3])\n",
    "    u,s = eig(Ai * Ai.T) #dont need right-singular vectors\n",
    "    \n",
    "    u\n",
    "```"
   ]
  },
  {
   "cell_type": "code",
   "execution_count": 20,
   "metadata": {
    "collapsed": false
   },
   "outputs": [],
   "source": [
    "import functools"
   ]
  },
  {
   "cell_type": "code",
   "execution_count": 54,
   "metadata": {
    "collapsed": false
   },
   "outputs": [
    {
     "name": "stdout",
     "output_type": "stream",
     "text": [
      "(3, 3)\n",
      "(4, 4)\n",
      "(5, 5)\n"
     ]
    }
   ],
   "source": [
    "shape = C.get_shape()\n",
    "\n",
    "vectors = []\n",
    "for n in shape:\n",
    "    others = [i for i in shape if i!= n] #not very nice...\n",
    "    m = functools.reduce(lambda x,y:x*y,others) #also ugly\n",
    "    \n",
    "    M = tf.reshape(C,[tf.to_int32(n),tf.to_int32(m)]) #will this always work?!? what about ambiguious cases?\n",
    "    u = tf.self_adjoint_eig(tf.matmul(M,tf.transpose(M)))\n",
    "    vectors.append(u[1:,:])\n",
    "    print(u[1:,:].get_shape())"
   ]
  },
  {
   "cell_type": "code",
   "execution_count": 11,
   "metadata": {
    "collapsed": false
   },
   "outputs": [
    {
     "data": {
      "text/plain": [
       "(array([ 0.64706647,  1.47833908,  2.42983222,  3.34138894], dtype=float32),\n",
       " array([ 0.4552415 ,  1.77607119,  2.16378045,  2.71583319], dtype=float32))"
      ]
     },
     "execution_count": 11,
     "metadata": {},
     "output_type": "execute_result"
    }
   ],
   "source": [
    "def svd(x):\n",
    "    \"\"\"\n",
    "    n dimensional svd.\n",
    "    Works recursively.\n",
    "    \n",
    "    Args:\n",
    "    Some tensor. [n x m x ... x l]\n",
    "    \n",
    "    Returns:\n",
    "    S,          singular values\n",
    "    U,V,W, ...  eigenvectors\n",
    "    \"\"\"\n",
    "    \n",
    "    x = tf.squeeze(x) #to handle [1 x n x m]\n",
    "    if len(x.get_shape()) == 2:\n",
    "        return svd2D(x)[0] #just the left eigenvectors\n",
    "    else:\n",
    "        return svd(x[0,:,:]) , svd(x[1:,:,:])\n",
    "        \n",
    "sess.run(svd(C))\n",
    "# why do the numbers change when I run this on the same inputs?\n",
    "# the decomposition isnt unique? but that shouldnt matter\n",
    "# with a deterministic algorithm?"
   ]
  },
  {
   "cell_type": "code",
   "execution_count": 13,
   "metadata": {
    "collapsed": true
   },
   "outputs": [],
   "source": [
    "import matplotlib.pyplot as plt\n",
    "%matplotlib inline\n",
    "\n",
    "#error hear map in 2D\n",
    "#visualise transforms of U,V"
   ]
  },
  {
   "cell_type": "markdown",
   "metadata": {},
   "source": [
    "### Non-orthogonal matrix?!?!\n",
    "\n",
    "How can you make a non-orthogonal matrix using only 2 orthogonal transforms and a scaling??!?!"
   ]
  },
  {
   "cell_type": "code",
   "execution_count": 35,
   "metadata": {
    "collapsed": true
   },
   "outputs": [],
   "source": [
    "def test(X):\n",
    "    return np.linalg.norm(np.dot(X,X.T))**2"
   ]
  },
  {
   "cell_type": "code",
   "execution_count": 65,
   "metadata": {
    "collapsed": false
   },
   "outputs": [
    {
     "name": "stdout",
     "output_type": "stream",
     "text": [
      "6.41351862486\n"
     ]
    }
   ],
   "source": [
    "M = np.random.standard_normal((2,2))\n",
    "print(test(M))"
   ]
  },
  {
   "cell_type": "code",
   "execution_count": 66,
   "metadata": {
    "collapsed": false
   },
   "outputs": [
    {
     "name": "stdout",
     "output_type": "stream",
     "text": [
      "2.0 2.0\n"
     ]
    }
   ],
   "source": [
    "U,S,V = np.linalg.svd(M)\n",
    "print(test(U),test(V))"
   ]
  },
  {
   "cell_type": "code",
   "execution_count": 67,
   "metadata": {
    "collapsed": false
   },
   "outputs": [
    {
     "name": "stdout",
     "output_type": "stream",
     "text": [
      "6.41351862486 6.41351862486\n"
     ]
    }
   ],
   "source": [
    "print(test(np.dot(np.diag(S),V)),test(np.dot(U,np.diag(S))))"
   ]
  },
  {
   "cell_type": "code",
   "execution_count": 68,
   "metadata": {
    "collapsed": false
   },
   "outputs": [
    {
     "name": "stdout",
     "output_type": "stream",
     "text": [
      "6.41351862486 6.41351862486\n"
     ]
    }
   ],
   "source": [
    "US = np.dot(U,np.diag(S))\n",
    "SV = np.dot(np.diag(S),V)\n",
    "print(test(US),test(SV)) #weird!?! ||US|| == ||SV||"
   ]
  },
  {
   "cell_type": "code",
   "execution_count": 72,
   "metadata": {
    "collapsed": false
   },
   "outputs": [
    {
     "name": "stdout",
     "output_type": "stream",
     "text": [
      "[[-0.63968981 -0.76863317]\n",
      " [-0.76863317  0.63968981]] \n",
      " [[-0.98706472  0.16032229]\n",
      " [ 0.16032229  0.98706472]]\n"
     ]
    }
   ],
   "source": [
    "print(U,'\\n',V) #why are these symmetric?!?"
   ]
  },
  {
   "cell_type": "code",
   "execution_count": 73,
   "metadata": {
    "collapsed": false
   },
   "outputs": [
    {
     "data": {
      "image/png": "[encoded data removed]",
      "text/plain": [
       "<matplotlib.figure.Figure at 0x11d4fecf8>"
      ]
     },
     "metadata": {},
     "output_type": "display_data"
    }
   ],
   "source": [
    "plt.figure(figsize=[8,8])\n",
    "plt.scatter(*U,s=200,c='g')\n",
    "plt.scatter(*US,s=200,c='g',alpha=0.5)\n",
    "plt.scatter(*V,s=200,c='b')\n",
    "plt.scatter(*SV,s=200,c='b',alpha=0.5)\n",
    "plt.scatter(*M.T,s=200,c='k',alpha=0.5)\n",
    "plt.scatter(*M,s=200,c='k',alpha=1)\n",
    "plt.scatter(*np.dot(U,V),s=200,c='r')\n",
    "plt.scatter(0,0)\n",
    "t = np.linspace(0,2*np.pi)\n",
    "plt.plot(np.cos(t), np.sin(t), linewidth=1)\n",
    "\n",
    "plt.legend(['circ','U','US','V','VS','USV','VSU','UV'])\n",
    "plt.xlim([-2.5,2.5])\n",
    "plt.ylim([-2.5,2.5])\n",
    "plt.grid()\n",
    "plt.show()"
   ]
  },
  {
   "cell_type": "code",
   "execution_count": 64,
   "metadata": {
    "collapsed": false
   },
   "outputs": [
    {
     "data": {
      "text/plain": [
       "<matplotlib.collections.PathCollection at 0x11d989470>"
      ]
     },
     "execution_count": 64,
     "metadata": {},
     "output_type": "execute_result"
    },
    {
     "data": {
      "image/png": "[encoded data removed]",
      "text/plain": [
       "<matplotlib.figure.Figure at 0x11df34278>"
      ]
     },
     "metadata": {},
     "output_type": "display_data"
    }
   ],
   "source": [
    "plt.scatter([i for i in range(len(S))],S,s= 200)"
   ]
  },
  {
   "cell_type": "code",
   "execution_count": null,
   "metadata": {
    "collapsed": true
   },
   "outputs": [],
   "source": []
  },
  {
   "cell_type": "code",
   "execution_count": null,
   "metadata": {
    "collapsed": true
   },
   "outputs": [],
   "source": []
  }
 ],
 "metadata": {
  "kernelspec": {
   "display_name": "Python 3",
   "language": "python",
   "name": "python3"
  },
  "language_info": {
   "codemirror_mode": {
    "name": "ipython",
    "version": 3
   },
   "file_extension": ".py",
   "mimetype": "text/x-python",
   "name": "python",
   "nbconvert_exporter": "python",
   "pygments_lexer": "ipython3",
   "version": "3.5.2"
  }
 },
 "nbformat": 4,
 "nbformat_minor": 0
}
