{
 "cells": [
  {
   "cell_type": "markdown",
   "metadata": {},
   "source": [
    "State-of-the-art research with optimisation, do something funky with the learning rates on SGD and hope it converges faster/for less.\n",
    "\n",
    "What if we learn layer by layer? (how is this related to curriculum learning?) \n",
    "\n",
    "Could save computations by not having to calculate derivatives for some layers?\n",
    "* Initially, nope. You need to calculate all derivatives anyway... Backprop.\n",
    "* Later, yea. \n",
    "\n",
    "So are we talking about varying the learning rate across different layers.\n",
    "\n",
    "How should it vary? \n",
    "If we freeze layers then it would save computations. So we would want some sort of \n",
    "\n",
    "> Learn the easy stuff first and then build on that.\n",
    "\n",
    "When should the net think about retraining/checking its lower level parameters?\n",
    "Could make the assumption. I have learnt the basic filters/... only need to learn to compose them correctly?\n",
    "\n",
    "```python\n",
    "\n",
    "```\n",
    "\n",
    "Should all layers be treated equally? Or should some recieve more training than others. I.e. the integral of learning rate over training steps. "
   ]
  }
 ],
 "metadata": {
  "kernelspec": {
   "display_name": "Python 3",
   "language": "python",
   "name": "python3"
  },
  "language_info": {
   "codemirror_mode": {
    "name": "ipython",
    "version": 3
   },
   "file_extension": ".py",
   "mimetype": "text/x-python",
   "name": "python",
   "nbconvert_exporter": "python",
   "pygments_lexer": "ipython3",
   "version": "3.5.1"
  }
 },
 "nbformat": 4,
 "nbformat_minor": 0
}
