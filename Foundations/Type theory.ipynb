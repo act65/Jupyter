{
 "cells": [
  {
   "cell_type": "markdown",
   "metadata": {},
   "source": [
    "> The main purpose of a type system is to reduce possibilities for bugs in computer programs\n",
    "\n",
    "> Type systems have other purposes as well, such as enabling certain compiler optimizations, allowing for multiple dispatch, providing a form of documentation, etc.\n",
    "\n",
    "> The hardware of a general purpose computer is unable to discriminate between for example a memory address and an instruction code, or between a character, an integer, or a floating-point number, because it makes no intrinsic distinction between any of the possible values that a sequence of bits might mean.[note 1] Associating a sequence of bits with a type conveys that meaning to the programmable hardware to form a symbolic system composed of that hardware and some program.\n",
    "\n",
    "> memory-safe language (or just safe language) to describe languages that do not allow programs to access memory that has not been assigned for their use\n",
    "\n",
    "* https://ncatlab.org/nlab/show/relation+between+type+theory+and+category+theory\n",
    "* http://plato.stanford.edu/entries/type-theory/\n",
    "* https://www.cs.princeton.edu/courses/archive/spring12/cos320/typing.pdf\n",
    "* http://www.jonmsterling.com/\n",
    "* http://typetheorypodcast.com/"
   ]
  }
 ],
 "metadata": {
  "kernelspec": {
   "display_name": "Python 3",
   "language": "python",
   "name": "python3"
  },
  "language_info": {
   "codemirror_mode": {
    "name": "ipython",
    "version": 3
   },
   "file_extension": ".py",
   "mimetype": "text/x-python",
   "name": "python",
   "nbconvert_exporter": "python",
   "pygments_lexer": "ipython3",
   "version": "3.5.2"
  }
 },
 "nbformat": 4,
 "nbformat_minor": 0
}
