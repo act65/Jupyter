{
  "nbformat": 4,
  "nbformat_minor": 0,
  "metadata": {
    "colab": {
      "name": "quantum-algols-via-linalg.ipynb",
      "version": "0.3.2",
      "provenance": [],
      "collapsed_sections": []
    },
    "kernelspec": {
      "name": "python3",
      "display_name": "Python 3"
    }
  },
  "cells": [
    {
      "cell_type": "markdown",
      "metadata": {
        "id": "view-in-github",
        "colab_type": "text"
      },
      "source": [
        "[View in Colaboratory](https://colab.research.google.com/github/act65/Notes/blob/master/quantum_algols_via_linalg.ipynb)"
      ]
    },
    {
      "metadata": {
        "id": "42lcgXS-IzeL",
        "colab_type": "code",
        "colab": {}
      },
      "cell_type": "code",
      "source": [
        "from functools import reduce\n",
        "import math\n",
        "\n",
        "import numpy as np\n",
        "import numpy.random as rnd\n",
        "import numpy.linalg as lin\n",
        "import matplotlib.pyplot as plt"
      ],
      "execution_count": 0,
      "outputs": []
    },
    {
      "metadata": {
        "id": "Hcj7jTsYAkrS",
        "colab_type": "text"
      },
      "cell_type": "markdown",
      "source": [
        "tl;dr. Make a computer in linear algebra. The extension to quantum computers is quite easy.\n",
        "\n",
        "Based on [this](https://mitpress.mit.edu/books/quantum-algorithms-linear-algebra) book (there is a pdf version lurking on the net)\n",
        "\n",
        "# Representation\n",
        "\n",
        "_This is the unusual part and everything else just kind follows nicely._\n",
        "\n",
        "\n",
        "\n",
        "How should we encode the states of our computation into linear algebra? Potential options are;\n",
        "- ?\n",
        "- ?\n",
        "- ?\n",
        "- The indexes are the states. [tick]\n",
        "\n",
        "x[i] indexes a single possible state of the n binary variables. \n",
        "for example, if we had n = 2. then iteration over i gives \n",
        "00, 01, 10, 11. thus we have 2**n indexes (which gets out of control fast!)\n",
        "\n",
        "For 49 bit computer we would need 2**49 = 5.6e14 indexes..."
      ]
    },
    {
      "metadata": {
        "id": "mWjd0WOFpRQY",
        "colab_type": "code",
        "colab": {}
      },
      "cell_type": "code",
      "source": [
        "# number of bits\n",
        "n = 2\n",
        "\n",
        "def e(i, n):  \n",
        "  # generate the ith pure state for a n bit space\n",
        "  arr = np.zeros((2**n, 1))\n",
        "  arr[i, 0] = 1\n",
        "  return arr\n",
        "\n",
        "def get_start(n):\n",
        "  # the basis vectors of our space\n",
        "  pure_states = (e(i, n) for i in range(2**n)) \n",
        "  return next(pure_states)\n",
        "\n",
        "start = get_start(n)"
      ],
      "execution_count": 0,
      "outputs": []
    },
    {
      "metadata": {
        "id": "28IuZfMfFaIU",
        "colab_type": "code",
        "colab": {}
      },
      "cell_type": "code",
      "source": [
        "\"\"\"\n",
        "Great, but what do these bases represent? Binary strings!\n",
        "\n",
        "It can be easier to work with binary strings than vector spaces so let's \n",
        "make some tools for getting between the two representations.\n",
        "\"\"\"\n",
        "\n",
        "def measure(x):\n",
        "  # returns probabilities\n",
        "  return np.power(lin.norm(x, axis=1),2)\n",
        "\n",
        "def encode(binary_string):\n",
        "  assert isinstance(binary_string, str)\n",
        "  idx = np.sum([int(s)*(2**i) for i, s in enumerate(reversed(binary_string))])\n",
        "  return np.eye(1, 2**len(binary_string), idx).T\n",
        "\n",
        "def generate_binary(n):\n",
        "  # 2^(n-1)  2^n - 1 inclusive\n",
        "  bin_arr = range(0, int(math.pow(2,n)))\n",
        "  bin_arr = [bin(i)[2:] for i in bin_arr]\n",
        "\n",
        "  # Prepending 0's to binary strings\n",
        "  max_len = len(max(bin_arr, key=len))\n",
        "  bin_arr = [i.zfill(max_len) for i in bin_arr]\n",
        "\n",
        "  return bin_arr\n",
        "\n",
        "\n",
        "def decode(x):\n",
        "  assert isinstance(x, np.ndarray)\n",
        "  n = np.log(len(x))/np.log(2)\n",
        "  s = generate_binary(n)\n",
        "  \n",
        "  idx = np.argmax(measure(x))\n",
        "#   print(s, idx, x, len(x), x.size)\n",
        "  return s[idx]\n",
        "\n",
        "def test():\n",
        "  s = '0110'\n",
        "  assert s == decode(encode(s))\n",
        "  \n",
        "  s = '10110'\n",
        "  assert s == decode(encode(s))\n",
        "  \n",
        "  x = e(2, 8)\n",
        "  assert (x == encode(decode(x))).all()\n",
        "  \n",
        "  x =  e(3, 16)\n",
        "  assert (x == encode(decode(x))).all()\n",
        "  \n",
        "test()"
      ],
      "execution_count": 0,
      "outputs": []
    },
    {
      "metadata": {
        "id": "4sQlZooy4W1N",
        "colab_type": "code",
        "colab": {
          "base_uri": "https://localhost:8080/",
          "height": 170
        },
        "outputId": "fa055147-0ec5-4be8-d04f-2e90a29fe182"
      },
      "cell_type": "code",
      "source": [
        "n = 3\n",
        "print('For a {} bit space'.format(n))\n",
        "for i in range(2**n):\n",
        "  r = e(i, n)  \n",
        "  print('e_{} gets decoded to the binary string: {}'.format(i, decode(r)))"
      ],
      "execution_count": 51,
      "outputs": [
        {
          "output_type": "stream",
          "text": [
            "For a 3 bit space\n",
            "e_0 gets decoded to the binary string: 000\n",
            "e_1 gets decoded to the binary string: 001\n",
            "e_2 gets decoded to the binary string: 010\n",
            "e_3 gets decoded to the binary string: 011\n",
            "e_4 gets decoded to the binary string: 100\n",
            "e_5 gets decoded to the binary string: 101\n",
            "e_6 gets decoded to the binary string: 110\n",
            "e_7 gets decoded to the binary string: 111\n"
          ],
          "name": "stdout"
        }
      ]
    },
    {
      "metadata": {
        "id": "a1xV0h-qEY3S",
        "colab_type": "text"
      },
      "cell_type": "markdown",
      "source": [
        "# Classical logic\n",
        "\n",
        "Are operators with only a single 1 in each row/column, aka permutation matrices.\n",
        "So with the help of extra dimensions, move operations, ... linear algebra is now turing complete?!\n",
        "\n",
        "## Operators\n",
        "\n",
        "\n",
        "Too expensive to construct in XX space. Want to be able to construct them from \n",
        "small pieces. A bias.\n",
        "\n",
        "All operators must be unitary. (cannot f with the total probability)\n",
        "\n",
        "### Unary operators\n",
        "\n",
        "?\n"
      ]
    },
    {
      "metadata": {
        "id": "m-LdASFX6YXF",
        "colab_type": "code",
        "colab": {}
      },
      "cell_type": "code",
      "source": [
        "# unary operators\n",
        "I = np.eye(2)  # identity\n",
        "X = np.ones((2,2)) - np.eye(2)  # negation"
      ],
      "execution_count": 0,
      "outputs": []
    },
    {
      "metadata": {
        "id": "yFDGOBumTZmi",
        "colab_type": "text"
      },
      "cell_type": "markdown",
      "source": [
        "### Binary operators\n",
        "\n",
        "Because binary operators work on two bits, we need to work in $2^2$ states. Aka we need at least a 4x4 matric to represent these binary fns.\n",
        "\n",
        "#### XOR\n",
        "\n",
        "In this representation, XOR is the simplest to implement. This is because of its symmetry (define what I mean here...)\n",
        "\n"
      ]
    },
    {
      "metadata": {
        "id": "bZhUn8vC-Vrx",
        "colab_type": "code",
        "colab": {}
      },
      "cell_type": "code",
      "source": [
        "CNOT = np.eye(4)  # aka XOR. which writes result into second bit\n",
        "CNOT[[0, 1, 2, 3]] = CNOT[[0,1,3,2]]\n",
        "# interesting how this is like an in place operation?!? doesnt need any memory!?\n",
        "# what about AND and OR. they are less trivial."
      ],
      "execution_count": 0,
      "outputs": []
    },
    {
      "metadata": {
        "id": "Yg2jjPmJ-V9R",
        "colab_type": "text"
      },
      "cell_type": "markdown",
      "source": [
        "#### AND\n",
        "\n",
        "The AND op is less trivial. __Exercise__ Try it yourself, why doesnt AND work in 4x4?\n",
        "\n",
        "\n",
        "Lets say we wanted to write the result of the AND op into the 2nd bit.\n",
        "\n",
        "$$\n",
        "\\begin{bmatrix}\n",
        "- & 00 & 01 & 10 & 11  \\\\\n",
        "00 & 1 & 0 & 0 & 0 \\\\\n",
        "01 & 0 & 1 & 0 & 0 \\\\\n",
        "10 & 0 & 0 & ? & 0 \\\\\n",
        "11 & 0 & 0 & 0 & 1 \\\\\n",
        "\\end{bmatrix}\n",
        "$$\n",
        "\n",
        "\n",
        "For three inputs (`00, 01, 10`) we need to write them to `0`, but there do not exist three states with `0` in the same place. So, !?!? MY solution to this is to simply use another bit. But, why is this necessary? Somehow the AND operation requires more information than XOR. \n",
        "\n",
        "Wait a minute, that makes a lot of sense because .... ?!? TODO\n",
        "\n",
        "So, lets write result of AND (applied to last two bits) into the first bit.\n",
        "$$\n",
        "\\begin{bmatrix}\n",
        "- & 000 & 001 & 010 & 011 & 100 & 101 & 110 & 111 \\\\\n",
        "000 & 1 & 0 & 0 & 0 & 0 & 0 & 0 & 0 \\\\\n",
        "001 & 0 & 1 & 0 & 0 & 0 & 0 & 0 & 0 \\\\\n",
        "010 & 0 & 0 & 1 & 0 & 0 & 0 & 0 & 0 \\\\\n",
        "011 & 0 & 0 & 0 & 0 & 0 & 0 & 0 & 1 \\\\\n",
        "100 & 0 & 0 & 0 & 0 & 1 & 0 & 0 & 0 \\\\\n",
        "101 & 0 & 0 & 0 & 0 & 0 & 1 & 0 & 0 \\\\ \n",
        "110 & 0 & 0 & 0 & 0 & 0 & 0 & 1 & 0 \\\\\n",
        "111 & 0 & 0 & 0 & 1 & 0 & 0 & 0 & 0 \\\\\n",
        "\\end{bmatrix}\n",
        "$$\n",
        "\n",
        "Ok I think that works? We just need to be careful when initialising and managing our states: Make sure the the first bit is set to zero if we want to AND. \n",
        "_If we want to reuse this op then we will need to reset it somehow._"
      ]
    },
    {
      "metadata": {
        "id": "IqvJDuh3AI_b",
        "colab_type": "code",
        "colab": {}
      },
      "cell_type": "code",
      "source": [
        "def bin2int(x):\n",
        "  return np.sum([v*2**i for i, v in enumerate(reversed(x))])\n",
        "\n",
        "def truth_table_binary_op(op, mode=0):\n",
        "  print('Mode: {}'.format(mode))\n",
        "  for i in range(2):  # how to extent to more inputs?\n",
        "    for j in range(2):\n",
        "      idx = bin2int([mode, i, j])\n",
        "      x = e(idx, 3)\n",
        "      y = np.dot(op, x)\n",
        "      s = decode(y)\n",
        "      print('{} {} -> {}'.format(i, j, s[0]))"
      ],
      "execution_count": 0,
      "outputs": []
    },
    {
      "metadata": {
        "id": "_3DGmBehAm_H",
        "colab_type": "code",
        "colab": {
          "base_uri": "https://localhost:8080/",
          "height": 187
        },
        "outputId": "259924d9-0546-4961-d4c8-8a7716b47d2f"
      },
      "cell_type": "code",
      "source": [
        "AND = np.eye(8)\n",
        "AND[[0,1,2,3,4,5,6,7]] = AND[[0,1,2,4,3,5,6,7]]\n",
        "\n",
        "truth_table_binary_op(AND)\n",
        "truth_table_binary_op(AND, 1)"
      ],
      "execution_count": 96,
      "outputs": [
        {
          "output_type": "stream",
          "text": [
            "Mode: 0\n",
            "0 0 -> 0\n",
            "0 1 -> 0\n",
            "1 0 -> 0\n",
            "1 1 -> 1\n",
            "Mode: 1\n",
            "0 0 -> 0\n",
            "0 1 -> 1\n",
            "1 0 -> 1\n",
            "1 1 -> 1\n"
          ],
          "name": "stdout"
        }
      ]
    },
    {
      "metadata": {
        "id": "-Gt_rgkdAJYZ",
        "colab_type": "text"
      },
      "cell_type": "markdown",
      "source": [
        "### OR\n",
        "\n",
        "Huh, cool. The second half (when the first bit is set to 1) yields OR. What is up with that?\n",
        "_Hmm, I thought I was going to get NAND, rather than OR..._\n",
        "\n",
        "Couldnt I also write OR as follows??!?\n",
        "\n",
        "\n",
        "$$\n",
        "\\begin{bmatrix}\n",
        "- & 000 & 001 & 010 & 011 & 100 & 101 & 110 & 111 \\\\\n",
        "000 & 1 & 0 & 0 & 0 & 0 & 0 & 0 & 0 \\\\\n",
        "001 & 0 & 0 & 0 & 0 & 1 & 0 & 0 & 0 \\\\\n",
        "010 & 0 & 0 & 0 & 0 & 0 & 1 & 0 & 0 \\\\\n",
        "011 & 0 & 0 & 0 & 0 & 0 & 0 & 1 & 0 \\\\\n",
        "100 & 0 & 1 & 0 & 0 & 0 & 0 & 0 & 0 \\\\\n",
        "101 & 0 & 0 & 1 & 0 & 0 & 0 & 0 & 0 \\\\ \n",
        "110 & 0 & 0 & 0 & 1 & 0 & 0 & 0 & 0 \\\\\n",
        "111 & 0 & 0 & 0 & 0 & 0 & 0 & 0 & 1 \\\\\n",
        "\\end{bmatrix}\n",
        "$$\n",
        "\n",
        "So, according to this symmetry, AND and OR are duals of each other!?!?!?\n",
        "What is the symmetry!?"
      ]
    },
    {
      "metadata": {
        "id": "8Cy8O88aXhDZ",
        "colab_type": "code",
        "colab": {
          "base_uri": "https://localhost:8080/",
          "height": 187
        },
        "outputId": "ec25481e-cbe3-4f07-c35e-c671ef13ca9f"
      },
      "cell_type": "code",
      "source": [
        "OR = np.eye(8)\n",
        "OR[[0,1,2,3,4,5,6,7]] = OR[[0,4,5,6,1,2,3,7]]\n",
        "\n",
        "truth_table_binary_op(OR)\n",
        "truth_table_binary_op(OR, 1)"
      ],
      "execution_count": 98,
      "outputs": [
        {
          "output_type": "stream",
          "text": [
            "Mode: 0\n",
            "0 0 -> 0\n",
            "0 1 -> 1\n",
            "1 0 -> 1\n",
            "1 1 -> 1\n",
            "Mode: 1\n",
            "0 0 -> 0\n",
            "0 1 -> 0\n",
            "1 0 -> 0\n",
            "1 1 -> 1\n"
          ],
          "name": "stdout"
        }
      ]
    },
    {
      "metadata": {
        "id": "2uWiW0SYCbah",
        "colab_type": "code",
        "colab": {}
      },
      "cell_type": "code",
      "source": [
        "# want to verify their behaviour.\n",
        "# AND(Not a, Not b) == NOR(a, b)\n",
        "# OR(Not a, Not b) == NAND(a, b)\n",
        "\n",
        "r1 = decode(np.dot(CAND, encode('011')))\n",
        "r2 = decode(np.dot(COR, encode('111')))  # set first bit to 1 to change to OR to NOR\n",
        "print(r1, r2)"
      ],
      "execution_count": 0,
      "outputs": []
    },
    {
      "metadata": {
        "id": "YGI7PaVBCeId",
        "colab_type": "text"
      },
      "cell_type": "markdown",
      "source": [
        "## A complier for the ops\n",
        "\n",
        "Ok, we have some basic ops. How can we compile them into a runable program?"
      ]
    },
    {
      "metadata": {
        "id": "mINbO4WdZqth",
        "colab_type": "code",
        "colab": {}
      },
      "cell_type": "code",
      "source": [
        "# ok, want a nicer synatx/compiler.\n",
        "# just specify where an op is applied and the Is get filled in.\n",
        "# can specify which variables an op is applied to\n",
        "# check program!? do the number of dims match?\n",
        "n_bits = 4\n",
        "init = '0011'\n",
        "\n",
        "def flip_bits(s):\n",
        "  return [X if s == '1' else I for s in init]\n",
        "\n",
        "def compiler(prog_spec):\n",
        "  \n",
        "  # want program construction to be lazier!? \n",
        "  # if possible do compute in lower dim.\n",
        "  # dont construct matrices until necessary!?\n",
        "  # ...?\n",
        "  \n",
        "  # if we have finished with some bits, or not used them yet, \n",
        "  # dont bother computing with them!!?\n",
        "\n",
        "   return (reduce(np.kron, i) for i in prog_spec)\n",
        "\n",
        "prog_spec = [flip_bits(init),  # set state to init\n",
        "             [I, CAND],     # and last two bits and store in 3rd bit\n",
        "             [I, I, X, X],  # still not sure this one is expected behaviour...\n",
        "             [CAND, I],     # AND the middle two bits and store in 4th bit\n",
        "            ]     \n",
        "\n",
        "  \n",
        "program = compiler(prog_spec)"
      ],
      "execution_count": 0,
      "outputs": []
    },
    {
      "metadata": {
        "id": "_6E3I2GBbh4c",
        "colab_type": "code",
        "colab": {
          "base_uri": "https://localhost:8080/",
          "height": 85
        },
        "outputId": "4898d0e8-1b89-4b89-9f40-cc7652d7d06c"
      },
      "cell_type": "code",
      "source": [
        "def run(prog):\n",
        "  \"\"\"\n",
        "  Can accept two valid program sprcifications.\n",
        "  \n",
        "  (want to use typing on the input/function switching!?!?)\n",
        "  \"\"\"\n",
        "  first_op = next(prog)\n",
        "  state = e(0, int(np.log2(first_op.shape[0])))  # the first state = 00...000\n",
        "  state = np.dot(first_op, state)\n",
        "  for p in prog:\n",
        "    print(decode(state))\n",
        "    state = np.dot(p, state)\n",
        "  return state\n",
        "\n",
        "output = run(compiler(prog_spec))\n",
        "print(decode(output))"
      ],
      "execution_count": 116,
      "outputs": [
        {
          "output_type": "stream",
          "text": [
            "0011\n",
            "0100\n",
            "0111\n",
            "1001\n"
          ],
          "name": "stdout"
        }
      ]
    },
    {
      "metadata": {
        "id": "QEC3_vdCLtox",
        "colab_type": "code",
        "colab": {
          "base_uri": "https://localhost:8080/",
          "height": 364
        },
        "outputId": "eb45cf0d-704e-49c0-d427-e38c577b052c"
      },
      "cell_type": "code",
      "source": [
        "# alternatively we could construct the whole program first, into a single tensor\n",
        "# and the apply it in one shot. However, this is less intuitive as we\n",
        "# do not get access to the intermediate states.\n",
        "# but it does mean we can visualise the entire program.\n",
        "program = reduce(np.dot, compiler(prog_spec))\n",
        "plt.imshow(prog, cmap='Greys_r', interpolation='nearest')"
      ],
      "execution_count": 108,
      "outputs": [
        {
          "output_type": "execute_result",
          "data": {
            "text/plain": [
              "<matplotlib.image.AxesImage at 0x7fc17e3c7be0>"
            ]
          },
          "metadata": {
            "tags": []
          },
          "execution_count": 108
        },
        {
          "output_type": "display_data",
          "data": {
            "image/png": "[encoded data removed]",
            "text/plain": [
              "<matplotlib.figure.Figure at 0x7fc180528cc0>"
            ]
          },
          "metadata": {
            "tags": []
          }
        }
      ]
    },
    {
      "metadata": {
        "id": "iO0FNIPmIQXD",
        "colab_type": "code",
        "colab": {
          "base_uri": "https://localhost:8080/",
          "height": 34
        },
        "outputId": "8cfe6385-7d83-4ef2-de25-2081a27cade4"
      },
      "cell_type": "code",
      "source": [
        "\"\"\"\n",
        "Relationship to graphs!\n",
        "\n",
        "Any computation can be written as a computation graph.\n",
        "The matrix represents the ...\n",
        "\"\"\""
      ],
      "execution_count": 9,
      "outputs": [
        {
          "output_type": "execute_result",
          "data": {
            "text/plain": [
              "'\\nRelationship to graphs!\\n\\nAny computation can be written as a computation graph.\\nThe matrix represents the ...\\n'"
            ]
          },
          "metadata": {
            "tags": []
          },
          "execution_count": 9
        }
      ]
    },
    {
      "metadata": {
        "id": "DaC09HPLJVsw",
        "colab_type": "code",
        "colab": {}
      },
      "cell_type": "code",
      "source": [
        "\"\"\"\n",
        "There is something funny going on!\n",
        "BC the matrices are really 2x..x2 tensors their structures have some unusual symmetries?!\n",
        "Want to investigate further.\n",
        "\"\"\""
      ],
      "execution_count": 0,
      "outputs": []
    },
    {
      "metadata": {
        "id": "9ZxLepj39cBF",
        "colab_type": "text"
      },
      "cell_type": "markdown",
      "source": [
        "## Syntactic sugar (higher level interface)\n",
        "\n",
        "Higher level interface, intuitive representation, ..."
      ]
    },
    {
      "metadata": {
        "id": "kstgbBxMOswC",
        "colab_type": "code",
        "colab": {
          "base_uri": "https://localhost:8080/",
          "height": 34
        },
        "outputId": "dc41df3b-a8cc-4559-bf5b-1bedeab58a0f"
      },
      "cell_type": "code",
      "source": [
        "class Operator(np.ndarray):  \n",
        "  \"\"\"\n",
        "  https://docs.scipy.org/doc/numpy-1.13.0/user/basics.subclassing.html\n",
        "\n",
        "\n",
        "  Make a child of np.ndarray? so we can still use them as tensors!? np.dot()\n",
        "  Would be nice if after composition operators still print pretty.\n",
        "\n",
        "  \"\"\"\n",
        "  def __new__(self, name, op, *args, **kwargs):\n",
        "\n",
        "  def __init__(self, name, op, *args, **kwargs):\n",
        "    self.name = name\n",
        "    self.op = op\n",
        "    \n",
        "  def __repr__(self):\n",
        "    return self.name\n",
        "\n",
        "I = Operator('I', np.eye(2))\n",
        "X = Operator('X', np.fliplr(np.eye(2)))"
      ],
      "execution_count": 0,
      "outputs": [
        {
          "output_type": "stream",
          "text": [
            "00\n"
          ],
          "name": "stdout"
        }
      ]
    },
    {
      "metadata": {
        "id": "SqyeNpCy7ocg",
        "colab_type": "code",
        "colab": {}
      },
      "cell_type": "code",
      "source": [
        "class State(np.ndarray):  # also a child of ndarray!?\n",
        "  def __init__(self, n_bits):\n",
        "    self.value = np.eye(1, 2**n_bits, 0).T\n",
        "\n",
        "  def __repr__(self):\n",
        "    n = np.log(len(x))/np.log(2)\n",
        "    s = generate_binary(n)\n",
        "\n",
        "    idx = np.argmax(measure(x))\n",
        "    return s[idx]\n",
        "  \n",
        "print(State(3))"
      ],
      "execution_count": 0,
      "outputs": []
    },
    {
      "metadata": {
        "id": "nuaLodZ7MhtW",
        "colab_type": "text"
      },
      "cell_type": "markdown",
      "source": [
        "Ok. What about flip-flops?\n",
        "\n",
        "## 3-bit Adder\n",
        "\n",
        "Need 3 bits x 4 for the two inputs, the sum and the carry. (maybe could overwrite, but for now dont bother)\n",
        "\n",
        "\n",
        "\n",
        "\n",
        "\n",
        "\n",
        "## Set\n",
        "\n",
        "These matrices will have to be tailor made? Seems like a pain?!\n",
        "If we always know we are going to start in $e_0$, then we can easily construct an operator to set the state, $op[0, 0101] = 1$ and just randomly fill in the rest. This is a global operator? Must be constructed at $2^N$? Or are we allowed to just permute the state/operator!?\n",
        "\n",
        "Going to be some kind of block wise operation?"
      ]
    },
    {
      "metadata": {
        "id": "AdPI0sOrMhZU",
        "colab_type": "code",
        "colab": {
          "base_uri": "https://localhost:8080/",
          "height": 68
        },
        "outputId": "ff578051-1bcf-4c77-a644-9cb5c1ad0320"
      },
      "cell_type": "code",
      "source": [
        "def flip_bits_by_block(n_bits, binary_string, location):\n",
        "  \"\"\"\n",
        "  Want a way to set the initial state for later computation.\n",
        "  Effectively, this op should allow us to add in constants/argument/inputs.\n",
        "  \n",
        "  Args:\n",
        "    n_bits (int): the number of bits of the space\n",
        "    binary_string (str): the pattern of bits to flip (flip if 1, else pass)\n",
        "    location (int): the position to start applying the binary_string\n",
        "    \n",
        "   Returns:\n",
        "    list of operators\n",
        "  \"\"\"\n",
        "  # can be used to set the state (assuming the operator recieves all zeros).\n",
        "  locs = [i+location for i, s in enumerate(binary_string) if bool(int(s))]\n",
        "  return [X if i in locs else I for i in range(n_bits)]\n",
        "\n",
        "start = e(0, 8)\n",
        "\n",
        "a = '0011'\n",
        "print(decode(start))\n",
        "m = flip_bits_by_block(8, a, 0)\n",
        "p = reduce(np.kron, m)\n",
        "y = np.dot(p, start)\n",
        "print(decode(y))\n",
        "\n",
        "\n",
        "b = '0001'\n",
        "m = flip_bits_by_block(8, b, 4)\n",
        "p = reduce(np.kron, m)\n",
        "\n",
        "z = np.dot(p, y)\n",
        "print(decode(z))\n",
        "# print(decode(start))"
      ],
      "execution_count": 0,
      "outputs": [
        {
          "output_type": "stream",
          "text": [
            "00000000\n",
            "00110000\n",
            "00110001\n"
          ],
          "name": "stdout"
        }
      ]
    },
    {
      "metadata": {
        "id": "TrDffsPRMh4w",
        "colab_type": "code",
        "colab": {
          "base_uri": "https://localhost:8080/",
          "height": 317
        },
        "outputId": "0a077864-9918-45a6-88e8-24a3fcb7399e"
      },
      "cell_type": "code",
      "source": [
        "n_bits = 12\n",
        "start = np.eye(1, 2**n_bits, 0).T  # the state is always started at '00...00'\n",
        "\n",
        "\n",
        "def adder(x, y):\n",
        "  # need methods to;\n",
        "  # - scatter and gather!?!\n",
        "  # - partial set\n",
        "  load_spec = [flip_bits_by_block(n_bits, x, 0),  # load the x and y values\n",
        "                flip_bits_by_block(n_bits, y, 3),\n",
        "               ]\n",
        "  # compile\n",
        "  load_prog = reduce(np.dot, [reduce(np.kron, ps) for ps in load_spec])\n",
        "\n",
        "  \n",
        "  gather_prog = permute(n_bits, [0,4,8,1,5,9,2,6,10,3,7,11])\n",
        "  # how to apply SUM to bits 1-4, 2-5, ... and CARRY to them as well...\n",
        "  # adder_spec = [   # sum\n",
        "  #                  # carry\n",
        "  # ]  \n",
        "  \n",
        "  \n",
        "  return decode(np.dot(np.dot(load_prog, start), gather_prog))\n",
        "\n",
        "\n",
        "a = '100'  # 4\n",
        "b = '010'  # 2\n",
        "\n",
        "\n",
        "print(adder(a, b))"
      ],
      "execution_count": 20,
      "outputs": [
        {
          "output_type": "error",
          "ename": "ValueError",
          "evalue": "ignored",
          "traceback": [
            "\u001b[0;31m---------------------------------------------------------------------------\u001b[0m",
            "\u001b[0;31mValueError\u001b[0m                                Traceback (most recent call last)",
            "\u001b[0;32m<ipython-input-20-6c00c6b439f3>\u001b[0m in \u001b[0;36m<module>\u001b[0;34m()\u001b[0m\n\u001b[1;32m     28\u001b[0m \u001b[0;34m\u001b[0m\u001b[0m\n\u001b[1;32m     29\u001b[0m \u001b[0;34m\u001b[0m\u001b[0m\n\u001b[0;32m---> 30\u001b[0;31m \u001b[0mprint\u001b[0m\u001b[0;34m(\u001b[0m\u001b[0madder\u001b[0m\u001b[0;34m(\u001b[0m\u001b[0ma\u001b[0m\u001b[0;34m,\u001b[0m \u001b[0mb\u001b[0m\u001b[0;34m)\u001b[0m\u001b[0;34m)\u001b[0m\u001b[0;34m\u001b[0m\u001b[0m\n\u001b[0m",
            "\u001b[0;32m<ipython-input-20-6c00c6b439f3>\u001b[0m in \u001b[0;36madder\u001b[0;34m(x, y)\u001b[0m\n\u001b[1;32m     21\u001b[0m \u001b[0;34m\u001b[0m\u001b[0m\n\u001b[1;32m     22\u001b[0m \u001b[0;34m\u001b[0m\u001b[0m\n\u001b[0;32m---> 23\u001b[0;31m   \u001b[0;32mreturn\u001b[0m \u001b[0mdecode\u001b[0m\u001b[0;34m(\u001b[0m\u001b[0mnp\u001b[0m\u001b[0;34m.\u001b[0m\u001b[0mdot\u001b[0m\u001b[0;34m(\u001b[0m\u001b[0mnp\u001b[0m\u001b[0;34m.\u001b[0m\u001b[0mdot\u001b[0m\u001b[0;34m(\u001b[0m\u001b[0mload_prog\u001b[0m\u001b[0;34m,\u001b[0m \u001b[0mstart\u001b[0m\u001b[0;34m)\u001b[0m\u001b[0;34m,\u001b[0m \u001b[0mgather_prog\u001b[0m\u001b[0;34m)\u001b[0m\u001b[0;34m)\u001b[0m\u001b[0;34m\u001b[0m\u001b[0m\n\u001b[0m\u001b[1;32m     24\u001b[0m \u001b[0;34m\u001b[0m\u001b[0m\n\u001b[1;32m     25\u001b[0m \u001b[0;34m\u001b[0m\u001b[0m\n",
            "\u001b[0;31mValueError\u001b[0m: shapes (4096,1) and (12,12) not aligned: 1 (dim 1) != 12 (dim 0)"
          ]
        }
      ]
    },
    {
      "metadata": {
        "id": "Zhb1UK8_KY29",
        "colab_type": "code",
        "colab": {}
      },
      "cell_type": "code",
      "source": [
        ""
      ],
      "execution_count": 0,
      "outputs": []
    },
    {
      "metadata": {
        "id": "jMZ46GNFWUDl",
        "colab_type": "code",
        "colab": {
          "base_uri": "https://localhost:8080/",
          "height": 102
        },
        "outputId": "c2a229e1-5c6b-40fe-b0b3-b354b55c006e"
      },
      "cell_type": "code",
      "source": [
        "# scatter aka gather, if we are using the same space!?\n",
        "# doesnt make sense wrt tensor operations? no way to reduce the size of the space.\n",
        "def permute(n_bits, idx):\n",
        "  \"\"\"\n",
        "  \n",
        "  Returns:\n",
        "    operator\n",
        "  \"\"\"\n",
        "  m = np.eye(2**n_bits)\n",
        "  idx0 = idx*2\n",
        "  idx1 = idx0 + 1\n",
        "  m[range(2**n_bits)] = m[idx]\n",
        "  return m\n",
        "\n",
        "x = [0,0,0,1,0,0,0,0]\n",
        "p = permute(4, [0,1,3,2])\n",
        "print(p)\n",
        "np.dot(p, x)"
      ],
      "execution_count": 18,
      "outputs": [
        {
          "output_type": "stream",
          "text": [
            "[[1. 0. 0. 0.]\n",
            " [0. 1. 0. 0.]\n",
            " [0. 0. 0. 1.]\n",
            " [0. 0. 1. 0.]]\n"
          ],
          "name": "stdout"
        },
        {
          "output_type": "execute_result",
          "data": {
            "text/plain": [
              "array([0., 0., 1., 0.])"
            ]
          },
          "metadata": {
            "tags": []
          },
          "execution_count": 18
        }
      ]
    },
    {
      "metadata": {
        "id": "rU0dbibaRxcG",
        "colab_type": "text"
      },
      "cell_type": "markdown",
      "source": [
        "# Quantum algorithms\n",
        "\n",
        "???\n",
        "\n",
        "Other things to think about. \n",
        "- How does quantum error correction come into this?\n",
        "- ?!"
      ]
    },
    {
      "metadata": {
        "id": "tvVmf5wb7_6Y",
        "colab_type": "code",
        "colab": {}
      },
      "cell_type": "code",
      "source": [
        "\"\"\"\n",
        "QUANTUM OPERATORS\n",
        "\"\"\"\n",
        "# hadamard\n",
        "H = np.ones((2,2))/np.sqrt(2)\n",
        "H[1,1] *= -1\n",
        "\n",
        "# toffoli\n",
        "TOF = 1\n",
        "\n",
        "# ?\n",
        "\n",
        "\n",
        "prog = np.dot(np.kron(H, I), CNOT)\n",
        "y = np.dot(prog, x)"
      ],
      "execution_count": 0,
      "outputs": []
    },
    {
      "metadata": {
        "id": "xqoEA1Zb9c7x",
        "colab_type": "code",
        "colab": {}
      },
      "cell_type": "code",
      "source": [
        "\"\"\"\n",
        "Some other operatiors.\n",
        "\"\"\"\n",
        "\n",
        "def fourier_matrix(n):\n",
        "  # https://en.wikipedia.org/wiki/DFT_matrix\n",
        "  r = np.arange(n)\n",
        "  a, b = np.meshgrid(r,r)\n",
        "  return np.exp(-2*np.pi*1j*a*b/n)/np.sqrt(n)"
      ],
      "execution_count": 0,
      "outputs": []
    },
    {
      "metadata": {
        "id": "8DjdMjdn_Zh2",
        "colab_type": "code",
        "colab": {}
      },
      "cell_type": "code",
      "source": [
        ""
      ],
      "execution_count": 0,
      "outputs": []
    },
    {
      "metadata": {
        "id": "zCm9hCHuBntr",
        "colab_type": "code",
        "colab": {}
      },
      "cell_type": "code",
      "source": [
        ""
      ],
      "execution_count": 0,
      "outputs": []
    },
    {
      "metadata": {
        "id": "APs_aGNVB2Tb",
        "colab_type": "code",
        "colab": {
          "base_uri": "https://localhost:8080/",
          "height": 34
        },
        "outputId": "a17487cd-8949-41c9-e898-adbe9538a3fe"
      },
      "cell_type": "code",
      "source": [
        ""
      ],
      "execution_count": 49,
      "outputs": [
        {
          "output_type": "execute_result",
          "data": {
            "text/plain": [
              "0.5"
            ]
          },
          "metadata": {
            "tags": []
          },
          "execution_count": 49
        }
      ]
    },
    {
      "metadata": {
        "id": "DUWNj3JcDmoj",
        "colab_type": "text"
      },
      "cell_type": "markdown",
      "source": [
        "How can this be done efficiently?\n",
        "Can we do some computations in the lower dim space, before we compose the different dimensions?"
      ]
    }
  ]
}