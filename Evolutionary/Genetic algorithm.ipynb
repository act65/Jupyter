{
 "cells": [
  {
   "cell_type": "markdown",
   "metadata": {},
   "source": [
    "\n",
    "\n",
    "\n",
    "\n",
    "The problem with this code is that a single gene will dominate the population \n",
    "and not let others be formed. I need a way to count similar genes and ensure\n",
    "diversity\n",
    "\n",
    "\n",
    "\n",
    "#the cool thing about evolution in nature is that it allows the method of mutation to evolve\n",
    "#reproduction, how you can recombine things meaningfully will largely dertermine efficiency?                \n",
    "\n",
    "\n",
    "### Population efficiency\n",
    "\n",
    "Small pop and lots of generations vs Large pop with fewer generations?\n",
    "\n",
    "##### Naive solution - No generations\n",
    "\n",
    "What happens if we only use one generation? The probability of finding the solution is just from the random initialisation of the organisims.\n",
    "\n",
    "$ \n",
    "\\begin{align*} \\\\\n",
    "P(L = n) &= \\text{probability that organism is initialised as length n} \\text{normal distrubution between ???}\\\\\n",
    "P(g_i = \\gamma) &= \\text{probability the} \\;i_{th}\\; \\text{gene is}\\; \\gamma \\\\\n",
    "s &= \\text{the length of the solution} \\\\\n",
    "P(G = \\Gamma) &=  \\text{probability the genome is}\\; \\Gamma = \\prod_{i=1}^{s} P(g_i = \\gamma)\\\\\n",
    "P(correct) &= P(L = n) \\cdot P(G = \\Gamma) \\\\\n",
    "P(correct) &= \\frac{1}{n} \\cdot \\frac{1}{m}^{s} \\quad \\text{assuming genes have equal probability} \\\\\n",
    "\\end{align*}\n",
    "$\n",
    "\n",
    "\n",
    "So for;\n",
    "* genes = $0,1,+$\n",
    "* organisims initialised, with uniform probability, between length 1 and 10,  \n",
    "* and correct solution (1+1+1) of length 6.\n",
    "We have\n",
    "\n",
    "$$ P(correct) =  \\frac{1}{3}^{6}$$\n",
    "\n",
    "And for something more interesting; (like finding the quadratic equation $\\frac{-b\\pm\\sqrt{b^2-4ac\\ }}{2a}.$\n",
    "* genes =  $0,1,2,3,4,5,6,7,8,9,+,-,*,/,(,), ^2,\\sqrt{ \\;},\\pm$ gives 19 genes\n",
    "* all organisims initialised at the correct length P(L = n) = 1\n",
    "* and correct solution  of length 13.\n",
    "\n",
    "$$ P(correct) =  \\frac{1}{19}^{13}$$"
   ]
  },
  {
   "cell_type": "code",
   "execution_count": 11,
   "metadata": {
    "collapsed": false
   },
   "outputs": [
    {
     "name": "stdout",
     "output_type": "stream",
     "text": [
      "0.0013717421124828527\n",
      "2.377952567616299e-17\n"
     ]
    }
   ],
   "source": [
    "print((1/3)**6)\n",
    "print((1/19)**13)"
   ]
  },
  {
   "cell_type": "markdown",
   "metadata": {},
   "source": [
    "So while 1 in 1000 doesnt seem so bad, 1 in 100000000000000000 does. And this isnt even for anything worth while.\n",
    "\n",
    "This is really bad... combinatorics... (trying to solve prolems like is would be NP??)\n",
    "\n",
    "But, really it is alot worse than this as ...\n",
    "\n",
    "For a genetic algorithm to be worthwhile it must do better that this case.\n",
    "\n",
    "\n",
    "### Discrete genes\n",
    "\n",
    "We define a function, f, that takes two genes, a,b, and gives an output gene\n",
    "$ \n",
    "\\begin{align*} \\\\\n",
    "f(a,b) &= \\text{probability dist between choosing one or the other}\n",
    "\\end{align*}\n",
    "$\n",
    "\n",
    "### Continuious genes\n",
    "\n",
    "We define a function, f, that takes two genes, a,b, and gives an output gene.\n",
    "$ \n",
    "\\begin{align*} \\\\\n",
    "f(a,b) &= \\text{some combination of the two, were we have a distance metric}\n",
    "\\end{align*}\n",
    "$\n",
    "\n",
    "\n",
    "### A general implementation"
   ]
  },
  {
   "cell_type": "code",
   "execution_count": 2,
   "metadata": {
    "collapsed": false
   },
   "outputs": [],
   "source": [
    "import numpy as np\n",
    "class GA():\n",
    "    def __init__(self,genes = None, fit_eval = None, \n",
    "                 pop_init = 100, org_init = 1, mate = None ):\n",
    "        self.genes = genes\n",
    "        self.eval_fittness = fit_eval\n",
    "        self.pop_init = pop_init\n",
    "        self.org_init = org_init #parameters for initial organism sizes \n",
    "        self.mate = mate\n",
    "        \n",
    "        self.populate()\n",
    "        \n",
    "    def populate(self): #create a population\n",
    "        self.pop = []\n",
    "        for i in range(self.pop_init):\n",
    "            self.pop.append(self.birth())\n",
    "\n",
    "    def birth(self): #create an individual from the given genes\n",
    "        organism = []\n",
    "        for i in range(randindex(self.org_init)): #starting smaller is better?\n",
    "            organism.append(np.random.choice(self.genes)) #equal probability\n",
    "        return organism\n",
    "    \n",
    "    def compete(self):\n",
    "        self.fittness = []\n",
    "        for i in self.pop:\n",
    "            self.fittness.append(self.eval_fittness(i) + len(i)) #a small incentive to encourage smaller sizes\n",
    "\n",
    "    def generate(self , n = 100): #make next generation\n",
    "        s = [p for (err,p) in sorted(zip(self.fittness,self.pop))]\n",
    "        \n",
    "        nextgen = []\n",
    "        while len(nextgen) < len(self.pop): #keep the generations the same size\n",
    "            j = randindex(0.1*self.pop_init)\n",
    "            k = randindex(0.1*self.pop_init)\n",
    "            m = len(self.pop)\n",
    "            if j<m and k<m:\n",
    "                nextgen.append(self.mate(s[j],s[k]))\n",
    "        self.pop = nextgen\n",
    "    \n",
    "def randindex(x):\n",
    "    return int(np.round(np.random.chisquare(1)*x) )\n",
    "    \n",
    "def join(l):\n",
    "    s = ''\n",
    "    for i in l:\n",
    "        s +=i\n",
    "    return s"
   ]
  },
  {
   "cell_type": "markdown",
   "metadata": {},
   "source": [
    "Let's consider a simple genetic algorithm designed to model a function - y = x^2."
   ]
  },
  {
   "cell_type": "code",
   "execution_count": 7,
   "metadata": {
    "collapsed": false
   },
   "outputs": [
    {
     "name": "stdout",
     "output_type": "stream",
     "text": [
      "x*x\n"
     ]
    }
   ],
   "source": [
    "### Specific functions for genetic programming for equations\n",
    "def target(x):\n",
    "    return x**2\n",
    "\n",
    "def fittness(org):\n",
    "    x = np.linspace(0,10,1000) # needs to be defined of eval can use it\n",
    "    org = join(org)\n",
    "    try:\n",
    "        y = eval(org)\n",
    "        fit = np.linalg.norm(target(x) - y)\n",
    "    except:\n",
    "        fit = 100000\n",
    "    return fit\n",
    "\n",
    "def crossover(x,y):\n",
    "    n = len(x)\n",
    "    m = len(y)\n",
    "    z=[]\n",
    "    for i in range(max(n,m)):\n",
    "        if i>n-1:\n",
    "            x.append('')\n",
    "        if i>m-1:\n",
    "            y.append('')\n",
    "        z.append(np.random.choice([x[i],y[i]]))\n",
    "    return z\n",
    "\n",
    "### Testing\n",
    "Life = GA(genes = ['-','+','*','3','2','(',')','0','1','x'],\n",
    "          pop_init = 10000,\n",
    "           fit_eval = fittness,\n",
    "           mate = crossover)\n",
    "\n",
    "Life.compete()\n",
    "while np.min(Life.fittness) > 1000:\n",
    "    Life.generate()\n",
    "print(join(Life.pop[np.argmin(Life.fittness)]))"
   ]
  },
  {
   "cell_type": "markdown",
   "metadata": {},
   "source": [
    "\n",
    "\n",
    "\n",
    "\n",
    "Now this GA works well for large populations. But, smaller ones mean that there is too little diversity to ensure effective interbreeding. Thus the GA becomes stuck in a ?? where all the organisims in the population very similarly crap.\n",
    "\n",
    "\n",
    "### Weighted fittness\n",
    "\n"
   ]
  },
  {
   "cell_type": "code",
   "execution_count": 8,
   "metadata": {
    "collapsed": false
   },
   "outputs": [
    {
     "data": {
      "text/plain": [
       "0.00013717421124828527"
      ]
     },
     "execution_count": 8,
     "metadata": {},
     "output_type": "execute_result"
    }
   ],
   "source": [
    "1/10 * (1/3)**6\n"
   ]
  },
  {
   "cell_type": "code",
   "execution_count": null,
   "metadata": {
    "collapsed": true
   },
   "outputs": [],
   "source": []
  }
 ],
 "metadata": {
  "kernelspec": {
   "display_name": "Python 3",
   "language": "python",
   "name": "python3"
  },
  "language_info": {
   "codemirror_mode": {
    "name": "ipython",
    "version": 3
   },
   "file_extension": ".py",
   "mimetype": "text/x-python",
   "name": "python",
   "nbconvert_exporter": "python",
   "pygments_lexer": "ipython3",
   "version": "3.4.4"
  }
 },
 "nbformat": 4,
 "nbformat_minor": 0
}
