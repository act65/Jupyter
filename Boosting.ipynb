{
 "cells": [
  {
   "cell_type": "markdown",
   "metadata": {},
   "source": [
    "# Gradient boosting\n",
    "\n",
    "## Algorithm\n",
    "\n",
    "### v0.1\n",
    "\n",
    "```python\n",
    "import numpy as np\n",
    "data,labels = get_data()\n",
    "G = np.linspace(-10,10,100)\n",
    "F = G[np.argmin(loss(G,labels)]\n",
    "\n",
    "for i in range(m):\n",
    "    #Learn what we are getting wrong.\n",
    "    residual = grad(loss(F(x),labels),F(x)) #dL/dF #is a vector for each x_i\n",
    "    h = WeakLearner(residual) #fit to residuals - how? \n",
    "    \n",
    "    #Find a linear combination of new + old learners that minimises error\n",
    "    g = G[np.argmin(loss(F(x) + G * h(x),labels))]\n",
    "    F = F + g * h\n",
    "```\n",
    "\n",
    "\n",
    "### v0.2\n",
    "\n",
    "```python\n",
    "import tensorflow as tf\n",
    "opt = tf.GradientDescentOptimiser(0.1)\n",
    "\n",
    "```\n",
    "\n",
    "##### Questions and thoughts\n",
    "* how is this really a residual? we are really taking the gradient of the loss? is that the same as a residual? if the loss is the MSE then yes? otherwise?\n",
    "Try implement in tf?\n",
    "* Ahh. So each residual unit in a resnet can act as an h? A weak learner fitting itself to whatever error there is in x. Why \n",
    "* https://jeremykun.com/2015/05/18/boosting-census/\n",
    "* https://codesachin.wordpress.com/2016/03/06/a-small-introduction-to-boosting/"
   ]
  },
  {
   "cell_type": "markdown",
   "metadata": {},
   "source": [
    "### Tree boosting\n",
    "\n",
    "???"
   ]
  },
  {
   "cell_type": "markdown",
   "metadata": {},
   "source": [
    "### vResnet\n",
    "\n",
    "Let F be a ResNet, $F:X\\rightarrow Y$. With;\n",
    "* depth D, with $0<i<D-1$.\n",
    "* $y_i =  H_i(x) = h_i(x_i) + x_i$\n",
    "\n",
    "```python\n",
    "Res = ResNet()\n",
    "for i in range(m):\n",
    "    Res.run(data)\n",
    "    #Learn what we are getting wrong.\n",
    "    residual = grad(loss(Res.y[D], label),Res.y) #aka. backprop loss through net to the output of h_i(x_i)\n",
    "    #fit h to a residual\n",
    "    Res.H = fit(Res.H,residual) #aka w = w - learningrate * residual\n",
    "```"
   ]
  }
 ],
 "metadata": {
  "kernelspec": {
   "display_name": "Python 3",
   "language": "python",
   "name": "python3"
  },
  "language_info": {
   "codemirror_mode": {
    "name": "ipython",
    "version": 3
   },
   "file_extension": ".py",
   "mimetype": "text/x-python",
   "name": "python",
   "nbconvert_exporter": "python",
   "pygments_lexer": "ipython3",
   "version": "3.5.1"
  }
 },
 "nbformat": 4,
 "nbformat_minor": 0
}
