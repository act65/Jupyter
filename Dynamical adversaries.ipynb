{
 "cells": [
  {
   "cell_type": "markdown",
   "metadata": {},
   "source": [
    "> _In the proposed adversarial nets framework, the generative model is pitted against an adversary: a discriminative model that learns to determine whether a sample is from the model distribution or the data distribution. The generative model can be thought of as analogous to a team of counterfeiters, trying to produce fake currency and use it without detection, while the discriminative model is analogous to the police, trying to detect the counterfeit currency. Competition in this game drives both teams to improve their methods until the counterfeits are indistinguishable from the genuine articles._ [Goodfellow et al. 2014](http://arxiv.org/abs/1406.2661)\n",
    "\n",
    "\n",
    "* Do we train the generative net on its reconstruction error, or only backpropagated signals through the discriminative net?\n",
    "* Training on noise, seems like a waste, is there a better way?\n",
    "\n",
    "\n",
    "\n",
    "### Dyamical systems?\n",
    "Like a arms race. As one gets better, the other does as well, until ???. Is there a way to use tools from dynamical systems to analyse this? This just reminds me of the typical 2D population dynamics. \n",
    "\n",
    "$$\n",
    "\\begin{align}\n",
    "\\frac{dx}{dt} & = x(\\alpha - \\beta y) \\\\\n",
    "\\frac{dy}{dt} & = y(\\delta x  - \\gamma ) \\\\\n",
    "\\end{align}\n",
    "$$\n",
    "[Lotka-Voltera equations](https://en.wikipedia.org/wiki/Lotka%E2%80%93Volterra_equations)\n",
    "$$\n",
    "\\begin{align}\n",
    "\\frac{d \\mathcal{C}}{dt} & = \\mathcal{C}(\\alpha  - \\beta \\mathcal{L}) \\\\\n",
    "\\frac{d \\mathcal{L}}{dt} & = \\mathcal{L}(\\delta \\mathcal{C}  - \\gamma) \\\\\n",
    "\\end{align}\n",
    "$$\n",
    "\n",
    "So if;\n",
    "\n",
    "* the reconstruction cost is zero then the reconstion cost will be stable at zero.\n",
    "* \n",
    "\n",
    "### Features\n",
    "\n",
    "Two parts:\n",
    "\n",
    "* Autoencoder to reconstruct its input.\n",
    "* Classifier to predict category (true or false).\n",
    "\n",
    "It seems to me that features useful for classification would also be useful for reconstruction? For example ...? And vice versa?\n",
    "\n",
    "### Algorithmic game theory\n",
    "\n",
    "##### Nash or correlated equilibrium?\n",
    "\n",
    "\n",
    "\n",
    "##### Zero sum games\n",
    "\n",
    "What if we made the system zero sum? So the loss functions would be ...? \n",
    "Wait or is it already zero sum? Does the sucess of one net cost the other?"
   ]
  },
  {
   "cell_type": "markdown",
   "metadata": {},
   "source": [
    "# Questions and thoughts\n",
    "\n",
    "* Need some pictures\n",
    "* Should implement one\n",
    "* "
   ]
  }
 ],
 "metadata": {
  "kernelspec": {
   "display_name": "Python 3",
   "language": "python",
   "name": "python3"
  },
  "language_info": {
   "codemirror_mode": {
    "name": "ipython",
    "version": 3
   },
   "file_extension": ".py",
   "mimetype": "text/x-python",
   "name": "python",
   "nbconvert_exporter": "python",
   "pygments_lexer": "ipython3",
   "version": "3.5.1"
  }
 },
 "nbformat": 4,
 "nbformat_minor": 0
}
