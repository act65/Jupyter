{
 "cells": [
  {
   "cell_type": "markdown",
   "metadata": {},
   "source": [
    "* How does haskell do lazy evaluation?\n",
    "* Why is it useful?\n",
    "* Lazy prediction?\n",
    "* Relations to efficiency?\n",
    "* 'Just in time'\n"
   ]
  }
 ],
 "metadata": {
  "kernelspec": {
   "display_name": "Haskell",
   "language": "haskell",
   "name": "haskell"
  },
  "language_info": {
   "codemirror_mode": "ihaskell",
   "file_extension": ".hs",
   "name": "haskell",
   "version": "7.10.3"
  }
 },
 "nbformat": 4,
 "nbformat_minor": 0
}
