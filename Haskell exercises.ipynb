{
 "cells": [
  {
   "cell_type": "markdown",
   "metadata": {},
   "source": [
    "### A cesar cipher\n",
    "Just messing around..."
   ]
  },
  {
   "cell_type": "code",
   "execution_count": 63,
   "metadata": {
    "collapsed": false
   },
   "outputs": [
    {
     "data": {
      "text/plain": [
       "'b'"
      ]
     },
     "metadata": {},
     "output_type": "display_data"
    }
   ],
   "source": [
    "-- apply a list of functions recursivley to the same input\n",
    "-- f(f(... f(x) ...))\n",
    "mapfn :: [(Char->Char)] -> Char -> Char\n",
    "mapfn [] char = char\n",
    "mapfn (f:fs) char = \n",
    "    --just catch the char as it goes into other symbols, {}_#*$*%@...\n",
    "    if char == 'z' then mapfn fs 'a' else mapfn fs (f char)\n",
    "    \n",
    "\n",
    "-- test\n",
    "l = replicate 2 succ\n",
    "mapfn l 'z'"
   ]
  },
  {
   "cell_type": "code",
   "execution_count": 64,
   "metadata": {
    "collapsed": false
   },
   "outputs": [
    {
     "data": {
      "text/plain": [
       "'d'"
      ]
     },
     "metadata": {},
     "output_type": "display_data"
    }
   ],
   "source": [
    "iterChars :: Int -> Char -> Char\n",
    "iterChars n char = mapfn (replicate n succ) char\n",
    "\n",
    "-- test\n",
    "iterChars 3 'a'"
   ]
  },
  {
   "cell_type": "code",
   "execution_count": 65,
   "metadata": {
    "collapsed": false
   },
   "outputs": [
    {
     "data": {
      "text/plain": [
       "\"Kl#krz#duh#brx#grlqjB \""
      ]
     },
     "metadata": {},
     "output_type": "display_data"
    }
   ],
   "source": [
    "---The cesar cipher\n",
    "cesar ::  Int -> [Char] -> [Char]\n",
    "cesar x (c:rest) = iterChars x c : cesar x rest\n",
    "cesar x [] = [' ']\n",
    "\n",
    "--test\n",
    "cesar 3 \"Hi how are you doing?\"\n",
    "-- oh... what about puncuation\n",
    "-- capitals..."
   ]
  },
  {
   "cell_type": "code",
   "execution_count": 66,
   "metadata": {
    "collapsed": false
   },
   "outputs": [
    {
     "data": {
      "text/plain": [
       "\"licalexwcsyvreqi \""
      ]
     },
     "metadata": {},
     "output_type": "display_data"
    },
    {
     "data": {
      "text/plain": [
       "\"heywhatsyourname6 \""
      ]
     },
     "metadata": {},
     "output_type": "display_data"
    }
   ],
   "source": [
    "-- so lets see if we can decode a message\n",
    "message = cesar 4 \"heywhatsyourname\"\n",
    "message\n",
    "cesar 22 message\n",
    "-- huh? where did the 6 come from?"
   ]
  },
  {
   "cell_type": "code",
   "execution_count": 87,
   "metadata": {
    "collapsed": false
   },
   "outputs": [
    {
     "data": {
      "text/plain": [
       "[\"xiz \",\"yja \",\"zkb \",\"alc \",\"bmd \",\"cne \",\"dof \",\"epg \",\"fqh \",\"gri \",\"hsj \",\"itk \",\"jul \",\"kvm \",\"lwn \",\"mxo \",\"nyp \",\"ozq \",\"par \",\"qbs \",\"rct \",\"sdu \",\"tev \",\"ufw \",\"vgx \",\"why \"]"
      ]
     },
     "metadata": {},
     "output_type": "display_data"
    },
    {
     "data": {
      "text/plain": [
       "[\"xiz \",\"yja \",\"zkb \",\"alc \",\"bmd \",\"cne \",\"dof \",\"epg \",\"fqh \",\"gri \",\"hsj \",\"itk \",\"jul \",\"kvm \",\"lwn \",\"mxo \",\"nyp \",\"ozq \",\"par \",\"qbs \",\"rct \",\"sdu \",\"tev \",\"ufw \",\"vgx \",\"why \"]"
      ]
     },
     "metadata": {},
     "output_type": "display_data"
    }
   ],
   "source": [
    "nums = [1..26]\n",
    "-- iterate over different shift for a string\n",
    "-- surely there is a better way to do this using partial appications?\n",
    "-- i guess i could re order my arguments/currying?\n",
    "\n",
    "-- whywrapper :: Int -> String do i really need this, just good practice?\n",
    "-- so is it not a lambda? or at least doing the same thing...\n",
    "whywrapper n = cesar n \"why\"\n",
    "\n",
    "-- ah ok, that's an easier way to do partial application\n",
    "-- so that just reverses the arguments, but sometimes we might \n",
    "--want something in the middle\n",
    "newcesar = flip cesar \"why\"\n",
    "\n",
    "map whywrapper nums\n",
    "map newcesar nums"
   ]
  },
  {
   "cell_type": "markdown",
   "metadata": {},
   "source": [
    "Hmm... Not very elegant\n",
    "\n",
    "### Binary tree\n",
    "\n",
    "using data types."
   ]
  },
  {
   "cell_type": "code",
   "execution_count": 6,
   "metadata": {
    "collapsed": false
   },
   "outputs": [
    {
     "data": {
      "text/plain": [
       "Root 3 (Child 3 (Leaf 1) (Leaf 2)) (Child 3 (Leaf 1) (Leaf 2))"
      ]
     },
     "metadata": {},
     "output_type": "display_data"
    }
   ],
   "source": [
    "--data BinaryTree = BinaryTree Int Node Node deriving (Show)  \n",
    "data Node = Root Int Node Node | Child Int Node Node | Leaf Int deriving (Show)\n",
    "\n",
    "--test\n",
    "binarytree = Root 3 (Child 3 (Leaf 1) (Leaf 2)) (Child 3 (Leaf 1) (Leaf 2))\n",
    "binarytree"
   ]
  },
  {
   "cell_type": "code",
   "execution_count": null,
   "metadata": {
    "collapsed": false
   },
   "outputs": [
    {
     "data": {
      "text/plain": [
       "Root 1 (Child 1 (Child 1 (Child 1 (Child 1 (Child 1 (Child 1 (Child 1 (Child 1 (Child 1 (Child 1 (Child 1 (Child 1 (Child 1 (Child 1 (Child 1 (Child 1 (Child 1 (Child 1 (Child 1 (Child 1 (Child 1 (Child 1 (Child 1 (Child 1 (Child 1 (Child 1 (Child 1 (Child 1 (Child 1 (Child 1 (Child 1 (Child 1 (Child 1 (Child 1 (Child 1 (Child 1 (Child 1 (Child 1 (Child 1 (Child 1 (Child 1 (Child 1 (Child 1 (Child 1 (Child 1 (Child 1 (Child 1 (Child 1 (Child 1 (Child 1 (Child 1 (Child 1 (Child 1 (Child 1 (Child 1 (Child 1 (Child 1 (Child 1 (Child 1 (Child 1 (Child 1 (Child 1 (Child 1 (Child 1 (Child 1 (Child 1 (Child 1 (Child 1 (Child 1 (Child 1 (Child 1 (Child 1 (Child 1 (Child 1 (Child 1 (Child 1 (Child 1 (Child 1 (Child 1 (Child 1 (Child 1 (Child 1 (Child 1 (Child 1 (Child 1 (Child 1 (Child 1 (Child 1 (Child 1 (Child 1 (Child 1 (Child 1 (Child 1 (Child 1 (Child 1 (Child 1 (Child 1 (Child 1 (Child 1 (Child 1 (Child 1 (Child 1 (Child 1 (Child 1 (Child 1 (Child 1 (Child 1 (Child 1 (Child 1 (Child 1 (Child 1 (Child 1 (Child 1 (Child 1 (Child 1 (Child 1 (Child 1 (Child 1 (Child 1 (Child 1 (Child 1 (Child 1 (Child 1 (Child 1 (Child 1 (Child 1 (Child 1 (Child 1 (Child 1 (Child 1 (Child 1 (Child 1 (Child 1 (Child 1 (Child 1 (Child 1 (Child 1 (Child 1 (Child 1 (Child 1 (Child 1 (Child 1 (Child 1 (Child 1 (Child 1 (Child 1 (Child 1 (Child 1 (Child 1 (Child 1 (Child 1 (Child 1 (Child 1 (Child 1 (Child 1 (Child 1 (Child 1 (Child 1 (Child 1 (Child 1 (Child 1 (Child 1 (Child 1 (Child 1 (Child 1 (Child 1 (Child 1 (Child 1 (Child 1 (Child 1 (Child 1 (Child 1 (Child 1 (Child 1 (Child 1 (Child 1 (Child 1 (Child 1 (Child 1 (Child 1 (Child 1 (Child 1 (Child 1 (Child 1 (Child 1 (Child 1 (Child 1 (Child 1 (Child 1 (Child 1 (Child 1 (Child 1 (Child 1 (Child 1 (Child 1 (Child 1 (Child 1 (Child 1 (Child 1 (Child 1 (Child 1 (Child 1 (Child 1 (Child 1 (Child 1 (Child 1 (Child 1 (Child 1 (Child 1 (Child 1 (Child 1 (Child 1 (Child 1 (Child 1 (Child 1 (Child 1 (Child 1 (Child 1 (Child 1 (Child 1 (Child 1 (Child 1 (Child 1 (Child 1 (Child 1 (Child 1 (Child 1 (Child 1 (Child 1 (Child 1 (Child 1 (Child 1 (Child 1 (Child 1 (Child 1 (Child 1 (Child 1 (Child 1 (Child 1 (Child 1 (Child 1 (Child 1 (Child 1 (Child"
      ]
     },
     "metadata": {},
     "output_type": "display_data"
    }
   ],
   "source": [
    "-- ok, now lets try and generate one of depth d\n",
    "\n",
    "generate :: Int -> (Node -> Node -> Node) -> Node\n",
    "generate d node = node (generate (d-1) (Child 1)) (generate (d-1) (Child 1))\n",
    "generate 1 node = node (Leaf 1) (Leaf 1) \n",
    "\n",
    "\n",
    "bt = generate 5 (Root 1)\n",
    "bt"
   ]
  },
  {
   "cell_type": "code",
   "execution_count": 7,
   "metadata": {
    "collapsed": false
   },
   "outputs": [
    {
     "data": {
      "text/plain": [
       "Root 1 (Leaf (-7)) (Leaf 2)"
      ]
     },
     "metadata": {},
     "output_type": "display_data"
    }
   ],
   "source": [
    "-- ok. the recursion is an infinite loop. how??\n",
    "\n",
    "\n",
    "test :: Int -> (Node -> Node -> Node) -> Node\n",
    "test d node = node (Leaf (d-10)) (Leaf 2)\n",
    "\n",
    "x = test 3 (Root 1)\n",
    "x\n",
    "-- why is the -7 in brackets?\n",
    "-- is it giving me the function that gives -7, rather than -7...?"
   ]
  },
  {
   "cell_type": "code",
   "execution_count": 11,
   "metadata": {
    "collapsed": false
   },
   "outputs": [
    {
     "data": {
      "text/plain": [
       "Root {value = 3, leftchild = Child {value = 10, leftchild = Leaf {value = 1}, rightchild = Leaf {value = 2}}, rightchild = Child {value = 3, leftchild = Leaf {value = 1}, rightchild = Leaf {value = 2}}}"
      ]
     },
     "metadata": {},
     "output_type": "display_data"
    },
    {
     "data": {
      "text/plain": [
       "10"
      ]
     },
     "metadata": {},
     "output_type": "display_data"
    }
   ],
   "source": [
    "-- alternative definition with attributes\n",
    "data Node = Root  {value :: Int, leftchild :: Node, rightchild :: Node } | \n",
    "            Child {value :: Int, leftchild :: Node, rightchild :: Node } | \n",
    "            Leaf  {value :: Int} deriving Show\n",
    "binarytree = Root 3 (Child 10 (Leaf 1) (Leaf 2)) (Child 3 (Leaf 1) (Leaf 2))\n",
    "binarytree\n",
    "value $ leftchild binarytree"
   ]
  },
  {
   "cell_type": "code",
   "execution_count": 16,
   "metadata": {
    "collapsed": false
   },
   "outputs": [
    {
     "data": {
      "text/plain": [
       "15"
      ]
     },
     "metadata": {},
     "output_type": "display_data"
    }
   ],
   "source": [
    "nums = [1..15]\n",
    "length nums\n",
    "\n",
    "grow :: [Int] -> Node\n",
    "grow (x:xs) = Root x (grow xs) (grow xs)\n",
    "\n",
    "\n",
    "--halfList :: [Int] -> [Int]\n",
    "--halfList xs = \n",
    "\n"
   ]
  },
  {
   "cell_type": "code",
   "execution_count": 21,
   "metadata": {
    "collapsed": false
   },
   "outputs": [
    {
     "data": {
      "text/plain": [
       "15"
      ]
     },
     "metadata": {},
     "output_type": "display_data"
    }
   ],
   "source": [
    "-- from answers\n",
    "data Tree a = Leaf a | Node a (Tree a) (Tree a) deriving (Show, Eq)\n",
    "\n",
    "add :: Integral a => Tree a -> a\n",
    "add (Leaf l) = l\n",
    "add (Node i right left) = i + (add right) + (add left)\n",
    "\n",
    "\n",
    "bt = Node 4 (Node 3 (Leaf 2) (Leaf 1)) (Leaf 5)\n",
    "add bt"
   ]
  },
  {
   "cell_type": "markdown",
   "metadata": {},
   "source": [
    "### Password strength checker"
   ]
  },
  {
   "cell_type": "code",
   "execution_count": 3,
   "metadata": {
    "collapsed": false
   },
   "outputs": [
    {
     "data": {
      "text/html": [
       "<style>/* Styles used for the Hoogle display in the pager */\n",
       ".hoogle-doc {\n",
       "display: block;\n",
       "padding-bottom: 1.3em;\n",
       "padding-left: 0.4em;\n",
       "}\n",
       ".hoogle-code {\n",
       "display: block;\n",
       "font-family: monospace;\n",
       "white-space: pre;\n",
       "}\n",
       ".hoogle-text {\n",
       "display: block;\n",
       "}\n",
       ".hoogle-name {\n",
       "color: green;\n",
       "font-weight: bold;\n",
       "}\n",
       ".hoogle-head {\n",
       "font-weight: bold;\n",
       "}\n",
       ".hoogle-sub {\n",
       "display: block;\n",
       "margin-left: 0.4em;\n",
       "}\n",
       ".hoogle-package {\n",
       "font-weight: bold;\n",
       "font-style: italic;\n",
       "}\n",
       ".hoogle-module {\n",
       "font-weight: bold;\n",
       "}\n",
       ".hoogle-class {\n",
       "font-weight: bold;\n",
       "}\n",
       ".get-type {\n",
       "color: green;\n",
       "font-weight: bold;\n",
       "font-family: monospace;\n",
       "display: block;\n",
       "white-space: pre-wrap;\n",
       "}\n",
       ".show-type {\n",
       "color: green;\n",
       "font-weight: bold;\n",
       "font-family: monospace;\n",
       "margin-left: 1em;\n",
       "}\n",
       ".mono {\n",
       "font-family: monospace;\n",
       "display: block;\n",
       "}\n",
       ".err-msg {\n",
       "color: red;\n",
       "font-style: italic;\n",
       "font-family: monospace;\n",
       "white-space: pre;\n",
       "display: block;\n",
       "}\n",
       "#unshowable {\n",
       "color: red;\n",
       "font-weight: bold;\n",
       "}\n",
       ".err-msg.in.collapse {\n",
       "padding-top: 0.7em;\n",
       "}\n",
       ".highlight-code {\n",
       "white-space: pre;\n",
       "font-family: monospace;\n",
       "}\n",
       ".suggestion-warning { \n",
       "font-weight: bold;\n",
       "color: rgb(200, 130, 0);\n",
       "}\n",
       ".suggestion-error { \n",
       "font-weight: bold;\n",
       "color: red;\n",
       "}\n",
       ".suggestion-name {\n",
       "font-weight: bold;\n",
       "}\n",
       "</style><div class=\"suggestion-name\" style=\"clear:both;\">Evaluate</div><div class=\"suggestion-row\" style=\"float: left;\"><div class=\"suggestion-warning\">Found:</div><div class=\"highlight-code\" id=\"haskell\">True && True</div></div><div class=\"suggestion-row\" style=\"float: left;\"><div class=\"suggestion-warning\">Why Not:</div><div class=\"highlight-code\" id=\"haskell\">True</div></div>"
      ],
      "text/plain": [
       "Line 1: Evaluate\n",
       "Found:\n",
       "True && True\n",
       "Why not:\n",
       "True"
      ]
     },
     "metadata": {},
     "output_type": "display_data"
    },
    {
     "data": {
      "text/plain": [
       "1"
      ]
     },
     "metadata": {},
     "output_type": "display_data"
    }
   ],
   "source": [
    "pwstrength :: String -> Bool\n",
    "pwstrength s \n",
    "    | (existsTrue.filter) s "
   ]
  }
 ],
 "metadata": {
  "kernelspec": {
   "display_name": "Haskell",
   "language": "haskell",
   "name": "haskell"
  },
  "language_info": {
   "codemirror_mode": "ihaskell",
   "file_extension": ".hs",
   "name": "haskell",
   "version": "7.10.3"
  }
 },
 "nbformat": 4,
 "nbformat_minor": 0
}
