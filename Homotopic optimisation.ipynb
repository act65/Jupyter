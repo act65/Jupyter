{
 "cells": [
  {
   "cell_type": "markdown",
   "metadata": {},
   "source": [
    "Imagine we have a composition of functions, $f_1 \\circ f_2 \\circ f_3 \\circ f_4 \\circ f_5$ which is equivalent to $(1)\n",
    "f_5(f_4(f_3(f_2(f_1(x)))))$. Then we can write this as just some higher-function $(2) F(x) = f_5(f_4(f_3(f_2(f_1(x)))))$.\n",
    "\n",
    "* What is the difference between (1) and (2)? Is this similar to the difference between causal and lagrangian (optimal) mechanics?\n",
    "* So using homotopy type theory we can view data being transformed by (1) as a path through some type space. What if we know the end points (data,labels) but need a path? What if we want to find the shortest path?\n",
    "* How is this related to optimisation?\n",
    "\n",
    "Related ideas?\n",
    "* Calculus of variations\n",
    "* Functional programming"
   ]
  }
 ],
 "metadata": {
  "kernelspec": {
   "display_name": "Python 3",
   "language": "python",
   "name": "python3"
  },
  "language_info": {
   "codemirror_mode": {
    "name": "ipython",
    "version": 3
   },
   "file_extension": ".py",
   "mimetype": "text/x-python",
   "name": "python",
   "nbconvert_exporter": "python",
   "pygments_lexer": "ipython3",
   "version": "3.5.1"
  }
 },
 "nbformat": 4,
 "nbformat_minor": 0
}
