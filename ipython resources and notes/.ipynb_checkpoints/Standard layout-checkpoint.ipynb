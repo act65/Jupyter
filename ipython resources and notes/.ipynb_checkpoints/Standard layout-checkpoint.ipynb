{
 "cells": [
  {
   "cell_type": "markdown",
   "metadata": {},
   "source": [
    "could do this with css??"
   ]
  },
  {
   "cell_type": "code",
   "execution_count": 2,
   "metadata": {
    "collapsed": true
   },
   "outputs": [],
   "source": [
    "from IPython.core.display import HTML\n"
   ]
  },
  {
   "cell_type": "markdown",
   "metadata": {},
   "source": [
    "# Contents\n",
    "\n",
    "* [Definition](#Definition)\n",
    "* [Motivation](#Motivation)\n",
    "* [Background](#Background)\n",
    "* [Method](#Method)\n",
    "* [Implementation](#Implementation)\n",
    "* [Results](#Results)\n",
    "* [Questions](#Questions)\n",
    "* [References](#References)\n",
    "\n",
    "# Definition <a id='Definition'></a>\n",
    "\n",
    "\n",
    "# Motivation <a id='Motivation'></a>\n",
    "\n",
    "\n",
    "# Background <a id='Background'></a>\n",
    "\n",
    "\n",
    "# Method <a id='Method'></a>\n",
    "\n",
    "\n",
    "# Implementation <a id='Implementation'></a>\n",
    "\n",
    "\n",
    "# Results <a id='Results'></a>\n",
    "\n",
    " \n",
    "# Questions and thoughts<a id='Questions'></a>\n",
    "\n",
    "\n",
    "# Resources and references <a id='References'></a>\n",
    "\n"
   ]
  },
  {
   "cell_type": "code",
   "execution_count": 3,
   "metadata": {
    "collapsed": false
   },
   "outputs": [
    {
     "data": {
      "text/html": [
       "<style>\n",
       "body { background-color:blue; }\n",
       ".highlightme { background-color:#FFFF00; }\n",
       "p { background-color:#FFFFFF; }\n",
       "</style>\n"
      ],
      "text/plain": [
       "<IPython.core.display.HTML object>"
      ]
     },
     "execution_count": 3,
     "metadata": {},
     "output_type": "execute_result"
    }
   ],
   "source": [
    "def css_styling():\n",
    "    styles = open(\"../styles/custom.css\", \"r\").read()\n",
    "    return HTML(styles)\n",
    "css_styling()"
   ]
  }
 ],
 "metadata": {
  "kernelspec": {
   "display_name": "Python 3",
   "language": "python",
   "name": "python3"
  },
  "language_info": {
   "codemirror_mode": {
    "name": "ipython",
    "version": 3
   },
   "file_extension": ".py",
   "mimetype": "text/x-python",
   "name": "python",
   "nbconvert_exporter": "python",
   "pygments_lexer": "ipython3",
   "version": "3.4.4"
  }
 },
 "nbformat": 4,
 "nbformat_minor": 0
}
