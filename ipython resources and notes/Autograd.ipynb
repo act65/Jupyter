{
 "cells": [
  {
   "cell_type": "code",
   "execution_count": 32,
   "metadata": {
    "collapsed": true
   },
   "outputs": [],
   "source": [
    "import autograd.numpy as np\n",
    "from autograd import grad\n",
    "\n",
    "import matplotlib.pyplot as plt\n",
    "%matplotlib inline"
   ]
  },
  {
   "cell_type": "code",
   "execution_count": null,
   "metadata": {
    "collapsed": false
   },
   "outputs": [],
   "source": []
  },
  {
   "cell_type": "code",
   "execution_count": 46,
   "metadata": {
    "collapsed": false
   },
   "outputs": [
    {
     "data": {
      "text/plain": [
       "[<matplotlib.lines.Line2D at 0x1067e0e80>]"
      ]
     },
     "execution_count": 46,
     "metadata": {},
     "output_type": "execute_result"
    },
    {
     "data": {
      "image/png": "[encoded data removed]",
      "text/plain": [
       "<matplotlib.figure.Figure at 0x106488748>"
      ]
     },
     "metadata": {},
     "output_type": "display_data"
    }
   ],
   "source": [
    "def cost(x):\n",
    "    return x**2\n",
    "\n",
    "dC = grad(cost)\n",
    "\n",
    "n = 200\n",
    "y = 5.2\n",
    "z = np.zeros(n)\n",
    "for i in range(n):\n",
    "    y+= - 0.1 * dC(y)\n",
    "    z[i] = y\n",
    "\n",
    "plt.plot(z)"
   ]
  },
  {
   "cell_type": "code",
   "execution_count": 47,
   "metadata": {
    "collapsed": false
   },
   "outputs": [
    {
     "data": {
      "text/plain": [
       "[<matplotlib.lines.Line2D at 0x10688eac8>]"
      ]
     },
     "execution_count": 47,
     "metadata": {},
     "output_type": "execute_result"
    },
    {
     "data": {
      "image/png": "[encoded data removed]",
      "text/plain": [
       "<matplotlib.figure.Figure at 0x1060847b8>"
      ]
     },
     "metadata": {},
     "output_type": "display_data"
    }
   ],
   "source": [
    "def cost(x,y):\n",
    "    return (x-y)**2\n",
    "\n",
    "dC = grad(cost)\n",
    "\n",
    "n = 200\n",
    "x = 4.1\n",
    "y = 5.2\n",
    "z = np.zeros(n)\n",
    "for i in range(n):\n",
    "    y+= - 0.1 * dC(x,y)\n",
    "    x+= -0.1 * dC(x,y)\n",
    "    z[i] = y\n",
    "\n",
    "plt.plot(z)"
   ]
  },
  {
   "cell_type": "markdown",
   "metadata": {},
   "source": [
    "\n",
    "\n"
   ]
  },
  {
   "cell_type": "markdown",
   "metadata": {},
   "source": []
  },
  {
   "cell_type": "code",
   "execution_count": 16,
   "metadata": {
    "collapsed": false
   },
   "outputs": [
    {
     "name": "stdout",
     "output_type": "stream",
     "text": [
      "Initial loss: 1.1426815646\n",
      "Trained loss: 1.09914070388\n",
      "Trained loss: 1.05930364307\n",
      "Trained loss: 1.02266905062\n",
      "Trained loss: 0.988827009111\n",
      "Trained loss: 0.957438877939\n",
      "Trained loss: 0.928222171587\n",
      "Trained loss: 0.900939096357\n",
      "Trained loss: 0.875387776584\n",
      "Trained loss: 0.85139547495\n",
      "Trained loss: 0.828813304405\n",
      "Trained loss: 0.807512065817\n",
      "Trained loss: 0.787378942775\n",
      "Trained loss: 0.768314854715\n",
      "Trained loss: 0.750232319998\n",
      "Trained loss: 0.733053717243\n",
      "Trained loss: 0.716709860163\n",
      "Trained loss: 0.7011388211\n",
      "Trained loss: 0.686284953309\n",
      "Trained loss: 0.672098073188\n",
      "Trained loss: 0.658532772121\n",
      "Trained loss: 0.64554783405\n",
      "Trained loss: 0.633105739807\n",
      "Trained loss: 0.621172243104\n",
      "Trained loss: 0.609716006022\n",
      "Trained loss: 0.598708284188\n",
      "Trained loss: 0.588122653678\n",
      "Trained loss: 0.577934773099\n",
      "Trained loss: 0.568122175526\n",
      "Trained loss: 0.558664085846\n",
      "Trained loss: 0.549541259846\n",
      "Trained loss: 0.540735841981\n",
      "Trained loss: 0.532231239249\n",
      "Trained loss: 0.524012009023\n",
      "Trained loss: 0.516063758993\n",
      "Trained loss: 0.508373057689\n",
      "Trained loss: 0.500927354248\n",
      "Trained loss: 0.493714906297\n",
      "Trained loss: 0.486724714984\n",
      "Trained loss: 0.479946466321\n",
      "Trained loss: 0.473370478104\n",
      "Trained loss: 0.466987651801\n",
      "Trained loss: 0.460789428845\n",
      "Trained loss: 0.454767750864\n",
      "Trained loss: 0.448915023432\n",
      "Trained loss: 0.44322408297\n",
      "Trained loss: 0.437688166476\n",
      "Trained loss: 0.432300883803\n",
      "Trained loss: 0.427056192236\n",
      "Trained loss: 0.421948373133\n",
      "Trained loss: 0.416972010449\n",
      "Trained loss: 0.412121970955\n",
      "Trained loss: 0.407393385997\n",
      "Trained loss: 0.402781634664\n",
      "Trained loss: 0.398282328224\n",
      "Trained loss: 0.393891295727\n",
      "Trained loss: 0.38960457067\n",
      "Trained loss: 0.385418378635\n",
      "Trained loss: 0.381329125809\n",
      "Trained loss: 0.377333388324\n",
      "Trained loss: 0.373427902348\n",
      "Trained loss: 0.36960955485\n",
      "Trained loss: 0.365875375009\n",
      "Trained loss: 0.362222526199\n",
      "Trained loss: 0.35864829851\n",
      "Trained loss: 0.355150101761\n",
      "Trained loss: 0.351725458975\n",
      "Trained loss: 0.348372000273\n",
      "Trained loss: 0.345087457153\n",
      "Trained loss: 0.341869657144\n",
      "Trained loss: 0.33871651878\n",
      "Trained loss: 0.335626046894\n",
      "Trained loss: 0.3325963282\n",
      "Trained loss: 0.329625527139\n",
      "Trained loss: 0.326711881978\n",
      "Trained loss: 0.323853701138\n",
      "Trained loss: 0.321049359746\n",
      "Trained loss: 0.318297296373\n",
      "Trained loss: 0.31559600998\n",
      "Trained loss: 0.312944057019\n",
      "Trained loss: 0.310340048716\n",
      "Trained loss: 0.307782648494\n",
      "Trained loss: 0.305270569542\n",
      "Trained loss: 0.302802572527\n",
      "Trained loss: 0.300377463418\n",
      "Trained loss: 0.297994091436\n",
      "Trained loss: 0.295651347112\n",
      "Trained loss: 0.293348160449\n",
      "Trained loss: 0.291083499178\n",
      "Trained loss: 0.288856367113\n",
      "Trained loss: 0.286665802579\n",
      "Trained loss: 0.284510876934\n",
      "Trained loss: 0.282390693158\n",
      "Trained loss: 0.280304384514\n",
      "Trained loss: 0.278251113281\n",
      "Trained loss: 0.276230069545\n",
      "Trained loss: 0.274240470053\n",
      "Trained loss: 0.27228155712\n",
      "Trained loss: 0.270352597595\n",
      "Trained loss: 0.268452881868\n",
      "Trained loss: 0.266581722931\n"
     ]
    }
   ],
   "source": [
    "import autograd.numpy as np\n",
    "from autograd import grad\n",
    "\n",
    "def sigmoid(x):\n",
    "    return 0.5*(np.tanh(x) + 1)\n",
    "\n",
    "def logistic_predictions(weights, inputs):\n",
    "    # Outputs probability of a label being true according to logistic model.\n",
    "    return sigmoid(np.dot(inputs, weights))\n",
    "\n",
    "def training_loss(weights):\n",
    "    # Training loss is the negative log-likelihood of the training labels.\n",
    "    preds = logistic_predictions(weights, inputs)\n",
    "    label_probabilities = preds * targets + (1 - preds) * (1 - targets)\n",
    "    return -np.sum(np.log(label_probabilities))\n",
    "\n",
    "# Build a toy dataset.\n",
    "inputs = np.array([[0.52, 1.12,  0.77],\n",
    "                   [0.88, -1.08, 0.15],\n",
    "                   [0.52, 0.06, -1.30],\n",
    "                   [0.74, -2.49, 1.39]])\n",
    "targets = np.array([True, True, False, True])\n",
    "\n",
    "# Define a function that returns gradients of training loss using autograd.\n",
    "training_gradient_fun = grad(training_loss)\n",
    "\n",
    "# Optimize weights using gradient descent.\n",
    "#weights = np.array([0.0, 0.0, 0.0])\n",
    "weights = np.random.random(3)\n",
    "print(\"Initial loss:\", training_loss(weights))\n",
    "for i in range(100):\n",
    "    weights -= training_gradient_fun(weights) * 0.01\n",
    "    print(\"Trained loss:\", training_loss(weights))"
   ]
  }
 ],
 "metadata": {
  "kernelspec": {
   "display_name": "Python 3",
   "language": "python",
   "name": "python3"
  },
  "language_info": {
   "codemirror_mode": {
    "name": "ipython",
    "version": 3
   },
   "file_extension": ".py",
   "mimetype": "text/x-python",
   "name": "python",
   "nbconvert_exporter": "python",
   "pygments_lexer": "ipython3",
   "version": "3.4.4"
  }
 },
 "nbformat": 4,
 "nbformat_minor": 0
}
