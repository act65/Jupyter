{
 "cells": [
  {
   "cell_type": "code",
   "execution_count": 1,
   "metadata": {
    "collapsed": true
   },
   "outputs": [],
   "source": [
    "import tensorflow as tf\n",
    "\n",
    "from fuel.datasets import MNIST\n",
    "mnist = MNIST(('train',))\n",
    "state = mnist.open()"
   ]
  },
  {
   "cell_type": "code",
   "execution_count": 2,
   "metadata": {
    "collapsed": true
   },
   "outputs": [],
   "source": [
    "class FClayer():\n",
    "    def __init__(self,shape):\n",
    "        self.weights = tf.Variable(tf.truncated_normal(shape, stddev=0.1))\n",
    "        self.biases = tf.Variable(tf.zeros([10])+1)\n",
    "        \n",
    "    def forward(self,x):\n",
    "        return tf.nn.softmax(tf.matmul(x,self.weights) + self.biases)\n",
    "    \n"
   ]
  },
  {
   "cell_type": "code",
   "execution_count": 3,
   "metadata": {
    "collapsed": false
   },
   "outputs": [],
   "source": [
    "x = tf.placeholder(\"float\", [None, 784])\n",
    "\n",
    "layer1 = FClayer([784,10])\n",
    "y = layer1.forward(x)\n",
    "\n",
    "\n",
    "\n"
   ]
  },
  {
   "cell_type": "code",
   "execution_count": 4,
   "metadata": {
    "collapsed": false
   },
   "outputs": [],
   "source": [
    "y_ = tf.placeholder(\"float\", [None,10])\n",
    "cross_entropy = -tf.reduce_sum(y_*tf.log(y))\n",
    "train_step = tf.train.GradientDescentOptimizer(0.01).minimize(cross_entropy)\n",
    "\n",
    "init = tf.initialize_all_variables()\n",
    "sess = tf.Session()\n",
    "sess.run(init)\n",
    "\n",
    "correct_prediction = tf.equal(tf.argmax(y_,1), tf.argmax(y,1))\n",
    "accuracy = tf.reduce_mean(tf.cast(correct_prediction, \"float\"))"
   ]
  },
  {
   "cell_type": "code",
   "execution_count": 5,
   "metadata": {
    "collapsed": false
   },
   "outputs": [],
   "source": [
    "import numpy as np\n",
    "def onehot(labels_dense, num_classes=10):\n",
    "  \"\"\"Convert class labels from scalars to one-hot vectors.\"\"\"\n",
    "  num_labels = labels_dense.shape[0]\n",
    "  index_offset = np.arange(num_labels) * num_classes\n",
    "  labels_one_hot = np.zeros((num_labels, num_classes))\n",
    "  labels_one_hot.flat[index_offset + labels_dense.ravel()] = 1\n",
    "  return labels_one_hot"
   ]
  },
  {
   "cell_type": "code",
   "execution_count": 6,
   "metadata": {
    "collapsed": false
   },
   "outputs": [
    {
     "name": "stdout",
     "output_type": "stream",
     "text": [
      "step 1, training accuracy 0.5\n",
      "step 21, training accuracy 0.9\n",
      "step 41, training accuracy 0.92\n",
      "step 61, training accuracy 0.86\n",
      "step 81, training accuracy 0.9\n",
      "step 101, training accuracy 0.94\n",
      "step 121, training accuracy 0.92\n",
      "step 141, training accuracy 0.9\n",
      "step 161, training accuracy 0.9\n",
      "step 181, training accuracy 0.92\n",
      "step 201, training accuracy 0.94\n",
      "step 221, training accuracy 0.98\n",
      "step 241, training accuracy 0.92\n",
      "step 261, training accuracy 0.9\n",
      "step 281, training accuracy 0.9\n",
      "step 301, training accuracy 0.94\n",
      "step 321, training accuracy 0.94\n",
      "step 341, training accuracy 0.88\n",
      "step 361, training accuracy 0.94\n",
      "step 381, training accuracy 0.92\n",
      "step 401, training accuracy 0.94\n",
      "step 421, training accuracy 0.96\n",
      "step 441, training accuracy 1\n",
      "step 461, training accuracy 0.94\n",
      "step 481, training accuracy 0.98\n",
      "step 501, training accuracy 0.96\n",
      "step 521, training accuracy 0.94\n",
      "step 541, training accuracy 0.92\n",
      "step 561, training accuracy 0.94\n",
      "step 581, training accuracy 1\n",
      "step 601, training accuracy 0.98\n",
      "step 621, training accuracy 0.96\n",
      "step 641, training accuracy 0.94\n",
      "step 661, training accuracy 0.94\n",
      "step 681, training accuracy 0.98\n",
      "step 701, training accuracy 0.94\n",
      "step 721, training accuracy 0.98\n",
      "step 741, training accuracy 0.96\n",
      "step 761, training accuracy 0.9\n",
      "step 781, training accuracy 0.98\n",
      "step 801, training accuracy 0.96\n",
      "step 821, training accuracy 0.96\n",
      "step 841, training accuracy 0.96\n",
      "step 861, training accuracy 0.92\n",
      "step 881, training accuracy 0.9\n",
      "step 901, training accuracy 0.96\n",
      "step 921, training accuracy 0.92\n",
      "step 941, training accuracy 0.98\n",
      "step 961, training accuracy 0.98\n",
      "step 981, training accuracy 0.94\n",
      "step 1001, training accuracy 0.96\n",
      "step 1021, training accuracy 0.96\n",
      "step 1041, training accuracy 0.96\n",
      "step 1061, training accuracy 0.94\n",
      "step 1081, training accuracy 0.88\n",
      "step 1101, training accuracy 0.92\n",
      "step 1121, training accuracy 0.96\n",
      "step 1141, training accuracy 0.94\n",
      "step 1161, training accuracy 0.9\n",
      "step 1181, training accuracy 0.86\n",
      "Accuracy = 0.9111%\n"
     ]
    }
   ],
   "source": [
    "n=50\n",
    "#A method to give us some random batch samples\n",
    "from fuel.schemes import ShuffledScheme \n",
    "scheme = ShuffledScheme(examples=int(mnist.num_examples), batch_size=n)\n",
    "\n",
    "#For each batch\n",
    "for i,request in enumerate(scheme.get_request_iterator()):\n",
    "    im,labels = mnist.get_data(state=state, request=request)\n",
    "    sess.run(train_step, feed_dict={x: im.reshape(n,28*28)/255, y_: onehot(labels)})\n",
    "    if i%(20) == 1:\n",
    "        \n",
    "        acc,CE,Y = sess.run([accuracy,cross_entropy,y], feed_dict= {x: im.reshape(n,28*28)/255, y_:  onehot(labels)})\n",
    "        print(\"step %d, training accuracy %g\"%(i, acc) )\n",
    "\n",
    "mnist = MNIST(('test',))\n",
    "state = mnist.open()\n",
    "#all of the test data\n",
    "req = [n for n in range(mnist.num_examples)] \n",
    "im,labels = mnist.get_data(state=state, request=req)\n",
    "\n",
    "acc_val = sess.run(accuracy, feed_dict={x: im.reshape(mnist.num_examples,28*28)/255, y_:  onehot(labels)})\n",
    "print('Accuracy = '+str(acc_val) + '%')"
   ]
  },
  {
   "cell_type": "code",
   "execution_count": null,
   "metadata": {
    "collapsed": false
   },
   "outputs": [],
   "source": []
  }
 ],
 "metadata": {
  "kernelspec": {
   "display_name": "Python 3",
   "language": "python",
   "name": "python3"
  },
  "language_info": {
   "codemirror_mode": {
    "name": "ipython",
    "version": 3
   },
   "file_extension": ".py",
   "mimetype": "text/x-python",
   "name": "python",
   "nbconvert_exporter": "python",
   "pygments_lexer": "ipython3",
   "version": "3.5.1"
  }
 },
 "nbformat": 4,
 "nbformat_minor": 0
}
