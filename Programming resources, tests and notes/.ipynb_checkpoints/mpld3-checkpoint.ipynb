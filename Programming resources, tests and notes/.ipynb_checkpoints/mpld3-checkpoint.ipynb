{
 "cells": [
  {
   "cell_type": "code",
   "execution_count": null,
   "metadata": {
    "collapsed": false
   },
   "outputs": [
    {
     "name": "stdout",
     "output_type": "stream",
     "text": [
      "\n",
      "Note: if you're in the IPython notebook, mpld3.show() is not the best command\n",
      "      to use. Consider using mpld3.display(), or mpld3.enable_notebook().\n",
      "      See more information at http://mpld3.github.io/quickstart.html.\n",
      "\n",
      "You must interrupt the kernel to end this command\n",
      "\n",
      "Serving to http://127.0.0.1:8889/    [Ctrl-C to exit]\n"
     ]
    },
    {
     "name": "stderr",
     "output_type": "stream",
     "text": [
      "127.0.0.1 - - [16/May/2016 15:46:39] \"GET / HTTP/1.1\" 200 -\n",
      "Traceback (most recent call last):\n",
      "  File \"/Users/act65/anaconda/lib/python3.5/socketserver.py\", line 318, in _handle_request_noblock\n",
      "    self.process_request(request, client_address)\n",
      "  File \"/Users/act65/anaconda/lib/python3.5/socketserver.py\", line 344, in process_request\n",
      "    self.finish_request(request, client_address)\n",
      "  File \"/Users/act65/anaconda/lib/python3.5/socketserver.py\", line 357, in finish_request\n",
      "    self.RequestHandlerClass(request, client_address, self)\n",
      "  File \"/Users/act65/anaconda/lib/python3.5/socketserver.py\", line 684, in __init__\n",
      "    self.handle()\n",
      "  File \"/Users/act65/anaconda/lib/python3.5/http/server.py\", line 415, in handle\n",
      "    self.handle_one_request()\n",
      "  File \"/Users/act65/anaconda/lib/python3.5/http/server.py\", line 403, in handle_one_request\n",
      "    method()\n",
      "  File \"/Users/act65/anaconda/lib/python3.5/site-packages/mpld3/_server.py\", line 38, in do_GET\n",
      "    self.wfile.write(\"<html><head>\"\n",
      "  File \"/Users/act65/anaconda/lib/python3.5/socket.py\", line 593, in write\n",
      "    return self._sock.send(b)\n",
      "TypeError: a bytes-like object is required, not 'str'\n"
     ]
    },
    {
     "name": "stdout",
     "output_type": "stream",
     "text": [
      "----------------------------------------\n",
      "Exception happened during processing of request from ('127.0.0.1', 51183)\n",
      "----------------------------------------\n"
     ]
    },
    {
     "name": "stderr",
     "output_type": "stream",
     "text": [
      "127.0.0.1 - - [16/May/2016 15:46:44] \"GET / HTTP/1.1\" 200 -\n",
      "Traceback (most recent call last):\n",
      "  File \"/Users/act65/anaconda/lib/python3.5/socketserver.py\", line 318, in _handle_request_noblock\n",
      "    self.process_request(request, client_address)\n",
      "  File \"/Users/act65/anaconda/lib/python3.5/socketserver.py\", line 344, in process_request\n",
      "    self.finish_request(request, client_address)\n",
      "  File \"/Users/act65/anaconda/lib/python3.5/socketserver.py\", line 357, in finish_request\n",
      "    self.RequestHandlerClass(request, client_address, self)\n",
      "  File \"/Users/act65/anaconda/lib/python3.5/socketserver.py\", line 684, in __init__\n",
      "    self.handle()\n",
      "  File \"/Users/act65/anaconda/lib/python3.5/http/server.py\", line 415, in handle\n",
      "    self.handle_one_request()\n",
      "  File \"/Users/act65/anaconda/lib/python3.5/http/server.py\", line 403, in handle_one_request\n",
      "    method()\n",
      "  File \"/Users/act65/anaconda/lib/python3.5/site-packages/mpld3/_server.py\", line 38, in do_GET\n",
      "    self.wfile.write(\"<html><head>\"\n",
      "  File \"/Users/act65/anaconda/lib/python3.5/socket.py\", line 593, in write\n",
      "    return self._sock.send(b)\n",
      "TypeError: a bytes-like object is required, not 'str'\n"
     ]
    },
    {
     "name": "stdout",
     "output_type": "stream",
     "text": [
      "----------------------------------------\n",
      "Exception happened during processing of request from ('127.0.0.1', 51184)\n",
      "----------------------------------------\n"
     ]
    }
   ],
   "source": [
    "import matplotlib.pyplot as plt\n",
    "import numpy as np\n",
    "import mpld3\n",
    "\n",
    "fig, ax = plt.subplots(subplot_kw=dict(axisbg='#EEEEEE'))\n",
    "N = 100\n",
    "\n",
    "scatter = ax.scatter(np.random.normal(size=N),\n",
    "                     np.random.normal(size=N),\n",
    "                     c=np.random.random(size=N),\n",
    "                     s=1000 * np.random.random(size=N),\n",
    "                     alpha=0.3,\n",
    "                     cmap=plt.cm.jet)\n",
    "ax.grid(color='white', linestyle='solid')\n",
    "\n",
    "ax.set_title(\"Scatter Plot (with tooltips!)\", size=20)\n",
    "\n",
    "labels = ['point {0}'.format(i + 1) for i in range(N)]\n",
    "tooltip = mpld3.plugins.PointLabelTooltip(scatter, labels=labels)\n",
    "mpld3.plugins.connect(fig, tooltip)\n",
    "\n",
    "mpld3.show()"
   ]
  }
 ],
 "metadata": {
  "kernelspec": {
   "display_name": "Python 3",
   "language": "python",
   "name": "python3"
  },
  "language_info": {
   "codemirror_mode": {
    "name": "ipython",
    "version": 3
   },
   "file_extension": ".py",
   "mimetype": "text/x-python",
   "name": "python",
   "nbconvert_exporter": "python",
   "pygments_lexer": "ipython3",
   "version": "3.5.1"
  }
 },
 "nbformat": 4,
 "nbformat_minor": 0
}
