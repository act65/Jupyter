{
 "cells": [
  {
   "cell_type": "code",
   "execution_count": 9,
   "metadata": {
    "collapsed": false
   },
   "outputs": [
    {
     "name": "stdout",
     "output_type": "stream",
     "text": [
      "Something is happening before some_function() is called.\n",
      "Wheee!\n",
      "Something is happening after some_function() is called.\n"
     ]
    }
   ],
   "source": [
    "def my_decorator(some_function):\n",
    "\n",
    "    def wrapper():\n",
    "        print(\"Something is happening before some_function() is called.\")\n",
    "        some_function()\n",
    "        print(\"Something is happening after some_function() is called.\")\n",
    "    return wrapper\n",
    "\n",
    "def just_some_function():\n",
    "    print(\"Wheee!\")\n",
    "\n",
    "\n",
    "just_some_function = my_decorator(just_some_function)\n",
    "just_some_function()"
   ]
  },
  {
   "cell_type": "code",
   "execution_count": 11,
   "metadata": {
    "collapsed": false
   },
   "outputs": [
    {
     "name": "stdout",
     "output_type": "stream",
     "text": [
      "Yes!\n",
      "Wheee!\n",
      "Something is happening after some_function() is called.\n"
     ]
    }
   ],
   "source": [
    "def my_decorator(some_function):\n",
    "\n",
    "    def wrapper():\n",
    "        num = 10\n",
    "        if num == 10:\n",
    "            print(\"Yes!\")\n",
    "        else:\n",
    "            print(\"No!\")\n",
    "\n",
    "        some_function()\n",
    "        print(\"Something is happening after some_function() is called.\")\n",
    "    return wrapper\n",
    "\n",
    "def just_some_function():\n",
    "    print(\"Wheee!\")\n",
    "\n",
    "just_some_function = my_decorator(just_some_function)\n",
    "just_some_function()"
   ]
  },
  {
   "cell_type": "code",
   "execution_count": 20,
   "metadata": {
    "collapsed": false
   },
   "outputs": [
    {
     "name": "stdout",
     "output_type": "stream",
     "text": [
      "Yes!\n",
      "Wheee!\n",
      "Something is happening after some_function() is called.\n"
     ]
    }
   ],
   "source": [
    "def my_decorator(some_function):\n",
    "\n",
    "    def wrapper():\n",
    "        num = 10\n",
    "        if num == 10:\n",
    "            print(\"Yes!\")\n",
    "        else:\n",
    "            print(\"No!\")\n",
    "        some_function()\n",
    "        print(\"Something is happening after some_function() is called.\")\n",
    "    return wrapper\n",
    "\n",
    "@my_decorator\n",
    "def just_some_function():\n",
    "    print(\"Wheee!\")\n",
    "\n",
    "just_some_function()"
   ]
  },
  {
   "cell_type": "code",
   "execution_count": 23,
   "metadata": {
    "collapsed": false
   },
   "outputs": [
    {
     "name": "stdout",
     "output_type": "stream",
     "text": [
      "18\n"
     ]
    }
   ],
   "source": [
    "def summer(fn):\n",
    "    def wrapper(x):\n",
    "        return sum(fn(x))\n",
    "    return wrapper\n",
    "\n",
    "@summer\n",
    "def adder(x):\n",
    "    return 2*x\n",
    "\n",
    "y = [2,3,4]\n",
    "print(adder(y))"
   ]
  }
 ],
 "metadata": {
  "kernelspec": {
   "display_name": "Python 3",
   "language": "python",
   "name": "python3"
  },
  "language_info": {
   "codemirror_mode": {
    "name": "ipython",
    "version": 3
   },
   "file_extension": ".py",
   "mimetype": "text/x-python",
   "name": "python",
   "nbconvert_exporter": "python",
   "pygments_lexer": "ipython3",
   "version": "3.5.1"
  }
 },
 "nbformat": 4,
 "nbformat_minor": 0
}
