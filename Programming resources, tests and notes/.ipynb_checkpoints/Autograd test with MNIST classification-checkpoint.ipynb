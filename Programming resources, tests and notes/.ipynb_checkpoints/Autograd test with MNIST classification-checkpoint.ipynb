{
 "cells": [
  {
   "cell_type": "code",
   "execution_count": 2,
   "metadata": {
    "collapsed": true
   },
   "outputs": [],
   "source": [
    "#MNIST dataset from fuel\n",
    "from fuel.datasets import MNIST\n",
    "\n",
    "def get_data(batch,n):   \n",
    "    mnist = MNIST((batch,))\n",
    "    state = mnist.open()\n",
    "    req = [j for j in range(n)]\n",
    "    data, labels = mnist.get_data(state=state, request=req)\n",
    "    return data.reshape(n,28*28)/255, labels\n",
    "\n",
    "one_hot = lambda x, K : np.array(x[:,None] == np.arange(K)[None, :], dtype=int)"
   ]
  },
  {
   "cell_type": "code",
   "execution_count": 3,
   "metadata": {
    "collapsed": false
   },
   "outputs": [
    {
     "name": "stdout",
     "output_type": "stream",
     "text": [
      "Trained loss: 2.49071803959\n",
      "Trained loss: 0.00103453447904\n",
      "Trained loss: 0.0550067456034\n",
      "Trained loss: 0.224146930329\n",
      "Trained loss: 0.0129717244292\n",
      "Trained loss: 0.00494373733538\n",
      "Trained loss: 0.102811160494\n",
      "Trained loss: 0.00385420446395\n",
      "Trained loss: 0.0623614876692\n",
      "Trained loss: 0.305198688378\n"
     ]
    }
   ],
   "source": [
    "import autograd.numpy as np\n",
    "from autograd import grad\n",
    "\n",
    "def softmax(x):\n",
    "    return np.exp(x)/np.sum(np.exp(x))\n",
    "\n",
    "def predictions(weights, inputs):\n",
    "    # Outputs probability of a label being true\n",
    "    return softmax(np.dot(inputs, weights[0:-1,:]) + weights[-1,:])\n",
    "\n",
    "def loss(weights):\n",
    "    # Training loss is the cross entropy of the training labels.\n",
    "    preds = predictions(weights, inputs)\n",
    "    label_probabilities =  targets * np.log(preds)\n",
    "    return -np.sum(label_probabilities)\n",
    "\n",
    "# This is where the magic happens.\n",
    "# Define a function that returns gradients of training loss using autograd.\n",
    "dLdw = grad(loss)\n",
    "\n",
    "# Train the model\n",
    "weights = np.random.random((785,10))\n",
    "n = 60000\n",
    "inputs_all,labels_all = get_data('train',n)\n",
    "for i in range(n):\n",
    "    inputs = -inputs_all[i]\n",
    "    targets = one_hot(labels_all[i],10).reshape(10)\n",
    "    x = dLdw(weights)\n",
    "    weights -= x * 0.01\n",
    "    if i%(n/10) == 0:\n",
    "        print(\"Trained loss:\", loss(weights))"
   ]
  },
  {
   "cell_type": "code",
   "execution_count": 26,
   "metadata": {
    "collapsed": false
   },
   "outputs": [
    {
     "name": "stdout",
     "output_type": "stream",
     "text": [
      "Accuracy = [ 0.9001]\n"
     ]
    }
   ],
   "source": [
    "# Test the model\n",
    "m = 10000\n",
    "inputs_test_all,labels_test_all = get_data('test',m)\n",
    "counter = 0\n",
    "for i in range(m):\n",
    "    counter += np.equal(np.argmax(predictions(weights, -inputs_test_all[i])),labels_test_all[i])\n",
    "print('Accuracy =',counter/m)"
   ]
  }
 ],
 "metadata": {
  "kernelspec": {
   "display_name": "Python 3",
   "language": "python",
   "name": "python3"
  },
  "language_info": {
   "codemirror_mode": {
    "name": "ipython",
    "version": 3
   },
   "file_extension": ".py",
   "mimetype": "text/x-python",
   "name": "python",
   "nbconvert_exporter": "python",
   "pygments_lexer": "ipython3",
   "version": "3.5.1"
  }
 },
 "nbformat": 4,
 "nbformat_minor": 0
}
