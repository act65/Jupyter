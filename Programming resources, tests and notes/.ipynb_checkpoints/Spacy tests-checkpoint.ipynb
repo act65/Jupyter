{
 "cells": [
  {
   "cell_type": "markdown",
   "metadata": {},
   "source": [
    "https://spacy.io/"
   ]
  },
  {
   "cell_type": "code",
   "execution_count": 1,
   "metadata": {
    "collapsed": true
   },
   "outputs": [],
   "source": [
    "import spacy\n",
    "nlp = spacy.load('en')"
   ]
  },
  {
   "cell_type": "code",
   "execution_count": 3,
   "metadata": {
    "collapsed": false
   },
   "outputs": [
    {
     "name": "stdout",
     "output_type": "stream",
     "text": [
      "Help on English in module spacy.en object:\n",
      "\n",
      "class English(spacy.language.Language)\n",
      " |  Method resolution order:\n",
      " |      English\n",
      " |      spacy.language.Language\n",
      " |      builtins.object\n",
      " |  \n",
      " |  Static methods defined here:\n",
      " |  \n",
      " |  is_stop(string)\n",
      " |  \n",
      " |  ----------------------------------------------------------------------\n",
      " |  Data and other attributes defined here:\n",
      " |  \n",
      " |  lang = 'en'\n",
      " |  \n",
      " |  ----------------------------------------------------------------------\n",
      " |  Methods inherited from spacy.language.Language:\n",
      " |  \n",
      " |  __call__(self, text, tag=True, parse=True, entity=True)\n",
      " |      Apply the pipeline to some text.  The text can span multiple sentences,\n",
      " |      and can contain arbtrary whitespace.  Alignment into the original string\n",
      " |      is preserved.\n",
      " |      \n",
      " |      Args:\n",
      " |          text (unicode): The text to be processed.\n",
      " |      \n",
      " |      Returns:\n",
      " |          tokens (spacy.tokens.Doc):\n",
      " |      \n",
      " |      >>> from spacy.en import English\n",
      " |      >>> nlp = English()\n",
      " |      >>> tokens = nlp('An example sentence. Another example sentence.')\n",
      " |      >>> tokens[0].orth_, tokens[0].head.tag_\n",
      " |      ('An', 'NN')\n",
      " |  \n",
      " |  __init__(self, data_dir=None, vocab=None, tokenizer=None, tagger=None, parser=None, entity=None, matcher=None, serializer=None, load_vectors=True, package=None, vectors_package=None)\n",
      " |      a model can be specified:\n",
      " |      \n",
      " |      1) by calling a Language subclass\n",
      " |        - spacy.en.English()\n",
      " |      \n",
      " |      2) by calling a Language subclass with data_dir\n",
      " |        - spacy.en.English('my/model/root')\n",
      " |        - spacy.en.English(data_dir='my/model/root')\n",
      " |      \n",
      " |      3) by package name\n",
      " |        - spacy.load('en_default')\n",
      " |        - spacy.load('en_default==1.0.0')\n",
      " |      \n",
      " |      4) by package name with a relocated package base\n",
      " |        - spacy.load('en_default', via='/my/package/root')\n",
      " |        - spacy.load('en_default==1.0.0', via='/my/package/root')\n",
      " |  \n",
      " |  __reduce__(self)\n",
      " |      helper for pickle\n",
      " |  \n",
      " |  end_training(self, data_dir=None)\n",
      " |  \n",
      " |  pipe(self, texts, tag=True, parse=True, entity=True, n_threads=2, batch_size=1000)\n",
      " |  \n",
      " |  ----------------------------------------------------------------------\n",
      " |  Class methods inherited from spacy.language.Language:\n",
      " |  \n",
      " |  default_dep_labels() from builtins.type\n",
      " |  \n",
      " |  default_entity(package, vocab) from builtins.type\n",
      " |  \n",
      " |  default_lex_attrs(*args, **kwargs) from builtins.type\n",
      " |  \n",
      " |  default_ner_labels() from builtins.type\n",
      " |  \n",
      " |  default_parser(package, vocab) from builtins.type\n",
      " |  \n",
      " |  default_vocab(package, get_lex_attr=None, vectors_package=None) from builtins.type\n",
      " |  \n",
      " |  ----------------------------------------------------------------------\n",
      " |  Static methods inherited from spacy.language.Language:\n",
      " |  \n",
      " |  cluster(string)\n",
      " |  \n",
      " |  is_alpha(string)\n",
      " |  \n",
      " |  is_ascii(string)\n",
      " |  \n",
      " |  is_bracket(string)\n",
      " |  \n",
      " |  is_digit(string)\n",
      " |  \n",
      " |  is_left_punct(string)\n",
      " |  \n",
      " |  is_lower(string)\n",
      " |  \n",
      " |  is_punct(string)\n",
      " |  \n",
      " |  is_quote(string)\n",
      " |  \n",
      " |  is_right_punct(string)\n",
      " |  \n",
      " |  is_space(string)\n",
      " |  \n",
      " |  is_title(string)\n",
      " |  \n",
      " |  is_upper(string)\n",
      " |  \n",
      " |  like_email(string)\n",
      " |  \n",
      " |  like_num(string)\n",
      " |  \n",
      " |  like_url(string)\n",
      " |  \n",
      " |  lower(string)\n",
      " |  \n",
      " |  norm(string)\n",
      " |  \n",
      " |  prefix(string)\n",
      " |  \n",
      " |  shape(string)\n",
      " |  \n",
      " |  suffix(string)\n",
      " |  \n",
      " |  ----------------------------------------------------------------------\n",
      " |  Data descriptors inherited from spacy.language.Language:\n",
      " |  \n",
      " |  __dict__\n",
      " |      dictionary for instance variables (if defined)\n",
      " |  \n",
      " |  __weakref__\n",
      " |      list of weak references to the object (if defined)\n",
      "\n"
     ]
    }
   ],
   "source": [
    "help(nlp)"
   ]
  },
  {
   "cell_type": "code",
   "execution_count": 7,
   "metadata": {
    "collapsed": false
   },
   "outputs": [],
   "source": [
    "from spacy.en import English\n",
    "nlp = English()\n",
    "tokens = nlp('This is an example sentence. Does it work?')"
   ]
  },
  {
   "cell_type": "code",
   "execution_count": 11,
   "metadata": {
    "collapsed": false
   },
   "outputs": [
    {
     "data": {
      "text/plain": [
       "'This'"
      ]
     },
     "execution_count": 11,
     "metadata": {},
     "output_type": "execute_result"
    }
   ],
   "source": [
    "tokens[0].orth_"
   ]
  }
 ],
 "metadata": {
  "kernelspec": {
   "display_name": "Python 3",
   "language": "python",
   "name": "python3"
  },
  "language_info": {
   "codemirror_mode": {
    "name": "ipython",
    "version": 3
   },
   "file_extension": ".py",
   "mimetype": "text/x-python",
   "name": "python",
   "nbconvert_exporter": "python",
   "pygments_lexer": "ipython3",
   "version": "3.5.1"
  }
 },
 "nbformat": 4,
 "nbformat_minor": 0
}
