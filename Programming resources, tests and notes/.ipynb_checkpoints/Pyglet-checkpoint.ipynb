{
 "cells": [
  {
   "cell_type": "code",
   "execution_count": 1,
   "metadata": {
    "collapsed": false
   },
   "outputs": [
    {
     "name": "stdout",
     "output_type": "stream",
     "text": [
      "Animation.ipynb\r\n",
      "Autograd test with MNIST classification.ipynb\r\n",
      "Autograd.ipynb\r\n",
      "Autograd2.ipynb\r\n",
      "Command line !!!.ipynb\r\n",
      "Debugging.ipynb\r\n",
      "Fuel tests.ipynb\r\n",
      "Gym play.ipynb\r\n",
      "HTML and CSS - custom style.ipynb\r\n",
      "Logging.ipynb\r\n",
      "Logging.py\r\n",
      "LorenzDifferentialEquations.ipynb\r\n",
      "More widgets.ipynb\r\n",
      "Plotly tests.ipynb\r\n",
      "Plotly.ipynb\r\n",
      "Powerset.ipynb\r\n",
      "Pyglet.ipynb\r\n",
      "Spacy tests.ipynb\r\n",
      "Standard layout.ipynb\r\n",
      "TESTPDF convert.ipynb\r\n",
      "TESTPDF convert.pdf\r\n",
      "TF 2nd order grad.ipynb\r\n",
      "TF restore model.ipynb\r\n",
      "TF save model.ipynb\r\n",
      "Testing widgets - with networkx.ipynb\r\n",
      "\u001b[34m__pycache__\u001b[m\u001b[m/\r\n",
      "a.py\r\n",
      "func1.py\r\n",
      "internal links.ipynb\r\n",
      "\u001b[34mlogs\u001b[m\u001b[m/\r\n",
      "lolz.py\r\n",
      "saving functions for later.ipynb\r\n",
      "saving functions for later.py\r\n",
      "styles - matplotlib and css.ipynb\r\n",
      "test.png\r\n",
      "testing matplotlib fig size.ipynb\r\n",
      "tf board, scope, graph.ipynb\r\n",
      "timeit - %%%.ipynb\r\n",
      "\u001b[34mtmp\u001b[m\u001b[m/\r\n"
     ]
    }
   ],
   "source": [
    "ls"
   ]
  },
  {
   "cell_type": "code",
   "execution_count": null,
   "metadata": {
    "collapsed": false
   },
   "outputs": [],
   "source": [
    "import pyglet\n",
    "window = pyglet.window.Window()\n",
    "pyglet.app.run()"
   ]
  }
 ],
 "metadata": {
  "kernelspec": {
   "display_name": "Python 3",
   "language": "python",
   "name": "python3"
  },
  "language_info": {
   "codemirror_mode": {
    "name": "ipython",
    "version": 3
   },
   "file_extension": ".py",
   "mimetype": "text/x-python",
   "name": "python",
   "nbconvert_exporter": "python",
   "pygments_lexer": "ipython3",
   "version": "3.5.1"
  }
 },
 "nbformat": 4,
 "nbformat_minor": 0
}
