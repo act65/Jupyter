{
 "cells": [
  {
   "cell_type": "code",
   "execution_count": 56,
   "metadata": {
    "collapsed": true
   },
   "outputs": [],
   "source": [
    "import autograd.numpy as np\n",
    "from autograd import grad\n",
    "\n",
    "import matplotlib.pyplot as plt\n",
    "%matplotlib inline"
   ]
  },
  {
   "cell_type": "markdown",
   "metadata": {
    "collapsed": false
   },
   "source": [
    "A play with autograd to see if i can get it working on my other projects."
   ]
  },
  {
   "cell_type": "code",
   "execution_count": 17,
   "metadata": {
    "collapsed": false
   },
   "outputs": [
    {
     "data": {
      "text/plain": [
       "[<matplotlib.lines.Line2D at 0x108a9c828>]"
      ]
     },
     "execution_count": 17,
     "metadata": {},
     "output_type": "execute_result"
    },
    {
     "data": {
      "image/png": "[encoded data removed]",
      "text/plain": [
       "<matplotlib.figure.Figure at 0x109397c50>"
      ]
     },
     "metadata": {},
     "output_type": "display_data"
    }
   ],
   "source": [
    "## A simple convex function\n",
    "def simple_cost(x):\n",
    "    return x**2\n",
    "\n",
    "# Its gradient\n",
    "dC = grad(simple_cost)\n",
    "\n",
    "n = 200\n",
    "y = 5.2\n",
    "z = np.zeros(n)\n",
    "# A simple gradient descent optimiser to find the lowest point\n",
    "for i in range(n):\n",
    "    #Grad only works element wise\n",
    "    y+= - 0.1 * dC(y)\n",
    "    z[i] = y\n",
    "\n",
    "plt.plot(z)"
   ]
  },
  {
   "cell_type": "code",
   "execution_count": 15,
   "metadata": {
    "collapsed": false
   },
   "outputs": [
    {
     "data": {
      "text/plain": [
       "[<matplotlib.lines.Line2D at 0x10928e048>]"
      ]
     },
     "execution_count": 15,
     "metadata": {},
     "output_type": "execute_result"
    },
    {
     "data": {
      "image/png": "[encoded data removed]",
      "text/plain": [
       "<matplotlib.figure.Figure at 0x109171048>"
      ]
     },
     "metadata": {},
     "output_type": "display_data"
    }
   ],
   "source": [
    "#Non convex\n",
    "def multi_cost(x,y):\n",
    "    return (x-y)**2\n",
    "\n",
    "dC = grad(multi_cost)\n",
    "\n",
    "n = 200\n",
    "x = 4.1\n",
    "y = 5.2\n",
    "z = np.zeros(n)\n",
    "for i in range(n):\n",
    "    y+= - 0.1 * dC(x,y)\n",
    "    x+= -0.1 * dC(x,y)\n",
    "    z[i] = y\n",
    "\n",
    "plt.plot(z)"
   ]
  },
  {
   "cell_type": "code",
   "execution_count": 21,
   "metadata": {
    "collapsed": false
   },
   "outputs": [
    {
     "data": {
      "text/plain": [
       "[<matplotlib.lines.Line2D at 0x109748f60>,\n",
       " <matplotlib.lines.Line2D at 0x10974f9b0>]"
      ]
     },
     "execution_count": 21,
     "metadata": {},
     "output_type": "execute_result"
    },
    {
     "data": {
      "image/png": "[encoded data removed]",
      "text/plain": [
       "<matplotlib.figure.Figure at 0x109673358>"
      ]
     },
     "metadata": {},
     "output_type": "display_data"
    }
   ],
   "source": [
    "#Lets make the element wise grad able to handle vectors\n",
    "def elementwise_grad(fun):  # A wrapper for broadcasting\n",
    "     return grad(lambda x: np.sum(fun(x))) \n",
    "    \n",
    "x = np.linspace(0,10,100)\n",
    "dC = elementwise_grad(simple_cost)\n",
    "plt.plot(x,simple_cost(x)/100,x,dC(x)/20)"
   ]
  },
  {
   "cell_type": "markdown",
   "metadata": {},
   "source": [
    "\n",
    "\n"
   ]
  },
  {
   "cell_type": "code",
   "execution_count": 30,
   "metadata": {
    "collapsed": false
   },
   "outputs": [],
   "source": []
  },
  {
   "cell_type": "code",
   "execution_count": null,
   "metadata": {
    "collapsed": false
   },
   "outputs": [],
   "source": []
  },
  {
   "cell_type": "code",
   "execution_count": null,
   "metadata": {
    "collapsed": false
   },
   "outputs": [],
   "source": []
  },
  {
   "cell_type": "markdown",
   "metadata": {},
   "source": [
    "ahhh i know why they put things in functions like that. \n",
    "it lets python forget the data once it has finished in that function???"
   ]
  },
  {
   "cell_type": "code",
   "execution_count": null,
   "metadata": {
    "collapsed": false
   },
   "outputs": [],
   "source": []
  },
  {
   "cell_type": "code",
   "execution_count": null,
   "metadata": {
    "collapsed": false
   },
   "outputs": [],
   "source": []
  },
  {
   "cell_type": "code",
   "execution_count": 43,
   "metadata": {
    "collapsed": false
   },
   "outputs": [],
   "source": [
    "### A really complex example from the tutorials\n",
    "\n",
    "\"\"\"Convolutional neural net on MNIST, modeled on 'LeNet-5',\n",
    "http://yann.lecun.com/exdb/publis/pdf/lecun-98.pdf\"\"\"\n",
    "import autograd.numpy as np\n",
    "import autograd.numpy.random as npr\n",
    "import autograd.scipy.signal\n",
    "from autograd import grad\n",
    "from autograd.util import quick_grad_check\n",
    "\n",
    "convolve = autograd.scipy.signal.convolve\n",
    "\n",
    "class WeightsParser(object):\n",
    "    \"\"\"A helper class to index into a parameter vector.\"\"\"\n",
    "    def __init__(self):\n",
    "        self.idxs_and_shapes = {}\n",
    "        self.N = 0\n",
    "\n",
    "    def add_weights(self, name, shape):\n",
    "        start = self.N\n",
    "        self.N += np.prod(shape)\n",
    "        self.idxs_and_shapes[name] = (slice(start, self.N), shape)\n",
    "\n",
    "    def get(self, vect, name):\n",
    "        idxs, shape = self.idxs_and_shapes[name]\n",
    "        return np.reshape(vect[idxs], shape)\n",
    "\n",
    "def make_batches(N_total, N_batch):\n",
    "    start = 0\n",
    "    batches = []\n",
    "    while start < N_total:\n",
    "        batches.append(slice(start, start + N_batch))\n",
    "        start += N_batch\n",
    "    return batches\n",
    "\n",
    "def logsumexp(X, axis, keepdims=False):\n",
    "    max_X = np.max(X)\n",
    "    return max_X + np.log(np.sum(np.exp(X - max_X), axis=axis, keepdims=keepdims))\n",
    "\n",
    "def make_nn_funs(input_shape, layer_specs, L2_reg):\n",
    "    parser = WeightsParser()\n",
    "    cur_shape = input_shape\n",
    "    for layer in layer_specs:\n",
    "        N_weights, cur_shape = layer.build_weights_dict(cur_shape)\n",
    "        parser.add_weights(layer, (N_weights,))\n",
    "\n",
    "    def predictions(W_vect, inputs):\n",
    "        \"\"\"Outputs normalized log-probabilities.\n",
    "        shape of inputs : [data, color, y, x]\"\"\"\n",
    "        cur_units = inputs\n",
    "        for layer in layer_specs:\n",
    "            cur_weights = parser.get(W_vect, layer)\n",
    "            cur_units = layer.forward_pass(cur_units, cur_weights)\n",
    "        return cur_units\n",
    "\n",
    "    def loss(W_vect, X, T):\n",
    "        log_prior = -L2_reg * np.dot(W_vect, W_vect)\n",
    "        log_lik = np.sum(predictions(W_vect, X) * T)\n",
    "        return - log_prior - log_lik\n",
    "\n",
    "    def frac_err(W_vect, X, T):\n",
    "        return np.mean(np.argmax(T, axis=1) != np.argmax(pred_fun(W_vect, X), axis=1))\n",
    "\n",
    "    return parser.N, predictions, loss, frac_err\n",
    "\n",
    "class conv_layer(object):\n",
    "    def __init__(self, kernel_shape, num_filters):\n",
    "        self.kernel_shape = kernel_shape\n",
    "        self.num_filters = num_filters\n",
    "\n",
    "    def forward_pass(self, inputs, param_vector):\n",
    "        # Input dimensions:  [data, color_in, y, x]\n",
    "        # Params dimensions: [color_in, color_out, y, x]\n",
    "        # Output dimensions: [data, color_out, y, x]\n",
    "        params = self.parser.get(param_vector, 'params')\n",
    "        biases = self.parser.get(param_vector, 'biases')\n",
    "        conv = convolve(inputs, params, axes=([2, 3], [2, 3]), dot_axes = ([1], [0]), mode='valid')\n",
    "        return conv + biases\n",
    "\n",
    "    def build_weights_dict(self, input_shape):\n",
    "        # Input shape : [color, y, x] (don't need to know number of data yet)\n",
    "        self.parser = WeightsParser()\n",
    "        self.parser.add_weights('params', (input_shape[0], self.num_filters)\n",
    "                                          + self.kernel_shape)\n",
    "        self.parser.add_weights('biases', (1, self.num_filters, 1, 1))\n",
    "        output_shape = (self.num_filters,) + \\\n",
    "                       self.conv_output_shape(input_shape[1:], self.kernel_shape)\n",
    "        return self.parser.N, output_shape\n",
    "\n",
    "    def conv_output_shape(self, A, B):\n",
    "        return (A[0] - B[0] + 1, A[1] - B[1] + 1)\n",
    "\n",
    "class maxpool_layer(object):\n",
    "    def __init__(self, pool_shape):\n",
    "        self.pool_shape = pool_shape\n",
    "\n",
    "    def build_weights_dict(self, input_shape):\n",
    "        # input_shape dimensions: [color, y, x]\n",
    "        output_shape = list(input_shape)\n",
    "        for i in [0, 1]:\n",
    "            assert input_shape[i + 1] % self.pool_shape[i] == 0, \\\n",
    "                \"maxpool shape should tile input exactly\"\n",
    "            output_shape[i + 1] = input_shape[i + 1] / self.pool_shape[i]\n",
    "        return 0, output_shape\n",
    "\n",
    "    def forward_pass(self, inputs, param_vector):\n",
    "        new_shape = inputs.shape[:2]\n",
    "        for i in [0, 1]:\n",
    "            pool_width = self.pool_shape[i]\n",
    "            img_width = inputs.shape[i + 2]\n",
    "            new_shape += (pool_width, img_width / pool_width)\n",
    "        result = inputs.reshape(new_shape)\n",
    "        return np.max(np.max(result, axis=2), axis=3)\n",
    "\n",
    "class full_layer(object):\n",
    "    def __init__(self, size):\n",
    "        self.size = size\n",
    "\n",
    "    def build_weights_dict(self, input_shape):\n",
    "        # Input shape is anything (all flattened)\n",
    "        input_size = np.prod(input_shape, dtype=int)\n",
    "        self.parser = WeightsParser()\n",
    "        self.parser.add_weights('params', (input_size, self.size))\n",
    "        self.parser.add_weights('biases', (self.size,))\n",
    "        return self.parser.N, (self.size,)\n",
    "\n",
    "    def forward_pass(self, inputs, param_vector):\n",
    "        params = self.parser.get(param_vector, 'params')\n",
    "        biases = self.parser.get(param_vector, 'biases')\n",
    "        if inputs.ndim > 2:\n",
    "            inputs = inputs.reshape((inputs.shape[0], np.prod(inputs.shape[1:])))\n",
    "        return self.nonlinearity(np.dot(inputs[:, :], params) + biases)\n",
    "\n",
    "class tanh_layer(full_layer):\n",
    "    def nonlinearity(self, x):\n",
    "        return np.tanh(x)\n",
    "\n",
    "class softmax_layer(full_layer):\n",
    "    def nonlinearity(self, x):\n",
    "        return x - logsumexp(x, axis=1, keepdims=True)"
   ]
  },
  {
   "cell_type": "code",
   "execution_count": 47,
   "metadata": {
    "collapsed": true
   },
   "outputs": [],
   "source": [
    "# Network parameters\n",
    "L2_reg = 1.0\n",
    "input_shape = (1, 28, 28)\n",
    "layer_specs = [conv_layer((5, 5), 6),\n",
    "               maxpool_layer((2, 2)),\n",
    "               conv_layer((5, 5), 16),\n",
    "               maxpool_layer((2, 2)),\n",
    "               tanh_layer(120),\n",
    "               tanh_layer(84),\n",
    "               softmax_layer(10)]\n",
    "\n",
    "# Training parameters\n",
    "param_scale = 0.1\n",
    "learning_rate = 1e-3\n",
    "momentum = 0.9\n",
    "batch_size = 256\n",
    "num_epochs = 50"
   ]
  },
  {
   "cell_type": "code",
   "execution_count": 51,
   "metadata": {
    "collapsed": false
   },
   "outputs": [
    {
     "data": {
      "text/plain": [
       "(10000, 1, 28, 28)"
      ]
     },
     "execution_count": 51,
     "metadata": {},
     "output_type": "execute_result"
    }
   ],
   "source": [
    "test_images.shape"
   ]
  },
  {
   "cell_type": "code",
   "execution_count": 53,
   "metadata": {
    "collapsed": false
   },
   "outputs": [],
   "source": [
    "# Load and process MNIST data \n",
    "one_hot = lambda x, K : np.array(x[:,None] == np.arange(K)[None, :], dtype=int)\n",
    "\n",
    "from fuel.datasets import MNIST\n",
    "train = MNIST(('train',))\n",
    "test = MNIST(('test',))\n",
    "state = train.open()\n",
    "req = [n for n in range(10000)] \n",
    "train_images, train_labels = train.get_data(state=state, request=req)\n",
    "state = test.open()\n",
    "test_images, test_labels =test.get_data(state=state, request=req)\n",
    "\n",
    "train_images = train_images / 255.0\n",
    "test_images  = test_images  / 255.0\n",
    "train_labels = one_hot(train_labels, 10)\n",
    "test_labels = one_hot(test_labels, 10)\n",
    "N_data = train_images.shape[0]"
   ]
  },
  {
   "cell_type": "code",
   "execution_count": 54,
   "metadata": {
    "collapsed": false
   },
   "outputs": [
    {
     "name": "stdout",
     "output_type": "stream",
     "text": [
      "    Epoch      |    Train err  |   Test error  \n"
     ]
    },
    {
     "name": "stderr",
     "output_type": "stream",
     "text": [
      "/Users/act65/anaconda/lib/python3.5/site-packages/ipykernel/__main__.py:110: VisibleDeprecationWarning: using a non-integer number instead of an integer will result in an error in the future\n",
      "/Users/act65/anaconda/lib/python3.5/site-packages/ipykernel/__main__.py:62: DeprecationWarning: elementwise != comparison failed; this will raise an error in the future.\n"
     ]
    },
    {
     "name": "stdout",
     "output_type": "stream",
     "text": [
      "              0|            1.0|            1.0\n"
     ]
    },
    {
     "name": "stderr",
     "output_type": "stream",
     "text": [
      "/Users/act65/anaconda/lib/python3.5/site-packages/numpy/core/fromnumeric.py:225: VisibleDeprecationWarning: using a non-integer number instead of an integer will result in an error in the future\n",
      "  return reshape(newshape, order=order)\n"
     ]
    },
    {
     "name": "stdout",
     "output_type": "stream",
     "text": [
      "              1|            1.0|            1.0\n",
      "              2|            1.0|            1.0\n",
      "              3|            1.0|            1.0\n",
      "              4|            1.0|            1.0\n",
      "              5|            1.0|            1.0\n",
      "              6|            1.0|            1.0\n",
      "              7|            1.0|            1.0\n",
      "              8|            1.0|            1.0\n",
      "              9|            1.0|            1.0\n",
      "             10|            1.0|            1.0\n",
      "             11|            1.0|            1.0\n",
      "             12|            1.0|            1.0\n",
      "             13|            1.0|            1.0\n",
      "             14|            1.0|            1.0\n",
      "             15|            1.0|            1.0\n",
      "             16|            1.0|            1.0\n",
      "             17|            1.0|            1.0\n",
      "             18|            1.0|            1.0\n",
      "             19|            1.0|            1.0\n",
      "             20|            1.0|            1.0\n",
      "             21|            1.0|            1.0\n",
      "             22|            1.0|            1.0\n",
      "             23|            1.0|            1.0\n",
      "             24|            1.0|            1.0\n",
      "             25|            1.0|            1.0\n",
      "             26|            1.0|            1.0\n",
      "             27|            1.0|            1.0\n",
      "             28|            1.0|            1.0\n",
      "             29|            1.0|            1.0\n",
      "             30|            1.0|            1.0\n",
      "             31|            1.0|            1.0\n",
      "             32|            1.0|            1.0\n",
      "             33|            1.0|            1.0\n",
      "             34|            1.0|            1.0\n",
      "             35|            1.0|            1.0\n",
      "             36|            1.0|            1.0\n",
      "             37|            1.0|            1.0\n",
      "             38|            1.0|            1.0\n",
      "             39|            1.0|            1.0\n",
      "             40|            1.0|            1.0\n",
      "             41|            1.0|            1.0\n",
      "             42|            1.0|            1.0\n",
      "             43|            1.0|            1.0\n",
      "             44|            1.0|            1.0\n",
      "             45|            1.0|            1.0\n",
      "             46|            1.0|            1.0\n",
      "             47|            1.0|            1.0\n",
      "             48|            1.0|            1.0\n",
      "             49|            1.0|            1.0\n"
     ]
    }
   ],
   "source": [
    "# Make neural net functions\n",
    "N_weights, pred_fun, loss_fun, frac_err = make_nn_funs(input_shape, layer_specs, L2_reg)\n",
    "loss_grad = grad(loss_fun)\n",
    "\n",
    "# Initialize weights\n",
    "rs = npr.RandomState()\n",
    "W = rs.randn(N_weights) * param_scale\n",
    "\n",
    "# Check the gradients numerically, just to be safe\n",
    "# quick_grad_check(loss_fun, W, (train_images[:50], train_labels[:50]))\n",
    "\n",
    "print(\"    Epoch      |    Train err  |   Test error  \")\n",
    "def print_perf(epoch, W):\n",
    "    test_perf  = frac_err(W, test_images, test_labels)\n",
    "    train_perf = frac_err(W, train_images, train_labels)\n",
    "    print(\"{0:15}|{1:15}|{2:15}\".format(epoch, train_perf, test_perf))\n",
    "\n",
    "# Train with sgd\n",
    "batch_idxs = make_batches(N_data, batch_size)\n",
    "cur_dir = np.zeros(N_weights)\n",
    "\n",
    "for epoch in range(num_epochs):\n",
    "    print_perf(epoch, W)\n",
    "    for idxs in batch_idxs:\n",
    "        grad_W = loss_grad(W, train_images[idxs], train_labels[idxs])\n",
    "        cur_dir = momentum * cur_dir + (1.0 - momentum) * grad_W\n",
    "        W -= learning_rate * cur_dir"
   ]
  }
 ],
 "metadata": {
  "kernelspec": {
   "display_name": "Python 3",
   "language": "python",
   "name": "python3"
  },
  "language_info": {
   "codemirror_mode": {
    "name": "ipython",
    "version": 3
   },
   "file_extension": ".py",
   "mimetype": "text/x-python",
   "name": "python",
   "nbconvert_exporter": "python",
   "pygments_lexer": "ipython3",
   "version": "3.5.1"
  }
 },
 "nbformat": 4,
 "nbformat_minor": 0
}
