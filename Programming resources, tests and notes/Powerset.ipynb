{
 "cells": [
  {
   "cell_type": "code",
   "execution_count": 75,
   "metadata": {
    "collapsed": false,
    "scrolled": true
   },
   "outputs": [
    {
     "name": "stdout",
     "output_type": "stream",
     "text": [
      "('v', ['x', 'y', 'z'])\n",
      "('v', ['x', 'y'])\n",
      "('v', ['x'])\n",
      "('x', ['v', 'y', 'z'])\n",
      "('x', ['v', 'y'])\n",
      "('x', ['v'])\n",
      "('y', ['v', 'x', 'z'])\n",
      "('y', ['v', 'x'])\n",
      "('y', ['v', 'x'])\n",
      "('z', ['v', 'x', 'y'])\n",
      "('z', ['v', 'x', 'y'])\n",
      "('z', ['v', 'x'])\n"
     ]
    }
   ],
   "source": [
    "import numpy as np\n",
    "import itertools\n",
    "\n",
    "def powerset(x):\n",
    "    features = list(x)\n",
    "    n = len(features)\n",
    "    power = []\n",
    "    for i in range(n): #for each skipped element\n",
    "        for j in range(1,n): #for the number of elements in the set\n",
    "            p = []\n",
    "            for k in range(n-j+1):\n",
    "                if i!=k:\n",
    "                    p.append(features[k])\n",
    "            power.append((features[i],p))\n",
    "    return power\n",
    "\n",
    "x = ['v','x','y','z']\n",
    "power = powerset(x)\n",
    "for p in power:\n",
    "    print(p)"
   ]
  },
  {
   "cell_type": "code",
   "execution_count": 36,
   "metadata": {
    "collapsed": false
   },
   "outputs": [
    {
     "name": "stdout",
     "output_type": "stream",
     "text": [
      "All sets of length  0\n",
      "[()]\n",
      "All sets of length  1\n",
      "[('x',), ('y',), ('z',)]\n",
      "All sets of length  2\n",
      "[('x', 'y'), ('x', 'z'), ('y', 'z')]\n",
      "All sets of length  3\n",
      "[('x', 'y', 'z')]\n"
     ]
    }
   ],
   "source": [
    "from itertools import combinations\n",
    "\n",
    "l = [\"x\", \"y\", \"z\", ]\n",
    "\n",
    "def powerset(items):\n",
    "    combo = []\n",
    "    for r in range(len(items) + 1):\n",
    "        #use a list to coerce a actual list from the combinations generator\n",
    "        combo.append(list(combinations(items,r)))\n",
    "    return combo\n",
    "\n",
    "l_powerset = powerset(l)\n",
    "\n",
    "for i, item in enumerate(l_powerset):\n",
    "    print(\"All sets of length \", i)\n",
    "    print(item)"
   ]
  },
  {
   "cell_type": "code",
   "execution_count": 37,
   "metadata": {
    "collapsed": false
   },
   "outputs": [
    {
     "name": "stdout",
     "output_type": "stream",
     "text": [
      "Help on class combinations in module itertools:\n",
      "\n",
      "class combinations(builtins.object)\n",
      " |  combinations(iterable, r) --> combinations object\n",
      " |  \n",
      " |  Return successive r-length combinations of elements in the iterable.\n",
      " |  \n",
      " |  combinations(range(4), 3) --> (0,1,2), (0,1,3), (0,2,3), (1,2,3)\n",
      " |  \n",
      " |  Methods defined here:\n",
      " |  \n",
      " |  __getattribute__(self, name, /)\n",
      " |      Return getattr(self, name).\n",
      " |  \n",
      " |  __iter__(self, /)\n",
      " |      Implement iter(self).\n",
      " |  \n",
      " |  __new__(*args, **kwargs) from builtins.type\n",
      " |      Create and return a new object.  See help(type) for accurate signature.\n",
      " |  \n",
      " |  __next__(self, /)\n",
      " |      Implement next(self).\n",
      " |  \n",
      " |  __reduce__(...)\n",
      " |      Return state information for pickling.\n",
      " |  \n",
      " |  __setstate__(...)\n",
      " |      Set state information for unpickling.\n",
      " |  \n",
      " |  __sizeof__(...)\n",
      " |      Returns size in memory, in bytes.\n",
      "\n"
     ]
    }
   ],
   "source": [
    "help(combinations)"
   ]
  }
 ],
 "metadata": {
  "kernelspec": {
   "display_name": "Python 3",
   "language": "python",
   "name": "python3"
  },
  "language_info": {
   "codemirror_mode": {
    "name": "ipython",
    "version": 3
   },
   "file_extension": ".py",
   "mimetype": "text/x-python",
   "name": "python",
   "nbconvert_exporter": "python",
   "pygments_lexer": "ipython3",
   "version": "3.5.1"
  }
 },
 "nbformat": 4,
 "nbformat_minor": 0
}
