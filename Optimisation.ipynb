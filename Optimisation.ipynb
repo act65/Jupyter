{
 "cells": [
  {
   "cell_type": "code",
   "execution_count": null,
   "metadata": {
    "collapsed": true
   },
   "outputs": [],
   "source": [
    "import matplotlib.pyplot as plt\n",
    "%matplotlib inline"
   ]
  },
  {
   "cell_type": "markdown",
   "metadata": {},
   "source": [
    "# Optimisation\n",
    "\n",
    "What is optimisation?\n",
    "The motivation?\n",
    "\n",
    "### Reimagining our intuivite models.\n",
    "\n",
    "Traditionally, optimisation is imagined as the search for a/the lowest point in a hilly/mountainous landscape. Where the landscape is the function and moving accross the landscape is chaning the input variables to the function.\n",
    "\n",
    "Interactive model here?\n",
    "\n",
    "# Tests\n",
    "* http://www.mat.univie.ac.at/~neum/glopt/test.html\n",
    "* https://en.wikipedia.org/wiki/Test_functions_for_optimization\n",
    "* what a disaster...\n"
   ]
  },
  {
   "cell_type": "markdown",
   "metadata": {},
   "source": [
    "## Convexity\n",
    "\n",
    "Can convex problems have saddle points?"
   ]
  },
  {
   "cell_type": "code",
   "execution_count": null,
   "metadata": {
    "collapsed": true
   },
   "outputs": [],
   "source": []
  },
  {
   "cell_type": "code",
   "execution_count": null,
   "metadata": {
    "collapsed": true
   },
   "outputs": [],
   "source": []
  },
  {
   "cell_type": "markdown",
   "metadata": {},
   "source": [
    "Optimisation is the selection of a best element (with regard to some criteria) from some set of available alternatives. So the question becomes, how can we find the best element within a set of alternatives? This would depend on how the elements are ordered and if that order somehow related to the metric, as if it didnt then we would have to search all possible elements. That is to say that, to find the best element efficiently we need some sort of information about how the metrics of elements are related to other elements.\n",
    "\n",
    "## Gradient descent (derivative control)\n",
    "\n",
    "First lets consider a convex one objective optimisation problem. Find the minima of y = x^2"
   ]
  },
  {
   "cell_type": "code",
   "execution_count": null,
   "metadata": {
    "collapsed": true
   },
   "outputs": [],
   "source": [
    "import autograd.numpy as np\n",
    "from autograd import grad"
   ]
  },
  {
   "cell_type": "code",
   "execution_count": 24,
   "metadata": {
    "collapsed": false
   },
   "outputs": [
    {
     "data": {
      "text/plain": [
       "<matplotlib.text.Text at 0x106bceb70>"
      ]
     },
     "execution_count": 24,
     "metadata": {},
     "output_type": "execute_result"
    },
    {
     "data": {
      "image/png": "[encoded data removed]",
      "text/plain": [
       "<matplotlib.figure.Figure at 0x106b3efd0>"
      ]
     },
     "metadata": {},
     "output_type": "display_data"
    }
   ],
   "source": [
    "x = np.linspace(-10,10,31)\n",
    "def cost(x):\n",
    "    return x**2\n",
    "\n",
    "y = cost(x)\n",
    "plt.plot(x,y)\n",
    "plt.xlabel('Elements')\n",
    "plt.ylabel('Metric')"
   ]
  },
  {
   "cell_type": "markdown",
   "metadata": {
    "collapsed": true
   },
   "source": [
    "A nice property of smooth continuous functions is that you can calculate their derivative and find the direction to look for better elements. (gradient descent)\n",
    "\n",
    "\n",
    "Of course, the solution converges very slowly at later times as the gradient is close to zero. Thus learning generally will become very slow when ... Can get stuck at local minima... saddle points!"
   ]
  },
  {
   "cell_type": "code",
   "execution_count": 3,
   "metadata": {
    "collapsed": false
   },
   "outputs": [
    {
     "data": {
      "text/plain": [
       "[<matplotlib.lines.Line2D at 0x10607b400>]"
      ]
     },
     "execution_count": 3,
     "metadata": {},
     "output_type": "execute_result"
    },
    {
     "data": {
      "image/png": "[encoded data removed]",
      "text/plain": [
       "<matplotlib.figure.Figure at 0x105dd8518>"
      ]
     },
     "metadata": {},
     "output_type": "display_data"
    }
   ],
   "source": [
    "def cost(x):\n",
    "    return x**2\n",
    "\n",
    "dC = grad(cost)\n",
    "\n",
    "n = 200\n",
    "y = 5.2\n",
    "z = np.zeros(n)\n",
    "for i in range(n):\n",
    "    y+= - 0.1 * dC(y)\n",
    "    z[i] = y\n",
    "\n",
    "plt.plot(z)"
   ]
  },
  {
   "cell_type": "code",
   "execution_count": 13,
   "metadata": {
    "collapsed": false
   },
   "outputs": [
    {
     "data": {
      "text/plain": [
       "[<matplotlib.lines.Line2D at 0x106434fd0>]"
      ]
     },
     "execution_count": 13,
     "metadata": {},
     "output_type": "execute_result"
    },
    {
     "data": {
      "image/png": "[encoded data removed]",
      "text/plain": [
       "<matplotlib.figure.Figure at 0x106a6ccc0>"
      ]
     },
     "metadata": {},
     "output_type": "display_data"
    }
   ],
   "source": [
    "def cost(x,y):\n",
    "    return (x-y)**2\n",
    "\n",
    "dC = grad(cost)\n",
    "\n",
    "n = 200\n",
    "x = 6.1\n",
    "y = 2.2\n",
    "z = np.zeros(n)\n",
    "zz = np.zeros(n)\n",
    "for i in range(n):\n",
    "    y+= - 0.1 * dC(x,y)\n",
    "    x+= -0.1 * dC(x,y)\n",
    "    z[i] = y\n",
    "    zz[i] = x\n",
    "\n",
    "plt.plot(z)\n",
    "plt.plot(zz)"
   ]
  },
  {
   "cell_type": "markdown",
   "metadata": {
    "collapsed": true
   },
   "source": [
    "# Optimisers\n",
    "\n",
    "http://sebastianruder.com/optimizing-gradient-descent/\n",
    "\n",
    "### "
   ]
  },
  {
   "cell_type": "markdown",
   "metadata": {},
   "source": [
    "\n"
   ]
  },
  {
   "cell_type": "code",
   "execution_count": null,
   "metadata": {
    "collapsed": true
   },
   "outputs": [],
   "source": []
  },
  {
   "cell_type": "code",
   "execution_count": null,
   "metadata": {
    "collapsed": true
   },
   "outputs": [],
   "source": []
  },
  {
   "cell_type": "markdown",
   "metadata": {},
   "source": [
    "## To investigate\n",
    "\n",
    "* Having to **search** all possible solutions is the problem faced in ... but we use heuristics ...\n",
    "* Methods. Simulated annealing, particle swarms, grad descent, genetic algorithms, nearest neighbors, newton iterations, monte carlo,  ...??? PID controls?\n",
    "* Jacobians and hessians\n",
    "\n",
    "## Questions\n",
    "* Is there another way to represent optimisation problems, as a type of topology or higher dimensional manifold at allows us to find the maxima/minima easier?\n",
    "* Is the optimisation curve always a manifold? I guess it depends on the metric(s)? So one metric gives a surface? Two metrics give a volume? ... etc?\n",
    "* The generation of the element-metric space? Is there anything interesting here?"
   ]
  },
  {
   "cell_type": "markdown",
   "metadata": {
    "collapsed": true
   },
   "source": [
    "\n",
    "\n",
    "### Optimisers <a id='Optimisers'></a>\n",
    "\n",
    "So why does steepest descent not work? it has no way to get past local minima (a picture of the many local minima would be nice). Momentum and annealing (random jitter) help bump the \n",
    "\n",
    "Like a rock rolling down a hill. The problem with steepest gradient descent is that <s>the gradients are too low and</s> there are too many ledges and bluffs to get caught on. It will instantly stop, regardless of momentum, on any of these. ...  Momentum work better sa it will continue on throughSo as soon as it \n",
    "\n",
    "So I guess the questions this raises are;\n",
    "\n",
    "* how can we find the global maximum?\n",
    "* how can we get out of local minima? / \n",
    "    * random jumps, \n",
    "    * tunnel, \n",
    "    * use the history of the trajectory (momentum/integral control), \n",
    "* what are the best methods for optimising surfaces with many local minima? (surely whatever the solution it will be expensive?\n",
    "    * is this the sort of thing particle swarms are good at?\n",
    "* how can we reduce the amount of local minima in/on the surface?\n",
    "\n",
    "    \n",
    "    \n",
    "<span style=\"background-color: #FFFF00\">Need to learn how adagrad, adam, ... </span>\n",
    "\n",
    "\n"
   ]
  }
 ],
 "metadata": {
  "kernelspec": {
   "display_name": "Python 3",
   "language": "python",
   "name": "python3"
  },
  "language_info": {
   "codemirror_mode": {
    "name": "ipython",
    "version": 3
   },
   "file_extension": ".py",
   "mimetype": "text/x-python",
   "name": "python",
   "nbconvert_exporter": "python",
   "pygments_lexer": "ipython3",
   "version": "3.5.1"
  }
 },
 "nbformat": 4,
 "nbformat_minor": 0
}
