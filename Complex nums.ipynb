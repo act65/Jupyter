{
 "cells": [
  {
   "cell_type": "markdown",
   "metadata": {},
   "source": []
  },
  {
   "cell_type": "markdown",
   "metadata": {},
   "source": [
    "$$\n",
    "\\begin{align*}\n",
    "z &=\n",
    "\\begin{bmatrix}\n",
    "\\alpha_1 + \\beta_1 i & \\alpha_2 + \\beta_2 i \\\\\n",
    "\\alpha_3 + \\beta_3 i & \\alpha_4 + \\beta_4 i \\\\\n",
    "\\end{bmatrix}\n",
    "\\begin{bmatrix}\n",
    "a_1 + b_1 i \\\\\n",
    "a_2 + b_2 i \\\\\n",
    "\\end{bmatrix} \\\\\n",
    "&= \\begin{bmatrix}\n",
    "(\\alpha_1 + \\beta_1 i)(a_1 + b_1 i) + (\\alpha_2 + \\beta_2 i)(a_2 + b_2 i) \\\\\n",
    "(\\alpha_3 + \\beta_3 i)(a_1 + b_1 i) + (\\alpha_4 + \\beta_4 i)(a_2 + b_2 i) \\\\\n",
    "\\end{bmatrix} \\\\\n",
    "&= \\begin{bmatrix}\n",
    "(\\alpha_1a_1+\\alpha_2a_2 - \\beta_1b_1 - \\beta_2b_2) + (\\alpha_1b_1 + \\beta_1a_1 + \\alpha_2b_2 + \\beta_2a_2)i \\\\\n",
    "(\\alpha_3a_1+\\alpha_4a_2 - \\beta_3b_1 - \\beta_4b_2) + (\\alpha_3b_1 + \\beta_4a_1 + \\alpha_3b_2 + \\beta_4a_2)i \\\\\n",
    "\\end{bmatrix}\n",
    "\\end{align*}\n",
    "$$"
   ]
  }
 ],
 "metadata": {
  "kernelspec": {
   "display_name": "Python 3",
   "language": "python",
   "name": "python3"
  },
  "language_info": {
   "codemirror_mode": {
    "name": "ipython",
    "version": 3
   },
   "file_extension": ".py",
   "mimetype": "text/x-python",
   "name": "python",
   "nbconvert_exporter": "python",
   "pygments_lexer": "ipython3",
   "version": "3.5.2"
  }
 },
 "nbformat": 4,
 "nbformat_minor": 0
}
