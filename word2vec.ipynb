{
 "cells": [
  {
   "cell_type": "code",
   "execution_count": 1,
   "metadata": {
    "collapsed": true
   },
   "outputs": [],
   "source": [
    "import numpy as np\n",
    "import torch as tr\n",
    "from torch.autograd import Variable\n",
    "import torch.utils.data\n",
    "import torch.sparse\n",
    "\n",
    "import matplotlib.pyplot as plt\n",
    "%matplotlib inline"
   ]
  },
  {
   "cell_type": "code",
   "execution_count": 2,
   "metadata": {
    "collapsed": true
   },
   "outputs": [],
   "source": [
    "d = 300\n",
    "n = 4096\n",
    "epochs = 10"
   ]
  },
  {
   "cell_type": "code",
   "execution_count": 3,
   "metadata": {
    "collapsed": true
   },
   "outputs": [],
   "source": [
    "fname = '/Volumes/ExtraDiskSpace/Documents/testing_word_encodings/dorian-grad_encoded-bpe4096.txt'\n",
    "with open(fname, 'rt') as f:\n",
    "    raw = f.read()\n",
    "onehots = np.array(raw.replace('\\n', '').split(' ')).astype(np.int32)\n",
    "onehots = onehots[onehots<n]\n",
    "N = len(onehots)"
   ]
  },
  {
   "cell_type": "code",
   "execution_count": 4,
   "metadata": {
    "collapsed": true
   },
   "outputs": [],
   "source": [
    "tokens = tr.from_numpy(onehots).type(tr.LongTensor)\n",
    "vec = Variable(torch.randn(n, d).type(tr.FloatTensor), requires_grad=True)"
   ]
  },
  {
   "cell_type": "markdown",
   "metadata": {},
   "source": [
    "#### Skip-gram training.\n",
    "\n",
    "There is a trade-off between efficient evaluation of the loss and the number of times we need to run the loss.\n",
    "\n",
    "Imagine we have `the quick brown fox jumps` with a skip-gram window of 2. Then the skip-grams are;\n",
    "\n",
    "* the - quick, brown\n",
    "* quick - the, brown, fox\n",
    "* brown - the, quick, fox, jumps\n",
    "* fox - quick, brown, jumps\n",
    "* jumps - brown, fox\n",
    "\n",
    "__>>>__ Already we have thrown away relative positions, is this important? We could use it to weight the loss?\n",
    "\n",
    "Next, we turn each of these bags of words into pairs for training (x - y).\n",
    "\n",
    "* the - quick, the - brown\n",
    "* quick - the, quick - brown, quick - fox\n",
    "* ...\n",
    "* jumps - brown, jumps - fox\n",
    "\n",
    "__>>>__ Why do we need to pair? Because we want to use onehot training, which can be evaluated efficiently? Bu, now we have to evaluate it again for each pairing. This seems weird as we are treating the output distrubution as a set conditionally independent variables, when they are really just indpenedent (ie sigmoid not softmax?).\n",
    "\n",
    "<!-- there is actually another stop of logic in here, project into some lower dim space-->\n",
    "\n",
    "Next we train to maximise the likelihood of each pairing using softmax to calculate the probability distribution over each input token, the likelihood of each token being in the skip-gram of the input token.\n",
    "\n",
    "$$p(z) = \\sigma(W^T Wx)$$\n",
    "\n",
    "__>>>__ Wait a minute. Is W not usual shared? I.e. We have $ABx$? And set B as the word vectors.\n",
    "\n",
    "$$σ_{ij} = \\frac{exp(w_i^T c_j ) }{1+exp(w_i^T c_j )}$$\n",
    "\n",
    "Jokes...\n",
    "> This update has been shown to be equivalent to the gradient of a factorization of a pointwise mutual information matrix. (Levy and Goldberg, 2014)\n",
    "\n",
    "__>>>__ What about orthogonal W? Then we dont have to project??"
   ]
  },
  {
   "cell_type": "code",
   "execution_count": 5,
   "metadata": {
    "collapsed": true
   },
   "outputs": [],
   "source": [
    "def skip_gram(x, window):\n",
    "    \"\"\"\n",
    "    Args:\n",
    "        x: A sequence of tokens as integers\n",
    "        window: the size (int) of window to use when constucting skip-grams\n",
    "    Returns:\n",
    "        generator then yields pairs of word-context. (int, [int]*window)\n",
    "    \"\"\"\n",
    "    for i in range(window, len(x)- window):\n",
    "        yield x[i], tr.cat([x[i-window:i], x[i+1:i+window+1]], 0)\n",
    "        \n",
    "def batch(seq, batch_size):\n",
    "    \"\"\"\n",
    "    Args:\n",
    "        seq: a sequence of pairs in  (int, [int]*window)\n",
    "        batch_size: size of batch\n",
    "    Returns:\n",
    "        generator that yields \n",
    "    \"\"\"\n",
    "    inputs = []\n",
    "    targets = []\n",
    "    for i, pair in enumerate(seq):\n",
    "        x, t = pair\n",
    "        inputs.append(tr.from_numpy(np.array(x).reshape((-1, 1))))\n",
    "        targets.append(t.view(1, -1))\n",
    "        if i % batch_size == batch_size-1:\n",
    "            yield tr.cat(inputs, 0), tr.cat(targets, 0)\n",
    "            inputs = []\n",
    "            targets = []\n",
    "            \n",
    "# TODO need some shuffling"
   ]
  },
  {
   "cell_type": "code",
   "execution_count": 6,
   "metadata": {},
   "outputs": [
    {
     "name": "stdout",
     "output_type": "stream",
     "text": [
      "torch.Size([128, 1]) torch.Size([128, 60])\n"
     ]
    }
   ],
   "source": [
    "batch_size = 128\n",
    "window = 30  \n",
    "# it is quite cheap to increase window size in this formulation!??!!\n",
    "# just a few more non zero entries in the targets\n",
    "\n",
    "words, context = next(batch(skip_gram(tokens, window), batch_size))\n",
    "print(words.size(), context.size())"
   ]
  },
  {
   "cell_type": "code",
   "execution_count": 7,
   "metadata": {},
   "outputs": [
    {
     "name": "stdout",
     "output_type": "stream",
     "text": [
      "torch.Size([128, 300])\n"
     ]
    }
   ],
   "source": [
    "batch_x = vec[words.view(batch_size)].view((batch_size, d))\n",
    "\n",
    "# use a subset of all the vectors. negative sampling\n",
    "# positive_samples = vec[t.resize((batch_size*window*2))].view((batch_size, window*2, n))\n",
    "# n_negatives = 12\n",
    "# negative_samples = vec[rand_int(n_negatives)].view((batch_size, window*2*n_negatives, n))\n",
    "# samples = \n",
    "# print(positive_samples.size(), negative_samples.size()))\n",
    "\n",
    "print(batch_x.size())"
   ]
  },
  {
   "cell_type": "code",
   "execution_count": 8,
   "metadata": {
    "collapsed": true
   },
   "outputs": [],
   "source": [
    "# these wont change over the iterations.\n",
    "batch_idx = tr.stack([tr.arange(0, batch_size) for _ in range(window*2)], 1).type(tr.LongTensor)\n",
    "v = tr.ones(batch_size, window*2).type(tr.FloatTensor)\n",
    "I = Variable(tr.eye(n).type(tr.FloatTensor), requires_grad=False)\n",
    "\n",
    "learning_rates = list(reversed(np.exp(np.linspace(np.log(0.00001), np.log(0.001), epochs))))"
   ]
  },
  {
   "cell_type": "code",
   "execution_count": 9,
   "metadata": {},
   "outputs": [
    {
     "data": {
      "image/png": "[encoded data removed]",
      "text/plain": [
       "<matplotlib.figure.Figure at 0x10eca8358>"
      ]
     },
     "metadata": {},
     "output_type": "display_data"
    }
   ],
   "source": [
    "def gaussian_fn(mean, var):\n",
    "    d = np.sqrt(2*3.142*var**2)\n",
    "    n = -(mean - np.linspace(0, window*2-1, window*2))**2\n",
    "    return np.exp(n/(2*var**2))/d\n",
    "\n",
    "gaussian = gaussian_fn(window, window)\n",
    "gaussian = gaussian/np.max(gaussian)\n",
    "plt.plot(gaussian)\n",
    "gaussian = tr.Tensor(gaussian).type(tr.FloatTensor)\n",
    "# scale the context by distance from center\n",
    "v = v*gaussian  # can do this because the indices are still in order\n",
    "# TODO what if we see the same word multiple times\n",
    "# within the same contex? should additively increase\n",
    "# the target?"
   ]
  },
  {
   "cell_type": "code",
   "execution_count": 10,
   "metadata": {},
   "outputs": [
    {
     "name": "stdout",
     "output_type": "stream",
     "text": [
      " loss: 8033.40625562555"
     ]
    },
    {
     "ename": "KeyboardInterrupt",
     "evalue": "",
     "output_type": "error",
     "traceback": [
      "\u001b[0;31m---------------------------------------------------------------------------\u001b[0m",
      "\u001b[0;31mKeyboardInterrupt\u001b[0m                         Traceback (most recent call last)",
      "\u001b[0;32m<ipython-input-10-b3560bfa2cc5>\u001b[0m in \u001b[0;36m<module>\u001b[0;34m()\u001b[0m\n\u001b[1;32m     21\u001b[0m \u001b[0;34m\u001b[0m\u001b[0m\n\u001b[1;32m     22\u001b[0m         \u001b[0;31m### auto grad and optimise\u001b[0m\u001b[0;34m\u001b[0m\u001b[0;34m\u001b[0m\u001b[0m\n\u001b[0;32m---> 23\u001b[0;31m         \u001b[0mloss\u001b[0m\u001b[0;34m.\u001b[0m\u001b[0mbackward\u001b[0m\u001b[0;34m(\u001b[0m\u001b[0;34m)\u001b[0m\u001b[0;34m\u001b[0m\u001b[0m\n\u001b[0m\u001b[1;32m     24\u001b[0m         \u001b[0mvec\u001b[0m\u001b[0;34m.\u001b[0m\u001b[0mdata\u001b[0m \u001b[0;34m-=\u001b[0m \u001b[0mlearning_rates\u001b[0m\u001b[0;34m[\u001b[0m\u001b[0me\u001b[0m\u001b[0;34m]\u001b[0m \u001b[0;34m*\u001b[0m \u001b[0mvec\u001b[0m\u001b[0;34m.\u001b[0m\u001b[0mgrad\u001b[0m\u001b[0;34m.\u001b[0m\u001b[0mdata\u001b[0m\u001b[0;34m\u001b[0m\u001b[0m\n\u001b[1;32m     25\u001b[0m \u001b[0;34m\u001b[0m\u001b[0m\n",
      "\u001b[0;32m/Volumes/ExtraDiskSpace/Documents/testing_word_encodings/venv/lib/python3.5/site-packages/torch/autograd/variable.py\u001b[0m in \u001b[0;36mbackward\u001b[0;34m(self, gradient, retain_graph, create_graph, retain_variables)\u001b[0m\n\u001b[1;32m    154\u001b[0m                 \u001b[0mVariable\u001b[0m\u001b[0;34m.\u001b[0m\u001b[0;34m\u001b[0m\u001b[0m\n\u001b[1;32m    155\u001b[0m         \"\"\"\n\u001b[0;32m--> 156\u001b[0;31m         \u001b[0mtorch\u001b[0m\u001b[0;34m.\u001b[0m\u001b[0mautograd\u001b[0m\u001b[0;34m.\u001b[0m\u001b[0mbackward\u001b[0m\u001b[0;34m(\u001b[0m\u001b[0mself\u001b[0m\u001b[0;34m,\u001b[0m \u001b[0mgradient\u001b[0m\u001b[0;34m,\u001b[0m \u001b[0mretain_graph\u001b[0m\u001b[0;34m,\u001b[0m \u001b[0mcreate_graph\u001b[0m\u001b[0;34m,\u001b[0m \u001b[0mretain_variables\u001b[0m\u001b[0;34m)\u001b[0m\u001b[0;34m\u001b[0m\u001b[0m\n\u001b[0m\u001b[1;32m    157\u001b[0m \u001b[0;34m\u001b[0m\u001b[0m\n\u001b[1;32m    158\u001b[0m     \u001b[0;32mdef\u001b[0m \u001b[0mregister_hook\u001b[0m\u001b[0;34m(\u001b[0m\u001b[0mself\u001b[0m\u001b[0;34m,\u001b[0m \u001b[0mhook\u001b[0m\u001b[0;34m)\u001b[0m\u001b[0;34m:\u001b[0m\u001b[0;34m\u001b[0m\u001b[0m\n",
      "\u001b[0;32m/Volumes/ExtraDiskSpace/Documents/testing_word_encodings/venv/lib/python3.5/site-packages/torch/autograd/__init__.py\u001b[0m in \u001b[0;36mbackward\u001b[0;34m(variables, grad_variables, retain_graph, create_graph, retain_variables)\u001b[0m\n\u001b[1;32m     96\u001b[0m \u001b[0;34m\u001b[0m\u001b[0m\n\u001b[1;32m     97\u001b[0m     Variable._execution_engine.run_backward(\n\u001b[0;32m---> 98\u001b[0;31m         variables, grad_variables, retain_graph)\n\u001b[0m\u001b[1;32m     99\u001b[0m \u001b[0;34m\u001b[0m\u001b[0m\n\u001b[1;32m    100\u001b[0m \u001b[0;34m\u001b[0m\u001b[0m\n",
      "\u001b[0;31mKeyboardInterrupt\u001b[0m: "
     ]
    }
   ],
   "source": [
    "for e in range(epochs):\n",
    "    for i, pair in enumerate(batch(skip_gram(tokens, window), batch_size)):\n",
    "        pair = words, context\n",
    "        ### pick out training word vectors\n",
    "        # could pick a subset of w to  compare against -- ie negative sampling\n",
    "        # doesnt seem like there is much to be gained?\n",
    "        batch_x = vec[words.view(batch_size)].view((batch_size, d))\n",
    "\n",
    "        ### do a similarity search to the rest of our vectors\n",
    "        # (batch_size x v_dims) x (v_dims x n_tokens)\n",
    "        y = tr.matmul(batch_x, tr.transpose(vec, 1, 0))  # shape = [batch_size x n_tokens]\n",
    "\n",
    "        ### construct targets\n",
    "        idx = tr.stack([batch_idx.view(-1), context.view(-1)])\n",
    "        onehots = torch.sparse.FloatTensor(idx, v.view(-1), torch.Size([batch_size,n])).to_dense()\n",
    "        onehots = Variable(onehots, requires_grad=False)\n",
    "        # by using ones as the targets we are training the vectors to be orthonormal??\n",
    "\n",
    "        ### caluclate loss\n",
    "        loss = tr.matmul(tr.transpose(y, 1, 0), onehots) - I\n",
    "        loss = tr.abs(loss).sum(dim=1).mean(dim=0)\n",
    "\n",
    "        ### auto grad and optimise\n",
    "        loss.backward()\n",
    "        vec.data -= learning_rates[e] * vec.grad.data\n",
    "\n",
    "        # print('\\r step: {}'.format(i), end='', flush=True)\n",
    "        print('\\r loss: {}'.format(loss.data.numpy()[0]), end='', flush=True)\n",
    "np.save('/Volumes/ExtraDiskSpace/Documents/testing_word_encodings/wordvectors.npy', \n",
    "        vec.data.numpy())"
   ]
  },
  {
   "cell_type": "markdown",
   "metadata": {},
   "source": [
    "* Wait a minute, do I even need to train this? Can I just solve it?\n",
    "* Can we track the variance of the gradients to estimate whether there are multiple different meanings/contexts to a token?\n",
    "* Only learning correlations. How can we capture the ordering as well?\n",
    "    * Should we add a gaussian window over the skip-gram rather than uniform?\n",
    "    * Position embeddings? Grammar embeddings?\n",
    "    * Could we use asymetric (ordering matters) relation networks to capture the syntax/dependencies?"
   ]
  },
  {
   "cell_type": "markdown",
   "metadata": {},
   "source": [
    "What are we really doing? \n",
    "\n",
    "Want a way to index each word in a meaningful way. Ie, we want to learn an ordering of the different word indexes (vectors, encodings, ...) so \n",
    "\n",
    "Could imagine just trying to shatter all the different vectors, i.e. making them orthogonal. Would require n dimensions. But, we can do better than this by ordering them in meaningful ways.\n",
    "\n",
    "Why not just use a binary hash of the 4096 tokens? This means we would only have 12 dimensions in our embeddings!?! "
   ]
  },
  {
   "cell_type": "code",
   "execution_count": null,
   "metadata": {
    "collapsed": true
   },
   "outputs": [],
   "source": []
  }
 ],
 "metadata": {
  "kernelspec": {
   "display_name": "Python 3",
   "language": "python",
   "name": "python3"
  },
  "language_info": {
   "codemirror_mode": {
    "name": "ipython",
    "version": 3
   },
   "file_extension": ".py",
   "mimetype": "text/x-python",
   "name": "python",
   "nbconvert_exporter": "python",
   "pygments_lexer": "ipython3",
   "version": "3.5.1"
  }
 },
 "nbformat": 4,
 "nbformat_minor": 2
}
