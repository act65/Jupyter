{
 "cells": [
  {
   "cell_type": "markdown",
   "metadata": {},
   "source": [
    "Given\n",
    "$$f\\ast g= \\mathcal{F}^{-1}\\big\\{\\mathcal{F}\\{f\\}\\cdot\\mathcal{F}\\{g\\}\\big\\}$$\n",
    "and\n",
    "$$y = \\sigma(W \\ast x + b)$$\n",
    "and\n",
    "$$T(x) = \\phi$$\n",
    "our conv net would be \n",
    "\n",
    "$$y = \\sigma(\\mathcal{F}^{-1}\\big\\{\\mathcal{F}\\{W\\}\\cdot\\mathcal{F}\\{x\\}\\big\\} + b)$$\n",
    "\n",
    "where does the transform go?\n",
    "### Ideas to investigate.\n",
    "* Laplace transform as a form of attention - using the decay to guide pixel intensities? Is this possible?\n",
    "* Is it possible to derive a differentiable occlusion transformer from fourier transforms?\n",
    "* What if you ordered the kernels (by ???) you could then (meaningfully) convolve over these as well?\n",
    "* oh, i dont think we are transforming (spatial, scale,...) while in the fourier domain?? why not?"
   ]
  }
 ],
 "metadata": {
  "kernelspec": {
   "display_name": "Python 3",
   "language": "python",
   "name": "python3"
  },
  "language_info": {
   "codemirror_mode": {
    "name": "ipython",
    "version": 3
   },
   "file_extension": ".py",
   "mimetype": "text/x-python",
   "name": "python",
   "nbconvert_exporter": "python",
   "pygments_lexer": "ipython3",
   "version": "3.5.1"
  }
 },
 "nbformat": 4,
 "nbformat_minor": 0
}
