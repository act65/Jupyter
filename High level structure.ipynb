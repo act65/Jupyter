{
 "cells": [
  {
   "cell_type": "code",
   "execution_count": 7,
   "metadata": {
    "collapsed": false
   },
   "outputs": [],
   "source": [
    "class Net():\n",
    "    \"\"\"\n",
    "    A class for different types of network.\n",
    "    \n",
    "    Allows for ones with different;\n",
    "    - loss functions\n",
    "    - architectures\n",
    "    - ???\n",
    "    \n",
    "    All nets must have two basic methods;\n",
    "    - __call__() for the forward pass\n",
    "    - fit() so it can learn.\n",
    "    \"\"\"\n",
    "    def __init__(self):\n",
    "        self.loss = None\n",
    "        \n",
    "    def __call__(x):\n",
    "        #The forward simulation of the net\n",
    "        raise NotImplementedError\n",
    "    \n",
    "    def fit(self,x):\n",
    "        #Train the net\n",
    "        #It is expected that the loss function is within this function\n",
    "        #I.e. gradients are calculated within this function, \n",
    "        #not necesserily passed to it???\n",
    "        raise NotImplementedError"
   ]
  },
  {
   "cell_type": "code",
   "execution_count": 8,
   "metadata": {
    "collapsed": true
   },
   "outputs": [],
   "source": [
    "class Brain():\n",
    "    \"\"\"\n",
    "    A net of nets.\n",
    "    Can include itself.\n",
    "    \"\"\"\n",
    "    def __init__(self):\n",
    "        pass"
   ]
  }
 ],
 "metadata": {
  "kernelspec": {
   "display_name": "Python 3",
   "language": "python",
   "name": "python3"
  },
  "language_info": {
   "codemirror_mode": {
    "name": "ipython",
    "version": 3
   },
   "file_extension": ".py",
   "mimetype": "text/x-python",
   "name": "python",
   "nbconvert_exporter": "python",
   "pygments_lexer": "ipython3",
   "version": "3.5.1"
  }
 },
 "nbformat": 4,
 "nbformat_minor": 0
}
