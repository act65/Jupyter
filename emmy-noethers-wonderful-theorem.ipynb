{
 "cells": [
  {
   "cell_type": "markdown",
   "metadata": {},
   "source": [
    "\n",
    "## Noether's theorem\n",
    "\n",
    "If the functional $J = \\int^b_a L(t, x^{\\mu}, \\dot x^{\\mu}) dt$ is an extremal, and if under the infinitesimal transformation $t' = t + \\epsilon \\tau + \\dots, q'^{\\mu} = q^{\\mu} + \\epsilon \\zeta^{\\mu} + \\dots $ the functional is invariant according to the definition (allowing of the inhomogenous case) $L'\\frac{dt'}{dt}-L = \\epsilon\\frac{dF}{dt} + \\mathcal O(e^s),$ where $s>1$ then the following conservation law holds: $p_{\\mu}\\zeta^{\\mu} - H\\tau - F = const$."
   ]
  },
  {
   "cell_type": "code",
   "execution_count": 3,
   "metadata": {},
   "outputs": [],
   "source": [
    "import numpy as np\n",
    "import matplotlib.pyplot as plt\n",
    "%matplotlib inline"
   ]
  },
  {
   "cell_type": "markdown",
   "metadata": {},
   "source": [
    "## Functionals\n",
    "\n",
    "Take a function as an argument. (But how are the functions represented?)\n",
    "In the linear case this makes sense to me. The function can be embedded in some vector space. But what about in the more general case? (Aka black-box integration?)\n",
    "\n",
    "> _For the functional to be continuous, it is necessary for the vector space V of functions to have an appropriate topology._ (Huh?)\n",
    "\n",
    "\n",
    "\n",
    "#### Definite integrals\n",
    "\n",
    "\n",
    "$$\n",
    "J[f]: f \\rightarrow \\mathbb R \\\\\n",
    "J = \\int f(x(t)) dt \\\\\n",
    "$$\n",
    "This reminds me of an inner product? Or some sort of kernel being applied over $t$.\n",
    "\n",
    "#### Local vs non-local\n",
    "\n",
    "The calculation of the functional is local!!\n",
    "\n",
    "\n",
    "#### Differentiation\n",
    "\n",
    "The first variation is defined as the linear part of the change in the functional, and the second variation is defined as the quadratic part.\n",
    "\n",
    "Let $X, Y$ be two function spaces endowed with norms and inner products\n",
    "(technically, Hilbert spaces). A functional $\\phi$ is a map from $X$ to $\\mathbb R$. We\n",
    "denote its action on a function $f$ as $\\phi(f)$. An operator $F$ is a map from $X$\n",
    "to $Y$ . We denote its action on a function $f$ as $F f$.\n",
    "We say that a functional $\\phi$ is Frechet differentiable at $f \\in X$ when there\n",
    "exists a linear functional $A : X \\rightarrow \\mathbb R$ such that\n",
    "\n",
    "$$\n",
    "\\lim_{h\\rightarrow 0} \\frac{\\parallel \\phi(f + h) − \\phi(f) − A(h)\\parallel_?}{\\parallel h \\parallel_X} = 0\\\\\n",
    "$$\n",
    "\n",
    "\n",
    "If this relation holds, we say that $A$ is the functional derivative, or Frechet\n",
    "derivative, of $\\psi$ at $f$, and we denote it as\n",
    "\n",
    "$$\n",
    "A = \\frac{\\delta \\phi}{\\delta f}[f]\n",
    "$$\n",
    "\n",
    "* https://en.wikipedia.org/wiki/Functional_derivative\n",
    "* https://ocw.mit.edu/courses/mathematics/18-325-topics-in-applied-mathematics-waves-and-imaging-fall-2012/lecture-notes/MIT18_325F12_Appendix_A.pdf\n",
    "\n",
    "***\n",
    "\n",
    "What are we really doing here?\n",
    "\n",
    "Fitting a linear function to how a functional changes about its arguments. (that's classic differentiation -- take a linear approx evaluated at some input). But, the part that isnt making sense to me is the direction $h$.\n",
    "\n"
   ]
  },
  {
   "cell_type": "code",
   "execution_count": 23,
   "metadata": {},
   "outputs": [
    {
     "data": {
      "text/plain": [
       "array([ 1000.00022485])"
      ]
     },
     "execution_count": 23,
     "metadata": {},
     "output_type": "execute_result"
    }
   ],
   "source": [
    "# rearrange to (by setting h to be small) <-- ??;\n",
    "# functional(f+h) - functional(f) = A.h\n",
    "# does that work?\n",
    "\n",
    "# this is where we are going to evaluate the functional\n",
    "f = lambda x: x**2\n",
    "\n",
    "# wtf is h? how do we actually compute this?\n",
    "h = lambda x: np.ones_like(x)*1e-10 # ???\n",
    "\n",
    "# now define the functional\n",
    "N = 1000\n",
    "X = np.linspace(0, 1, N)\n",
    "phi = lambda f: np.sum([f(x) for x in X])\n",
    "\n",
    "def add(f, g):\n",
    "    return lambda x: f(x) + g(x)\n",
    "\n",
    "def frechet_derivative(functional, f, h):\n",
    "    \"\"\"\n",
    "    Args:\n",
    "        functional (func): functional: func -> scalar\n",
    "        f (func): The function to evaluate the derivative at. np.ndarray -> np.ndarray (or scalar?)\n",
    "        h (func): The pertubation to the argument of the functional. np.ndarray -> np.ndarray (or scalar?)\n",
    "        \n",
    "    Returns:\n",
    "        (func): (this should return a func or the value of the gradient at f?)\n",
    "    \"\"\"\n",
    "    difference = functional(add(f, h)) - functional(f)\n",
    "    # Ax = b\n",
    "    x, residuals, rank, s = np.linalg.lstsq(h(X), np.array(difference).reshape(1))\n",
    "    # this solution is under constrained? doesnt seem right.\n",
    "    # what does A.h mean? Evaluate A.h(x) at some x? It must?! But how do we solve that?\n",
    "    return x\n",
    "\n",
    "\n",
    "frechet_derivative(phi, f, h)\n",
    "# how can we visualise this?\n",
    "# what about second order?"
   ]
  },
  {
   "cell_type": "markdown",
   "metadata": {},
   "source": [
    "#### Why bother with functionals?\n",
    "\n",
    "* What does the functional prespective actually buy us? Not sure...\n",
    "* Why do we need it for working with Lagrangians?\n",
    "* \n",
    "\n",
    "Want to find the optimal function, $x(t)$, that minimises $J$. This could be framed in traditional calculus if we parametersed ($x_{\\theta}(t)$) and then minimise w.r.t $\\theta$ by following $\\frac{\\partial J}{\\partial \\theta}$ downhill. We have lost some generality here as we now need to use a specific parameterisation of x(t). But if the parameterisation can approximate the optimal solution within some tolerance then this doesnt matter? ($\\epsilon > \\parallel x^*(t) - x_{\\theta}(t) \\parallel $)\n",
    "\n",
    "When do we not care about $x(t)$? But rather ...?"
   ]
  },
  {
   "cell_type": "markdown",
   "metadata": {},
   "source": [
    "## Lagrangians\n",
    "\n",
    "The lagrangian is the integrand of a functional ?!\n",
    "\n",
    "Ok, so we want to find the function, $x(t)$ that minimises J, but how can we search over $\\mathcal X$ in any meaningful way, other than just brute-forcing the search!? How is it done in practice!? (it isnt? they use analytical solutions/approximations).\n",
    "\n",
    "When minimising a functional it seems necessary that the function(s) have some sort of ordering on them (if they are cts/infinite?), otherwise we need to evaluate every possible one (and there might be an infinite number... -- not possible to calculate).\n",
    "\n",
    "\n",
    "\n",
    "$$\n",
    "\\int^b_a L(t, x^{\\mu}, \\dot x^{\\mu}) dt \\tag{explain} \\\\\n",
    "$$\n",
    "\n",
    "#### Projection onto a line\n",
    "\n",
    "Some meaningful part of the systems state can be described by a single variable.\n",
    "Because we are projecting into the reals, we also think the states are _orderable_ according to $L$. (this seems interesting?!? we can order states according to their !?!?, loss, action, ?)\n",
    "What are we actually measuring!? Some examples/metaphors? The change in action!?\n",
    " \n",
    "_What does using a single variable buy us? What if the lagrangian returned higher dimensional values? We could generalise the sum into a 1-norm and explore other norms? Is there integral notation for other norms?_\n",
    "\n",
    "#### Sums over real values\n",
    "\n",
    "So what are we really doing when we take the integral of a lagrangian? The lagrangian returns a scalar value in the reals, and we take the sum over time of the different \n",
    "\n",
    "So why not write the lagrangian as $\\int^b_a L(t) dt$? And hide the dynamics of the system within $L$?\n",
    "\n",
    "There are two parts to the lagrangian?? The dynamics of the state variables, the conversion of state into a scalar, real value.\n",
    "\n",
    "Taking the area under the $L(t)$ curve.\n",
    "\n",
    "#### Classical mechanics\n",
    "\n",
    "If L can be defined as $L=T-V$ (kinetic energy - potential energy) then J measures $\\int T(t) - V(t) dt$ which is the sum of changes in $T,V$. But, because energy is conserved, $\\delta T \\sim \\delta V$, so ???.\n",
    "J would be large if all energy is kinetic, and small if all energy is potential.\n",
    "\n",
    "TODO. Simulate a simple example - ball rolling down hill, electron accelerating in a field?!?\n",
    "\n",
    "\n",
    "#### Non holonomic constraints\n",
    "\n",
    "Relationship to lagrangian multipliers and optimisation!?\n",
    "THe duality between generalised variables and multipliers!?\n",
    "https://en.wikipedia.org/wiki/Holonomic_constraints"
   ]
  },
  {
   "cell_type": "markdown",
   "metadata": {},
   "source": [
    "## Finding extrema\n",
    "\n",
    "Definition of extrema!? Grad = 0.\n",
    "\n",
    "The extremal solutions of a lagrangian,\n",
    "\n",
    "#### Euler lagrange\n",
    "\n",
    "$$\n",
    "\\int^b_a L(t, x^{\\mu}, \\dot x^{\\mu}) dt\n",
    "$$\n",
    "\n",
    "are given by the euler-lagrange equation.\n",
    "\n",
    "$$ \n",
    "\\frac{\\partial L}{\\partial x^{\\mu}} = \\frac{d}{dt}\\frac{\\partial L}{\\partial \\dot x^{\\mu}}\n",
    "$$\n",
    "\n",
    "\n",
    "\n",
    "$$x_{(\\epsilon)}^{\\mu} = x^{\\mu} + \\epsilon \\eta^{\\mu}$$\n",
    "\n",
    "What we are really saying is let $\\hat x_{\\mu}$ be the extremal solution, then use $x_{(\\epsilon)}^{\\mu} = \\hat x^{\\mu} + \\epsilon \\eta^{\\mu}$\n",
    "\n",
    "\n",
    "So this allows us to index nearby (according to a linear distance measure) functions, giving them an ordering/locality. We can use this to show that; \n",
    "\n",
    "$$\n",
    "J(\\epsilon) = ...\n",
    "$$\n",
    "So the functional is now a function of $\\epsilon$, so how can it still be a functional?! As $\\epsilon$ is a scalar!?\n",
    "\n",
    "\n",
    "$$\n",
    "\\frac{dJ}{d\\epsilon} = \\lim_{\\epsilon \\rightarrow 0} J(\\epsilon) - J(0)\n",
    "$$\n",
    "\n",
    "any function some distance away from f* \n",
    "\n",
    "So although we can pick $\\eta(t)$ to be any function, we have to pick one when we differentiate w.r.t $\\epsilon$. This means that we cannot index all paths between a,b with some linear combination of $\\hat x(t)$ and $\\eta(t)$ !!!???.\n",
    "\n",
    "\n",
    "Easy way to check... Evaluate empirically and check versus the derived equations."
   ]
  },
  {
   "cell_type": "code",
   "execution_count": 4,
   "metadata": {},
   "outputs": [
    {
     "name": "stdout",
     "output_type": "stream",
     "text": [
      "14.152750039\n"
     ]
    }
   ],
   "source": [
    "# import autograd.numpy as np\n",
    "# from autograd import grad\n",
    "\n",
    "a = 0; b = 1; N = 1000\n",
    "\n",
    "t = np.linspace(a, b, N)\n",
    "x = lambda t: t**2\n",
    "dx = lambda t: 2*t\n",
    "L = lambda t, x, dx: np.linalg.norm(x) \n",
    "\n",
    "J = np.sum(L(t, x(t), dx(t)))\n",
    "\n",
    "# dLdx = lambda x: \n",
    "print(J)"
   ]
  },
  {
   "cell_type": "markdown",
   "metadata": {},
   "source": [
    "#### Functions that take gradients as arguments\n",
    "\n",
    "What does a function of $x$ and $\\dot x$ look like? The derivative information is already within $x$?! So why do we need to pass $\\dot x$ in as an argument as well!?\n",
    "\n",
    "Let $y = (t, x(t), \\dot x(t))$ where $x(t) = t^2$ and thus $\\dot x(t) = 2t$. Then $y$ could be some function of $t, x(t), \\dot x(t)$...\n",
    "\n",
    "\n",
    "This reminds me of gradient descent. Where $x$ is the parameters, $t$ counts the number of iterations, and $\\dot x(t)$ is the updates. Gradient descent is then; $f(t, x(t), \\dot x(t)) = \\sum_0^T L(x(t), y), where x(t) = x(t) + \\dot x(t)$?!?! Oh... normally we need dL/dx not dx/dt!>\n",
    "\n",
    "Alternatively, we could think of $t, x(t)$ as the state of the system, and $\\dot x(t)$ as its current dynamics!?\n",
    "For example !?\n",
    "\n",
    "\n",
    "\n",
    "#### Gradients wrt to gradients\n",
    "\n",
    "What the hell is $\\frac{d y}{d \\dot x}$, what does it mean? Need some intuition.\n",
    "\n",
    "If we let $y = x(t)^2$, where $x(t) = sin(t)$ then $\\frac{dy}{d\\dot x}$ is ?? What is this really asking? How does $y$ change with changes in the gradient of $x$ wrt time?\n",
    "$\\frac{dx}{dt} = cos(t)$ so then $\\frac{d y}{d \\dot x} = $\n",
    "Well, a linear approximation to $y$ would give $y = mx + c$ aka $y = \\big[\\frac{dy}{dx}\\big]_xx + c$\n",
    "\n",
    "$\\frac{dy}{dt} = \\frac{dy}{dx}\\frac{dx}{dt} = 2xcos(t) = 2sin(t)cost(t)$\n",
    "\n",
    "\n",
    "Typical approach seems to be to treat the gradient as just another independent (from x) variable. Yea ok, i think I see. X has no effect on the value of mangnitude of the gradient (as they are evaluated at some t) (but dx/dt does effect x!?). \n",
    "Treat $y(x) = y(x, v), v = \\dot x$ then $y = x^2, \\frac{\\partial y}{\\partial v} = 0$.\n",
    "But this isnt true? See picture? Maybe that is just correlation though? Not dependence? But it has implicit dependence, because how $x$ changes shapes how $y$ changes!?!\n",
    "\n",
    "Example. Velocity.\n"
   ]
  },
  {
   "cell_type": "code",
   "execution_count": 32,
   "metadata": {},
   "outputs": [
    {
     "data": {
      "text/plain": [
       "<matplotlib.legend.Legend at 0xaf740a50>"
      ]
     },
     "execution_count": 32,
     "metadata": {},
     "output_type": "execute_result"
    },
    {
     "data": {
      "image/png": "[encoded data removed]",
      "text/plain": [
       "<matplotlib.figure.Figure at 0xaf7daa30>"
      ]
     },
     "metadata": {},
     "output_type": "display_data"
    }
   ],
   "source": [
    "t = np.linspace(-np.pi, np.pi, N)\n",
    "x = np.sin(t)\n",
    "y = x**2\n",
    "dxdt = np.cos(t)\n",
    "\n",
    "plt.figure(figsize=(12, 6))\n",
    "plt.plot(t, y, label='y ~ t')\n",
    "plt.plot(x, y, label='y ~ x')\n",
    "plt.plot(dxdt, y, label='y ~ dxdt')\n",
    "plt.legend()"
   ]
  },
  {
   "cell_type": "markdown",
   "metadata": {},
   "source": [
    "\n",
    "\n",
    "#### A worked example\n",
    "\n",
    "How does euler-lagrange actually help us find extremal solutions?\n",
    "\n"
   ]
  },
  {
   "cell_type": "markdown",
   "metadata": {},
   "source": [
    "## Invariance\n",
    "\n",
    "How is conservation and invariance different?\n",
    "\n",
    "Iff there is a symmetry then there is an invariant (?).\n",
    "\n",
    "\n",
    "#### Infinitesimal transformations\n",
    "\n",
    "Let T, Q be arbitrary (?) transformations, then we can approximate them with a taylor expansion\n",
    "\n",
    "$$\n",
    "t' = t + \\epsilon \\tau + \\dots \\\\\n",
    "q'^{\\mu} = q^{\\mu} + \\epsilon \\zeta^{\\mu} + \\dots\\\\\n",
    "$$\n",
    "\n",
    "What is with the expanded definition of invariance? Approximate invariance $\\sim$ within some $\\epsilon$. I am not quite sure how approximate invariance can lead to conservation, it seems like the small difference in values would slowly leak out and break the conservation? Approximate invariance implies conservation!?!??!\n",
    "\n",
    "\n",
    "#### Rund-Trautman identity\n",
    "\n",
    "If the functional $J = \\int^b_a L(t, x^{\\mu}, \\dot x^{\\mu}) dt$ is invariant under the infinitesimal transformation $t' = t + \\epsilon \\tau + \\dots, q'^{\\mu} = q^{\\mu} + \\epsilon \\zeta^{\\mu} + \\dots $ then \n",
    "\n",
    "$$\n",
    "\\frac{\\partial L}{\\partial q^{\\mu}}\\zeta^{\\mu} + p_{\\mu}\\dot\\zeta^{\\mu} + \\frac{\\partial L}{\\partial t}\\tau - H\\dot \\tau = 0\n",
    "$$\n",
    "\n",
    "_Ok. What would it take to generalise this to discrete variables?! To non-cts transformations? _\n",
    "\n",
    "#### Approximate invariance"
   ]
  },
  {
   "cell_type": "markdown",
   "metadata": {},
   "source": [
    "## Questions\n",
    "\n",
    "* __Q__: So wtf is conservation? How is it different to invariance?\n",
    "* __Q__: When does a symmetry not have a conserved quantity? (by the definition of symmetries -- invariance to a transformation -- you would expect that that, given the 'right' measure of some quantity, it would be conserved?\n",
    "* __Q__: Wouldnt/shouldnt some of the conserved quantity leak away if it isnt perfectly invariant!?"
   ]
  },
  {
   "cell_type": "markdown",
   "metadata": {},
   "source": [
    "## Discrete symmetries\n",
    "\n",
    "Need discrete dynamical systems!?\n",
    "\n",
    "* https://arxiv.org/abs/1103.4785\n",
    "* https://arxiv.org/abs/1203.1206\n",
    "* https://arxiv.org/abs/1106.3597\n",
    "* https://arxiv.org/abs/1103.3267 \n",
    "\n",
    "* Discrete conservation https://physics.stackexchange.com/questions/8518/is-there-something-similar-to-noethers-theorem-for-discrete-symmetries"
   ]
  },
  {
   "cell_type": "markdown",
   "metadata": {},
   "source": [
    "## Resources\n",
    "\n",
    "* Looking glass universe\n",
    "* The book [Emmy Noether's wonderful theorem]()"
   ]
  }
 ],
 "metadata": {
  "kernelspec": {
   "display_name": "Python 2",
   "language": "python",
   "name": "python2"
  },
  "language_info": {
   "codemirror_mode": {
    "name": "ipython",
    "version": 2
   },
   "file_extension": ".py",
   "mimetype": "text/x-python",
   "name": "python",
   "nbconvert_exporter": "python",
   "pygments_lexer": "ipython2",
   "version": "2.7.12"
  }
 },
 "nbformat": 4,
 "nbformat_minor": 2
}
