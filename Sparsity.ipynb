{
 "cells": [
  {
   "cell_type": "markdown",
   "metadata": {},
   "source": [
    "Why not have a over-complete mid layer in a autoencoder? Because it can learn the identity. But what if we enforce sparsity conditions. \n",
    "\n",
    "Sparse representations are better than dense ones because;\n",
    "\n",
    "Pros\n",
    "* it gives each dimension more meaning (??)\n",
    "* we can interpret\n",
    "\n",
    "Cons\n",
    "* it cant learn similarities, (like embedding vectors?)\n",
    "* \n",
    "\n",
    "### Language\n",
    "how is this similar to language?\n",
    "we want a set of basic units, that can be __composed__. so not real values, but distinct types, like each letter in the alphabet? \n",
    "\n",
    "\n",
    "### Information theory\n",
    "\n",
    "reminds me of communication through a channel. we want it to have low entropy. (is language efficient at this, what is the most efficnet method?)\n",
    "\n",
    "### Rank ordered autoencoders\n",
    "\n"
   ]
  }
 ],
 "metadata": {
  "kernelspec": {
   "display_name": "Python 3",
   "language": "python",
   "name": "python3"
  },
  "language_info": {
   "codemirror_mode": {
    "name": "ipython",
    "version": 3
   },
   "file_extension": ".py",
   "mimetype": "text/x-python",
   "name": "python",
   "nbconvert_exporter": "python",
   "pygments_lexer": "ipython3",
   "version": "3.5.1"
  }
 },
 "nbformat": 4,
 "nbformat_minor": 0
}
