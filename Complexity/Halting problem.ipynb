{
 "cells": [
  {
   "cell_type": "markdown",
   "metadata": {},
   "source": [
    "Ok, this has been bugging me for a while, and I have finally taken the time to investigate it. The halting problem just doesn't seem right, I call bullshit.\n",
    "\n",
    "We are given a program, $\\mathcal{P}$ and want to decide if it will halt.\n",
    "\n",
    "### Proofs\n",
    "\n",
    "##### Scott Aaronson's book - Quantum computing since Democritus\n",
    "\n",
    "* Suppose there exists $\\mathcal{P}$.\n",
    "* Then let $\\mathcal{A}$ be another program which recieves another program $\\mathcal{B}$ as input. $\\mathcal{A}$ ;\n",
    "    * runs forever if $\\mathcal{B}$ halts given its own code as input, or\n",
    "    * halts if $\\mathcal{B}$ runs forever given its own code as input.\n",
    "    \n",
    "\n"
   ]
  },
  {
   "cell_type": "markdown",
   "metadata": {},
   "source": [
    "God. The language used is confusing. Screw it, i'll try and prove it myself.\n",
    "\n",
    "\n",
    "```python\n",
    "def P(prog,inputs):\n",
    "    if does_halt(prog(inputs)):\n",
    "        return True\n",
    "    else:\n",
    "        return False\n",
    "        \n",
    "def Q(prog):\n",
    "    while True:\n",
    "        #if the prog halths\n",
    "        if P(prog,prog) == True:\n",
    "            pass #then run forever\n",
    "            \n",
    "        #if the prog doesnt halt\n",
    "        if P(prog,prog) == False:\n",
    "            break #then halt - although this is unnecessary\n",
    "            \n",
    "#now call Q on itself.\n",
    "Q(Q)\n",
    "```\n",
    "\n",
    "*****\n",
    "```python\n",
    "\n",
    "def Q(prog):\n",
    "    while True:\n",
    "        #if the prog halts when feed its own code as input\n",
    "        if does_halt(prog(prog)):\n",
    "            pass #then run forever\n",
    "            \n",
    "        #else if the prog doesnt halt when feed its own code as input\n",
    "        \n",
    "        elif not does_halt(prog(prog)):\n",
    "            break #then halt\n",
    "            \n",
    "#now call Q on itself.\n",
    "Q(Q)\n",
    "\n",
    "```\n",
    "The second part of this program -- ```if not does_halt(prog(prog)): break``` -- seems logically incoherent to me. How can it ever be known that something will run forever? Well that is what we assumed at the start, the ```does_halt``` program.\n",
    " \n",
    "Well no, that isn't strictly true. We assumed that it could tell us if it a program halts, which is a feasible task (if not requiring an extreme amount of resources and patients). The part I have a problem with is the ```else```. So this implies that we have tested the algorithm over infinite time and we can deduce that it never halted. How is this possible? It isn't as far as I can see.\n",
    "\n",
    "```else```, or ```elif```? could be important?\n",
    "*****\n",
    "\n",
    "So then can it be reduced to this?\n",
    "```python\n",
    "def Q(prog):\n",
    "    while True:\n",
    "        #if the prog halts when feed its own code as input\n",
    "        if does_halt(prog(prog)):\n",
    "            pass #then run forever\n",
    "            \n",
    "#now call Q on itself.\n",
    "Q(Q)\n",
    "\n",
    "```\n",
    "But now it seem trivial. The program will run forever."
   ]
  },
  {
   "cell_type": "markdown",
   "metadata": {},
   "source": [
    "##### How does this ```does_halt``` function work? This is where the tricky stuff is hidden\n",
    "\n",
    "I am suspicious of this abstraction as we are no longer bound to what is physically possible. And for this to be true in our universe we need it to be true for a physically realisable Turing machine."
   ]
  },
  {
   "cell_type": "markdown",
   "metadata": {},
   "source": [
    "### But I can look at an algorithm and figure out if it will halt\n",
    "\n",
    "```python\n",
    "def Algol_1():\n",
    "    while True:\n",
    "        pass\n",
    "        \n",
    "def Algol_2():\n",
    "    x = 0\n",
    "    while True:\n",
    "        if x > 100**100**100**100:\n",
    "            break\n",
    "        else:\n",
    "            x+=1\n",
    "```\n",
    "Algol_1 will not halt. Algol_2 will halt. QED.\n",
    "\n",
    "Oh... Nevermind.\n",
    "\n",
    "> Alan Turing proved in 1936 that a general algorithm to solve the halting problem for all possible program-input pairs cannot exist.\n",
    "\n",
    "Ok, so this still doesn't satisfy me. We know that there exists specific algorithms to determine whether some (or all?) algorithms will halt (examples above). So why can't we cant just make a general algorithm out of these specific ones? E.g. create an ensemble of if-then statements for different specific-halting-problem-solvers - specific-program-input-pairs pairs. This implies that some specific subset of programs are undecidable. Which ones? Why?"
   ]
  },
  {
   "cell_type": "markdown",
   "metadata": {},
   "source": [
    "##### Does this argument hold?\n",
    "\n",
    "Is this argument consistent? Or is there a flaw? Let's test it out on a couple of other things.\n",
    "\n",
    "Hmm, can you really do that? The abstractness bothers me. Assume there exists a function than can tell us whether there is a god. \n",
    "\n",
    "https://en.wikipedia.org/wiki/Cantor%27s_diagonal_argument"
   ]
  },
  {
   "cell_type": "markdown",
   "metadata": {},
   "source": [
    "##### Connections to other results\n",
    "\n",
    "* Proof as a corollary of the uncomputability of Kolmogorov complexity\n",
    "* Equivalent to Godel's incompleteness theorem?\n",
    "* Related to EWA and random adversarial behaviour?"
   ]
  }
 ],
 "metadata": {
  "kernelspec": {
   "display_name": "Python 3",
   "language": "python",
   "name": "python3"
  },
  "language_info": {
   "codemirror_mode": {
    "name": "ipython",
    "version": 3
   },
   "file_extension": ".py",
   "mimetype": "text/x-python",
   "name": "python",
   "nbconvert_exporter": "python",
   "pygments_lexer": "ipython3",
   "version": "3.5.1"
  }
 },
 "nbformat": 4,
 "nbformat_minor": 0
}
