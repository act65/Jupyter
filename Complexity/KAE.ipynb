{
 "cells": [
  {
   "cell_type": "markdown",
   "metadata": {},
   "source": [
    "# Representation learning\n",
    "\n",
    "What is the goal?\n",
    "To find underlying structure and patterns in your data.\n",
    "\n",
    "## Auto encoders\n",
    "\n",
    "Learn to recreate your inputs using only a certain amount of features.\n",
    "These features explain the data. The key to good explanations is?\n",
    "\n",
    "\n",
    "## Kolmogorov complexity (KC)\n",
    "\n",
    "> The (Kolmogorov) complexity of a string is the length of the shortest possible description of the string in some fixed universal description language. ([Wikipedia](https://en.wikipedia.org/wiki/Kolmogorov_complexity#Definition))\n",
    "\n",
    "Traditionally the kolmogorov complexity cannot be calculated. However, we define our string as the auto encoders input and the universal description language as the network topology (weights and nodes, activation function...). Thus, we can define the kolmogorov complexity of a data set as the size of the smallest autoencoder that can recreate it. \n",
    "\n",
    "## Applications to unsupervised learning\n",
    "\n",
    "We want to minimise the KC of the auto encoder, as this gives us the best features that explain the data (proof?!?).\n",
    "\n",
    "$$ KC (Net_{topology}) =( \\sum v_{connections})^{d_{depth} + w_{width}}$$\n",
    "\n",
    "The KC should be some function that is proportional to the shape, size, topology, ... of the neural network. \n",
    "\n",
    "Could we say that KC the amount of space (MB) required to store the net??\n",
    "\n",
    "\n",
    "Since, neural networks are universal this is acceptable???\n",
    "\n",
    "#### Pseudo code\n",
    "\n",
    "```python\n",
    "# Init the network\n",
    "# The init sets the network to be undersized\n",
    "Net = UnsupervisedLearner()\n",
    "\n",
    "while loss>tolerance:\n",
    "    loss = Net.autoencode(dataset)\n",
    "    \n",
    "\n",
    "\n",
    "```\n",
    "How do we know when to add width/depth/recurrence/weight-tying/???"
   ]
  }
 ],
 "metadata": {
  "kernelspec": {
   "display_name": "Python 3",
   "language": "python",
   "name": "python3"
  },
  "language_info": {
   "codemirror_mode": {
    "name": "ipython",
    "version": 3
   },
   "file_extension": ".py",
   "mimetype": "text/x-python",
   "name": "python",
   "nbconvert_exporter": "python",
   "pygments_lexer": "ipython3",
   "version": "3.5.1"
  }
 },
 "nbformat": 4,
 "nbformat_minor": 0
}
