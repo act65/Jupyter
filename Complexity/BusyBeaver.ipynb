{
 "cells": [
  {
   "cell_type": "markdown",
   "metadata": {},
   "source": [
    "Now, a quick aside. We can use this current TuringMachine class to investigate the busy beaver problem. How can we design an TM that print the maximum amount of 1s, and halts? "
   ]
  },
  {
   "cell_type": "code",
   "execution_count": 1,
   "metadata": {
    "collapsed": false
   },
   "outputs": [
    {
     "name": "stdout",
     "output_type": "stream",
     "text": [
      "1 state\n"
     ]
    },
    {
     "ename": "NameError",
     "evalue": "name 'TuringMachine' is not defined",
     "output_type": "error",
     "traceback": [
      "\u001b[0;31m---------------------------------------------------------------------------\u001b[0m",
      "\u001b[0;31mNameError\u001b[0m                                 Traceback (most recent call last)",
      "\u001b[0;32m<ipython-input-1-dc48682bbdaa>\u001b[0m in \u001b[0;36m<module>\u001b[0;34m()\u001b[0m\n\u001b[1;32m      2\u001b[0m \u001b[0mprint\u001b[0m\u001b[0;34m(\u001b[0m\u001b[0;34m\"1 state\"\u001b[0m\u001b[0;34m)\u001b[0m\u001b[0;34m\u001b[0m\u001b[0m\n\u001b[1;32m      3\u001b[0m \u001b[0mtransition_function\u001b[0m \u001b[0;34m=\u001b[0m \u001b[0;34m{\u001b[0m\u001b[0;34m(\u001b[0m\u001b[0;34m\"A\"\u001b[0m\u001b[0;34m,\u001b[0m\u001b[0;34m\"0\"\u001b[0m\u001b[0;34m)\u001b[0m\u001b[0;34m:\u001b[0m\u001b[0;34m(\u001b[0m\u001b[0;34m\"final\"\u001b[0m\u001b[0;34m,\u001b[0m\u001b[0;34m\"1\"\u001b[0m\u001b[0;34m,\u001b[0m\u001b[0;36m1\u001b[0m\u001b[0;34m)\u001b[0m\u001b[0;34m}\u001b[0m\u001b[0;34m\u001b[0m\u001b[0m\n\u001b[0;32m----> 4\u001b[0;31m t = TuringMachine(tape = \"000000 \", initial_state = \"A\", final_states = [\"final\"], \n\u001b[0m\u001b[1;32m      5\u001b[0m                   transition_function=transition_function)\n\u001b[1;32m      6\u001b[0m \u001b[0mprint\u001b[0m\u001b[0;34m(\u001b[0m\u001b[0;34m\"Input on Tape:\"\u001b[0m\u001b[0;34m)\u001b[0m\u001b[0;34m\u001b[0m\u001b[0m\n",
      "\u001b[0;31mNameError\u001b[0m: name 'TuringMachine' is not defined"
     ]
    }
   ],
   "source": [
    "### Busy beaver\n",
    "print(\"1 state\")\n",
    "transition_function = {(\"A\",\"0\"):(\"final\",\"1\",1)}\n",
    "t = TuringMachine(tape = \"000000 \", initial_state = \"A\", final_states = [\"final\"], \n",
    "                  transition_function=transition_function)\n",
    "print(\"Input on Tape:\")\n",
    "t.get_tape()\n",
    "while not t.is_final():\n",
    "    t.step()\n",
    "print(\"Result of TM calculation:\")    \n",
    "t.get_tape()\n",
    "\n",
    "print(\"\\n2 state\")\n",
    "transition_function = {(\"A\",\"0\"):(\"B\",\"1\",1),\n",
    "                       (\"A\",\"1\"):(\"B\",\"1\",-1),\n",
    "                       (\"B\",\"0\"):(\"A\",\"1\",-1),\n",
    "                       (\"B\",\"1\"):(\"final\",\"1\",1)}\n",
    "t = TuringMachine(tape = \"00000000000 \", initial_state = \"A\", final_states = [\"final\"], head_position = 5,\n",
    "                  transition_function=transition_function)\n",
    "print(\"Input on Tape:\")\n",
    "t.get_tape()\n",
    "while not t.is_final():\n",
    "    t.step()\n",
    "print(\"Result of TM calculation:\")    \n",
    "t.get_tape()\n",
    "\n",
    "print(\"\\n3 state\")\n",
    "transition_function = {(\"A\",\"0\"):(\"B\",\"1\",1),\n",
    "                       (\"A\",\"1\"):(\"final\",\"1\",1),\n",
    "                       (\"B\",\"0\"):(\"C\",\"0\",1),\n",
    "                       (\"B\",\"1\"):(\"B\",\"1\",1),\n",
    "                       (\"C\",\"0\"):(\"C\",\"1\",-1),\n",
    "                       (\"C\",\"1\"):(\"A\",\"1\",1)}\n",
    "\n",
    "t = TuringMachine(tape = \"00000000000000 \", initial_state = \"A\", final_states = [\"final\"], head_position = 5,\n",
    "                  transition_function=transition_function)\n",
    "print(\"Input on Tape:\")\n",
    "t.get_tape()\n",
    "while not t.is_final():\n",
    "    t.step()\n",
    "print(\"Result of TM calculation:\")    \n",
    "t.get_tape()"
   ]
  },
  {
   "cell_type": "code",
   "execution_count": null,
   "metadata": {
    "collapsed": true
   },
   "outputs": [],
   "source": []
  }
 ],
 "metadata": {
  "kernelspec": {
   "display_name": "Python 3",
   "language": "python",
   "name": "python3"
  },
  "language_info": {
   "codemirror_mode": {
    "name": "ipython",
    "version": 3
   },
   "file_extension": ".py",
   "mimetype": "text/x-python",
   "name": "python",
   "nbconvert_exporter": "python",
   "pygments_lexer": "ipython3",
   "version": "3.4.3"
  }
 },
 "nbformat": 4,
 "nbformat_minor": 0
}
