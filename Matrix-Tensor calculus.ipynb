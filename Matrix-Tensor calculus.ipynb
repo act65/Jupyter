{
 "cells": [
  {
   "cell_type": "markdown",
   "metadata": {},
   "source": [
    "\n",
    "### Matrix - scalar\n",
    "$$ \n",
    "\\begin{align}\n",
    "f(X) :&= \\mathbb{R}^{m\\times n} \\rightarrow \\mathbb{R} \\\\\n",
    "f'(X) :&= \\mathbb{R}^{m\\times n} \\rightarrow \\mathbb{R}^{m \\times n} \\tag{Jacobian.} \\\\\n",
    "f''(X) :&= \\mathbb{R}^{m \\times n} \\rightarrow \\mathbb{R}^{(m\\times n)\\times (m\\times n)} \\tag{Hessian} \\\\\n",
    "&= \\mathbb{R}^{mn\\times mn} \\tag{Flattened into 2d} \\\\\n",
    "\\end{align}\n",
    "$$\n",
    "\n",
    "or is it $(mxm)x(nxn)$??\n",
    "\n",
    "Jacobian/Hessian should be \n",
    "\n",
    "\n",
    "> _Desiderata: The derivative of a matrix–matrix function should be a matrix, so that we can directly use it to compute the Hessian._\n",
    "\n",
    "### Matrix - matrix\n",
    "\n",
    "\n",
    "$$\\frac {\\partial F}{\\partial X} := \\frac{\\partial vec(F^T)}{\\partial vec^T(X^T)}$$\n",
    "\n",
    "> _Desiderata: The derivative of a matrix-matrix function should be a matrix, so that a convenient chain-rule can be established._\n",
    "\n",
    "\n",
    "***\n",
    "\n",
    "Note that the matrix–matrix derivative of a scalar–matrix function is not the same as the scalar–matrix derivative."
   ]
  },
  {
   "cell_type": "markdown",
   "metadata": {},
   "source": [
    "$\\frac {\\partial F}{\\partial X} = \\frac{\\partial vec(F^T)}{\\partial vec^T(X^T)}$\n",
    "\n",
    "http://researcher.watson.ibm.com/researcher/files/us-pederao/ADTalk.pdf"
   ]
  }
 ],
 "metadata": {
  "kernelspec": {
   "display_name": "Python 3",
   "language": "python",
   "name": "python3"
  },
  "language_info": {
   "codemirror_mode": {
    "name": "ipython",
    "version": 3
   },
   "file_extension": ".py",
   "mimetype": "text/x-python",
   "name": "python",
   "nbconvert_exporter": "python",
   "pygments_lexer": "ipython3",
   "version": "3.5.1"
  }
 },
 "nbformat": 4,
 "nbformat_minor": 0
}
