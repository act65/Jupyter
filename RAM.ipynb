{
 "cells": [
  {
   "cell_type": "code",
   "execution_count": 1,
   "metadata": {
    "collapsed": true
   },
   "outputs": [],
   "source": [
    "import tensorflow as tf"
   ]
  },
  {
   "cell_type": "markdown",
   "metadata": {},
   "source": [
    "An exploration of ideas related to [**Reasoning, attention and memory**](http://www.thespermwhale.com/jaseweston/ram/)\n",
    "\n",
    "* [NTM]()\n",
    "* [DRAW]()\n",
    "* ?\n",
    "\n",
    "\n",
    "```python\n",
    "\n",
    "\n",
    "\n",
    "```"
   ]
  },
  {
   "cell_type": "markdown",
   "metadata": {},
   "source": [
    "### Memory\n",
    "\n",
    "What do we want to remember? \n",
    "\n",
    "Weirdly, the long term memory is in the networks that learn to read/write to the 'memory'.\n",
    "\n",
    "Potential methods?\n",
    "* Sort [Rank ordered auto encoders]()\n",
    "* Associate? ??\n",
    "\n",
    "Encoding?\n",
    "* cts, distrete?\n",
    "* real, complex, ?\n",
    "* linear array, matrix, ..?\n",
    "\n",
    "Reading and writing\n",
    "\n",
    "\n",
    "Update rules"
   ]
  },
  {
   "cell_type": "code",
   "execution_count": 9,
   "metadata": {
    "collapsed": false
   },
   "outputs": [],
   "source": [
    "class Memory():\n",
    "    \"\"\"\n",
    "    A class to store the hidden state, or memory of our learner.\n",
    "    \n",
    "    \"\"\"\n",
    "    def __init__(self,size):\n",
    "        self.memories = tf.Variable(tf.truncated_normal(shape=(size,1)),name='memories') #just an array.\n",
    "        \n",
    "    "
   ]
  },
  {
   "cell_type": "markdown",
   "metadata": {},
   "source": [
    "### Attention\n",
    "\n",
    "\n",
    "Why is attention good?\n",
    "\n",
    "* Forces our nets to think about what is most important to the task at hand.\n",
    "* More efficient (?)\n",
    "* \n",
    "\n",
    "\n",
    "##### Questions\n",
    "\n",
    "* Is there such a thing as distributed attention, or does that not make sense?\n",
    "* What if there are two attention mechanisms? Where one can 'pay attention' to the other? (recursive?)\n",
    "* "
   ]
  },
  {
   "cell_type": "code",
   "execution_count": null,
   "metadata": {
    "collapsed": true
   },
   "outputs": [],
   "source": []
  },
  {
   "cell_type": "markdown",
   "metadata": {},
   "source": [
    "### Controller\n",
    "\n"
   ]
  },
  {
   "cell_type": "code",
   "execution_count": null,
   "metadata": {
    "collapsed": true
   },
   "outputs": [],
   "source": []
  },
  {
   "cell_type": "markdown",
   "metadata": {},
   "source": [
    "Ok, lets put it all together."
   ]
  },
  {
   "cell_type": "code",
   "execution_count": 4,
   "metadata": {
    "collapsed": true
   },
   "outputs": [],
   "source": [
    "#### Hyperparameters\n",
    "memory_size = 100 #what if we have multiple separate memory repositories?\n",
    "\n",
    "batch_size = 50"
   ]
  },
  {
   "cell_type": "code",
   "execution_count": 5,
   "metadata": {
    "collapsed": false
   },
   "outputs": [],
   "source": [
    "from fuel.datasets import MNIST\n",
    "mnist = MNIST(('train',))\n",
    "state = mnist.open()\n",
    "\n",
    "from fuel.schemes import ShuffledScheme \n",
    "scheme = ShuffledScheme(examples=int(mnist.num_examples), batch_size=batch_size)"
   ]
  }
 ],
 "metadata": {
  "kernelspec": {
   "display_name": "Python 3",
   "language": "python",
   "name": "python3"
  },
  "language_info": {
   "codemirror_mode": {
    "name": "ipython",
    "version": 3
   },
   "file_extension": ".py",
   "mimetype": "text/x-python",
   "name": "python",
   "nbconvert_exporter": "python",
   "pygments_lexer": "ipython3",
   "version": "3.5.1"
  }
 },
 "nbformat": 4,
 "nbformat_minor": 0
}
