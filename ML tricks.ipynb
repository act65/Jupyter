{
 "cells": [
  {
   "cell_type": "markdown",
   "metadata": {},
   "source": [
    "## Kernel trick\n",
    "\n",
    "We want to transform our data into a different vector space, where it makes sense to compare their similarity.\n",
    "* Why does it not make sense to compare their similarity in certain spaces?\n",
    "* \n",
    "\n",
    "$$\n",
    "\\begin{align}\n",
    "S(x_i,x_j) = <K(x_i),K(x_j)>\n",
    "\\end{align}\n",
    "$$\n",
    "\n",
    "The similarity between two vectors in some space. Where the space is one we have done some non-linear transform on the data.\n",
    "\n",
    "\n",
    "* Which kernels can/should you use?\n",
    "* What about transforming to an infinite space? A proof?? Supposedly $e^{-\\parallel x_i - x_j \\parallel}$ is an example\n",
    "\n",
    "\n",
    "Directly represent a similarity funcotion in the original space, that uses an infinite dimensional kernel.\n",
    "\n",
    "\n",
    "### Resources\n",
    "\n",
    "* http://www.eric-kim.net/eric-kim-net/posts/1/kernel_trick.html\n",
    "* http://crsouza.com/2010/03/kernel-functions-for-machine-learning-applications/\n",
    "* https://www.quora.com/What-is-the-kernel-trick"
   ]
  },
  {
   "cell_type": "markdown",
   "metadata": {},
   "source": [
    "## Log - derivative\n",
    "\n",
    "\n",
    "## Gumbel-softmax\n",
    "\n",
    "## ??"
   ]
  }
 ],
 "metadata": {
  "kernelspec": {
   "display_name": "Python 3",
   "language": "python",
   "name": "python3"
  },
  "language_info": {
   "codemirror_mode": {
    "name": "ipython",
    "version": 3
   },
   "file_extension": ".py",
   "mimetype": "text/x-python",
   "name": "python",
   "nbconvert_exporter": "python",
   "pygments_lexer": "ipython3",
   "version": "3.5.2"
  }
 },
 "nbformat": 4,
 "nbformat_minor": 0
}
