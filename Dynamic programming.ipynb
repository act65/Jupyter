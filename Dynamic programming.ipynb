{
 "cells": [
  {
   "cell_type": "markdown",
   "metadata": {},
   "source": [
    "```python\n",
    "goal = Goal.Lossfn\n",
    "net = Net()\n",
    "\n",
    "\n",
    "loss_fns = Net.run(goal)\n",
    "```\n",
    "\n",
    "Want: A network that learns to split up a single larger loss function into smaller subtasks. Agents can then bid/barter/compete for resources to attempt to reduce loss."
   ]
  }
 ],
 "metadata": {
  "kernelspec": {
   "display_name": "Python 3",
   "language": "python",
   "name": "python3"
  },
  "language_info": {
   "codemirror_mode": {
    "name": "ipython",
    "version": 3
   },
   "file_extension": ".py",
   "mimetype": "text/x-python",
   "name": "python",
   "nbconvert_exporter": "python",
   "pygments_lexer": "ipython3",
   "version": "3.5.1"
  }
 },
 "nbformat": 4,
 "nbformat_minor": 0
}
