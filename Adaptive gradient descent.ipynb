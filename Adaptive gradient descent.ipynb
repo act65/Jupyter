{
 "cells": [
  {
   "cell_type": "markdown",
   "metadata": {},
   "source": [
    "### (Nesterov) Momentum\n",
    "\n",
    "* http://blog.mrtz.org/2013/09/07/the-zen-of-gradient-descent.html\n",
    "* https://blogs.princeton.edu/imabandit/2013/04/01/acceleratedgradientdescent/"
   ]
  }
 ],
 "metadata": {
  "kernelspec": {
   "display_name": "Julia 0.4.6",
   "language": "julia",
   "name": "julia-0.4"
  },
  "language_info": {
   "file_extension": ".jl",
   "mimetype": "application/julia",
   "name": "julia",
   "version": "0.4.6"
  }
 },
 "nbformat": 4,
 "nbformat_minor": 0
}
