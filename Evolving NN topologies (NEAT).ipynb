{
 "cells": [
  {
   "cell_type": "markdown",
   "metadata": {},
   "source": [
    "We are going to investigate neural networks (NNs) that can change their topology. \n",
    "\n",
    "We will start with a simple algorithm. Use a genetic algorithm to optimise network topology using the NNs output as a measure for fittness.\n",
    "\n",
    "* Generate a popuation of genomes that encode a NN\n",
    "* Translate a genome to create a NN and forward progagate inputs to generate outputs\n",
    "* Calculate an error value, using outputs for the NN and a target function, and assign it as a genomes fitness\n",
    "* Sort the genomes, depending on fittness, so that \n",
    "\n",
    "\n",
    "So "
   ]
  },
  {
   "cell_type": "code",
   "execution_count": 1,
   "metadata": {
    "collapsed": false
   },
   "outputs": [
    {
     "ename": "ImportError",
     "evalue": "No module named 'GeneticAlgorithm'",
     "output_type": "error",
     "traceback": [
      "\u001b[0;31m---------------------------------------------------------------------------\u001b[0m",
      "\u001b[0;31mImportError\u001b[0m                               Traceback (most recent call last)",
      "\u001b[0;32m<ipython-input-1-11ba306153d0>\u001b[0m in \u001b[0;36m<module>\u001b[0;34m()\u001b[0m\n\u001b[0;32m----> 1\u001b[0;31m \u001b[0;32mimport\u001b[0m \u001b[0mGeneticAlgorithm\u001b[0m \u001b[0;32mas\u001b[0m \u001b[0mGA\u001b[0m\u001b[0;34m\u001b[0m\u001b[0m\n\u001b[0m",
      "\u001b[0;31mImportError\u001b[0m: No module named 'GeneticAlgorithm'"
     ]
    }
   ],
   "source": [
    "import GeneticAlgorithm as GA"
   ]
  },
  {
   "cell_type": "markdown",
   "metadata": {},
   "source": [
    "So we have modeled how this genetic algorithm works by using natural selection as a template, where organisms compete and reproduce. However, it is not necessary for organisms to reproduce or xxxxxx to produce optimisation.\n",
    "\n",
    "So, what are the required processes for genetic algorithm optimisation?"
   ]
  }
 ],
 "metadata": {
  "kernelspec": {
   "display_name": "Python 3",
   "language": "python",
   "name": "python3"
  },
  "language_info": {
   "codemirror_mode": {
    "name": "ipython",
    "version": 3
   },
   "file_extension": ".py",
   "mimetype": "text/x-python",
   "name": "python",
   "nbconvert_exporter": "python",
   "pygments_lexer": "ipython3",
   "version": "3.4.4"
  }
 },
 "nbformat": 4,
 "nbformat_minor": 0
}
