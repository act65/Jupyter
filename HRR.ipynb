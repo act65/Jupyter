{
 "cells": [
  {
   "cell_type": "markdown",
   "metadata": {},
   "source": [
    "Circular convolution. (cool)\n",
    "\n",
    "* It has a certain symmetry. What is the underlying structure that we are permuting??\n",
    "* Klein 4 group?\n",
    "\n",
    "\\begin{align*}\n",
    "\\begin{bmatrix}\n",
    "a_{1}b_{1} & a_{2}b_{4} & a_{3}b_{3} & a_{4}b_{2} \\\\\n",
    "a_{1}b_{2} & a_{2}b_{1} & a_{3}b_{4} & a_{4}b_{3} \\\\\n",
    "a_{1}b_{3} & a_{2}b_{2} & a_{3}b_{1} & a_{4}b_{4} \\\\\n",
    "a_{1}b_{4} & a_{2}b_{3} & a_{3}b_{2} & a_{4}b_{1} \\\\\n",
    "\\end{bmatrix}\n",
    "\\end{align*}\n",
    "\n",
    "\\begin{align*}\n",
    "\\begin{bmatrix}\n",
    "1234 & 4123&3412 &2341 \\\\\n",
    "\\end{bmatrix} \n",
    "\\tag{Columns of b}\n",
    "&= \\begin{bmatrix}\n",
    "() & (1234) & (13)(24) & (4321) \\\\\n",
    "\\end{bmatrix} \n",
    "\\end{align*}\n",
    "\n",
    "\\begin{align*}\n",
    "\\begin{bmatrix}\n",
    "1432 \\\\ 2143 \\\\ 3214 \\\\ 4321 \\\\\n",
    "\\end{bmatrix}\n",
    "\\tag{Rows of b} =\n",
    "\\begin{bmatrix}\n",
    "(24) \\\\ (12)(34) \\\\ (13)(24) \\\\ (14)(23) \\\\\n",
    "\\end{bmatrix}\n",
    "\\end{align*}\n"
   ]
  }
 ],
 "metadata": {
  "kernelspec": {
   "display_name": "Python 3",
   "language": "python",
   "name": "python3"
  },
  "language_info": {
   "codemirror_mode": {
    "name": "ipython",
    "version": 3
   },
   "file_extension": ".py",
   "mimetype": "text/x-python",
   "name": "python",
   "nbconvert_exporter": "python",
   "pygments_lexer": "ipython3",
   "version": "3.5.2"
  }
 },
 "nbformat": 4,
 "nbformat_minor": 0
}
