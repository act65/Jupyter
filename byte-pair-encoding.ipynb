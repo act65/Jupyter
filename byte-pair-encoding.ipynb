{
 "cells": [
  {
   "cell_type": "code",
   "execution_count": 2,
   "metadata": {
    "collapsed": true
   },
   "outputs": [],
   "source": [
    "import numpy as np\n",
    "import matplotlib.pyplot as plt\n",
    "%matplotlib inline"
   ]
  },
  {
   "cell_type": "code",
   "execution_count": 4,
   "metadata": {
    "collapsed": true
   },
   "outputs": [],
   "source": [
    "d = 4096\n",
    "fname = '/Volumes/ExtraDiskSpace/Documents/testing_word_encodings/dorian-grad_encoded-bpe4096.txt'\n",
    "with open(fname, 'rt') as f:\n",
    "    raw = f.read()"
   ]
  },
  {
   "cell_type": "code",
   "execution_count": 5,
   "metadata": {
    "collapsed": true
   },
   "outputs": [],
   "source": [
    "onehots = np.array(raw.replace('\\n', '').split(' ')).astype(np.float32)"
   ]
  },
  {
   "cell_type": "code",
   "execution_count": 6,
   "metadata": {},
   "outputs": [
    {
     "data": {
      "text/plain": [
       "16.666666666666664"
      ]
     },
     "execution_count": 6,
     "metadata": {},
     "output_type": "execute_result"
    }
   ],
   "source": [
    "n_inputs = 1000\n",
    "avg_word_len = 6\n",
    "avg_sent_len = 10\n",
    "n_inputs/avg_word_len/avg_sent_len"
   ]
  },
  {
   "cell_type": "code",
   "execution_count": 7,
   "metadata": {},
   "outputs": [
    {
     "data": {
      "text/plain": [
       "30912"
      ]
     },
     "execution_count": 7,
     "metadata": {},
     "output_type": "execute_result"
    }
   ],
   "source": [
    "len(onehots[onehots<512])"
   ]
  },
  {
   "cell_type": "code",
   "execution_count": 8,
   "metadata": {},
   "outputs": [
    {
     "data": {
      "text/plain": [
       "'2138 4046 105 9 356 4046 437 1657 2483 183 758 31 1159 140 686 22 134 231 374 898 9 908 430 105 9 683 959 31 457 64 963 36 92 138 820 2488 111 276 40 99 382 4046 5 1370 29 996 873 826 4046 31 412 202 22 3028 16 257 4047 358 36 1119 2107 187 438 684 19 99 436 4046 2834 99 1962 567 9 27 2666 4046 85 1090 22 642 4036 1392 1858 99 1837 243 707 928 256 388 3625 1227 36 530 1684 1124 531 79 224 1053 366 4046 392 4046 9 1053 211 47 125 534 867 192 275 3627 4047 70 179 287 910 1723 48 845 2543 22 111 4035 385 26 4047 103 75 4043 1782 4042 79 329 706 31 329 1745 4047 620 550 35 257 4046 257 125 269 1242 134 884 509 57 35 125 107 22 169 9 2114 4046 388 62 1038 4046 163 134 884 2114 125 107 269 2518 22 169 9 509 4046 388 62 2568 4047 103 143 111 4035 385 2679 486 9 353 990 4052 213 4065 4029 299 35 478 1723 48 2623 192 36 646 4046 2346 19 99 40 57 12 367 466 57 886 22 566 99 1058 1010 105 115 4066 4045 220 4047 70 932 4046 35 739 4065 4029 1723 48 2623 275 790 4050 526 99 1398 3830 31 430 105 115 40 3185 2057 1713 4013 4034 4035 29 3082 57 3475 187 40 437 25 638 656 114 26 99 1424 4046 682 2271 4055 464 565 2418 4047 70 1179 1723 48 2623 4064 1504 4046 981 4064 71 732 47 212 847 4064 669 12 367 395 434 47 908 4060 272 152 636 40 9 557 22 3363 5 3993 235 4047 672 792 125 147 4046 47 1638 22 423 22 2076 48 455 4047 203 79 1841 29 47 257 79 353 147 211 40 9 557 2568 404 627 3127 202 57 79 107 627 3127 202 4047 75 891 214 215 170 842 3057 135 9 634 840 40 3135 4046 31 566 9 552 840 4046 264 552 840 167 534 1697 555 29 212 2233 4052 210 47 270 1010 105 110 192 36 890 4046 70 510 35 486 225 4065 4029 4047 35 125 553 329 383 29 872 277 48 275 3632 539 233 68 9 3964 31 1287 848 4046 35 823 47 170 4076 190 48 79 345 950 4046 135 9 807 3683 383 29 1016 40 48 4060 874 4048 30 178 563 4046 392 4046 35 1109 4065 4029 210 134 3391 4076 31 35 486 225 4065 4029 169 212 80 60 779 4038 422 1285 47 4046 1452 1784 2091 499 31 224 525 90 4055 2650 348 1138 4046 31 215 30 21 4046 198 2205 85 264 36 62 417 233 29 3433 31 1162 4055 55 4030 402 4047 956 506 392 4046 36 79 5 411 42 4043 650 313 4046 31 47 123 2968 4046 29 585 47 125 1383 31 135 57 4047 358 812 4046 609 812 4046 879 96 2122 1383 3097 4047 35 521 161 184 79 40 1116 5 173 3828 235 4046 31 2754 3711 4035 9 2526 1885 29 212 499 4047 103 485 271 22 299 4046 147 3539 135 2338 4046 163 135 2871 4046 163 4047 150 137 105 9 2166 1217 314 840 40 212 29 9 1839 20 2341 204 601 1207 1748 195 167 4060 2451 897 4046 29 585 4046 40 9 3257 124 116 4047 40 9 3257 124 116 195 213 4065 4029 299 4047 75 18 343 236 925 4035 68 1246 105 29 2200 4042 182 36 62 671 22 296 278 36 62 5 839 29 2200 2917 85 5 1964 2850 360 36 447 2205 1208 1335 3115 560 634 699 4046 1036 853 47 125 292 671 110 4046 569 486 1282 938 110 4046 292 299 4035 4047 35 588 345 742 2957 4047 181 79 243 1837 719 799 2415 198 338 49 40 3131 278 281 125 232 2404 22 188 105 4046 31 447 621 278 281 423 431 22 801 136 573 1199 342 360 4047 1005 4065 4029 369 4046 392 4078 47 167 107 40 9 1143 214 115 179 213 4065 4029 1040 110 4046 364 192 646 9 855 4047 70 1672 585 35 214 115 4047 35 210 57 1207 604 4047 2571 4046 35 338 49 188 214 115 4047 272 2764 4044 224 2119 4064 35 222 2412 47 4047 406 79 5 2160 1106 202 135 3373 918 31 4046 9 906 29 2160 1106 57 1237 22 2482 590 1749 3405 120 2918 29 129 2146 4047 203 79 756 107 22 49 1092 256 147 4065 4047 103 2348 31 9 2396 125 9 1053 29 48 40 215 557 225 660 105 289 58 1019 31 3888 105 9 578 4047 681 195 210 200 426 607 4046 195 167 105 1143 260 1349 9 3626 29 206 254 46 4047 85 281 135 338 1230 123 1523 217 124 2660 4046 3203 4046 31 158 1126 4047 448 156 983 1557 3381 567 1171 4046 3808 534 3154 227 4032 24 705 4047 2327 1133 4051 31 281 90 376 4046 364 4076 178 1837 4035 4046 437 85 123 4040 4042 382 4046 1758 48 759 49 1325 4076 219 324 4065 4035 429 2205 123 135 1831 16 97 182 9 3026 125 2068 293 4046 1831 16 1975 1419 324 4064 2453 57 99 853 300 692 268 275 4046 1970 826 2108 392 605 848 4046 57 79 99 853 4047 35 1109 4065 4029 197 511 22 442 48 22 47 757 981 107'"
      ]
     },
     "execution_count": 8,
     "metadata": {},
     "output_type": "execute_result"
    }
   ],
   "source": [
    "tokens = onehots[onehots<d][1000:2000].astype(np.int32).astype(np.str_)\n",
    "' '.join(tokens)"
   ]
  },
  {
   "cell_type": "code",
   "execution_count": 56,
   "metadata": {},
   "outputs": [
    {
     "data": {
      "text/plain": [
       "446552128"
      ]
     },
     "execution_count": 56,
     "metadata": {},
     "output_type": "execute_result"
    }
   ],
   "source": [
    "int(onehots[11120])"
   ]
  },
  {
   "cell_type": "code",
   "execution_count": 57,
   "metadata": {},
   "outputs": [
    {
     "data": {
      "text/plain": [
       "178.0"
      ]
     },
     "execution_count": 57,
     "metadata": {},
     "output_type": "execute_result"
    }
   ],
   "source": [
    "np.median(onehots)"
   ]
  },
  {
   "cell_type": "code",
   "execution_count": 65,
   "metadata": {},
   "outputs": [
    {
     "data": {
      "image/png": "[encoded data removed]",
      "text/plain": [
       "<matplotlib.figure.Figure at 0x1118de278>"
      ]
     },
     "metadata": {},
     "output_type": "display_data"
    }
   ],
   "source": [
    "s = plt.hist(onehots[onehots<d], bins=d)"
   ]
  }
 ],
 "metadata": {
  "kernelspec": {
   "display_name": "Python 3",
   "language": "python",
   "name": "python3"
  },
  "language_info": {
   "codemirror_mode": {
    "name": "ipython",
    "version": 3
   },
   "file_extension": ".py",
   "mimetype": "text/x-python",
   "name": "python",
   "nbconvert_exporter": "python",
   "pygments_lexer": "ipython3",
   "version": "3.5.1"
  }
 },
 "nbformat": 4,
 "nbformat_minor": 2
}
