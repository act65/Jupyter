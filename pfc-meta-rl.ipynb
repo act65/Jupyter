{
 "cells": [
  {
   "cell_type": "code",
   "execution_count": 305,
   "metadata": {},
   "outputs": [],
   "source": [
    "import tensorflow as tf\n",
    "import gym"
   ]
  },
  {
   "cell_type": "markdown",
   "metadata": {},
   "source": [
    "https://www.biorxiv.org/content/early/2018/04/06/295964\n",
    "\n",
    "> Meta-RL explains these shifts as an emergent effect, arising from a very general set of\n",
    "conditions. Moreover, dynamic learning rates constitute just one possible form of specialization. When meta-RL occurs in environments with different structures, qualitatively different learning rules will emerge, a point that will be illustrated by subsequent simulations.\n",
    "\n",
    "Cool. So what does emerge in different conditions. want to study that!!\n",
    "what is necessary/sufficient for various 'skills' to emerge?\n",
    "\n",
    "\n",
    "Main questions;\n",
    "\n",
    "- how does the pfc's meta-model actually get trained? how is the rpe actually used!?\n",
    "- how are actions actually generated? How are the actions chosen while the pfc it developing/learning?!?\n",
    "- but this doesnt really work... the number of iterations required is nothing close to what animals achieve!?\n",
    "- so the only proof that the pfc model has learn a model-bsaed algol is the two-step task!?\n",
    "- DA signaling is influenced by projections from PFC. Huh!?\n",
    "\n",
    "\n",
    "The important part(s) seem to be;\n",
    "- a model-free algol giving rise to a model-based algol.\n",
    "- \n",
    "\n",
    "Future work;\n",
    "- what if we learned a small model-free predictor of the reward then used it to train the pfc? like world models, except ???\n",
    "- ?"
   ]
  },
  {
   "cell_type": "code",
   "execution_count": null,
   "metadata": {},
   "outputs": [],
   "source": []
  },
  {
   "cell_type": "markdown",
   "metadata": {},
   "source": [
    "Want: online learning of a meta learner!\n",
    "\n",
    "Why does the PFC behave like this? \n",
    "- It is competing with DA?\n",
    "- It is attempting to help the DA/reduce calls to a more expensive (in some sense) oracle?\n",
    "- ?"
   ]
  },
  {
   "cell_type": "code",
   "execution_count": 277,
   "metadata": {},
   "outputs": [],
   "source": [
    "batch_size = 50"
   ]
  },
  {
   "cell_type": "code",
   "execution_count": 306,
   "metadata": {},
   "outputs": [],
   "source": [
    "reward = tf.placeholder(shape=[None, 1], dtype=tf.float32)\n",
    "observation = tf.placeholder(shape=[None, 28*28], dtype=tf.float32)"
   ]
  },
  {
   "cell_type": "code",
   "execution_count": 308,
   "metadata": {},
   "outputs": [],
   "source": [
    "\"\"\"\n",
    "Template code for making nns.\n",
    "\"\"\"\n",
    "\n",
    "def rnn(seq, hidden_size=32):\n",
    "    lstm = tf.contrib.rnn.BasicLSTMCell(hidden_size)\n",
    "    hidden_state = tf.zeros([batch_size, hidden_size])\n",
    "    current_state = tf.zeros([batch_size, hidden_size])\n",
    "    state = hidden_state, current_state\n",
    "    output, state = lstm(seq, state)\n",
    "    return output\n",
    "\n",
    "def mlp(x, hidden_size=32):\n",
    "    y = tf.layers.dense(x, hidden_size)\n",
    "    y = tf.nn.relu(y)\n",
    "    return tf.layers.dense(y, hidden_size)"
   ]
  },
  {
   "cell_type": "code",
   "execution_count": 301,
   "metadata": {},
   "outputs": [],
   "source": [
    "def da(o, r):  # is that it!?\n",
    "    p = mlp(o)  # predicted reward\n",
    "    rpe = r-p\n",
    "    return p, rpe\n",
    "\n",
    "def pfc(o, a, r):\n",
    "    h = rnn(tf.concat([o, a, r], axis=1), 32)\n",
    "    y = tf.layers.dense(h, 2)\n",
    "    return y[:, 0], y[:, 1]"
   ]
  },
  {
   "cell_type": "raw",
   "metadata": {},
   "source": []
  },
  {
   "cell_type": "code",
   "execution_count": null,
   "metadata": {},
   "outputs": [],
   "source": [
    "responsible_weight = tf.slice(weights,action_holder,[1])\n",
    "loss = -(tf.log(responsible_weight)*reward_holder)\n",
    "train_op = tf.train.GradientDescentOptimizer(learning_rate=0.001).minimize(loss)"
   ]
  },
  {
   "cell_type": "markdown",
   "metadata": {},
   "source": [
    "What about other meta learning or meta-RL techniques?!\n",
    "\n",
    "- https://arxiv.org/abs/1802.07245\n",
    "- https://arxiv.org/abs/1611.02779"
   ]
  },
  {
   "cell_type": "markdown",
   "metadata": {},
   "source": [
    "Could imagine a meta learner that recieves an embedded loss fn and returns an optimiser.\n",
    "\n",
    "```python\n",
    "h = embed(loss_fn)\n",
    "opt = generator(h, task)\n",
    "nn = opt(task, nn)  # returns trained nn\n",
    "```\n",
    "words\n",
    "\n",
    "```python\n",
    "# train the generator\n",
    "for loss in loss_fns:\n",
    "    h = embed(loss)\n",
    "    \n",
    "    \n",
    "```\n",
    "\n",
    "Simple -> Complex!?!?"
   ]
  },
  {
   "cell_type": "code",
   "execution_count": 309,
   "metadata": {},
   "outputs": [],
   "source": [
    "def fn(n):\n",
    "    return 1 - (1- 0.1)**(n+1)"
   ]
  },
  {
   "cell_type": "code",
   "execution_count": 310,
   "metadata": {},
   "outputs": [
    {
     "name": "stderr",
     "output_type": "stream",
     "text": [
      "/home/act65/anaconda3/lib/python3.6/site-packages/matplotlib/font_manager.py:281: UserWarning: Matplotlib is building the font cache using fc-list. This may take a moment.\n",
      "  'Matplotlib is building the font cache using fc-list. '\n"
     ]
    }
   ],
   "source": [
    "import numpy as np\n",
    "import matplotlib.pyplot as plt"
   ]
  },
  {
   "cell_type": "code",
   "execution_count": 311,
   "metadata": {},
   "outputs": [
    {
     "data": {
      "text/plain": [
       "[<matplotlib.lines.Line2D at 0x7f638c56d1d0>]"
      ]
     },
     "execution_count": 311,
     "metadata": {},
     "output_type": "execute_result"
    },
    {
     "data": {
      "image/png": "[encoded data removed]",
      "text/plain": [
       "<matplotlib.figure.Figure at 0x7f6394119e10>"
      ]
     },
     "metadata": {},
     "output_type": "display_data"
    }
   ],
   "source": [
    "x = np.linspace(0, 100, 101)\n",
    "plt.plot(fn(x))"
   ]
  },
  {
   "cell_type": "code",
   "execution_count": null,
   "metadata": {},
   "outputs": [],
   "source": []
  }
 ],
 "metadata": {
  "kernelspec": {
   "display_name": "Python 3",
   "language": "python",
   "name": "python3"
  },
  "language_info": {
   "codemirror_mode": {
    "name": "ipython",
    "version": 3
   },
   "file_extension": ".py",
   "mimetype": "text/x-python",
   "name": "python",
   "nbconvert_exporter": "python",
   "pygments_lexer": "ipython3",
   "version": "3.6.4"
  }
 },
 "nbformat": 4,
 "nbformat_minor": 2
}
