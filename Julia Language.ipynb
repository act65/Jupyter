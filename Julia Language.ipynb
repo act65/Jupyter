{
 "cells": [
  {
   "cell_type": "markdown",
   "metadata": {},
   "source": [
    "Notes from learning julia.\n",
    "\n",
    "Why is it a good language?"
   ]
  },
  {
   "cell_type": "code",
   "execution_count": 2,
   "metadata": {
    "collapsed": false
   },
   "outputs": [
    {
     "ename": "LoadError",
     "evalue": "LoadError: UndefVarError: window not defined\nwhile loading In[2], in expression starting on line 4",
     "output_type": "error",
     "traceback": [
      "LoadError: UndefVarError: window not defined\nwhile loading In[2], in expression starting on line 4",
      "",
      " in figure at /Users/act65/.julia/v0.4/Winston/src/Winston.jl:2820"
     ]
    }
   ],
   "source": [
    "using Winston\n",
    "\n",
    "# optionally call figure prior to plotting to set the size\n",
    "figure(width=600, height=400)\n",
    "# plot some data\n",
    "pl = plot(cumsum(rand(500) .- 0.5), \"r\", cumsum(rand(500) .- 0.5), \"b\")\n",
    "# display the plot (not done automatically!)\n",
    "display(pl)\n",
    "\n",
    "# by default display will not wait and the plot will vanish as soon as it appears\n",
    "# using readline is a blunt wait to allow the user to choose when to continue\n",
    "\n",
    "# println(\"Press enter to continue: \")\n",
    "# readline(STDIN)\n",
    "\n",
    "# save the current figure\n",
    "savefig(\"winston.svg\")\n",
    "# .eps, .pdf, & .png are also supported\n",
    "# we used svg here because it respects the width and height specified above"
   ]
  },
  {
   "cell_type": "code",
   "execution_count": 19,
   "metadata": {
    "collapsed": false
   },
   "outputs": [
    {
     "data": {
      "text/plain": [
       "1"
      ]
     },
     "execution_count": 19,
     "metadata": {},
     "output_type": "execute_result"
    }
   ],
   "source": [
    "A = [2 3 ; 4 6]\n",
    "LinAlg.rank(A)"
   ]
  },
  {
   "cell_type": "code",
   "execution_count": 23,
   "metadata": {
    "collapsed": false
   },
   "outputs": [
    {
     "data": {
      "text/latex": [
       "No documentation found.\n",
       "\\texttt{Base.LinAlg} is of type \\texttt{Module}:\n",
       "\\textbf{Summary:}\n",
       "\\begin{verbatim}\n",
       "type Module <: Any\n",
       "\\end{verbatim}\n",
       "\\textbf{Fields:}\n",
       "\\begin{verbatim}\n",
       "name   :: Symbol\n",
       "parent :: Any\n",
       "\\end{verbatim}\n"
      ],
      "text/markdown": [
       "No documentation found.\n",
       "\n",
       "`Base.LinAlg` is of type `Module`:\n",
       "\n",
       "**Summary:**\n",
       "\n",
       "```julia\n",
       "type Module <: Any\n",
       "```\n",
       "\n",
       "**Fields:**\n",
       "\n",
       "```julia\n",
       "name   :: Symbol\n",
       "parent :: Any\n",
       "```\n"
      ],
      "text/plain": [
       "No documentation found.\n",
       "\n",
       "`Base.LinAlg` is of type `Module`:\n",
       "\n",
       "**Summary:**\n",
       "\n",
       "```julia\n",
       "type Module <: Any\n",
       "```\n",
       "\n",
       "**Fields:**\n",
       "\n",
       "```julia\n",
       "name   :: Symbol\n",
       "parent :: Any\n",
       "```\n"
      ]
     },
     "execution_count": 23,
     "metadata": {},
     "output_type": "execute_result"
    }
   ],
   "source": [
    "@doc LinAlg"
   ]
  }
 ],
 "metadata": {
  "kernelspec": {
   "display_name": "Julia 0.4.6",
   "language": "julia",
   "name": "julia-0.4"
  },
  "language_info": {
   "file_extension": ".jl",
   "mimetype": "application/julia",
   "name": "julia",
   "version": "0.4.6"
  }
 },
 "nbformat": 4,
 "nbformat_minor": 0
}
