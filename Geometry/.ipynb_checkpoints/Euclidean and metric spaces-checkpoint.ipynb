{
 "cells": [
  {
   "cell_type": "markdown",
   "metadata": {},
   "source": [
    "# Metric spaces\n",
    "\n",
    "\n",
    "\n",
    "# Non - euclidean geometries\n",
    "\n",
    "Ooohhh... Euclidean geometry is not fundamental, it is just what we are used to. I cannot see any good reason for nature to follow this rule. How does using other geometries help us?\n",
    "\n",
    "In hyperbolic grometries two hyperbolic lines are parallel. (?) Therefore the rules that apply to parallel lines in euclidean geometry apply to hyperbolic lines in hyperbolic grometries. So there is an other abstraction we can make? A function, f, takes geometries and shapes and tells us the rules. ???"
   ]
  },
  {
   "cell_type": "code",
   "execution_count": null,
   "metadata": {
    "collapsed": true
   },
   "outputs": [],
   "source": []
  }
 ],
 "metadata": {
  "kernelspec": {
   "display_name": "Python 3",
   "language": "python",
   "name": "python3"
  },
  "language_info": {
   "codemirror_mode": {
    "name": "ipython",
    "version": 3
   },
   "file_extension": ".py",
   "mimetype": "text/x-python",
   "name": "python",
   "nbconvert_exporter": "python",
   "pygments_lexer": "ipython3",
   "version": "3.4.4"
  }
 },
 "nbformat": 4,
 "nbformat_minor": 0
}
