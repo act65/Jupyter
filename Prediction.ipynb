{
 "cells": [
  {
   "cell_type": "markdown",
   "metadata": {},
   "source": [
    "What is the best way to learn? TO get feedback? What is the best way to get feedback? To do things. What things? Predictions (? why?).\n",
    "\n",
    "So lets design a network that tries to predict everything? All its inputs, how about itself?\n",
    "Do humans try to predict their thoughts? Can we have suprising thoughts? (i think so)"
   ]
  }
 ],
 "metadata": {
  "kernelspec": {
   "display_name": "Julia 0.4.6",
   "language": "julia",
   "name": "julia-0.4"
  },
  "language_info": {
   "file_extension": ".jl",
   "mimetype": "application/julia",
   "name": "julia",
   "version": "0.4.6"
  }
 },
 "nbformat": 4,
 "nbformat_minor": 0
}
