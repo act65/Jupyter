{
 "cells": [
  {
   "cell_type": "markdown",
   "metadata": {},
   "source": [
    "So a wavelet convolved with a signal will tell us if the wavelet is present in the signal. Aka pattern recognition. How could this be used intelligently to solve problems and learn?\n",
    "\n",
    "What if each neuron had a composition of wavelets associated with it. These could be trained through backpropagation to pick out patterns in the signals they recieve?\n",
    "\n",
    "If we have 3 neurons, A,B and C. Traditionally $ \\sigma (w_1A + w_2B)  = C$. But, if C convolves A and B together it will find ??? (similarities?) And this can be backpropagated? $ (A * B)t = C $\n",
    "\n",
    "\n",
    "If $(A * B)t = C $ and what does $(C * D) t = ??$ in terms of A and B? "
   ]
  },
  {
   "cell_type": "code",
   "execution_count": null,
   "metadata": {
    "collapsed": true
   },
   "outputs": [],
   "source": []
  }
 ],
 "metadata": {
  "kernelspec": {
   "display_name": "Python 3",
   "language": "python",
   "name": "python3"
  },
  "language_info": {
   "codemirror_mode": {
    "name": "ipython",
    "version": 3
   },
   "file_extension": ".py",
   "mimetype": "text/x-python",
   "name": "python",
   "nbconvert_exporter": "python",
   "pygments_lexer": "ipython3",
   "version": "3.4.4"
  }
 },
 "nbformat": 4,
 "nbformat_minor": 0
}
