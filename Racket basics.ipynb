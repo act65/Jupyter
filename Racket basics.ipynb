{
 "cells": [
  {
   "cell_type": "markdown",
   "metadata": {},
   "source": [
    "https://docs.racket-lang.org/guide/index.html"
   ]
  },
  {
   "cell_type": "code",
   "execution_count": 1,
   "metadata": {
    "collapsed": false
   },
   "outputs": [
    {
     "data": {
      "text/plain": [
       "\"boy\""
      ]
     },
     "execution_count": 1,
     "metadata": {},
     "output_type": "execute_result"
    }
   ],
   "source": [
    "(substring \"the boy out of the country\" 4 7)"
   ]
  },
  {
   "cell_type": "code",
   "execution_count": 2,
   "metadata": {
    "collapsed": false
   },
   "outputs": [
    {
     "data": {
      "application/pdf": "[encoded data removed]",
      "image/png": "[encoded data removed]"
     },
     "execution_count": 2,
     "metadata": {},
     "output_type": "execute_result"
    }
   ],
   "source": [
    "(require pict)\n",
    "(circle 10)"
   ]
  },
  {
   "cell_type": "code",
   "execution_count": 3,
   "metadata": {
    "collapsed": false
   },
   "outputs": [
    {
     "data": {
      "application/pdf": "[encoded data removed]",
      "image/png": "[encoded data removed]"
     },
     "execution_count": 3,
     "metadata": {},
     "output_type": "execute_result"
    }
   ],
   "source": [
    "(define (square n)\n",
    "  ; A semi-colon starts a line comment.\n",
    "  ; The expression below is the function body.\n",
    "  (filled-rectangle n n))\n",
    "\n",
    "(square 20)"
   ]
  },
  {
   "cell_type": "code",
   "execution_count": 4,
   "metadata": {
    "collapsed": false
   },
   "outputs": [
    {
     "data": {
      "application/pdf": "[encoded data removed]",
      "image/png": "[encoded data removed]"
     },
     "execution_count": 4,
     "metadata": {},
     "output_type": "execute_result"
    }
   ],
   "source": [
    "(define (four p)\n",
    "  (define two-p (hc-append p p))\n",
    "  (vc-append two-p two-p))\n",
    "\n",
    "(four (circle 10))"
   ]
  },
  {
   "cell_type": "code",
   "execution_count": 5,
   "metadata": {
    "collapsed": false
   },
   "outputs": [
    {
     "data": {
      "application/pdf": "[encoded data removed]",
      "image/png": "[encoded data removed]"
     },
     "execution_count": 5,
     "metadata": {},
     "output_type": "execute_result"
    }
   ],
   "source": [
    "(define (checker p1 p2)\n",
    "  (let ([p12 (hc-append p1 p2)]\n",
    "        [p21 (hc-append p2 p1)])\n",
    "    (vc-append p12 p21)))\n",
    "\n",
    "(checker (colorize (square 10) \"red\")\n",
    "         (colorize (square 10) \"black\"))"
   ]
  },
  {
   "cell_type": "code",
   "execution_count": 6,
   "metadata": {
    "collapsed": false
   },
   "outputs": [
    {
     "data": {
      "application/pdf": "[encoded data removed]",
      "image/png": "[encoded data removed]"
     },
     "execution_count": 6,
     "metadata": {},
     "output_type": "execute_result"
    }
   ],
   "source": [
    "(define (checkerboard p)\n",
    "  (let* ([rp (colorize p \"red\")]\n",
    "         [bp (colorize p \"black\")]\n",
    "         [c (checker rp bp)]\n",
    "         [c4 (four c)])\n",
    "    (four c4)))\n",
    "\n",
    "(checkerboard (square 10))"
   ]
  },
  {
   "cell_type": "code",
   "execution_count": 7,
   "metadata": {
    "collapsed": true
   },
   "outputs": [],
   "source": [
    "(define (series mk)\n",
    "  (hc-append 4 (mk 5) (mk 10) (mk 20)))"
   ]
  },
  {
   "cell_type": "code",
   "execution_count": 8,
   "metadata": {
    "collapsed": false
   },
   "outputs": [
    {
     "data": {
      "application/pdf": "[encoded data removed]",
      "image/png": "[encoded data removed]"
     },
     "execution_count": 8,
     "metadata": {},
     "output_type": "execute_result"
    }
   ],
   "source": [
    "(series square)"
   ]
  },
  {
   "cell_type": "code",
   "execution_count": 9,
   "metadata": {
    "collapsed": false
   },
   "outputs": [
    {
     "data": {
      "application/pdf": "[encoded data removed]",
      "image/png": "[encoded data removed]"
     },
     "execution_count": 9,
     "metadata": {},
     "output_type": "execute_result"
    }
   ],
   "source": [
    "(series (lambda (size) (checkerboard (square size))))"
   ]
  },
  {
   "cell_type": "code",
   "execution_count": 10,
   "metadata": {
    "collapsed": false
   },
   "outputs": [
    {
     "data": {
      "application/pdf": "[encoded data removed]",
      "image/png": "[encoded data removed]"
     },
     "execution_count": 10,
     "metadata": {},
     "output_type": "execute_result"
    }
   ],
   "source": [
    "(define (rgb-series mk)\n",
    "  (vc-append\n",
    "   (series (lambda (sz) (colorize (mk sz) \"red\")))\n",
    "   (series (lambda (sz) (colorize (mk sz) \"green\")))\n",
    "   (series (lambda (sz) (colorize (mk sz) \"blue\")))))\n",
    "\n",
    "(rgb-series circle)"
   ]
  },
  {
   "cell_type": "code",
   "execution_count": 11,
   "metadata": {
    "collapsed": false
   },
   "outputs": [
    {
     "name": "stderr",
     "output_type": "stream",
     "text": [
      "resample: broke its own contract\n",
      "  promised: a procedure that accepts 2 non-keyword arguments\n",
      "  produced: #<procedure:resample>\n",
      "  resample accepts: 3 normal arguments and the optional keyword #:alg\n",
      "  in: (->*\n",
      "       (vector? vector?)\n",
      "       (exact-nonnegative-integer?\n",
      "        #:alg\n",
      "        (or/c #f 'multinomial 'residual))\n",
      "       vector?)\n",
      "  contract from: <pkgs>/gamble/gamble/main.rkt\n",
      "  blaming: <pkgs>/gamble/gamble/main.rkt\n",
      "   (assuming the contract is correct)\n",
      "  at: <pkgs>/gamble/gamble/main.rkt:78.11\n",
      "  context...:\n",
      "   /Applications/Racket v6.6/collects/racket/contract/private/blame.rkt:159:0: raise-blame-error16\n",
      "   /Applications/Racket v6.6/collects/racket/contract/private/provide.rkt:383:0: do-partial-app\n",
      "   /Users/act65/Library/Racket/6.6/pkgs/gamble/gamble/main.rkt: [running body]\n",
      "   /Applications/Racket v6.6/share/pkgs/sandbox-lib/racket/sandbox.rkt:475:0: call-with-custodian-shutdown\n",
      "   /Applications/Racket v6.6/collects/racket/private/more-scheme.rkt:148:2: call-with-break-parameterization\n",
      "   .../more-scheme.rkt:261:28\n",
      "   /Applications/Racket v6.6/share/pkgs/sandbox-lib/racket/sandbox.rkt:843:5: loop\n"
     ]
    }
   ],
   "source": [
    "(require gamble)"
   ]
  },
  {
   "cell_type": "code",
   "execution_count": 15,
   "metadata": {
    "collapsed": false
   },
   "outputs": [
    {
     "name": "stderr",
     "output_type": "stream",
     "text": [
      "repeat: undefined;\n",
      " cannot reference undefined identifier\n",
      "  context...:\n",
      "   /Applications/Racket v6.6/share/pkgs/sandbox-lib/racket/sandbox.rkt:475:0: call-with-custodian-shutdown\n",
      "   /Applications/Racket v6.6/collects/racket/private/more-scheme.rkt:148:2: call-with-break-parameterization\n",
      "   .../more-scheme.rkt:261:28\n",
      "   /Applications/Racket v6.6/share/pkgs/sandbox-lib/racket/sandbox.rkt:843:5: loop\n"
     ]
    }
   ],
   "source": [
    "(repeat (lambda () (flip 0.3)) 10)"
   ]
  },
  {
   "cell_type": "code",
   "execution_count": null,
   "metadata": {
    "collapsed": true
   },
   "outputs": [],
   "source": []
  }
 ],
 "metadata": {
  "kernelspec": {
   "display_name": "Racket",
   "language": "racket",
   "name": "racket"
  },
  "language_info": {
   "codemirror_mode": "scheme",
   "file_extension": ".rkt",
   "mimetype": "text/x-racket",
   "name": "Racket",
   "pygments_lexer": "racket",
   "version": "6.6"
  }
 },
 "nbformat": 4,
 "nbformat_minor": 0
}
