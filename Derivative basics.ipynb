{
 "cells": [
  {
   "cell_type": "markdown",
   "metadata": {},
   "source": [
    "Ok, a quick review of this as I dont know as much as I thought I did... \n",
    "\n",
    "### Finite difference\n",
    "\n",
    "\n",
    "\n",
    "\n",
    "### Partial vs total differentiation\n",
    "\n",
    "When can we use $\\frac{df}{dx}$ vs $\\frac{\\partial f}{\\partial x}$? So the total derivative of a function is the sum (??) of all its derivatves with respect to its variables.\n",
    "\n",
    "\n",
    "### Directional derivatives\n",
    "\n",
    "\n",
    "\n",
    "\n",
    "### Chain rule\n",
    "\n",
    "\n",
    "\n",
    "### Jacobian\n",
    "\n",
    "\n",
    "\n",
    "\n",
    "### Hessian\n",
    "\n",
    "\n",
    "\n"
   ]
  }
 ],
 "metadata": {
  "kernelspec": {
   "display_name": "Python 3",
   "language": "python",
   "name": "python3"
  },
  "language_info": {
   "codemirror_mode": {
    "name": "ipython",
    "version": 3
   },
   "file_extension": ".py",
   "mimetype": "text/x-python",
   "name": "python",
   "nbconvert_exporter": "python",
   "pygments_lexer": "ipython3",
   "version": "3.5.1"
  }
 },
 "nbformat": 4,
 "nbformat_minor": 0
}
