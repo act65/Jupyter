{
 "cells": [
  {
   "cell_type": "markdown",
   "metadata": {},
   "source": [
    "Just my notes/play while going through [learn you a haskell](http://learnyouahaskell.com/)"
   ]
  },
  {
   "cell_type": "code",
   "execution_count": 1,
   "metadata": {
    "collapsed": false
   },
   "outputs": [
    {
     "data": {
      "text/plain": [
       "\"Sorry, you're out of luck, pal!\""
      ]
     },
     "metadata": {},
     "output_type": "display_data"
    },
    {
     "data": {
      "text/plain": [
       "\"LUCKY NUMBER SEVEN!\""
      ]
     },
     "metadata": {},
     "output_type": "display_data"
    }
   ],
   "source": [
    "------ So the => defines that a must be a specific type.\n",
    "lucky :: (Integral a) => a -> String  \n",
    "lucky 7 = \"LUCKY NUMBER SEVEN!\"  \n",
    "lucky x = \"Sorry, you're out of luck, pal!\" \n",
    "-------\n",
    "lucky 3\n",
    "lucky 7"
   ]
  },
  {
   "cell_type": "code",
   "execution_count": 2,
   "metadata": {
    "collapsed": false
   },
   "outputs": [
    {
     "data": {
      "text/plain": [
       "4"
      ]
     },
     "metadata": {},
     "output_type": "display_data"
    }
   ],
   "source": [
    "------ A higher order function\n",
    "-- Note the change in brackets\n",
    "applyTwice :: (a -> a) -> a -> a  \n",
    "applyTwice f x = f (f x)  \n",
    "-------\n",
    "applyTwice succ 2"
   ]
  },
  {
   "cell_type": "code",
   "execution_count": 3,
   "metadata": {
    "collapsed": false
   },
   "outputs": [
    {
     "data": {
      "text/plain": [
       "3628800"
      ]
     },
     "metadata": {},
     "output_type": "display_data"
    }
   ],
   "source": [
    "----- Recusrion example\n",
    "factorial :: (Integral a) => a -> a  \n",
    "factorial 0 = 1  \n",
    "factorial n = n * factorial (n - 1) \n",
    "\n",
    "factorial 10"
   ]
  },
  {
   "cell_type": "code",
   "execution_count": 4,
   "metadata": {
    "collapsed": false
   },
   "outputs": [
    {
     "data": {
      "text/plain": [
       "\"You're supposedly normal. Pffft, I bet you're ugly!\""
      ]
     },
     "metadata": {},
     "output_type": "display_data"
    }
   ],
   "source": [
    "-------- Pattern matching and conditionals\n",
    "bmiTell :: (RealFloat a) => a -> a -> String  \n",
    "bmiTell weight height  \n",
    "    | weight / height ^ 2 <= 18.5 = \"You're underweight, you emo, you!\"  \n",
    "    | weight / height ^ 2 <= 25.0 = \"You're supposedly normal. Pffft, I bet you're ugly!\"  \n",
    "    | weight / height ^ 2 <= 30.0 = \"You're fat! Lose some weight, fatty!\"  \n",
    "    | otherwise                 = \"You're a whale, congratulations!\" \n",
    "------\n",
    "bmiTell 65 1.75"
   ]
  },
  {
   "cell_type": "code",
   "execution_count": 5,
   "metadata": {
    "collapsed": false
   },
   "outputs": [
    {
     "data": {
      "text/html": [
       "<style>/* Styles used for the Hoogle display in the pager */\n",
       ".hoogle-doc {\n",
       "display: block;\n",
       "padding-bottom: 1.3em;\n",
       "padding-left: 0.4em;\n",
       "}\n",
       ".hoogle-code {\n",
       "display: block;\n",
       "font-family: monospace;\n",
       "white-space: pre;\n",
       "}\n",
       ".hoogle-text {\n",
       "display: block;\n",
       "}\n",
       ".hoogle-name {\n",
       "color: green;\n",
       "font-weight: bold;\n",
       "}\n",
       ".hoogle-head {\n",
       "font-weight: bold;\n",
       "}\n",
       ".hoogle-sub {\n",
       "display: block;\n",
       "margin-left: 0.4em;\n",
       "}\n",
       ".hoogle-package {\n",
       "font-weight: bold;\n",
       "font-style: italic;\n",
       "}\n",
       ".hoogle-module {\n",
       "font-weight: bold;\n",
       "}\n",
       ".hoogle-class {\n",
       "font-weight: bold;\n",
       "}\n",
       ".get-type {\n",
       "color: green;\n",
       "font-weight: bold;\n",
       "font-family: monospace;\n",
       "display: block;\n",
       "white-space: pre-wrap;\n",
       "}\n",
       ".show-type {\n",
       "color: green;\n",
       "font-weight: bold;\n",
       "font-family: monospace;\n",
       "margin-left: 1em;\n",
       "}\n",
       ".mono {\n",
       "font-family: monospace;\n",
       "display: block;\n",
       "}\n",
       ".err-msg {\n",
       "color: red;\n",
       "font-style: italic;\n",
       "font-family: monospace;\n",
       "white-space: pre;\n",
       "display: block;\n",
       "}\n",
       "#unshowable {\n",
       "color: red;\n",
       "font-weight: bold;\n",
       "}\n",
       ".err-msg.in.collapse {\n",
       "padding-top: 0.7em;\n",
       "}\n",
       ".highlight-code {\n",
       "white-space: pre;\n",
       "font-family: monospace;\n",
       "}\n",
       ".suggestion-warning { \n",
       "font-weight: bold;\n",
       "color: rgb(200, 130, 0);\n",
       "}\n",
       ".suggestion-error { \n",
       "font-weight: bold;\n",
       "color: red;\n",
       "}\n",
       ".suggestion-name {\n",
       "font-weight: bold;\n",
       "}\n",
       "</style><span class='err-msg'>Couldn't match expected type ‘a’ with actual type ‘[[a]]’<br/>  ‘a’ is a rigid type variable bound by the type signature for interactive:IHaskell114.fib :: [a] -> [a] at <interactive>:1:8<br/>Relevant bindings include fib :: [a] -> [a] (bound at <interactive>:2:1)<br/>In the pattern: x : y : xs<br/>In the pattern: [x : y : xs]<br/>In an equation for ‘fib’:<br/>    fib [x : y : xs]<br/>      | x + y >= 100 = y<br/>      | otherwise = interactive:IHaskell114.fib [(x + y) : x : y : xs]</span>"
      ],
      "text/plain": [
       "Couldn't match expected type ‘a’ with actual type ‘[[a]]’\n",
       "  ‘a’ is a rigid type variable bound by the type signature for interactive:Ghci114.fib :: [a] -> [a] at <interactive>:1:8\n",
       "Relevant bindings include fib :: [a] -> [a] (bound at <interactive>:2:1)\n",
       "In the pattern: x : y : xs\n",
       "In the pattern: [x : y : xs]\n",
       "In an equation for ‘fib’:\n",
       "    fib [x : y : xs]\n",
       "      | x + y >= 100 = y\n",
       "      | otherwise = interactive:Ghci114.fib [(x + y) : x : y : xs]"
      ]
     },
     "metadata": {},
     "output_type": "display_data"
    }
   ],
   "source": [
    "------ Fibonacci sequence\n",
    "fib :: [a] -> [a]\n",
    "fib [x:y:xs] \n",
    "    | x + y >= 100 = y\n",
    "    | otherwise = fib [(x+y):x :y:xs]\n",
    "    \n",
    "fib [1,1]"
   ]
  },
  {
   "cell_type": "code",
   "execution_count": 6,
   "metadata": {
    "collapsed": false
   },
   "outputs": [
    {
     "data": {
      "text/plain": [
       "4"
      ]
     },
     "metadata": {},
     "output_type": "display_data"
    }
   ],
   "source": [
    "------ Length of a list\n",
    "len :: (Integral a)=> [a] -> a\n",
    "len (x:xs) = 1 + len xs\n",
    "len [] = 0\n",
    "\n",
    "len [2,3,4,5]"
   ]
  },
  {
   "cell_type": "code",
   "execution_count": 7,
   "metadata": {
    "collapsed": false
   },
   "outputs": [
    {
     "data": {
      "text/plain": [
       "[2,3,4]"
      ]
     },
     "metadata": {},
     "output_type": "display_data"
    }
   ],
   "source": [
    "----- Map\n",
    "-- Hmm. So what is this functions type signature telling us?\n",
    "-- (a->b) is a function? a is an input, b is the output\n",
    "map :: (a -> b) -> [a] -> [b]  \n",
    "map _ [] = []  \n",
    "map f (x:xs) = f x : map f xs  \n",
    "------\n",
    "map succ [1,2,3]"
   ]
  },
  {
   "cell_type": "code",
   "execution_count": 8,
   "metadata": {
    "collapsed": false
   },
   "outputs": [
    {
     "data": {
      "text/plain": [
       "[4]"
      ]
     },
     "metadata": {},
     "output_type": "display_data"
    }
   ],
   "source": [
    "------ Filter\n",
    "--\n",
    "filter :: (a -> Bool) -> [a] -> [a]  \n",
    "filter _ [] = []  \n",
    "filter p (x:xs)   \n",
    "    | p x       = x : filter p xs  \n",
    "    | otherwise = filter p xs \n",
    "    \n",
    "    \n",
    "filter (>3) [2,3,4]\n",
    "--- hmm this syntax is really starting to blur the difference between variables and functions"
   ]
  },
  {
   "cell_type": "code",
   "execution_count": 9,
   "metadata": {
    "collapsed": false
   },
   "outputs": [
    {
     "data": {
      "text/plain": [
       "10"
      ]
     },
     "metadata": {},
     "output_type": "display_data"
    }
   ],
   "source": [
    "import Data.List  \n",
    "  \n",
    "--numUniques :: (Eq a) => [a] -> Int   \n",
    "    -- hmm so why do we need this line?? \n",
    "    -- i guess that is the description. good practice\n",
    "numUniques = length . nub  -- this is cool   = length (nub (xs))\n",
    "\n",
    "numUniques [2,3,4,5,5,6,7,8,3,6,3,7,8,34,45,6,4,23,5,6,4,3,6,8,5]"
   ]
  },
  {
   "cell_type": "code",
   "execution_count": 10,
   "metadata": {
    "collapsed": false
   },
   "outputs": [
    {
     "data": {
      "text/plain": [
       "[2,3,4]"
      ]
     },
     "metadata": {},
     "output_type": "display_data"
    }
   ],
   "source": [
    "import qualified Data.List as List\n",
    "\n",
    "List.nub [2,3,4,3]"
   ]
  },
  {
   "cell_type": "code",
   "execution_count": 11,
   "metadata": {
    "collapsed": false
   },
   "outputs": [
    {
     "data": {
      "text/html": [
       "<style>/* Styles used for the Hoogle display in the pager */\n",
       ".hoogle-doc {\n",
       "display: block;\n",
       "padding-bottom: 1.3em;\n",
       "padding-left: 0.4em;\n",
       "}\n",
       ".hoogle-code {\n",
       "display: block;\n",
       "font-family: monospace;\n",
       "white-space: pre;\n",
       "}\n",
       ".hoogle-text {\n",
       "display: block;\n",
       "}\n",
       ".hoogle-name {\n",
       "color: green;\n",
       "font-weight: bold;\n",
       "}\n",
       ".hoogle-head {\n",
       "font-weight: bold;\n",
       "}\n",
       ".hoogle-sub {\n",
       "display: block;\n",
       "margin-left: 0.4em;\n",
       "}\n",
       ".hoogle-package {\n",
       "font-weight: bold;\n",
       "font-style: italic;\n",
       "}\n",
       ".hoogle-module {\n",
       "font-weight: bold;\n",
       "}\n",
       ".hoogle-class {\n",
       "font-weight: bold;\n",
       "}\n",
       ".get-type {\n",
       "color: green;\n",
       "font-weight: bold;\n",
       "font-family: monospace;\n",
       "display: block;\n",
       "white-space: pre-wrap;\n",
       "}\n",
       ".show-type {\n",
       "color: green;\n",
       "font-weight: bold;\n",
       "font-family: monospace;\n",
       "margin-left: 1em;\n",
       "}\n",
       ".mono {\n",
       "font-family: monospace;\n",
       "display: block;\n",
       "}\n",
       ".err-msg {\n",
       "color: red;\n",
       "font-style: italic;\n",
       "font-family: monospace;\n",
       "white-space: pre;\n",
       "display: block;\n",
       "}\n",
       "#unshowable {\n",
       "color: red;\n",
       "font-weight: bold;\n",
       "}\n",
       ".err-msg.in.collapse {\n",
       "padding-top: 0.7em;\n",
       "}\n",
       ".highlight-code {\n",
       "white-space: pre;\n",
       "font-family: monospace;\n",
       "}\n",
       ".suggestion-warning { \n",
       "font-weight: bold;\n",
       "color: rgb(200, 130, 0);\n",
       "}\n",
       ".suggestion-error { \n",
       "font-weight: bold;\n",
       "color: red;\n",
       "}\n",
       ".suggestion-name {\n",
       "font-weight: bold;\n",
       "}\n",
       "</style><span class='err-msg'>Occurs check: cannot construct the infinite type: a0 ~ [a0]<br/>Expected type: [a0]<br/>  Actual type: [[a0]]<br/>Relevant bindings include<br/>  ls :: [[a0]] (bound at <interactive>:2:18)<br/>  l :: [a0] (bound at <interactive>:2:16)<br/>In the second argument of ‘IHaskell238.intersperse’, namely ‘ls’<br/>In the second argument of ‘(++)’, namely ‘IHaskell238.intersperse s ls’</span>"
      ],
      "text/plain": [
       "Occurs check: cannot construct the infinite type: a0 ~ [a0]\n",
       "Expected type: [a0]\n",
       "  Actual type: [[a0]]\n",
       "Relevant bindings include\n",
       "  ls :: [[a0]] (bound at <interactive>:2:18)\n",
       "  l :: [a0] (bound at <interactive>:2:16)\n",
       "In the second argument of ‘interactive:Ghci238.intersperse’, namely ‘ls’\n",
       "In the second argument of ‘(++)’, namely ‘interactive:Ghci238.intersperse s ls’"
      ]
     },
     "metadata": {},
     "output_type": "display_data"
    }
   ],
   "source": [
    "-- reverse engineer intersperse\n",
    "intersperse :: a -> a -> a\n",
    "intersperse s (l:ls) = l ++ s ++ intersperse s ls\n",
    "intersperse s \"\" = \"\""
   ]
  },
  {
   "cell_type": "code",
   "execution_count": 12,
   "metadata": {
    "collapsed": false
   },
   "outputs": [
    {
     "data": {
      "text/html": [
       "<style>/* Styles used for the Hoogle display in the pager */\n",
       ".hoogle-doc {\n",
       "display: block;\n",
       "padding-bottom: 1.3em;\n",
       "padding-left: 0.4em;\n",
       "}\n",
       ".hoogle-code {\n",
       "display: block;\n",
       "font-family: monospace;\n",
       "white-space: pre;\n",
       "}\n",
       ".hoogle-text {\n",
       "display: block;\n",
       "}\n",
       ".hoogle-name {\n",
       "color: green;\n",
       "font-weight: bold;\n",
       "}\n",
       ".hoogle-head {\n",
       "font-weight: bold;\n",
       "}\n",
       ".hoogle-sub {\n",
       "display: block;\n",
       "margin-left: 0.4em;\n",
       "}\n",
       ".hoogle-package {\n",
       "font-weight: bold;\n",
       "font-style: italic;\n",
       "}\n",
       ".hoogle-module {\n",
       "font-weight: bold;\n",
       "}\n",
       ".hoogle-class {\n",
       "font-weight: bold;\n",
       "}\n",
       ".get-type {\n",
       "color: green;\n",
       "font-weight: bold;\n",
       "font-family: monospace;\n",
       "display: block;\n",
       "white-space: pre-wrap;\n",
       "}\n",
       ".show-type {\n",
       "color: green;\n",
       "font-weight: bold;\n",
       "font-family: monospace;\n",
       "margin-left: 1em;\n",
       "}\n",
       ".mono {\n",
       "font-family: monospace;\n",
       "display: block;\n",
       "}\n",
       ".err-msg {\n",
       "color: red;\n",
       "font-style: italic;\n",
       "font-family: monospace;\n",
       "white-space: pre;\n",
       "display: block;\n",
       "}\n",
       "#unshowable {\n",
       "color: red;\n",
       "font-weight: bold;\n",
       "}\n",
       ".err-msg.in.collapse {\n",
       "padding-top: 0.7em;\n",
       "}\n",
       ".highlight-code {\n",
       "white-space: pre;\n",
       "font-family: monospace;\n",
       "}\n",
       ".suggestion-warning { \n",
       "font-weight: bold;\n",
       "color: rgb(200, 130, 0);\n",
       "}\n",
       ".suggestion-error { \n",
       "font-weight: bold;\n",
       "color: red;\n",
       "}\n",
       ".suggestion-name {\n",
       "font-weight: bold;\n",
       "}\n",
       "</style><span class='get-type'>MLP :: Layer -> Layer -> MLP</span>"
      ],
      "text/plain": [
       "MLP :: Layer -> Layer -> MLP"
      ]
     },
     "metadata": {},
     "output_type": "display_data"
    }
   ],
   "source": [
    "----- Ness around data\n",
    "data Weight = Weight Float deriving (Show)\n",
    "data Bias = Bias Float deriving (Show)\n",
    "data Layer = Layer Weight Bias deriving (Show)\n",
    "data MLP = MLP Layer Layer deriving (Show)\n",
    ":t MLP --This is weird. So these data types are functions. Hmm"
   ]
  },
  {
   "cell_type": "code",
   "execution_count": 13,
   "metadata": {
    "collapsed": false
   },
   "outputs": [],
   "source": [
    "forward :: MLP -> Float -> Float --why doesnt it work with loss?\n",
    "forward (MLP (Layer (Weight w1) (Bias b1)) (Layer (Weight w2) (Bias b2))) x = b1*b2*(w1 + w2) * x\n",
    "--surely there is a shorter way to writ this? \n",
    "--or a way to break it up over lines?\n",
    "--it is kinda cool how easy it would be to see what functions do. clarity."
   ]
  },
  {
   "cell_type": "code",
   "execution_count": 14,
   "metadata": {
    "collapsed": false
   },
   "outputs": [
    {
     "data": {
      "text/plain": [
       "320.0"
      ]
     },
     "metadata": {},
     "output_type": "display_data"
    }
   ],
   "source": [
    "net = MLP (Layer (Weight 1) (Bias 2)) (Layer (Weight 3) (Bias 4))\n",
    "forward net 10"
   ]
  },
  {
   "cell_type": "code",
   "execution_count": 23,
   "metadata": {
    "collapsed": false
   },
   "outputs": [
    {
     "data": {
      "text/plain": [
       "64.0"
      ]
     },
     "metadata": {},
     "output_type": "display_data"
    }
   ],
   "source": [
    "initial :: MLP\n",
    "initial = MLP (Layer (Weight 1) (Bias 2)) (Layer (Weight 3) (Bias 4))\n",
    "-- oh, this is the same as just assigning it to net\n",
    "forward initial 2"
   ]
  },
  {
   "cell_type": "code",
   "execution_count": 28,
   "metadata": {
    "collapsed": false
   },
   "outputs": [
    {
     "data": {
      "text/plain": [
       "\"Alex\""
      ]
     },
     "metadata": {},
     "output_type": "display_data"
    },
    {
     "data": {
      "text/html": [
       "<style>/* Styles used for the Hoogle display in the pager */\n",
       ".hoogle-doc {\n",
       "display: block;\n",
       "padding-bottom: 1.3em;\n",
       "padding-left: 0.4em;\n",
       "}\n",
       ".hoogle-code {\n",
       "display: block;\n",
       "font-family: monospace;\n",
       "white-space: pre;\n",
       "}\n",
       ".hoogle-text {\n",
       "display: block;\n",
       "}\n",
       ".hoogle-name {\n",
       "color: green;\n",
       "font-weight: bold;\n",
       "}\n",
       ".hoogle-head {\n",
       "font-weight: bold;\n",
       "}\n",
       ".hoogle-sub {\n",
       "display: block;\n",
       "margin-left: 0.4em;\n",
       "}\n",
       ".hoogle-package {\n",
       "font-weight: bold;\n",
       "font-style: italic;\n",
       "}\n",
       ".hoogle-module {\n",
       "font-weight: bold;\n",
       "}\n",
       ".hoogle-class {\n",
       "font-weight: bold;\n",
       "}\n",
       ".get-type {\n",
       "color: green;\n",
       "font-weight: bold;\n",
       "font-family: monospace;\n",
       "display: block;\n",
       "white-space: pre-wrap;\n",
       "}\n",
       ".show-type {\n",
       "color: green;\n",
       "font-weight: bold;\n",
       "font-family: monospace;\n",
       "margin-left: 1em;\n",
       "}\n",
       ".mono {\n",
       "font-family: monospace;\n",
       "display: block;\n",
       "}\n",
       ".err-msg {\n",
       "color: red;\n",
       "font-style: italic;\n",
       "font-family: monospace;\n",
       "white-space: pre;\n",
       "display: block;\n",
       "}\n",
       "#unshowable {\n",
       "color: red;\n",
       "font-weight: bold;\n",
       "}\n",
       ".err-msg.in.collapse {\n",
       "padding-top: 0.7em;\n",
       "}\n",
       ".highlight-code {\n",
       "white-space: pre;\n",
       "font-family: monospace;\n",
       "}\n",
       ".suggestion-warning { \n",
       "font-weight: bold;\n",
       "color: rgb(200, 130, 0);\n",
       "}\n",
       ".suggestion-error { \n",
       "font-weight: bold;\n",
       "color: red;\n",
       "}\n",
       ".suggestion-name {\n",
       "font-weight: bold;\n",
       "}\n",
       "</style><span class='get-type'>firstName :: Person -> String</span>"
      ],
      "text/plain": [
       "firstName :: Person -> String"
      ]
     },
     "metadata": {},
     "output_type": "display_data"
    }
   ],
   "source": [
    "data Person = Person { firstName :: String  \n",
    "                     , lastName :: String  \n",
    "                     , age :: Int  \n",
    "                     , height :: Float  \n",
    "                     , phoneNumber :: String  \n",
    "                     , flavor :: String  \n",
    "                     } deriving (Show)   \n",
    "guy = Person \"Alex\" \"Telfar\" 24 1.75 \"000000\" \"delicious\"\n",
    "firstName guy \n",
    ":t firstName --hmm. ok, so type attributes are functions. suprise..."
   ]
  },
  {
   "cell_type": "code",
   "execution_count": null,
   "metadata": {
    "collapsed": true
   },
   "outputs": [],
   "source": []
  },
  {
   "cell_type": "markdown",
   "metadata": {},
   "source": [
    "### Currying\n",
    "\n",
    "This confuses me.\n",
    "```haskell\n",
    "a -> a -> a\n",
    "```\n",
    "This is talking about a function that take two inputs, $f(a,b)$ or $\\lambda ab.ab$. But really we are just using these `a`s to highlight that they are the same type."
   ]
  }
 ],
 "metadata": {
  "kernelspec": {
   "display_name": "Haskell",
   "language": "haskell",
   "name": "haskell"
  },
  "language_info": {
   "codemirror_mode": "ihaskell",
   "file_extension": ".hs",
   "name": "haskell",
   "version": "7.10.3"
  }
 },
 "nbformat": 4,
 "nbformat_minor": 0
}
